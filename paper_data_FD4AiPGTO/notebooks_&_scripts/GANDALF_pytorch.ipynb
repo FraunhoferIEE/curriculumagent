{
 "cells": [
  {
   "cell_type": "markdown",
   "id": "36d2339f034959a2",
   "metadata": {},
   "source": [
    "# Imports"
   ]
  },
  {
   "cell_type": "code",
   "id": "e9ab009fd269a2e",
   "metadata": {
    "ExecuteTime": {
     "end_time": "2024-05-27T11:08:00.456081Z",
     "start_time": "2024-05-27T11:07:54.118424Z"
    }
   },
   "source": [
    "import numpy as np\n",
    "import warnings\n",
    "from sklearn.model_selection import train_test_split\n",
    "\n",
    "import pandas as pd\n",
    "from pytorch_tabular import TabularModel\n",
    "\n",
    "from pytorch_tabular.models import GANDALFConfig, CategoryEmbeddingModelConfig\n",
    "from pytorch_tabular.config import (\n",
    "    DataConfig,\n",
    "    OptimizerConfig,\n",
    "    TrainerConfig, \n",
    "    ExperimentConfig\n",
    ")\n",
    "import torch\n",
    "warnings.filterwarnings(\"ignore\")\n",
    "import wandb\n",
    "\n",
    "# %load_ext autoreload\n",
    "# %autoreload 2"
   ],
   "outputs": [],
   "execution_count": 10
  },
  {
   "cell_type": "code",
   "id": "9335818195524122",
   "metadata": {
    "ExecuteTime": {
     "end_time": "2024-05-27T11:08:02.787783Z",
     "start_time": "2024-05-27T11:08:00.459223Z"
    }
   },
   "source": [
    "wandb.login()"
   ],
   "outputs": [
    {
     "name": "stderr",
     "output_type": "stream",
     "text": [
      "\u001B[34m\u001B[1mwandb\u001B[0m: Currently logged in as: \u001B[33mddima19981998\u001B[0m (\u001B[33mdegt\u001B[0m). Use \u001B[1m`wandb login --relogin`\u001B[0m to force relogin\n"
     ]
    },
    {
     "data": {
      "text/plain": [
       "True"
      ]
     },
     "execution_count": 11,
     "metadata": {},
     "output_type": "execute_result"
    }
   ],
   "execution_count": 11
  },
  {
   "metadata": {},
   "cell_type": "markdown",
   "source": "### Exctract Colnames",
   "id": "10c335990307b9c8"
  },
  {
   "metadata": {
    "ExecuteTime": {
     "end_time": "2024-05-27T11:08:02.797373Z",
     "start_time": "2024-05-27T11:08:02.790508Z"
    }
   },
   "cell_type": "code",
   "source": "dataset_colnames= np.load('dataset_colnames.npy')",
   "id": "8aa82a9d287b1fc",
   "outputs": [],
   "execution_count": 12
  },
  {
   "metadata": {
    "ExecuteTime": {
     "end_time": "2024-05-27T11:08:02.811133Z",
     "start_time": "2024-05-27T11:08:02.802468Z"
    }
   },
   "cell_type": "code",
   "source": [
    "dataset_colnames = np.append(dataset_colnames, \"target\")\n",
    "\n",
    "len(dataset_colnames)"
   ],
   "id": "c62c800e4fecf867",
   "outputs": [
    {
     "data": {
      "text/plain": [
       "4296"
      ]
     },
     "execution_count": 13,
     "metadata": {},
     "output_type": "execute_result"
    }
   ],
   "execution_count": 13
  },
  {
   "metadata": {
    "ExecuteTime": {
     "end_time": "2024-05-27T11:08:02.828955Z",
     "start_time": "2024-05-27T11:08:02.814024Z"
    }
   },
   "cell_type": "code",
   "source": [
    "categorical_names = [str(name) for name in dataset_colnames if (\"topo_vect\" or \"line_status\") in name and name != \"target\"]\n",
    "continous_names = [str(name) for name in dataset_colnames if (\"topo_vect\" and \"line_status\") not in name and name != \"target\"]"
   ],
   "id": "f282c27b8710e2cc",
   "outputs": [],
   "execution_count": 14
  },
  {
   "metadata": {
    "ExecuteTime": {
     "end_time": "2024-05-27T11:08:02.847953Z",
     "start_time": "2024-05-27T11:08:02.831491Z"
    }
   },
   "cell_type": "code",
   "source": [
    "print(continous_names)\n",
    "print(categorical_names)"
   ],
   "id": "d3c6dc3352a67bfe",
   "outputs": [
    {
     "name": "stdout",
     "output_type": "stream",
     "text": [
      "['year_0', 'month_0', 'day_0', 'hour_of_day_0', 'minute_of_hour_0', 'day_of_week_0', 'gen_p_0', 'gen_p_1', 'gen_p_2', 'gen_p_3', 'gen_p_4', 'gen_p_5', 'gen_p_6', 'gen_p_7', 'gen_p_8', 'gen_p_9', 'gen_p_10', 'gen_p_11', 'gen_p_12', 'gen_p_13', 'gen_p_14', 'gen_p_15', 'gen_p_16', 'gen_p_17', 'gen_p_18', 'gen_p_19', 'gen_p_20', 'gen_p_21', 'gen_p_22', 'gen_p_23', 'gen_p_24', 'gen_p_25', 'gen_p_26', 'gen_p_27', 'gen_p_28', 'gen_p_29', 'gen_p_30', 'gen_p_31', 'gen_p_32', 'gen_p_33', 'gen_p_34', 'gen_p_35', 'gen_p_36', 'gen_p_37', 'gen_p_38', 'gen_p_39', 'gen_p_40', 'gen_p_41', 'gen_p_42', 'gen_p_43', 'gen_p_44', 'gen_p_45', 'gen_p_46', 'gen_p_47', 'gen_p_48', 'gen_p_49', 'gen_p_50', 'gen_p_51', 'gen_p_52', 'gen_p_53', 'gen_p_54', 'gen_p_55', 'gen_p_56', 'gen_p_57', 'gen_p_58', 'gen_p_59', 'gen_p_60', 'gen_p_61', 'gen_q_0', 'gen_q_1', 'gen_q_2', 'gen_q_3', 'gen_q_4', 'gen_q_5', 'gen_q_6', 'gen_q_7', 'gen_q_8', 'gen_q_9', 'gen_q_10', 'gen_q_11', 'gen_q_12', 'gen_q_13', 'gen_q_14', 'gen_q_15', 'gen_q_16', 'gen_q_17', 'gen_q_18', 'gen_q_19', 'gen_q_20', 'gen_q_21', 'gen_q_22', 'gen_q_23', 'gen_q_24', 'gen_q_25', 'gen_q_26', 'gen_q_27', 'gen_q_28', 'gen_q_29', 'gen_q_30', 'gen_q_31', 'gen_q_32', 'gen_q_33', 'gen_q_34', 'gen_q_35', 'gen_q_36', 'gen_q_37', 'gen_q_38', 'gen_q_39', 'gen_q_40', 'gen_q_41', 'gen_q_42', 'gen_q_43', 'gen_q_44', 'gen_q_45', 'gen_q_46', 'gen_q_47', 'gen_q_48', 'gen_q_49', 'gen_q_50', 'gen_q_51', 'gen_q_52', 'gen_q_53', 'gen_q_54', 'gen_q_55', 'gen_q_56', 'gen_q_57', 'gen_q_58', 'gen_q_59', 'gen_q_60', 'gen_q_61', 'gen_v_0', 'gen_v_1', 'gen_v_2', 'gen_v_3', 'gen_v_4', 'gen_v_5', 'gen_v_6', 'gen_v_7', 'gen_v_8', 'gen_v_9', 'gen_v_10', 'gen_v_11', 'gen_v_12', 'gen_v_13', 'gen_v_14', 'gen_v_15', 'gen_v_16', 'gen_v_17', 'gen_v_18', 'gen_v_19', 'gen_v_20', 'gen_v_21', 'gen_v_22', 'gen_v_23', 'gen_v_24', 'gen_v_25', 'gen_v_26', 'gen_v_27', 'gen_v_28', 'gen_v_29', 'gen_v_30', 'gen_v_31', 'gen_v_32', 'gen_v_33', 'gen_v_34', 'gen_v_35', 'gen_v_36', 'gen_v_37', 'gen_v_38', 'gen_v_39', 'gen_v_40', 'gen_v_41', 'gen_v_42', 'gen_v_43', 'gen_v_44', 'gen_v_45', 'gen_v_46', 'gen_v_47', 'gen_v_48', 'gen_v_49', 'gen_v_50', 'gen_v_51', 'gen_v_52', 'gen_v_53', 'gen_v_54', 'gen_v_55', 'gen_v_56', 'gen_v_57', 'gen_v_58', 'gen_v_59', 'gen_v_60', 'gen_v_61', 'load_p_0', 'load_p_1', 'load_p_2', 'load_p_3', 'load_p_4', 'load_p_5', 'load_p_6', 'load_p_7', 'load_p_8', 'load_p_9', 'load_p_10', 'load_p_11', 'load_p_12', 'load_p_13', 'load_p_14', 'load_p_15', 'load_p_16', 'load_p_17', 'load_p_18', 'load_p_19', 'load_p_20', 'load_p_21', 'load_p_22', 'load_p_23', 'load_p_24', 'load_p_25', 'load_p_26', 'load_p_27', 'load_p_28', 'load_p_29', 'load_p_30', 'load_p_31', 'load_p_32', 'load_p_33', 'load_p_34', 'load_p_35', 'load_p_36', 'load_p_37', 'load_p_38', 'load_p_39', 'load_p_40', 'load_p_41', 'load_p_42', 'load_p_43', 'load_p_44', 'load_p_45', 'load_p_46', 'load_p_47', 'load_p_48', 'load_p_49', 'load_p_50', 'load_p_51', 'load_p_52', 'load_p_53', 'load_p_54', 'load_p_55', 'load_p_56', 'load_p_57', 'load_p_58', 'load_p_59', 'load_p_60', 'load_p_61', 'load_p_62', 'load_p_63', 'load_p_64', 'load_p_65', 'load_p_66', 'load_p_67', 'load_p_68', 'load_p_69', 'load_p_70', 'load_p_71', 'load_p_72', 'load_p_73', 'load_p_74', 'load_p_75', 'load_p_76', 'load_p_77', 'load_p_78', 'load_p_79', 'load_p_80', 'load_p_81', 'load_p_82', 'load_p_83', 'load_p_84', 'load_p_85', 'load_p_86', 'load_p_87', 'load_p_88', 'load_p_89', 'load_p_90', 'load_q_0', 'load_q_1', 'load_q_2', 'load_q_3', 'load_q_4', 'load_q_5', 'load_q_6', 'load_q_7', 'load_q_8', 'load_q_9', 'load_q_10', 'load_q_11', 'load_q_12', 'load_q_13', 'load_q_14', 'load_q_15', 'load_q_16', 'load_q_17', 'load_q_18', 'load_q_19', 'load_q_20', 'load_q_21', 'load_q_22', 'load_q_23', 'load_q_24', 'load_q_25', 'load_q_26', 'load_q_27', 'load_q_28', 'load_q_29', 'load_q_30', 'load_q_31', 'load_q_32', 'load_q_33', 'load_q_34', 'load_q_35', 'load_q_36', 'load_q_37', 'load_q_38', 'load_q_39', 'load_q_40', 'load_q_41', 'load_q_42', 'load_q_43', 'load_q_44', 'load_q_45', 'load_q_46', 'load_q_47', 'load_q_48', 'load_q_49', 'load_q_50', 'load_q_51', 'load_q_52', 'load_q_53', 'load_q_54', 'load_q_55', 'load_q_56', 'load_q_57', 'load_q_58', 'load_q_59', 'load_q_60', 'load_q_61', 'load_q_62', 'load_q_63', 'load_q_64', 'load_q_65', 'load_q_66', 'load_q_67', 'load_q_68', 'load_q_69', 'load_q_70', 'load_q_71', 'load_q_72', 'load_q_73', 'load_q_74', 'load_q_75', 'load_q_76', 'load_q_77', 'load_q_78', 'load_q_79', 'load_q_80', 'load_q_81', 'load_q_82', 'load_q_83', 'load_q_84', 'load_q_85', 'load_q_86', 'load_q_87', 'load_q_88', 'load_q_89', 'load_q_90', 'load_v_0', 'load_v_1', 'load_v_2', 'load_v_3', 'load_v_4', 'load_v_5', 'load_v_6', 'load_v_7', 'load_v_8', 'load_v_9', 'load_v_10', 'load_v_11', 'load_v_12', 'load_v_13', 'load_v_14', 'load_v_15', 'load_v_16', 'load_v_17', 'load_v_18', 'load_v_19', 'load_v_20', 'load_v_21', 'load_v_22', 'load_v_23', 'load_v_24', 'load_v_25', 'load_v_26', 'load_v_27', 'load_v_28', 'load_v_29', 'load_v_30', 'load_v_31', 'load_v_32', 'load_v_33', 'load_v_34', 'load_v_35', 'load_v_36', 'load_v_37', 'load_v_38', 'load_v_39', 'load_v_40', 'load_v_41', 'load_v_42', 'load_v_43', 'load_v_44', 'load_v_45', 'load_v_46', 'load_v_47', 'load_v_48', 'load_v_49', 'load_v_50', 'load_v_51', 'load_v_52', 'load_v_53', 'load_v_54', 'load_v_55', 'load_v_56', 'load_v_57', 'load_v_58', 'load_v_59', 'load_v_60', 'load_v_61', 'load_v_62', 'load_v_63', 'load_v_64', 'load_v_65', 'load_v_66', 'load_v_67', 'load_v_68', 'load_v_69', 'load_v_70', 'load_v_71', 'load_v_72', 'load_v_73', 'load_v_74', 'load_v_75', 'load_v_76', 'load_v_77', 'load_v_78', 'load_v_79', 'load_v_80', 'load_v_81', 'load_v_82', 'load_v_83', 'load_v_84', 'load_v_85', 'load_v_86', 'load_v_87', 'load_v_88', 'load_v_89', 'load_v_90', 'p_or_0', 'p_or_1', 'p_or_2', 'p_or_3', 'p_or_4', 'p_or_5', 'p_or_6', 'p_or_7', 'p_or_8', 'p_or_9', 'p_or_10', 'p_or_11', 'p_or_12', 'p_or_13', 'p_or_14', 'p_or_15', 'p_or_16', 'p_or_17', 'p_or_18', 'p_or_19', 'p_or_20', 'p_or_21', 'p_or_22', 'p_or_23', 'p_or_24', 'p_or_25', 'p_or_26', 'p_or_27', 'p_or_28', 'p_or_29', 'p_or_30', 'p_or_31', 'p_or_32', 'p_or_33', 'p_or_34', 'p_or_35', 'p_or_36', 'p_or_37', 'p_or_38', 'p_or_39', 'p_or_40', 'p_or_41', 'p_or_42', 'p_or_43', 'p_or_44', 'p_or_45', 'p_or_46', 'p_or_47', 'p_or_48', 'p_or_49', 'p_or_50', 'p_or_51', 'p_or_52', 'p_or_53', 'p_or_54', 'p_or_55', 'p_or_56', 'p_or_57', 'p_or_58', 'p_or_59', 'p_or_60', 'p_or_61', 'p_or_62', 'p_or_63', 'p_or_64', 'p_or_65', 'p_or_66', 'p_or_67', 'p_or_68', 'p_or_69', 'p_or_70', 'p_or_71', 'p_or_72', 'p_or_73', 'p_or_74', 'p_or_75', 'p_or_76', 'p_or_77', 'p_or_78', 'p_or_79', 'p_or_80', 'p_or_81', 'p_or_82', 'p_or_83', 'p_or_84', 'p_or_85', 'p_or_86', 'p_or_87', 'p_or_88', 'p_or_89', 'p_or_90', 'p_or_91', 'p_or_92', 'p_or_93', 'p_or_94', 'p_or_95', 'p_or_96', 'p_or_97', 'p_or_98', 'p_or_99', 'p_or_100', 'p_or_101', 'p_or_102', 'p_or_103', 'p_or_104', 'p_or_105', 'p_or_106', 'p_or_107', 'p_or_108', 'p_or_109', 'p_or_110', 'p_or_111', 'p_or_112', 'p_or_113', 'p_or_114', 'p_or_115', 'p_or_116', 'p_or_117', 'p_or_118', 'p_or_119', 'p_or_120', 'p_or_121', 'p_or_122', 'p_or_123', 'p_or_124', 'p_or_125', 'p_or_126', 'p_or_127', 'p_or_128', 'p_or_129', 'p_or_130', 'p_or_131', 'p_or_132', 'p_or_133', 'p_or_134', 'p_or_135', 'p_or_136', 'p_or_137', 'p_or_138', 'p_or_139', 'p_or_140', 'p_or_141', 'p_or_142', 'p_or_143', 'p_or_144', 'p_or_145', 'p_or_146', 'p_or_147', 'p_or_148', 'p_or_149', 'p_or_150', 'p_or_151', 'p_or_152', 'p_or_153', 'p_or_154', 'p_or_155', 'p_or_156', 'p_or_157', 'p_or_158', 'p_or_159', 'p_or_160', 'p_or_161', 'p_or_162', 'p_or_163', 'p_or_164', 'p_or_165', 'p_or_166', 'p_or_167', 'p_or_168', 'p_or_169', 'p_or_170', 'p_or_171', 'p_or_172', 'p_or_173', 'p_or_174', 'p_or_175', 'p_or_176', 'p_or_177', 'p_or_178', 'p_or_179', 'p_or_180', 'p_or_181', 'p_or_182', 'p_or_183', 'p_or_184', 'p_or_185', 'q_or_0', 'q_or_1', 'q_or_2', 'q_or_3', 'q_or_4', 'q_or_5', 'q_or_6', 'q_or_7', 'q_or_8', 'q_or_9', 'q_or_10', 'q_or_11', 'q_or_12', 'q_or_13', 'q_or_14', 'q_or_15', 'q_or_16', 'q_or_17', 'q_or_18', 'q_or_19', 'q_or_20', 'q_or_21', 'q_or_22', 'q_or_23', 'q_or_24', 'q_or_25', 'q_or_26', 'q_or_27', 'q_or_28', 'q_or_29', 'q_or_30', 'q_or_31', 'q_or_32', 'q_or_33', 'q_or_34', 'q_or_35', 'q_or_36', 'q_or_37', 'q_or_38', 'q_or_39', 'q_or_40', 'q_or_41', 'q_or_42', 'q_or_43', 'q_or_44', 'q_or_45', 'q_or_46', 'q_or_47', 'q_or_48', 'q_or_49', 'q_or_50', 'q_or_51', 'q_or_52', 'q_or_53', 'q_or_54', 'q_or_55', 'q_or_56', 'q_or_57', 'q_or_58', 'q_or_59', 'q_or_60', 'q_or_61', 'q_or_62', 'q_or_63', 'q_or_64', 'q_or_65', 'q_or_66', 'q_or_67', 'q_or_68', 'q_or_69', 'q_or_70', 'q_or_71', 'q_or_72', 'q_or_73', 'q_or_74', 'q_or_75', 'q_or_76', 'q_or_77', 'q_or_78', 'q_or_79', 'q_or_80', 'q_or_81', 'q_or_82', 'q_or_83', 'q_or_84', 'q_or_85', 'q_or_86', 'q_or_87', 'q_or_88', 'q_or_89', 'q_or_90', 'q_or_91', 'q_or_92', 'q_or_93', 'q_or_94', 'q_or_95', 'q_or_96', 'q_or_97', 'q_or_98', 'q_or_99', 'q_or_100', 'q_or_101', 'q_or_102', 'q_or_103', 'q_or_104', 'q_or_105', 'q_or_106', 'q_or_107', 'q_or_108', 'q_or_109', 'q_or_110', 'q_or_111', 'q_or_112', 'q_or_113', 'q_or_114', 'q_or_115', 'q_or_116', 'q_or_117', 'q_or_118', 'q_or_119', 'q_or_120', 'q_or_121', 'q_or_122', 'q_or_123', 'q_or_124', 'q_or_125', 'q_or_126', 'q_or_127', 'q_or_128', 'q_or_129', 'q_or_130', 'q_or_131', 'q_or_132', 'q_or_133', 'q_or_134', 'q_or_135', 'q_or_136', 'q_or_137', 'q_or_138', 'q_or_139', 'q_or_140', 'q_or_141', 'q_or_142', 'q_or_143', 'q_or_144', 'q_or_145', 'q_or_146', 'q_or_147', 'q_or_148', 'q_or_149', 'q_or_150', 'q_or_151', 'q_or_152', 'q_or_153', 'q_or_154', 'q_or_155', 'q_or_156', 'q_or_157', 'q_or_158', 'q_or_159', 'q_or_160', 'q_or_161', 'q_or_162', 'q_or_163', 'q_or_164', 'q_or_165', 'q_or_166', 'q_or_167', 'q_or_168', 'q_or_169', 'q_or_170', 'q_or_171', 'q_or_172', 'q_or_173', 'q_or_174', 'q_or_175', 'q_or_176', 'q_or_177', 'q_or_178', 'q_or_179', 'q_or_180', 'q_or_181', 'q_or_182', 'q_or_183', 'q_or_184', 'q_or_185', 'v_or_0', 'v_or_1', 'v_or_2', 'v_or_3', 'v_or_4', 'v_or_5', 'v_or_6', 'v_or_7', 'v_or_8', 'v_or_9', 'v_or_10', 'v_or_11', 'v_or_12', 'v_or_13', 'v_or_14', 'v_or_15', 'v_or_16', 'v_or_17', 'v_or_18', 'v_or_19', 'v_or_20', 'v_or_21', 'v_or_22', 'v_or_23', 'v_or_24', 'v_or_25', 'v_or_26', 'v_or_27', 'v_or_28', 'v_or_29', 'v_or_30', 'v_or_31', 'v_or_32', 'v_or_33', 'v_or_34', 'v_or_35', 'v_or_36', 'v_or_37', 'v_or_38', 'v_or_39', 'v_or_40', 'v_or_41', 'v_or_42', 'v_or_43', 'v_or_44', 'v_or_45', 'v_or_46', 'v_or_47', 'v_or_48', 'v_or_49', 'v_or_50', 'v_or_51', 'v_or_52', 'v_or_53', 'v_or_54', 'v_or_55', 'v_or_56', 'v_or_57', 'v_or_58', 'v_or_59', 'v_or_60', 'v_or_61', 'v_or_62', 'v_or_63', 'v_or_64', 'v_or_65', 'v_or_66', 'v_or_67', 'v_or_68', 'v_or_69', 'v_or_70', 'v_or_71', 'v_or_72', 'v_or_73', 'v_or_74', 'v_or_75', 'v_or_76', 'v_or_77', 'v_or_78', 'v_or_79', 'v_or_80', 'v_or_81', 'v_or_82', 'v_or_83', 'v_or_84', 'v_or_85', 'v_or_86', 'v_or_87', 'v_or_88', 'v_or_89', 'v_or_90', 'v_or_91', 'v_or_92', 'v_or_93', 'v_or_94', 'v_or_95', 'v_or_96', 'v_or_97', 'v_or_98', 'v_or_99', 'v_or_100', 'v_or_101', 'v_or_102', 'v_or_103', 'v_or_104', 'v_or_105', 'v_or_106', 'v_or_107', 'v_or_108', 'v_or_109', 'v_or_110', 'v_or_111', 'v_or_112', 'v_or_113', 'v_or_114', 'v_or_115', 'v_or_116', 'v_or_117', 'v_or_118', 'v_or_119', 'v_or_120', 'v_or_121', 'v_or_122', 'v_or_123', 'v_or_124', 'v_or_125', 'v_or_126', 'v_or_127', 'v_or_128', 'v_or_129', 'v_or_130', 'v_or_131', 'v_or_132', 'v_or_133', 'v_or_134', 'v_or_135', 'v_or_136', 'v_or_137', 'v_or_138', 'v_or_139', 'v_or_140', 'v_or_141', 'v_or_142', 'v_or_143', 'v_or_144', 'v_or_145', 'v_or_146', 'v_or_147', 'v_or_148', 'v_or_149', 'v_or_150', 'v_or_151', 'v_or_152', 'v_or_153', 'v_or_154', 'v_or_155', 'v_or_156', 'v_or_157', 'v_or_158', 'v_or_159', 'v_or_160', 'v_or_161', 'v_or_162', 'v_or_163', 'v_or_164', 'v_or_165', 'v_or_166', 'v_or_167', 'v_or_168', 'v_or_169', 'v_or_170', 'v_or_171', 'v_or_172', 'v_or_173', 'v_or_174', 'v_or_175', 'v_or_176', 'v_or_177', 'v_or_178', 'v_or_179', 'v_or_180', 'v_or_181', 'v_or_182', 'v_or_183', 'v_or_184', 'v_or_185', 'a_or_0', 'a_or_1', 'a_or_2', 'a_or_3', 'a_or_4', 'a_or_5', 'a_or_6', 'a_or_7', 'a_or_8', 'a_or_9', 'a_or_10', 'a_or_11', 'a_or_12', 'a_or_13', 'a_or_14', 'a_or_15', 'a_or_16', 'a_or_17', 'a_or_18', 'a_or_19', 'a_or_20', 'a_or_21', 'a_or_22', 'a_or_23', 'a_or_24', 'a_or_25', 'a_or_26', 'a_or_27', 'a_or_28', 'a_or_29', 'a_or_30', 'a_or_31', 'a_or_32', 'a_or_33', 'a_or_34', 'a_or_35', 'a_or_36', 'a_or_37', 'a_or_38', 'a_or_39', 'a_or_40', 'a_or_41', 'a_or_42', 'a_or_43', 'a_or_44', 'a_or_45', 'a_or_46', 'a_or_47', 'a_or_48', 'a_or_49', 'a_or_50', 'a_or_51', 'a_or_52', 'a_or_53', 'a_or_54', 'a_or_55', 'a_or_56', 'a_or_57', 'a_or_58', 'a_or_59', 'a_or_60', 'a_or_61', 'a_or_62', 'a_or_63', 'a_or_64', 'a_or_65', 'a_or_66', 'a_or_67', 'a_or_68', 'a_or_69', 'a_or_70', 'a_or_71', 'a_or_72', 'a_or_73', 'a_or_74', 'a_or_75', 'a_or_76', 'a_or_77', 'a_or_78', 'a_or_79', 'a_or_80', 'a_or_81', 'a_or_82', 'a_or_83', 'a_or_84', 'a_or_85', 'a_or_86', 'a_or_87', 'a_or_88', 'a_or_89', 'a_or_90', 'a_or_91', 'a_or_92', 'a_or_93', 'a_or_94', 'a_or_95', 'a_or_96', 'a_or_97', 'a_or_98', 'a_or_99', 'a_or_100', 'a_or_101', 'a_or_102', 'a_or_103', 'a_or_104', 'a_or_105', 'a_or_106', 'a_or_107', 'a_or_108', 'a_or_109', 'a_or_110', 'a_or_111', 'a_or_112', 'a_or_113', 'a_or_114', 'a_or_115', 'a_or_116', 'a_or_117', 'a_or_118', 'a_or_119', 'a_or_120', 'a_or_121', 'a_or_122', 'a_or_123', 'a_or_124', 'a_or_125', 'a_or_126', 'a_or_127', 'a_or_128', 'a_or_129', 'a_or_130', 'a_or_131', 'a_or_132', 'a_or_133', 'a_or_134', 'a_or_135', 'a_or_136', 'a_or_137', 'a_or_138', 'a_or_139', 'a_or_140', 'a_or_141', 'a_or_142', 'a_or_143', 'a_or_144', 'a_or_145', 'a_or_146', 'a_or_147', 'a_or_148', 'a_or_149', 'a_or_150', 'a_or_151', 'a_or_152', 'a_or_153', 'a_or_154', 'a_or_155', 'a_or_156', 'a_or_157', 'a_or_158', 'a_or_159', 'a_or_160', 'a_or_161', 'a_or_162', 'a_or_163', 'a_or_164', 'a_or_165', 'a_or_166', 'a_or_167', 'a_or_168', 'a_or_169', 'a_or_170', 'a_or_171', 'a_or_172', 'a_or_173', 'a_or_174', 'a_or_175', 'a_or_176', 'a_or_177', 'a_or_178', 'a_or_179', 'a_or_180', 'a_or_181', 'a_or_182', 'a_or_183', 'a_or_184', 'a_or_185', 'p_ex_0', 'p_ex_1', 'p_ex_2', 'p_ex_3', 'p_ex_4', 'p_ex_5', 'p_ex_6', 'p_ex_7', 'p_ex_8', 'p_ex_9', 'p_ex_10', 'p_ex_11', 'p_ex_12', 'p_ex_13', 'p_ex_14', 'p_ex_15', 'p_ex_16', 'p_ex_17', 'p_ex_18', 'p_ex_19', 'p_ex_20', 'p_ex_21', 'p_ex_22', 'p_ex_23', 'p_ex_24', 'p_ex_25', 'p_ex_26', 'p_ex_27', 'p_ex_28', 'p_ex_29', 'p_ex_30', 'p_ex_31', 'p_ex_32', 'p_ex_33', 'p_ex_34', 'p_ex_35', 'p_ex_36', 'p_ex_37', 'p_ex_38', 'p_ex_39', 'p_ex_40', 'p_ex_41', 'p_ex_42', 'p_ex_43', 'p_ex_44', 'p_ex_45', 'p_ex_46', 'p_ex_47', 'p_ex_48', 'p_ex_49', 'p_ex_50', 'p_ex_51', 'p_ex_52', 'p_ex_53', 'p_ex_54', 'p_ex_55', 'p_ex_56', 'p_ex_57', 'p_ex_58', 'p_ex_59', 'p_ex_60', 'p_ex_61', 'p_ex_62', 'p_ex_63', 'p_ex_64', 'p_ex_65', 'p_ex_66', 'p_ex_67', 'p_ex_68', 'p_ex_69', 'p_ex_70', 'p_ex_71', 'p_ex_72', 'p_ex_73', 'p_ex_74', 'p_ex_75', 'p_ex_76', 'p_ex_77', 'p_ex_78', 'p_ex_79', 'p_ex_80', 'p_ex_81', 'p_ex_82', 'p_ex_83', 'p_ex_84', 'p_ex_85', 'p_ex_86', 'p_ex_87', 'p_ex_88', 'p_ex_89', 'p_ex_90', 'p_ex_91', 'p_ex_92', 'p_ex_93', 'p_ex_94', 'p_ex_95', 'p_ex_96', 'p_ex_97', 'p_ex_98', 'p_ex_99', 'p_ex_100', 'p_ex_101', 'p_ex_102', 'p_ex_103', 'p_ex_104', 'p_ex_105', 'p_ex_106', 'p_ex_107', 'p_ex_108', 'p_ex_109', 'p_ex_110', 'p_ex_111', 'p_ex_112', 'p_ex_113', 'p_ex_114', 'p_ex_115', 'p_ex_116', 'p_ex_117', 'p_ex_118', 'p_ex_119', 'p_ex_120', 'p_ex_121', 'p_ex_122', 'p_ex_123', 'p_ex_124', 'p_ex_125', 'p_ex_126', 'p_ex_127', 'p_ex_128', 'p_ex_129', 'p_ex_130', 'p_ex_131', 'p_ex_132', 'p_ex_133', 'p_ex_134', 'p_ex_135', 'p_ex_136', 'p_ex_137', 'p_ex_138', 'p_ex_139', 'p_ex_140', 'p_ex_141', 'p_ex_142', 'p_ex_143', 'p_ex_144', 'p_ex_145', 'p_ex_146', 'p_ex_147', 'p_ex_148', 'p_ex_149', 'p_ex_150', 'p_ex_151', 'p_ex_152', 'p_ex_153', 'p_ex_154', 'p_ex_155', 'p_ex_156', 'p_ex_157', 'p_ex_158', 'p_ex_159', 'p_ex_160', 'p_ex_161', 'p_ex_162', 'p_ex_163', 'p_ex_164', 'p_ex_165', 'p_ex_166', 'p_ex_167', 'p_ex_168', 'p_ex_169', 'p_ex_170', 'p_ex_171', 'p_ex_172', 'p_ex_173', 'p_ex_174', 'p_ex_175', 'p_ex_176', 'p_ex_177', 'p_ex_178', 'p_ex_179', 'p_ex_180', 'p_ex_181', 'p_ex_182', 'p_ex_183', 'p_ex_184', 'p_ex_185', 'q_ex_0', 'q_ex_1', 'q_ex_2', 'q_ex_3', 'q_ex_4', 'q_ex_5', 'q_ex_6', 'q_ex_7', 'q_ex_8', 'q_ex_9', 'q_ex_10', 'q_ex_11', 'q_ex_12', 'q_ex_13', 'q_ex_14', 'q_ex_15', 'q_ex_16', 'q_ex_17', 'q_ex_18', 'q_ex_19', 'q_ex_20', 'q_ex_21', 'q_ex_22', 'q_ex_23', 'q_ex_24', 'q_ex_25', 'q_ex_26', 'q_ex_27', 'q_ex_28', 'q_ex_29', 'q_ex_30', 'q_ex_31', 'q_ex_32', 'q_ex_33', 'q_ex_34', 'q_ex_35', 'q_ex_36', 'q_ex_37', 'q_ex_38', 'q_ex_39', 'q_ex_40', 'q_ex_41', 'q_ex_42', 'q_ex_43', 'q_ex_44', 'q_ex_45', 'q_ex_46', 'q_ex_47', 'q_ex_48', 'q_ex_49', 'q_ex_50', 'q_ex_51', 'q_ex_52', 'q_ex_53', 'q_ex_54', 'q_ex_55', 'q_ex_56', 'q_ex_57', 'q_ex_58', 'q_ex_59', 'q_ex_60', 'q_ex_61', 'q_ex_62', 'q_ex_63', 'q_ex_64', 'q_ex_65', 'q_ex_66', 'q_ex_67', 'q_ex_68', 'q_ex_69', 'q_ex_70', 'q_ex_71', 'q_ex_72', 'q_ex_73', 'q_ex_74', 'q_ex_75', 'q_ex_76', 'q_ex_77', 'q_ex_78', 'q_ex_79', 'q_ex_80', 'q_ex_81', 'q_ex_82', 'q_ex_83', 'q_ex_84', 'q_ex_85', 'q_ex_86', 'q_ex_87', 'q_ex_88', 'q_ex_89', 'q_ex_90', 'q_ex_91', 'q_ex_92', 'q_ex_93', 'q_ex_94', 'q_ex_95', 'q_ex_96', 'q_ex_97', 'q_ex_98', 'q_ex_99', 'q_ex_100', 'q_ex_101', 'q_ex_102', 'q_ex_103', 'q_ex_104', 'q_ex_105', 'q_ex_106', 'q_ex_107', 'q_ex_108', 'q_ex_109', 'q_ex_110', 'q_ex_111', 'q_ex_112', 'q_ex_113', 'q_ex_114', 'q_ex_115', 'q_ex_116', 'q_ex_117', 'q_ex_118', 'q_ex_119', 'q_ex_120', 'q_ex_121', 'q_ex_122', 'q_ex_123', 'q_ex_124', 'q_ex_125', 'q_ex_126', 'q_ex_127', 'q_ex_128', 'q_ex_129', 'q_ex_130', 'q_ex_131', 'q_ex_132', 'q_ex_133', 'q_ex_134', 'q_ex_135', 'q_ex_136', 'q_ex_137', 'q_ex_138', 'q_ex_139', 'q_ex_140', 'q_ex_141', 'q_ex_142', 'q_ex_143', 'q_ex_144', 'q_ex_145', 'q_ex_146', 'q_ex_147', 'q_ex_148', 'q_ex_149', 'q_ex_150', 'q_ex_151', 'q_ex_152', 'q_ex_153', 'q_ex_154', 'q_ex_155', 'q_ex_156', 'q_ex_157', 'q_ex_158', 'q_ex_159', 'q_ex_160', 'q_ex_161', 'q_ex_162', 'q_ex_163', 'q_ex_164', 'q_ex_165', 'q_ex_166', 'q_ex_167', 'q_ex_168', 'q_ex_169', 'q_ex_170', 'q_ex_171', 'q_ex_172', 'q_ex_173', 'q_ex_174', 'q_ex_175', 'q_ex_176', 'q_ex_177', 'q_ex_178', 'q_ex_179', 'q_ex_180', 'q_ex_181', 'q_ex_182', 'q_ex_183', 'q_ex_184', 'q_ex_185', 'v_ex_0', 'v_ex_1', 'v_ex_2', 'v_ex_3', 'v_ex_4', 'v_ex_5', 'v_ex_6', 'v_ex_7', 'v_ex_8', 'v_ex_9', 'v_ex_10', 'v_ex_11', 'v_ex_12', 'v_ex_13', 'v_ex_14', 'v_ex_15', 'v_ex_16', 'v_ex_17', 'v_ex_18', 'v_ex_19', 'v_ex_20', 'v_ex_21', 'v_ex_22', 'v_ex_23', 'v_ex_24', 'v_ex_25', 'v_ex_26', 'v_ex_27', 'v_ex_28', 'v_ex_29', 'v_ex_30', 'v_ex_31', 'v_ex_32', 'v_ex_33', 'v_ex_34', 'v_ex_35', 'v_ex_36', 'v_ex_37', 'v_ex_38', 'v_ex_39', 'v_ex_40', 'v_ex_41', 'v_ex_42', 'v_ex_43', 'v_ex_44', 'v_ex_45', 'v_ex_46', 'v_ex_47', 'v_ex_48', 'v_ex_49', 'v_ex_50', 'v_ex_51', 'v_ex_52', 'v_ex_53', 'v_ex_54', 'v_ex_55', 'v_ex_56', 'v_ex_57', 'v_ex_58', 'v_ex_59', 'v_ex_60', 'v_ex_61', 'v_ex_62', 'v_ex_63', 'v_ex_64', 'v_ex_65', 'v_ex_66', 'v_ex_67', 'v_ex_68', 'v_ex_69', 'v_ex_70', 'v_ex_71', 'v_ex_72', 'v_ex_73', 'v_ex_74', 'v_ex_75', 'v_ex_76', 'v_ex_77', 'v_ex_78', 'v_ex_79', 'v_ex_80', 'v_ex_81', 'v_ex_82', 'v_ex_83', 'v_ex_84', 'v_ex_85', 'v_ex_86', 'v_ex_87', 'v_ex_88', 'v_ex_89', 'v_ex_90', 'v_ex_91', 'v_ex_92', 'v_ex_93', 'v_ex_94', 'v_ex_95', 'v_ex_96', 'v_ex_97', 'v_ex_98', 'v_ex_99', 'v_ex_100', 'v_ex_101', 'v_ex_102', 'v_ex_103', 'v_ex_104', 'v_ex_105', 'v_ex_106', 'v_ex_107', 'v_ex_108', 'v_ex_109', 'v_ex_110', 'v_ex_111', 'v_ex_112', 'v_ex_113', 'v_ex_114', 'v_ex_115', 'v_ex_116', 'v_ex_117', 'v_ex_118', 'v_ex_119', 'v_ex_120', 'v_ex_121', 'v_ex_122', 'v_ex_123', 'v_ex_124', 'v_ex_125', 'v_ex_126', 'v_ex_127', 'v_ex_128', 'v_ex_129', 'v_ex_130', 'v_ex_131', 'v_ex_132', 'v_ex_133', 'v_ex_134', 'v_ex_135', 'v_ex_136', 'v_ex_137', 'v_ex_138', 'v_ex_139', 'v_ex_140', 'v_ex_141', 'v_ex_142', 'v_ex_143', 'v_ex_144', 'v_ex_145', 'v_ex_146', 'v_ex_147', 'v_ex_148', 'v_ex_149', 'v_ex_150', 'v_ex_151', 'v_ex_152', 'v_ex_153', 'v_ex_154', 'v_ex_155', 'v_ex_156', 'v_ex_157', 'v_ex_158', 'v_ex_159', 'v_ex_160', 'v_ex_161', 'v_ex_162', 'v_ex_163', 'v_ex_164', 'v_ex_165', 'v_ex_166', 'v_ex_167', 'v_ex_168', 'v_ex_169', 'v_ex_170', 'v_ex_171', 'v_ex_172', 'v_ex_173', 'v_ex_174', 'v_ex_175', 'v_ex_176', 'v_ex_177', 'v_ex_178', 'v_ex_179', 'v_ex_180', 'v_ex_181', 'v_ex_182', 'v_ex_183', 'v_ex_184', 'v_ex_185', 'a_ex_0', 'a_ex_1', 'a_ex_2', 'a_ex_3', 'a_ex_4', 'a_ex_5', 'a_ex_6', 'a_ex_7', 'a_ex_8', 'a_ex_9', 'a_ex_10', 'a_ex_11', 'a_ex_12', 'a_ex_13', 'a_ex_14', 'a_ex_15', 'a_ex_16', 'a_ex_17', 'a_ex_18', 'a_ex_19', 'a_ex_20', 'a_ex_21', 'a_ex_22', 'a_ex_23', 'a_ex_24', 'a_ex_25', 'a_ex_26', 'a_ex_27', 'a_ex_28', 'a_ex_29', 'a_ex_30', 'a_ex_31', 'a_ex_32', 'a_ex_33', 'a_ex_34', 'a_ex_35', 'a_ex_36', 'a_ex_37', 'a_ex_38', 'a_ex_39', 'a_ex_40', 'a_ex_41', 'a_ex_42', 'a_ex_43', 'a_ex_44', 'a_ex_45', 'a_ex_46', 'a_ex_47', 'a_ex_48', 'a_ex_49', 'a_ex_50', 'a_ex_51', 'a_ex_52', 'a_ex_53', 'a_ex_54', 'a_ex_55', 'a_ex_56', 'a_ex_57', 'a_ex_58', 'a_ex_59', 'a_ex_60', 'a_ex_61', 'a_ex_62', 'a_ex_63', 'a_ex_64', 'a_ex_65', 'a_ex_66', 'a_ex_67', 'a_ex_68', 'a_ex_69', 'a_ex_70', 'a_ex_71', 'a_ex_72', 'a_ex_73', 'a_ex_74', 'a_ex_75', 'a_ex_76', 'a_ex_77', 'a_ex_78', 'a_ex_79', 'a_ex_80', 'a_ex_81', 'a_ex_82', 'a_ex_83', 'a_ex_84', 'a_ex_85', 'a_ex_86', 'a_ex_87', 'a_ex_88', 'a_ex_89', 'a_ex_90', 'a_ex_91', 'a_ex_92', 'a_ex_93', 'a_ex_94', 'a_ex_95', 'a_ex_96', 'a_ex_97', 'a_ex_98', 'a_ex_99', 'a_ex_100', 'a_ex_101', 'a_ex_102', 'a_ex_103', 'a_ex_104', 'a_ex_105', 'a_ex_106', 'a_ex_107', 'a_ex_108', 'a_ex_109', 'a_ex_110', 'a_ex_111', 'a_ex_112', 'a_ex_113', 'a_ex_114', 'a_ex_115', 'a_ex_116', 'a_ex_117', 'a_ex_118', 'a_ex_119', 'a_ex_120', 'a_ex_121', 'a_ex_122', 'a_ex_123', 'a_ex_124', 'a_ex_125', 'a_ex_126', 'a_ex_127', 'a_ex_128', 'a_ex_129', 'a_ex_130', 'a_ex_131', 'a_ex_132', 'a_ex_133', 'a_ex_134', 'a_ex_135', 'a_ex_136', 'a_ex_137', 'a_ex_138', 'a_ex_139', 'a_ex_140', 'a_ex_141', 'a_ex_142', 'a_ex_143', 'a_ex_144', 'a_ex_145', 'a_ex_146', 'a_ex_147', 'a_ex_148', 'a_ex_149', 'a_ex_150', 'a_ex_151', 'a_ex_152', 'a_ex_153', 'a_ex_154', 'a_ex_155', 'a_ex_156', 'a_ex_157', 'a_ex_158', 'a_ex_159', 'a_ex_160', 'a_ex_161', 'a_ex_162', 'a_ex_163', 'a_ex_164', 'a_ex_165', 'a_ex_166', 'a_ex_167', 'a_ex_168', 'a_ex_169', 'a_ex_170', 'a_ex_171', 'a_ex_172', 'a_ex_173', 'a_ex_174', 'a_ex_175', 'a_ex_176', 'a_ex_177', 'a_ex_178', 'a_ex_179', 'a_ex_180', 'a_ex_181', 'a_ex_182', 'a_ex_183', 'a_ex_184', 'a_ex_185', 'rho_0', 'rho_1', 'rho_2', 'rho_3', 'rho_4', 'rho_5', 'rho_6', 'rho_7', 'rho_8', 'rho_9', 'rho_10', 'rho_11', 'rho_12', 'rho_13', 'rho_14', 'rho_15', 'rho_16', 'rho_17', 'rho_18', 'rho_19', 'rho_20', 'rho_21', 'rho_22', 'rho_23', 'rho_24', 'rho_25', 'rho_26', 'rho_27', 'rho_28', 'rho_29', 'rho_30', 'rho_31', 'rho_32', 'rho_33', 'rho_34', 'rho_35', 'rho_36', 'rho_37', 'rho_38', 'rho_39', 'rho_40', 'rho_41', 'rho_42', 'rho_43', 'rho_44', 'rho_45', 'rho_46', 'rho_47', 'rho_48', 'rho_49', 'rho_50', 'rho_51', 'rho_52', 'rho_53', 'rho_54', 'rho_55', 'rho_56', 'rho_57', 'rho_58', 'rho_59', 'rho_60', 'rho_61', 'rho_62', 'rho_63', 'rho_64', 'rho_65', 'rho_66', 'rho_67', 'rho_68', 'rho_69', 'rho_70', 'rho_71', 'rho_72', 'rho_73', 'rho_74', 'rho_75', 'rho_76', 'rho_77', 'rho_78', 'rho_79', 'rho_80', 'rho_81', 'rho_82', 'rho_83', 'rho_84', 'rho_85', 'rho_86', 'rho_87', 'rho_88', 'rho_89', 'rho_90', 'rho_91', 'rho_92', 'rho_93', 'rho_94', 'rho_95', 'rho_96', 'rho_97', 'rho_98', 'rho_99', 'rho_100', 'rho_101', 'rho_102', 'rho_103', 'rho_104', 'rho_105', 'rho_106', 'rho_107', 'rho_108', 'rho_109', 'rho_110', 'rho_111', 'rho_112', 'rho_113', 'rho_114', 'rho_115', 'rho_116', 'rho_117', 'rho_118', 'rho_119', 'rho_120', 'rho_121', 'rho_122', 'rho_123', 'rho_124', 'rho_125', 'rho_126', 'rho_127', 'rho_128', 'rho_129', 'rho_130', 'rho_131', 'rho_132', 'rho_133', 'rho_134', 'rho_135', 'rho_136', 'rho_137', 'rho_138', 'rho_139', 'rho_140', 'rho_141', 'rho_142', 'rho_143', 'rho_144', 'rho_145', 'rho_146', 'rho_147', 'rho_148', 'rho_149', 'rho_150', 'rho_151', 'rho_152', 'rho_153', 'rho_154', 'rho_155', 'rho_156', 'rho_157', 'rho_158', 'rho_159', 'rho_160', 'rho_161', 'rho_162', 'rho_163', 'rho_164', 'rho_165', 'rho_166', 'rho_167', 'rho_168', 'rho_169', 'rho_170', 'rho_171', 'rho_172', 'rho_173', 'rho_174', 'rho_175', 'rho_176', 'rho_177', 'rho_178', 'rho_179', 'rho_180', 'rho_181', 'rho_182', 'rho_183', 'rho_184', 'rho_185', 'timestep_overflow_0', 'timestep_overflow_1', 'timestep_overflow_2', 'timestep_overflow_3', 'timestep_overflow_4', 'timestep_overflow_5', 'timestep_overflow_6', 'timestep_overflow_7', 'timestep_overflow_8', 'timestep_overflow_9', 'timestep_overflow_10', 'timestep_overflow_11', 'timestep_overflow_12', 'timestep_overflow_13', 'timestep_overflow_14', 'timestep_overflow_15', 'timestep_overflow_16', 'timestep_overflow_17', 'timestep_overflow_18', 'timestep_overflow_19', 'timestep_overflow_20', 'timestep_overflow_21', 'timestep_overflow_22', 'timestep_overflow_23', 'timestep_overflow_24', 'timestep_overflow_25', 'timestep_overflow_26', 'timestep_overflow_27', 'timestep_overflow_28', 'timestep_overflow_29', 'timestep_overflow_30', 'timestep_overflow_31', 'timestep_overflow_32', 'timestep_overflow_33', 'timestep_overflow_34', 'timestep_overflow_35', 'timestep_overflow_36', 'timestep_overflow_37', 'timestep_overflow_38', 'timestep_overflow_39', 'timestep_overflow_40', 'timestep_overflow_41', 'timestep_overflow_42', 'timestep_overflow_43', 'timestep_overflow_44', 'timestep_overflow_45', 'timestep_overflow_46', 'timestep_overflow_47', 'timestep_overflow_48', 'timestep_overflow_49', 'timestep_overflow_50', 'timestep_overflow_51', 'timestep_overflow_52', 'timestep_overflow_53', 'timestep_overflow_54', 'timestep_overflow_55', 'timestep_overflow_56', 'timestep_overflow_57', 'timestep_overflow_58', 'timestep_overflow_59', 'timestep_overflow_60', 'timestep_overflow_61', 'timestep_overflow_62', 'timestep_overflow_63', 'timestep_overflow_64', 'timestep_overflow_65', 'timestep_overflow_66', 'timestep_overflow_67', 'timestep_overflow_68', 'timestep_overflow_69', 'timestep_overflow_70', 'timestep_overflow_71', 'timestep_overflow_72', 'timestep_overflow_73', 'timestep_overflow_74', 'timestep_overflow_75', 'timestep_overflow_76', 'timestep_overflow_77', 'timestep_overflow_78', 'timestep_overflow_79', 'timestep_overflow_80', 'timestep_overflow_81', 'timestep_overflow_82', 'timestep_overflow_83', 'timestep_overflow_84', 'timestep_overflow_85', 'timestep_overflow_86', 'timestep_overflow_87', 'timestep_overflow_88', 'timestep_overflow_89', 'timestep_overflow_90', 'timestep_overflow_91', 'timestep_overflow_92', 'timestep_overflow_93', 'timestep_overflow_94', 'timestep_overflow_95', 'timestep_overflow_96', 'timestep_overflow_97', 'timestep_overflow_98', 'timestep_overflow_99', 'timestep_overflow_100', 'timestep_overflow_101', 'timestep_overflow_102', 'timestep_overflow_103', 'timestep_overflow_104', 'timestep_overflow_105', 'timestep_overflow_106', 'timestep_overflow_107', 'timestep_overflow_108', 'timestep_overflow_109', 'timestep_overflow_110', 'timestep_overflow_111', 'timestep_overflow_112', 'timestep_overflow_113', 'timestep_overflow_114', 'timestep_overflow_115', 'timestep_overflow_116', 'timestep_overflow_117', 'timestep_overflow_118', 'timestep_overflow_119', 'timestep_overflow_120', 'timestep_overflow_121', 'timestep_overflow_122', 'timestep_overflow_123', 'timestep_overflow_124', 'timestep_overflow_125', 'timestep_overflow_126', 'timestep_overflow_127', 'timestep_overflow_128', 'timestep_overflow_129', 'timestep_overflow_130', 'timestep_overflow_131', 'timestep_overflow_132', 'timestep_overflow_133', 'timestep_overflow_134', 'timestep_overflow_135', 'timestep_overflow_136', 'timestep_overflow_137', 'timestep_overflow_138', 'timestep_overflow_139', 'timestep_overflow_140', 'timestep_overflow_141', 'timestep_overflow_142', 'timestep_overflow_143', 'timestep_overflow_144', 'timestep_overflow_145', 'timestep_overflow_146', 'timestep_overflow_147', 'timestep_overflow_148', 'timestep_overflow_149', 'timestep_overflow_150', 'timestep_overflow_151', 'timestep_overflow_152', 'timestep_overflow_153', 'timestep_overflow_154', 'timestep_overflow_155', 'timestep_overflow_156', 'timestep_overflow_157', 'timestep_overflow_158', 'timestep_overflow_159', 'timestep_overflow_160', 'timestep_overflow_161', 'timestep_overflow_162', 'timestep_overflow_163', 'timestep_overflow_164', 'timestep_overflow_165', 'timestep_overflow_166', 'timestep_overflow_167', 'timestep_overflow_168', 'timestep_overflow_169', 'timestep_overflow_170', 'timestep_overflow_171', 'timestep_overflow_172', 'timestep_overflow_173', 'timestep_overflow_174', 'timestep_overflow_175', 'timestep_overflow_176', 'timestep_overflow_177', 'timestep_overflow_178', 'timestep_overflow_179', 'timestep_overflow_180', 'timestep_overflow_181', 'timestep_overflow_182', 'timestep_overflow_183', 'timestep_overflow_184', 'timestep_overflow_185', 'topo_vect_0', 'topo_vect_1', 'topo_vect_2', 'topo_vect_3', 'topo_vect_4', 'topo_vect_5', 'topo_vect_6', 'topo_vect_7', 'topo_vect_8', 'topo_vect_9', 'topo_vect_10', 'topo_vect_11', 'topo_vect_12', 'topo_vect_13', 'topo_vect_14', 'topo_vect_15', 'topo_vect_16', 'topo_vect_17', 'topo_vect_18', 'topo_vect_19', 'topo_vect_20', 'topo_vect_21', 'topo_vect_22', 'topo_vect_23', 'topo_vect_24', 'topo_vect_25', 'topo_vect_26', 'topo_vect_27', 'topo_vect_28', 'topo_vect_29', 'topo_vect_30', 'topo_vect_31', 'topo_vect_32', 'topo_vect_33', 'topo_vect_34', 'topo_vect_35', 'topo_vect_36', 'topo_vect_37', 'topo_vect_38', 'topo_vect_39', 'topo_vect_40', 'topo_vect_41', 'topo_vect_42', 'topo_vect_43', 'topo_vect_44', 'topo_vect_45', 'topo_vect_46', 'topo_vect_47', 'topo_vect_48', 'topo_vect_49', 'topo_vect_50', 'topo_vect_51', 'topo_vect_52', 'topo_vect_53', 'topo_vect_54', 'topo_vect_55', 'topo_vect_56', 'topo_vect_57', 'topo_vect_58', 'topo_vect_59', 'topo_vect_60', 'topo_vect_61', 'topo_vect_62', 'topo_vect_63', 'topo_vect_64', 'topo_vect_65', 'topo_vect_66', 'topo_vect_67', 'topo_vect_68', 'topo_vect_69', 'topo_vect_70', 'topo_vect_71', 'topo_vect_72', 'topo_vect_73', 'topo_vect_74', 'topo_vect_75', 'topo_vect_76', 'topo_vect_77', 'topo_vect_78', 'topo_vect_79', 'topo_vect_80', 'topo_vect_81', 'topo_vect_82', 'topo_vect_83', 'topo_vect_84', 'topo_vect_85', 'topo_vect_86', 'topo_vect_87', 'topo_vect_88', 'topo_vect_89', 'topo_vect_90', 'topo_vect_91', 'topo_vect_92', 'topo_vect_93', 'topo_vect_94', 'topo_vect_95', 'topo_vect_96', 'topo_vect_97', 'topo_vect_98', 'topo_vect_99', 'topo_vect_100', 'topo_vect_101', 'topo_vect_102', 'topo_vect_103', 'topo_vect_104', 'topo_vect_105', 'topo_vect_106', 'topo_vect_107', 'topo_vect_108', 'topo_vect_109', 'topo_vect_110', 'topo_vect_111', 'topo_vect_112', 'topo_vect_113', 'topo_vect_114', 'topo_vect_115', 'topo_vect_116', 'topo_vect_117', 'topo_vect_118', 'topo_vect_119', 'topo_vect_120', 'topo_vect_121', 'topo_vect_122', 'topo_vect_123', 'topo_vect_124', 'topo_vect_125', 'topo_vect_126', 'topo_vect_127', 'topo_vect_128', 'topo_vect_129', 'topo_vect_130', 'topo_vect_131', 'topo_vect_132', 'topo_vect_133', 'topo_vect_134', 'topo_vect_135', 'topo_vect_136', 'topo_vect_137', 'topo_vect_138', 'topo_vect_139', 'topo_vect_140', 'topo_vect_141', 'topo_vect_142', 'topo_vect_143', 'topo_vect_144', 'topo_vect_145', 'topo_vect_146', 'topo_vect_147', 'topo_vect_148', 'topo_vect_149', 'topo_vect_150', 'topo_vect_151', 'topo_vect_152', 'topo_vect_153', 'topo_vect_154', 'topo_vect_155', 'topo_vect_156', 'topo_vect_157', 'topo_vect_158', 'topo_vect_159', 'topo_vect_160', 'topo_vect_161', 'topo_vect_162', 'topo_vect_163', 'topo_vect_164', 'topo_vect_165', 'topo_vect_166', 'topo_vect_167', 'topo_vect_168', 'topo_vect_169', 'topo_vect_170', 'topo_vect_171', 'topo_vect_172', 'topo_vect_173', 'topo_vect_174', 'topo_vect_175', 'topo_vect_176', 'topo_vect_177', 'topo_vect_178', 'topo_vect_179', 'topo_vect_180', 'topo_vect_181', 'topo_vect_182', 'topo_vect_183', 'topo_vect_184', 'topo_vect_185', 'topo_vect_186', 'topo_vect_187', 'topo_vect_188', 'topo_vect_189', 'topo_vect_190', 'topo_vect_191', 'topo_vect_192', 'topo_vect_193', 'topo_vect_194', 'topo_vect_195', 'topo_vect_196', 'topo_vect_197', 'topo_vect_198', 'topo_vect_199', 'topo_vect_200', 'topo_vect_201', 'topo_vect_202', 'topo_vect_203', 'topo_vect_204', 'topo_vect_205', 'topo_vect_206', 'topo_vect_207', 'topo_vect_208', 'topo_vect_209', 'topo_vect_210', 'topo_vect_211', 'topo_vect_212', 'topo_vect_213', 'topo_vect_214', 'topo_vect_215', 'topo_vect_216', 'topo_vect_217', 'topo_vect_218', 'topo_vect_219', 'topo_vect_220', 'topo_vect_221', 'topo_vect_222', 'topo_vect_223', 'topo_vect_224', 'topo_vect_225', 'topo_vect_226', 'topo_vect_227', 'topo_vect_228', 'topo_vect_229', 'topo_vect_230', 'topo_vect_231', 'topo_vect_232', 'topo_vect_233', 'topo_vect_234', 'topo_vect_235', 'topo_vect_236', 'topo_vect_237', 'topo_vect_238', 'topo_vect_239', 'topo_vect_240', 'topo_vect_241', 'topo_vect_242', 'topo_vect_243', 'topo_vect_244', 'topo_vect_245', 'topo_vect_246', 'topo_vect_247', 'topo_vect_248', 'topo_vect_249', 'topo_vect_250', 'topo_vect_251', 'topo_vect_252', 'topo_vect_253', 'topo_vect_254', 'topo_vect_255', 'topo_vect_256', 'topo_vect_257', 'topo_vect_258', 'topo_vect_259', 'topo_vect_260', 'topo_vect_261', 'topo_vect_262', 'topo_vect_263', 'topo_vect_264', 'topo_vect_265', 'topo_vect_266', 'topo_vect_267', 'topo_vect_268', 'topo_vect_269', 'topo_vect_270', 'topo_vect_271', 'topo_vect_272', 'topo_vect_273', 'topo_vect_274', 'topo_vect_275', 'topo_vect_276', 'topo_vect_277', 'topo_vect_278', 'topo_vect_279', 'topo_vect_280', 'topo_vect_281', 'topo_vect_282', 'topo_vect_283', 'topo_vect_284', 'topo_vect_285', 'topo_vect_286', 'topo_vect_287', 'topo_vect_288', 'topo_vect_289', 'topo_vect_290', 'topo_vect_291', 'topo_vect_292', 'topo_vect_293', 'topo_vect_294', 'topo_vect_295', 'topo_vect_296', 'topo_vect_297', 'topo_vect_298', 'topo_vect_299', 'topo_vect_300', 'topo_vect_301', 'topo_vect_302', 'topo_vect_303', 'topo_vect_304', 'topo_vect_305', 'topo_vect_306', 'topo_vect_307', 'topo_vect_308', 'topo_vect_309', 'topo_vect_310', 'topo_vect_311', 'topo_vect_312', 'topo_vect_313', 'topo_vect_314', 'topo_vect_315', 'topo_vect_316', 'topo_vect_317', 'topo_vect_318', 'topo_vect_319', 'topo_vect_320', 'topo_vect_321', 'topo_vect_322', 'topo_vect_323', 'topo_vect_324', 'topo_vect_325', 'topo_vect_326', 'topo_vect_327', 'topo_vect_328', 'topo_vect_329', 'topo_vect_330', 'topo_vect_331', 'topo_vect_332', 'topo_vect_333', 'topo_vect_334', 'topo_vect_335', 'topo_vect_336', 'topo_vect_337', 'topo_vect_338', 'topo_vect_339', 'topo_vect_340', 'topo_vect_341', 'topo_vect_342', 'topo_vect_343', 'topo_vect_344', 'topo_vect_345', 'topo_vect_346', 'topo_vect_347', 'topo_vect_348', 'topo_vect_349', 'topo_vect_350', 'topo_vect_351', 'topo_vect_352', 'topo_vect_353', 'topo_vect_354', 'topo_vect_355', 'topo_vect_356', 'topo_vect_357', 'topo_vect_358', 'topo_vect_359', 'topo_vect_360', 'topo_vect_361', 'topo_vect_362', 'topo_vect_363', 'topo_vect_364', 'topo_vect_365', 'topo_vect_366', 'topo_vect_367', 'topo_vect_368', 'topo_vect_369', 'topo_vect_370', 'topo_vect_371', 'topo_vect_372', 'topo_vect_373', 'topo_vect_374', 'topo_vect_375', 'topo_vect_376', 'topo_vect_377', 'topo_vect_378', 'topo_vect_379', 'topo_vect_380', 'topo_vect_381', 'topo_vect_382', 'topo_vect_383', 'topo_vect_384', 'topo_vect_385', 'topo_vect_386', 'topo_vect_387', 'topo_vect_388', 'topo_vect_389', 'topo_vect_390', 'topo_vect_391', 'topo_vect_392', 'topo_vect_393', 'topo_vect_394', 'topo_vect_395', 'topo_vect_396', 'topo_vect_397', 'topo_vect_398', 'topo_vect_399', 'topo_vect_400', 'topo_vect_401', 'topo_vect_402', 'topo_vect_403', 'topo_vect_404', 'topo_vect_405', 'topo_vect_406', 'topo_vect_407', 'topo_vect_408', 'topo_vect_409', 'topo_vect_410', 'topo_vect_411', 'topo_vect_412', 'topo_vect_413', 'topo_vect_414', 'topo_vect_415', 'topo_vect_416', 'topo_vect_417', 'topo_vect_418', 'topo_vect_419', 'topo_vect_420', 'topo_vect_421', 'topo_vect_422', 'topo_vect_423', 'topo_vect_424', 'topo_vect_425', 'topo_vect_426', 'topo_vect_427', 'topo_vect_428', 'topo_vect_429', 'topo_vect_430', 'topo_vect_431', 'topo_vect_432', 'topo_vect_433', 'topo_vect_434', 'topo_vect_435', 'topo_vect_436', 'topo_vect_437', 'topo_vect_438', 'topo_vect_439', 'topo_vect_440', 'topo_vect_441', 'topo_vect_442', 'topo_vect_443', 'topo_vect_444', 'topo_vect_445', 'topo_vect_446', 'topo_vect_447', 'topo_vect_448', 'topo_vect_449', 'topo_vect_450', 'topo_vect_451', 'topo_vect_452', 'topo_vect_453', 'topo_vect_454', 'topo_vect_455', 'topo_vect_456', 'topo_vect_457', 'topo_vect_458', 'topo_vect_459', 'topo_vect_460', 'topo_vect_461', 'topo_vect_462', 'topo_vect_463', 'topo_vect_464', 'topo_vect_465', 'topo_vect_466', 'topo_vect_467', 'topo_vect_468', 'topo_vect_469', 'topo_vect_470', 'topo_vect_471', 'topo_vect_472', 'topo_vect_473', 'topo_vect_474', 'topo_vect_475', 'topo_vect_476', 'topo_vect_477', 'topo_vect_478', 'topo_vect_479', 'topo_vect_480', 'topo_vect_481', 'topo_vect_482', 'topo_vect_483', 'topo_vect_484', 'topo_vect_485', 'topo_vect_486', 'topo_vect_487', 'topo_vect_488', 'topo_vect_489', 'topo_vect_490', 'topo_vect_491', 'topo_vect_492', 'topo_vect_493', 'topo_vect_494', 'topo_vect_495', 'topo_vect_496', 'topo_vect_497', 'topo_vect_498', 'topo_vect_499', 'topo_vect_500', 'topo_vect_501', 'topo_vect_502', 'topo_vect_503', 'topo_vect_504', 'topo_vect_505', 'topo_vect_506', 'topo_vect_507', 'topo_vect_508', 'topo_vect_509', 'topo_vect_510', 'topo_vect_511', 'topo_vect_512', 'topo_vect_513', 'topo_vect_514', 'topo_vect_515', 'topo_vect_516', 'topo_vect_517', 'topo_vect_518', 'topo_vect_519', 'topo_vect_520', 'topo_vect_521', 'topo_vect_522', 'topo_vect_523', 'topo_vect_524', 'topo_vect_525', 'topo_vect_526', 'topo_vect_527', 'topo_vect_528', 'topo_vect_529', 'topo_vect_530', 'topo_vect_531', 'time_before_cooldown_line_0', 'time_before_cooldown_line_1', 'time_before_cooldown_line_2', 'time_before_cooldown_line_3', 'time_before_cooldown_line_4', 'time_before_cooldown_line_5', 'time_before_cooldown_line_6', 'time_before_cooldown_line_7', 'time_before_cooldown_line_8', 'time_before_cooldown_line_9', 'time_before_cooldown_line_10', 'time_before_cooldown_line_11', 'time_before_cooldown_line_12', 'time_before_cooldown_line_13', 'time_before_cooldown_line_14', 'time_before_cooldown_line_15', 'time_before_cooldown_line_16', 'time_before_cooldown_line_17', 'time_before_cooldown_line_18', 'time_before_cooldown_line_19', 'time_before_cooldown_line_20', 'time_before_cooldown_line_21', 'time_before_cooldown_line_22', 'time_before_cooldown_line_23', 'time_before_cooldown_line_24', 'time_before_cooldown_line_25', 'time_before_cooldown_line_26', 'time_before_cooldown_line_27', 'time_before_cooldown_line_28', 'time_before_cooldown_line_29', 'time_before_cooldown_line_30', 'time_before_cooldown_line_31', 'time_before_cooldown_line_32', 'time_before_cooldown_line_33', 'time_before_cooldown_line_34', 'time_before_cooldown_line_35', 'time_before_cooldown_line_36', 'time_before_cooldown_line_37', 'time_before_cooldown_line_38', 'time_before_cooldown_line_39', 'time_before_cooldown_line_40', 'time_before_cooldown_line_41', 'time_before_cooldown_line_42', 'time_before_cooldown_line_43', 'time_before_cooldown_line_44', 'time_before_cooldown_line_45', 'time_before_cooldown_line_46', 'time_before_cooldown_line_47', 'time_before_cooldown_line_48', 'time_before_cooldown_line_49', 'time_before_cooldown_line_50', 'time_before_cooldown_line_51', 'time_before_cooldown_line_52', 'time_before_cooldown_line_53', 'time_before_cooldown_line_54', 'time_before_cooldown_line_55', 'time_before_cooldown_line_56', 'time_before_cooldown_line_57', 'time_before_cooldown_line_58', 'time_before_cooldown_line_59', 'time_before_cooldown_line_60', 'time_before_cooldown_line_61', 'time_before_cooldown_line_62', 'time_before_cooldown_line_63', 'time_before_cooldown_line_64', 'time_before_cooldown_line_65', 'time_before_cooldown_line_66', 'time_before_cooldown_line_67', 'time_before_cooldown_line_68', 'time_before_cooldown_line_69', 'time_before_cooldown_line_70', 'time_before_cooldown_line_71', 'time_before_cooldown_line_72', 'time_before_cooldown_line_73', 'time_before_cooldown_line_74', 'time_before_cooldown_line_75', 'time_before_cooldown_line_76', 'time_before_cooldown_line_77', 'time_before_cooldown_line_78', 'time_before_cooldown_line_79', 'time_before_cooldown_line_80', 'time_before_cooldown_line_81', 'time_before_cooldown_line_82', 'time_before_cooldown_line_83', 'time_before_cooldown_line_84', 'time_before_cooldown_line_85', 'time_before_cooldown_line_86', 'time_before_cooldown_line_87', 'time_before_cooldown_line_88', 'time_before_cooldown_line_89', 'time_before_cooldown_line_90', 'time_before_cooldown_line_91', 'time_before_cooldown_line_92', 'time_before_cooldown_line_93', 'time_before_cooldown_line_94', 'time_before_cooldown_line_95', 'time_before_cooldown_line_96', 'time_before_cooldown_line_97', 'time_before_cooldown_line_98', 'time_before_cooldown_line_99', 'time_before_cooldown_line_100', 'time_before_cooldown_line_101', 'time_before_cooldown_line_102', 'time_before_cooldown_line_103', 'time_before_cooldown_line_104', 'time_before_cooldown_line_105', 'time_before_cooldown_line_106', 'time_before_cooldown_line_107', 'time_before_cooldown_line_108', 'time_before_cooldown_line_109', 'time_before_cooldown_line_110', 'time_before_cooldown_line_111', 'time_before_cooldown_line_112', 'time_before_cooldown_line_113', 'time_before_cooldown_line_114', 'time_before_cooldown_line_115', 'time_before_cooldown_line_116', 'time_before_cooldown_line_117', 'time_before_cooldown_line_118', 'time_before_cooldown_line_119', 'time_before_cooldown_line_120', 'time_before_cooldown_line_121', 'time_before_cooldown_line_122', 'time_before_cooldown_line_123', 'time_before_cooldown_line_124', 'time_before_cooldown_line_125', 'time_before_cooldown_line_126', 'time_before_cooldown_line_127', 'time_before_cooldown_line_128', 'time_before_cooldown_line_129', 'time_before_cooldown_line_130', 'time_before_cooldown_line_131', 'time_before_cooldown_line_132', 'time_before_cooldown_line_133', 'time_before_cooldown_line_134', 'time_before_cooldown_line_135', 'time_before_cooldown_line_136', 'time_before_cooldown_line_137', 'time_before_cooldown_line_138', 'time_before_cooldown_line_139', 'time_before_cooldown_line_140', 'time_before_cooldown_line_141', 'time_before_cooldown_line_142', 'time_before_cooldown_line_143', 'time_before_cooldown_line_144', 'time_before_cooldown_line_145', 'time_before_cooldown_line_146', 'time_before_cooldown_line_147', 'time_before_cooldown_line_148', 'time_before_cooldown_line_149', 'time_before_cooldown_line_150', 'time_before_cooldown_line_151', 'time_before_cooldown_line_152', 'time_before_cooldown_line_153', 'time_before_cooldown_line_154', 'time_before_cooldown_line_155', 'time_before_cooldown_line_156', 'time_before_cooldown_line_157', 'time_before_cooldown_line_158', 'time_before_cooldown_line_159', 'time_before_cooldown_line_160', 'time_before_cooldown_line_161', 'time_before_cooldown_line_162', 'time_before_cooldown_line_163', 'time_before_cooldown_line_164', 'time_before_cooldown_line_165', 'time_before_cooldown_line_166', 'time_before_cooldown_line_167', 'time_before_cooldown_line_168', 'time_before_cooldown_line_169', 'time_before_cooldown_line_170', 'time_before_cooldown_line_171', 'time_before_cooldown_line_172', 'time_before_cooldown_line_173', 'time_before_cooldown_line_174', 'time_before_cooldown_line_175', 'time_before_cooldown_line_176', 'time_before_cooldown_line_177', 'time_before_cooldown_line_178', 'time_before_cooldown_line_179', 'time_before_cooldown_line_180', 'time_before_cooldown_line_181', 'time_before_cooldown_line_182', 'time_before_cooldown_line_183', 'time_before_cooldown_line_184', 'time_before_cooldown_line_185', 'time_before_cooldown_sub_0', 'time_before_cooldown_sub_1', 'time_before_cooldown_sub_2', 'time_before_cooldown_sub_3', 'time_before_cooldown_sub_4', 'time_before_cooldown_sub_5', 'time_before_cooldown_sub_6', 'time_before_cooldown_sub_7', 'time_before_cooldown_sub_8', 'time_before_cooldown_sub_9', 'time_before_cooldown_sub_10', 'time_before_cooldown_sub_11', 'time_before_cooldown_sub_12', 'time_before_cooldown_sub_13', 'time_before_cooldown_sub_14', 'time_before_cooldown_sub_15', 'time_before_cooldown_sub_16', 'time_before_cooldown_sub_17', 'time_before_cooldown_sub_18', 'time_before_cooldown_sub_19', 'time_before_cooldown_sub_20', 'time_before_cooldown_sub_21', 'time_before_cooldown_sub_22', 'time_before_cooldown_sub_23', 'time_before_cooldown_sub_24', 'time_before_cooldown_sub_25', 'time_before_cooldown_sub_26', 'time_before_cooldown_sub_27', 'time_before_cooldown_sub_28', 'time_before_cooldown_sub_29', 'time_before_cooldown_sub_30', 'time_before_cooldown_sub_31', 'time_before_cooldown_sub_32', 'time_before_cooldown_sub_33', 'time_before_cooldown_sub_34', 'time_before_cooldown_sub_35', 'time_before_cooldown_sub_36', 'time_before_cooldown_sub_37', 'time_before_cooldown_sub_38', 'time_before_cooldown_sub_39', 'time_before_cooldown_sub_40', 'time_before_cooldown_sub_41', 'time_before_cooldown_sub_42', 'time_before_cooldown_sub_43', 'time_before_cooldown_sub_44', 'time_before_cooldown_sub_45', 'time_before_cooldown_sub_46', 'time_before_cooldown_sub_47', 'time_before_cooldown_sub_48', 'time_before_cooldown_sub_49', 'time_before_cooldown_sub_50', 'time_before_cooldown_sub_51', 'time_before_cooldown_sub_52', 'time_before_cooldown_sub_53', 'time_before_cooldown_sub_54', 'time_before_cooldown_sub_55', 'time_before_cooldown_sub_56', 'time_before_cooldown_sub_57', 'time_before_cooldown_sub_58', 'time_before_cooldown_sub_59', 'time_before_cooldown_sub_60', 'time_before_cooldown_sub_61', 'time_before_cooldown_sub_62', 'time_before_cooldown_sub_63', 'time_before_cooldown_sub_64', 'time_before_cooldown_sub_65', 'time_before_cooldown_sub_66', 'time_before_cooldown_sub_67', 'time_before_cooldown_sub_68', 'time_before_cooldown_sub_69', 'time_before_cooldown_sub_70', 'time_before_cooldown_sub_71', 'time_before_cooldown_sub_72', 'time_before_cooldown_sub_73', 'time_before_cooldown_sub_74', 'time_before_cooldown_sub_75', 'time_before_cooldown_sub_76', 'time_before_cooldown_sub_77', 'time_before_cooldown_sub_78', 'time_before_cooldown_sub_79', 'time_before_cooldown_sub_80', 'time_before_cooldown_sub_81', 'time_before_cooldown_sub_82', 'time_before_cooldown_sub_83', 'time_before_cooldown_sub_84', 'time_before_cooldown_sub_85', 'time_before_cooldown_sub_86', 'time_before_cooldown_sub_87', 'time_before_cooldown_sub_88', 'time_before_cooldown_sub_89', 'time_before_cooldown_sub_90', 'time_before_cooldown_sub_91', 'time_before_cooldown_sub_92', 'time_before_cooldown_sub_93', 'time_before_cooldown_sub_94', 'time_before_cooldown_sub_95', 'time_before_cooldown_sub_96', 'time_before_cooldown_sub_97', 'time_before_cooldown_sub_98', 'time_before_cooldown_sub_99', 'time_before_cooldown_sub_100', 'time_before_cooldown_sub_101', 'time_before_cooldown_sub_102', 'time_before_cooldown_sub_103', 'time_before_cooldown_sub_104', 'time_before_cooldown_sub_105', 'time_before_cooldown_sub_106', 'time_before_cooldown_sub_107', 'time_before_cooldown_sub_108', 'time_before_cooldown_sub_109', 'time_before_cooldown_sub_110', 'time_before_cooldown_sub_111', 'time_before_cooldown_sub_112', 'time_before_cooldown_sub_113', 'time_before_cooldown_sub_114', 'time_before_cooldown_sub_115', 'time_before_cooldown_sub_116', 'time_before_cooldown_sub_117', 'time_next_maintenance_0', 'time_next_maintenance_1', 'time_next_maintenance_2', 'time_next_maintenance_3', 'time_next_maintenance_4', 'time_next_maintenance_5', 'time_next_maintenance_6', 'time_next_maintenance_7', 'time_next_maintenance_8', 'time_next_maintenance_9', 'time_next_maintenance_10', 'time_next_maintenance_11', 'time_next_maintenance_12', 'time_next_maintenance_13', 'time_next_maintenance_14', 'time_next_maintenance_15', 'time_next_maintenance_16', 'time_next_maintenance_17', 'time_next_maintenance_18', 'time_next_maintenance_19', 'time_next_maintenance_20', 'time_next_maintenance_21', 'time_next_maintenance_22', 'time_next_maintenance_23', 'time_next_maintenance_24', 'time_next_maintenance_25', 'time_next_maintenance_26', 'time_next_maintenance_27', 'time_next_maintenance_28', 'time_next_maintenance_29', 'time_next_maintenance_30', 'time_next_maintenance_31', 'time_next_maintenance_32', 'time_next_maintenance_33', 'time_next_maintenance_34', 'time_next_maintenance_35', 'time_next_maintenance_36', 'time_next_maintenance_37', 'time_next_maintenance_38', 'time_next_maintenance_39', 'time_next_maintenance_40', 'time_next_maintenance_41', 'time_next_maintenance_42', 'time_next_maintenance_43', 'time_next_maintenance_44', 'time_next_maintenance_45', 'time_next_maintenance_46', 'time_next_maintenance_47', 'time_next_maintenance_48', 'time_next_maintenance_49', 'time_next_maintenance_50', 'time_next_maintenance_51', 'time_next_maintenance_52', 'time_next_maintenance_53', 'time_next_maintenance_54', 'time_next_maintenance_55', 'time_next_maintenance_56', 'time_next_maintenance_57', 'time_next_maintenance_58', 'time_next_maintenance_59', 'time_next_maintenance_60', 'time_next_maintenance_61', 'time_next_maintenance_62', 'time_next_maintenance_63', 'time_next_maintenance_64', 'time_next_maintenance_65', 'time_next_maintenance_66', 'time_next_maintenance_67', 'time_next_maintenance_68', 'time_next_maintenance_69', 'time_next_maintenance_70', 'time_next_maintenance_71', 'time_next_maintenance_72', 'time_next_maintenance_73', 'time_next_maintenance_74', 'time_next_maintenance_75', 'time_next_maintenance_76', 'time_next_maintenance_77', 'time_next_maintenance_78', 'time_next_maintenance_79', 'time_next_maintenance_80', 'time_next_maintenance_81', 'time_next_maintenance_82', 'time_next_maintenance_83', 'time_next_maintenance_84', 'time_next_maintenance_85', 'time_next_maintenance_86', 'time_next_maintenance_87', 'time_next_maintenance_88', 'time_next_maintenance_89', 'time_next_maintenance_90', 'time_next_maintenance_91', 'time_next_maintenance_92', 'time_next_maintenance_93', 'time_next_maintenance_94', 'time_next_maintenance_95', 'time_next_maintenance_96', 'time_next_maintenance_97', 'time_next_maintenance_98', 'time_next_maintenance_99', 'time_next_maintenance_100', 'time_next_maintenance_101', 'time_next_maintenance_102', 'time_next_maintenance_103', 'time_next_maintenance_104', 'time_next_maintenance_105', 'time_next_maintenance_106', 'time_next_maintenance_107', 'time_next_maintenance_108', 'time_next_maintenance_109', 'time_next_maintenance_110', 'time_next_maintenance_111', 'time_next_maintenance_112', 'time_next_maintenance_113', 'time_next_maintenance_114', 'time_next_maintenance_115', 'time_next_maintenance_116', 'time_next_maintenance_117', 'time_next_maintenance_118', 'time_next_maintenance_119', 'time_next_maintenance_120', 'time_next_maintenance_121', 'time_next_maintenance_122', 'time_next_maintenance_123', 'time_next_maintenance_124', 'time_next_maintenance_125', 'time_next_maintenance_126', 'time_next_maintenance_127', 'time_next_maintenance_128', 'time_next_maintenance_129', 'time_next_maintenance_130', 'time_next_maintenance_131', 'time_next_maintenance_132', 'time_next_maintenance_133', 'time_next_maintenance_134', 'time_next_maintenance_135', 'time_next_maintenance_136', 'time_next_maintenance_137', 'time_next_maintenance_138', 'time_next_maintenance_139', 'time_next_maintenance_140', 'time_next_maintenance_141', 'time_next_maintenance_142', 'time_next_maintenance_143', 'time_next_maintenance_144', 'time_next_maintenance_145', 'time_next_maintenance_146', 'time_next_maintenance_147', 'time_next_maintenance_148', 'time_next_maintenance_149', 'time_next_maintenance_150', 'time_next_maintenance_151', 'time_next_maintenance_152', 'time_next_maintenance_153', 'time_next_maintenance_154', 'time_next_maintenance_155', 'time_next_maintenance_156', 'time_next_maintenance_157', 'time_next_maintenance_158', 'time_next_maintenance_159', 'time_next_maintenance_160', 'time_next_maintenance_161', 'time_next_maintenance_162', 'time_next_maintenance_163', 'time_next_maintenance_164', 'time_next_maintenance_165', 'time_next_maintenance_166', 'time_next_maintenance_167', 'time_next_maintenance_168', 'time_next_maintenance_169', 'time_next_maintenance_170', 'time_next_maintenance_171', 'time_next_maintenance_172', 'time_next_maintenance_173', 'time_next_maintenance_174', 'time_next_maintenance_175', 'time_next_maintenance_176', 'time_next_maintenance_177', 'time_next_maintenance_178', 'time_next_maintenance_179', 'time_next_maintenance_180', 'time_next_maintenance_181', 'time_next_maintenance_182', 'time_next_maintenance_183', 'time_next_maintenance_184', 'time_next_maintenance_185', 'duration_next_maintenance_0', 'duration_next_maintenance_1', 'duration_next_maintenance_2', 'duration_next_maintenance_3', 'duration_next_maintenance_4', 'duration_next_maintenance_5', 'duration_next_maintenance_6', 'duration_next_maintenance_7', 'duration_next_maintenance_8', 'duration_next_maintenance_9', 'duration_next_maintenance_10', 'duration_next_maintenance_11', 'duration_next_maintenance_12', 'duration_next_maintenance_13', 'duration_next_maintenance_14', 'duration_next_maintenance_15', 'duration_next_maintenance_16', 'duration_next_maintenance_17', 'duration_next_maintenance_18', 'duration_next_maintenance_19', 'duration_next_maintenance_20', 'duration_next_maintenance_21', 'duration_next_maintenance_22', 'duration_next_maintenance_23', 'duration_next_maintenance_24', 'duration_next_maintenance_25', 'duration_next_maintenance_26', 'duration_next_maintenance_27', 'duration_next_maintenance_28', 'duration_next_maintenance_29', 'duration_next_maintenance_30', 'duration_next_maintenance_31', 'duration_next_maintenance_32', 'duration_next_maintenance_33', 'duration_next_maintenance_34', 'duration_next_maintenance_35', 'duration_next_maintenance_36', 'duration_next_maintenance_37', 'duration_next_maintenance_38', 'duration_next_maintenance_39', 'duration_next_maintenance_40', 'duration_next_maintenance_41', 'duration_next_maintenance_42', 'duration_next_maintenance_43', 'duration_next_maintenance_44', 'duration_next_maintenance_45', 'duration_next_maintenance_46', 'duration_next_maintenance_47', 'duration_next_maintenance_48', 'duration_next_maintenance_49', 'duration_next_maintenance_50', 'duration_next_maintenance_51', 'duration_next_maintenance_52', 'duration_next_maintenance_53', 'duration_next_maintenance_54', 'duration_next_maintenance_55', 'duration_next_maintenance_56', 'duration_next_maintenance_57', 'duration_next_maintenance_58', 'duration_next_maintenance_59', 'duration_next_maintenance_60', 'duration_next_maintenance_61', 'duration_next_maintenance_62', 'duration_next_maintenance_63', 'duration_next_maintenance_64', 'duration_next_maintenance_65', 'duration_next_maintenance_66', 'duration_next_maintenance_67', 'duration_next_maintenance_68', 'duration_next_maintenance_69', 'duration_next_maintenance_70', 'duration_next_maintenance_71', 'duration_next_maintenance_72', 'duration_next_maintenance_73', 'duration_next_maintenance_74', 'duration_next_maintenance_75', 'duration_next_maintenance_76', 'duration_next_maintenance_77', 'duration_next_maintenance_78', 'duration_next_maintenance_79', 'duration_next_maintenance_80', 'duration_next_maintenance_81', 'duration_next_maintenance_82', 'duration_next_maintenance_83', 'duration_next_maintenance_84', 'duration_next_maintenance_85', 'duration_next_maintenance_86', 'duration_next_maintenance_87', 'duration_next_maintenance_88', 'duration_next_maintenance_89', 'duration_next_maintenance_90', 'duration_next_maintenance_91', 'duration_next_maintenance_92', 'duration_next_maintenance_93', 'duration_next_maintenance_94', 'duration_next_maintenance_95', 'duration_next_maintenance_96', 'duration_next_maintenance_97', 'duration_next_maintenance_98', 'duration_next_maintenance_99', 'duration_next_maintenance_100', 'duration_next_maintenance_101', 'duration_next_maintenance_102', 'duration_next_maintenance_103', 'duration_next_maintenance_104', 'duration_next_maintenance_105', 'duration_next_maintenance_106', 'duration_next_maintenance_107', 'duration_next_maintenance_108', 'duration_next_maintenance_109', 'duration_next_maintenance_110', 'duration_next_maintenance_111', 'duration_next_maintenance_112', 'duration_next_maintenance_113', 'duration_next_maintenance_114', 'duration_next_maintenance_115', 'duration_next_maintenance_116', 'duration_next_maintenance_117', 'duration_next_maintenance_118', 'duration_next_maintenance_119', 'duration_next_maintenance_120', 'duration_next_maintenance_121', 'duration_next_maintenance_122', 'duration_next_maintenance_123', 'duration_next_maintenance_124', 'duration_next_maintenance_125', 'duration_next_maintenance_126', 'duration_next_maintenance_127', 'duration_next_maintenance_128', 'duration_next_maintenance_129', 'duration_next_maintenance_130', 'duration_next_maintenance_131', 'duration_next_maintenance_132', 'duration_next_maintenance_133', 'duration_next_maintenance_134', 'duration_next_maintenance_135', 'duration_next_maintenance_136', 'duration_next_maintenance_137', 'duration_next_maintenance_138', 'duration_next_maintenance_139', 'duration_next_maintenance_140', 'duration_next_maintenance_141', 'duration_next_maintenance_142', 'duration_next_maintenance_143', 'duration_next_maintenance_144', 'duration_next_maintenance_145', 'duration_next_maintenance_146', 'duration_next_maintenance_147', 'duration_next_maintenance_148', 'duration_next_maintenance_149', 'duration_next_maintenance_150', 'duration_next_maintenance_151', 'duration_next_maintenance_152', 'duration_next_maintenance_153', 'duration_next_maintenance_154', 'duration_next_maintenance_155', 'duration_next_maintenance_156', 'duration_next_maintenance_157', 'duration_next_maintenance_158', 'duration_next_maintenance_159', 'duration_next_maintenance_160', 'duration_next_maintenance_161', 'duration_next_maintenance_162', 'duration_next_maintenance_163', 'duration_next_maintenance_164', 'duration_next_maintenance_165', 'duration_next_maintenance_166', 'duration_next_maintenance_167', 'duration_next_maintenance_168', 'duration_next_maintenance_169', 'duration_next_maintenance_170', 'duration_next_maintenance_171', 'duration_next_maintenance_172', 'duration_next_maintenance_173', 'duration_next_maintenance_174', 'duration_next_maintenance_175', 'duration_next_maintenance_176', 'duration_next_maintenance_177', 'duration_next_maintenance_178', 'duration_next_maintenance_179', 'duration_next_maintenance_180', 'duration_next_maintenance_181', 'duration_next_maintenance_182', 'duration_next_maintenance_183', 'duration_next_maintenance_184', 'duration_next_maintenance_185', 'target_dispatch_0', 'target_dispatch_1', 'target_dispatch_2', 'target_dispatch_3', 'target_dispatch_4', 'target_dispatch_5', 'target_dispatch_6', 'target_dispatch_7', 'target_dispatch_8', 'target_dispatch_9', 'target_dispatch_10', 'target_dispatch_11', 'target_dispatch_12', 'target_dispatch_13', 'target_dispatch_14', 'target_dispatch_15', 'target_dispatch_16', 'target_dispatch_17', 'target_dispatch_18', 'target_dispatch_19', 'target_dispatch_20', 'target_dispatch_21', 'target_dispatch_22', 'target_dispatch_23', 'target_dispatch_24', 'target_dispatch_25', 'target_dispatch_26', 'target_dispatch_27', 'target_dispatch_28', 'target_dispatch_29', 'target_dispatch_30', 'target_dispatch_31', 'target_dispatch_32', 'target_dispatch_33', 'target_dispatch_34', 'target_dispatch_35', 'target_dispatch_36', 'target_dispatch_37', 'target_dispatch_38', 'target_dispatch_39', 'target_dispatch_40', 'target_dispatch_41', 'target_dispatch_42', 'target_dispatch_43', 'target_dispatch_44', 'target_dispatch_45', 'target_dispatch_46', 'target_dispatch_47', 'target_dispatch_48', 'target_dispatch_49', 'target_dispatch_50', 'target_dispatch_51', 'target_dispatch_52', 'target_dispatch_53', 'target_dispatch_54', 'target_dispatch_55', 'target_dispatch_56', 'target_dispatch_57', 'target_dispatch_58', 'target_dispatch_59', 'target_dispatch_60', 'target_dispatch_61', 'actual_dispatch_0', 'actual_dispatch_1', 'actual_dispatch_2', 'actual_dispatch_3', 'actual_dispatch_4', 'actual_dispatch_5', 'actual_dispatch_6', 'actual_dispatch_7', 'actual_dispatch_8', 'actual_dispatch_9', 'actual_dispatch_10', 'actual_dispatch_11', 'actual_dispatch_12', 'actual_dispatch_13', 'actual_dispatch_14', 'actual_dispatch_15', 'actual_dispatch_16', 'actual_dispatch_17', 'actual_dispatch_18', 'actual_dispatch_19', 'actual_dispatch_20', 'actual_dispatch_21', 'actual_dispatch_22', 'actual_dispatch_23', 'actual_dispatch_24', 'actual_dispatch_25', 'actual_dispatch_26', 'actual_dispatch_27', 'actual_dispatch_28', 'actual_dispatch_29', 'actual_dispatch_30', 'actual_dispatch_31', 'actual_dispatch_32', 'actual_dispatch_33', 'actual_dispatch_34', 'actual_dispatch_35', 'actual_dispatch_36', 'actual_dispatch_37', 'actual_dispatch_38', 'actual_dispatch_39', 'actual_dispatch_40', 'actual_dispatch_41', 'actual_dispatch_42', 'actual_dispatch_43', 'actual_dispatch_44', 'actual_dispatch_45', 'actual_dispatch_46', 'actual_dispatch_47', 'actual_dispatch_48', 'actual_dispatch_49', 'actual_dispatch_50', 'actual_dispatch_51', 'actual_dispatch_52', 'actual_dispatch_53', 'actual_dispatch_54', 'actual_dispatch_55', 'actual_dispatch_56', 'actual_dispatch_57', 'actual_dispatch_58', 'actual_dispatch_59', 'actual_dispatch_60', 'actual_dispatch_61', 'storage_charge_0', 'storage_charge_1', 'storage_charge_2', 'storage_charge_3', 'storage_charge_4', 'storage_charge_5', 'storage_charge_6', 'storage_power_target_0', 'storage_power_target_1', 'storage_power_target_2', 'storage_power_target_3', 'storage_power_target_4', 'storage_power_target_5', 'storage_power_target_6', 'storage_power_0', 'storage_power_1', 'storage_power_2', 'storage_power_3', 'storage_power_4', 'storage_power_5', 'storage_power_6', 'gen_p_before_curtail_0', 'gen_p_before_curtail_1', 'gen_p_before_curtail_2', 'gen_p_before_curtail_3', 'gen_p_before_curtail_4', 'gen_p_before_curtail_5', 'gen_p_before_curtail_6', 'gen_p_before_curtail_7', 'gen_p_before_curtail_8', 'gen_p_before_curtail_9', 'gen_p_before_curtail_10', 'gen_p_before_curtail_11', 'gen_p_before_curtail_12', 'gen_p_before_curtail_13', 'gen_p_before_curtail_14', 'gen_p_before_curtail_15', 'gen_p_before_curtail_16', 'gen_p_before_curtail_17', 'gen_p_before_curtail_18', 'gen_p_before_curtail_19', 'gen_p_before_curtail_20', 'gen_p_before_curtail_21', 'gen_p_before_curtail_22', 'gen_p_before_curtail_23', 'gen_p_before_curtail_24', 'gen_p_before_curtail_25', 'gen_p_before_curtail_26', 'gen_p_before_curtail_27', 'gen_p_before_curtail_28', 'gen_p_before_curtail_29', 'gen_p_before_curtail_30', 'gen_p_before_curtail_31', 'gen_p_before_curtail_32', 'gen_p_before_curtail_33', 'gen_p_before_curtail_34', 'gen_p_before_curtail_35', 'gen_p_before_curtail_36', 'gen_p_before_curtail_37', 'gen_p_before_curtail_38', 'gen_p_before_curtail_39', 'gen_p_before_curtail_40', 'gen_p_before_curtail_41', 'gen_p_before_curtail_42', 'gen_p_before_curtail_43', 'gen_p_before_curtail_44', 'gen_p_before_curtail_45', 'gen_p_before_curtail_46', 'gen_p_before_curtail_47', 'gen_p_before_curtail_48', 'gen_p_before_curtail_49', 'gen_p_before_curtail_50', 'gen_p_before_curtail_51', 'gen_p_before_curtail_52', 'gen_p_before_curtail_53', 'gen_p_before_curtail_54', 'gen_p_before_curtail_55', 'gen_p_before_curtail_56', 'gen_p_before_curtail_57', 'gen_p_before_curtail_58', 'gen_p_before_curtail_59', 'gen_p_before_curtail_60', 'gen_p_before_curtail_61', 'curtailment_0', 'curtailment_1', 'curtailment_2', 'curtailment_3', 'curtailment_4', 'curtailment_5', 'curtailment_6', 'curtailment_7', 'curtailment_8', 'curtailment_9', 'curtailment_10', 'curtailment_11', 'curtailment_12', 'curtailment_13', 'curtailment_14', 'curtailment_15', 'curtailment_16', 'curtailment_17', 'curtailment_18', 'curtailment_19', 'curtailment_20', 'curtailment_21', 'curtailment_22', 'curtailment_23', 'curtailment_24', 'curtailment_25', 'curtailment_26', 'curtailment_27', 'curtailment_28', 'curtailment_29', 'curtailment_30', 'curtailment_31', 'curtailment_32', 'curtailment_33', 'curtailment_34', 'curtailment_35', 'curtailment_36', 'curtailment_37', 'curtailment_38', 'curtailment_39', 'curtailment_40', 'curtailment_41', 'curtailment_42', 'curtailment_43', 'curtailment_44', 'curtailment_45', 'curtailment_46', 'curtailment_47', 'curtailment_48', 'curtailment_49', 'curtailment_50', 'curtailment_51', 'curtailment_52', 'curtailment_53', 'curtailment_54', 'curtailment_55', 'curtailment_56', 'curtailment_57', 'curtailment_58', 'curtailment_59', 'curtailment_60', 'curtailment_61', 'curtailment_limit_0', 'curtailment_limit_1', 'curtailment_limit_2', 'curtailment_limit_3', 'curtailment_limit_4', 'curtailment_limit_5', 'curtailment_limit_6', 'curtailment_limit_7', 'curtailment_limit_8', 'curtailment_limit_9', 'curtailment_limit_10', 'curtailment_limit_11', 'curtailment_limit_12', 'curtailment_limit_13', 'curtailment_limit_14', 'curtailment_limit_15', 'curtailment_limit_16', 'curtailment_limit_17', 'curtailment_limit_18', 'curtailment_limit_19', 'curtailment_limit_20', 'curtailment_limit_21', 'curtailment_limit_22', 'curtailment_limit_23', 'curtailment_limit_24', 'curtailment_limit_25', 'curtailment_limit_26', 'curtailment_limit_27', 'curtailment_limit_28', 'curtailment_limit_29', 'curtailment_limit_30', 'curtailment_limit_31', 'curtailment_limit_32', 'curtailment_limit_33', 'curtailment_limit_34', 'curtailment_limit_35', 'curtailment_limit_36', 'curtailment_limit_37', 'curtailment_limit_38', 'curtailment_limit_39', 'curtailment_limit_40', 'curtailment_limit_41', 'curtailment_limit_42', 'curtailment_limit_43', 'curtailment_limit_44', 'curtailment_limit_45', 'curtailment_limit_46', 'curtailment_limit_47', 'curtailment_limit_48', 'curtailment_limit_49', 'curtailment_limit_50', 'curtailment_limit_51', 'curtailment_limit_52', 'curtailment_limit_53', 'curtailment_limit_54', 'curtailment_limit_55', 'curtailment_limit_56', 'curtailment_limit_57', 'curtailment_limit_58', 'curtailment_limit_59', 'curtailment_limit_60', 'curtailment_limit_61', 'curtailment_limit_effective_0', 'curtailment_limit_effective_1', 'curtailment_limit_effective_2', 'curtailment_limit_effective_3', 'curtailment_limit_effective_4', 'curtailment_limit_effective_5', 'curtailment_limit_effective_6', 'curtailment_limit_effective_7', 'curtailment_limit_effective_8', 'curtailment_limit_effective_9', 'curtailment_limit_effective_10', 'curtailment_limit_effective_11', 'curtailment_limit_effective_12', 'curtailment_limit_effective_13', 'curtailment_limit_effective_14', 'curtailment_limit_effective_15', 'curtailment_limit_effective_16', 'curtailment_limit_effective_17', 'curtailment_limit_effective_18', 'curtailment_limit_effective_19', 'curtailment_limit_effective_20', 'curtailment_limit_effective_21', 'curtailment_limit_effective_22', 'curtailment_limit_effective_23', 'curtailment_limit_effective_24', 'curtailment_limit_effective_25', 'curtailment_limit_effective_26', 'curtailment_limit_effective_27', 'curtailment_limit_effective_28', 'curtailment_limit_effective_29', 'curtailment_limit_effective_30', 'curtailment_limit_effective_31', 'curtailment_limit_effective_32', 'curtailment_limit_effective_33', 'curtailment_limit_effective_34', 'curtailment_limit_effective_35', 'curtailment_limit_effective_36', 'curtailment_limit_effective_37', 'curtailment_limit_effective_38', 'curtailment_limit_effective_39', 'curtailment_limit_effective_40', 'curtailment_limit_effective_41', 'curtailment_limit_effective_42', 'curtailment_limit_effective_43', 'curtailment_limit_effective_44', 'curtailment_limit_effective_45', 'curtailment_limit_effective_46', 'curtailment_limit_effective_47', 'curtailment_limit_effective_48', 'curtailment_limit_effective_49', 'curtailment_limit_effective_50', 'curtailment_limit_effective_51', 'curtailment_limit_effective_52', 'curtailment_limit_effective_53', 'curtailment_limit_effective_54', 'curtailment_limit_effective_55', 'curtailment_limit_effective_56', 'curtailment_limit_effective_57', 'curtailment_limit_effective_58', 'curtailment_limit_effective_59', 'curtailment_limit_effective_60', 'curtailment_limit_effective_61', '_shunt_p_0', '_shunt_p_1', '_shunt_p_2', '_shunt_p_3', '_shunt_p_4', '_shunt_p_5', '_shunt_p_6', '_shunt_p_7', '_shunt_p_8', '_shunt_p_9', '_shunt_p_10', '_shunt_p_11', '_shunt_p_12', '_shunt_p_13', '_shunt_q_0', '_shunt_q_1', '_shunt_q_2', '_shunt_q_3', '_shunt_q_4', '_shunt_q_5', '_shunt_q_6', '_shunt_q_7', '_shunt_q_8', '_shunt_q_9', '_shunt_q_10', '_shunt_q_11', '_shunt_q_12', '_shunt_q_13', '_shunt_v_0', '_shunt_v_1', '_shunt_v_2', '_shunt_v_3', '_shunt_v_4', '_shunt_v_5', '_shunt_v_6', '_shunt_v_7', '_shunt_v_8', '_shunt_v_9', '_shunt_v_10', '_shunt_v_11', '_shunt_v_12', '_shunt_v_13', '_shunt_bus_0', '_shunt_bus_1', '_shunt_bus_2', '_shunt_bus_3', '_shunt_bus_4', '_shunt_bus_5', '_shunt_bus_6', '_shunt_bus_7', '_shunt_bus_8', '_shunt_bus_9', '_shunt_bus_10', '_shunt_bus_11', '_shunt_bus_12', '_shunt_bus_13', 'current_step_0', 'max_step_0', 'delta_time_0', 'gen_margin_up_0', 'gen_margin_up_1', 'gen_margin_up_2', 'gen_margin_up_3', 'gen_margin_up_4', 'gen_margin_up_5', 'gen_margin_up_6', 'gen_margin_up_7', 'gen_margin_up_8', 'gen_margin_up_9', 'gen_margin_up_10', 'gen_margin_up_11', 'gen_margin_up_12', 'gen_margin_up_13', 'gen_margin_up_14', 'gen_margin_up_15', 'gen_margin_up_16', 'gen_margin_up_17', 'gen_margin_up_18', 'gen_margin_up_19', 'gen_margin_up_20', 'gen_margin_up_21', 'gen_margin_up_22', 'gen_margin_up_23', 'gen_margin_up_24', 'gen_margin_up_25', 'gen_margin_up_26', 'gen_margin_up_27', 'gen_margin_up_28', 'gen_margin_up_29', 'gen_margin_up_30', 'gen_margin_up_31', 'gen_margin_up_32', 'gen_margin_up_33', 'gen_margin_up_34', 'gen_margin_up_35', 'gen_margin_up_36', 'gen_margin_up_37', 'gen_margin_up_38', 'gen_margin_up_39', 'gen_margin_up_40', 'gen_margin_up_41', 'gen_margin_up_42', 'gen_margin_up_43', 'gen_margin_up_44', 'gen_margin_up_45', 'gen_margin_up_46', 'gen_margin_up_47', 'gen_margin_up_48', 'gen_margin_up_49', 'gen_margin_up_50', 'gen_margin_up_51', 'gen_margin_up_52', 'gen_margin_up_53', 'gen_margin_up_54', 'gen_margin_up_55', 'gen_margin_up_56', 'gen_margin_up_57', 'gen_margin_up_58', 'gen_margin_up_59', 'gen_margin_up_60', 'gen_margin_up_61', 'gen_margin_down_0', 'gen_margin_down_1', 'gen_margin_down_2', 'gen_margin_down_3', 'gen_margin_down_4', 'gen_margin_down_5', 'gen_margin_down_6', 'gen_margin_down_7', 'gen_margin_down_8', 'gen_margin_down_9', 'gen_margin_down_10', 'gen_margin_down_11', 'gen_margin_down_12', 'gen_margin_down_13', 'gen_margin_down_14', 'gen_margin_down_15', 'gen_margin_down_16', 'gen_margin_down_17', 'gen_margin_down_18', 'gen_margin_down_19', 'gen_margin_down_20', 'gen_margin_down_21', 'gen_margin_down_22', 'gen_margin_down_23', 'gen_margin_down_24', 'gen_margin_down_25', 'gen_margin_down_26', 'gen_margin_down_27', 'gen_margin_down_28', 'gen_margin_down_29', 'gen_margin_down_30', 'gen_margin_down_31', 'gen_margin_down_32', 'gen_margin_down_33', 'gen_margin_down_34', 'gen_margin_down_35', 'gen_margin_down_36', 'gen_margin_down_37', 'gen_margin_down_38', 'gen_margin_down_39', 'gen_margin_down_40', 'gen_margin_down_41', 'gen_margin_down_42', 'gen_margin_down_43', 'gen_margin_down_44', 'gen_margin_down_45', 'gen_margin_down_46', 'gen_margin_down_47', 'gen_margin_down_48', 'gen_margin_down_49', 'gen_margin_down_50', 'gen_margin_down_51', 'gen_margin_down_52', 'gen_margin_down_53', 'gen_margin_down_54', 'gen_margin_down_55', 'gen_margin_down_56', 'gen_margin_down_57', 'gen_margin_down_58', 'gen_margin_down_59', 'gen_margin_down_60', 'gen_margin_down_61']\n",
      "['topo_vect_0', 'topo_vect_1', 'topo_vect_2', 'topo_vect_3', 'topo_vect_4', 'topo_vect_5', 'topo_vect_6', 'topo_vect_7', 'topo_vect_8', 'topo_vect_9', 'topo_vect_10', 'topo_vect_11', 'topo_vect_12', 'topo_vect_13', 'topo_vect_14', 'topo_vect_15', 'topo_vect_16', 'topo_vect_17', 'topo_vect_18', 'topo_vect_19', 'topo_vect_20', 'topo_vect_21', 'topo_vect_22', 'topo_vect_23', 'topo_vect_24', 'topo_vect_25', 'topo_vect_26', 'topo_vect_27', 'topo_vect_28', 'topo_vect_29', 'topo_vect_30', 'topo_vect_31', 'topo_vect_32', 'topo_vect_33', 'topo_vect_34', 'topo_vect_35', 'topo_vect_36', 'topo_vect_37', 'topo_vect_38', 'topo_vect_39', 'topo_vect_40', 'topo_vect_41', 'topo_vect_42', 'topo_vect_43', 'topo_vect_44', 'topo_vect_45', 'topo_vect_46', 'topo_vect_47', 'topo_vect_48', 'topo_vect_49', 'topo_vect_50', 'topo_vect_51', 'topo_vect_52', 'topo_vect_53', 'topo_vect_54', 'topo_vect_55', 'topo_vect_56', 'topo_vect_57', 'topo_vect_58', 'topo_vect_59', 'topo_vect_60', 'topo_vect_61', 'topo_vect_62', 'topo_vect_63', 'topo_vect_64', 'topo_vect_65', 'topo_vect_66', 'topo_vect_67', 'topo_vect_68', 'topo_vect_69', 'topo_vect_70', 'topo_vect_71', 'topo_vect_72', 'topo_vect_73', 'topo_vect_74', 'topo_vect_75', 'topo_vect_76', 'topo_vect_77', 'topo_vect_78', 'topo_vect_79', 'topo_vect_80', 'topo_vect_81', 'topo_vect_82', 'topo_vect_83', 'topo_vect_84', 'topo_vect_85', 'topo_vect_86', 'topo_vect_87', 'topo_vect_88', 'topo_vect_89', 'topo_vect_90', 'topo_vect_91', 'topo_vect_92', 'topo_vect_93', 'topo_vect_94', 'topo_vect_95', 'topo_vect_96', 'topo_vect_97', 'topo_vect_98', 'topo_vect_99', 'topo_vect_100', 'topo_vect_101', 'topo_vect_102', 'topo_vect_103', 'topo_vect_104', 'topo_vect_105', 'topo_vect_106', 'topo_vect_107', 'topo_vect_108', 'topo_vect_109', 'topo_vect_110', 'topo_vect_111', 'topo_vect_112', 'topo_vect_113', 'topo_vect_114', 'topo_vect_115', 'topo_vect_116', 'topo_vect_117', 'topo_vect_118', 'topo_vect_119', 'topo_vect_120', 'topo_vect_121', 'topo_vect_122', 'topo_vect_123', 'topo_vect_124', 'topo_vect_125', 'topo_vect_126', 'topo_vect_127', 'topo_vect_128', 'topo_vect_129', 'topo_vect_130', 'topo_vect_131', 'topo_vect_132', 'topo_vect_133', 'topo_vect_134', 'topo_vect_135', 'topo_vect_136', 'topo_vect_137', 'topo_vect_138', 'topo_vect_139', 'topo_vect_140', 'topo_vect_141', 'topo_vect_142', 'topo_vect_143', 'topo_vect_144', 'topo_vect_145', 'topo_vect_146', 'topo_vect_147', 'topo_vect_148', 'topo_vect_149', 'topo_vect_150', 'topo_vect_151', 'topo_vect_152', 'topo_vect_153', 'topo_vect_154', 'topo_vect_155', 'topo_vect_156', 'topo_vect_157', 'topo_vect_158', 'topo_vect_159', 'topo_vect_160', 'topo_vect_161', 'topo_vect_162', 'topo_vect_163', 'topo_vect_164', 'topo_vect_165', 'topo_vect_166', 'topo_vect_167', 'topo_vect_168', 'topo_vect_169', 'topo_vect_170', 'topo_vect_171', 'topo_vect_172', 'topo_vect_173', 'topo_vect_174', 'topo_vect_175', 'topo_vect_176', 'topo_vect_177', 'topo_vect_178', 'topo_vect_179', 'topo_vect_180', 'topo_vect_181', 'topo_vect_182', 'topo_vect_183', 'topo_vect_184', 'topo_vect_185', 'topo_vect_186', 'topo_vect_187', 'topo_vect_188', 'topo_vect_189', 'topo_vect_190', 'topo_vect_191', 'topo_vect_192', 'topo_vect_193', 'topo_vect_194', 'topo_vect_195', 'topo_vect_196', 'topo_vect_197', 'topo_vect_198', 'topo_vect_199', 'topo_vect_200', 'topo_vect_201', 'topo_vect_202', 'topo_vect_203', 'topo_vect_204', 'topo_vect_205', 'topo_vect_206', 'topo_vect_207', 'topo_vect_208', 'topo_vect_209', 'topo_vect_210', 'topo_vect_211', 'topo_vect_212', 'topo_vect_213', 'topo_vect_214', 'topo_vect_215', 'topo_vect_216', 'topo_vect_217', 'topo_vect_218', 'topo_vect_219', 'topo_vect_220', 'topo_vect_221', 'topo_vect_222', 'topo_vect_223', 'topo_vect_224', 'topo_vect_225', 'topo_vect_226', 'topo_vect_227', 'topo_vect_228', 'topo_vect_229', 'topo_vect_230', 'topo_vect_231', 'topo_vect_232', 'topo_vect_233', 'topo_vect_234', 'topo_vect_235', 'topo_vect_236', 'topo_vect_237', 'topo_vect_238', 'topo_vect_239', 'topo_vect_240', 'topo_vect_241', 'topo_vect_242', 'topo_vect_243', 'topo_vect_244', 'topo_vect_245', 'topo_vect_246', 'topo_vect_247', 'topo_vect_248', 'topo_vect_249', 'topo_vect_250', 'topo_vect_251', 'topo_vect_252', 'topo_vect_253', 'topo_vect_254', 'topo_vect_255', 'topo_vect_256', 'topo_vect_257', 'topo_vect_258', 'topo_vect_259', 'topo_vect_260', 'topo_vect_261', 'topo_vect_262', 'topo_vect_263', 'topo_vect_264', 'topo_vect_265', 'topo_vect_266', 'topo_vect_267', 'topo_vect_268', 'topo_vect_269', 'topo_vect_270', 'topo_vect_271', 'topo_vect_272', 'topo_vect_273', 'topo_vect_274', 'topo_vect_275', 'topo_vect_276', 'topo_vect_277', 'topo_vect_278', 'topo_vect_279', 'topo_vect_280', 'topo_vect_281', 'topo_vect_282', 'topo_vect_283', 'topo_vect_284', 'topo_vect_285', 'topo_vect_286', 'topo_vect_287', 'topo_vect_288', 'topo_vect_289', 'topo_vect_290', 'topo_vect_291', 'topo_vect_292', 'topo_vect_293', 'topo_vect_294', 'topo_vect_295', 'topo_vect_296', 'topo_vect_297', 'topo_vect_298', 'topo_vect_299', 'topo_vect_300', 'topo_vect_301', 'topo_vect_302', 'topo_vect_303', 'topo_vect_304', 'topo_vect_305', 'topo_vect_306', 'topo_vect_307', 'topo_vect_308', 'topo_vect_309', 'topo_vect_310', 'topo_vect_311', 'topo_vect_312', 'topo_vect_313', 'topo_vect_314', 'topo_vect_315', 'topo_vect_316', 'topo_vect_317', 'topo_vect_318', 'topo_vect_319', 'topo_vect_320', 'topo_vect_321', 'topo_vect_322', 'topo_vect_323', 'topo_vect_324', 'topo_vect_325', 'topo_vect_326', 'topo_vect_327', 'topo_vect_328', 'topo_vect_329', 'topo_vect_330', 'topo_vect_331', 'topo_vect_332', 'topo_vect_333', 'topo_vect_334', 'topo_vect_335', 'topo_vect_336', 'topo_vect_337', 'topo_vect_338', 'topo_vect_339', 'topo_vect_340', 'topo_vect_341', 'topo_vect_342', 'topo_vect_343', 'topo_vect_344', 'topo_vect_345', 'topo_vect_346', 'topo_vect_347', 'topo_vect_348', 'topo_vect_349', 'topo_vect_350', 'topo_vect_351', 'topo_vect_352', 'topo_vect_353', 'topo_vect_354', 'topo_vect_355', 'topo_vect_356', 'topo_vect_357', 'topo_vect_358', 'topo_vect_359', 'topo_vect_360', 'topo_vect_361', 'topo_vect_362', 'topo_vect_363', 'topo_vect_364', 'topo_vect_365', 'topo_vect_366', 'topo_vect_367', 'topo_vect_368', 'topo_vect_369', 'topo_vect_370', 'topo_vect_371', 'topo_vect_372', 'topo_vect_373', 'topo_vect_374', 'topo_vect_375', 'topo_vect_376', 'topo_vect_377', 'topo_vect_378', 'topo_vect_379', 'topo_vect_380', 'topo_vect_381', 'topo_vect_382', 'topo_vect_383', 'topo_vect_384', 'topo_vect_385', 'topo_vect_386', 'topo_vect_387', 'topo_vect_388', 'topo_vect_389', 'topo_vect_390', 'topo_vect_391', 'topo_vect_392', 'topo_vect_393', 'topo_vect_394', 'topo_vect_395', 'topo_vect_396', 'topo_vect_397', 'topo_vect_398', 'topo_vect_399', 'topo_vect_400', 'topo_vect_401', 'topo_vect_402', 'topo_vect_403', 'topo_vect_404', 'topo_vect_405', 'topo_vect_406', 'topo_vect_407', 'topo_vect_408', 'topo_vect_409', 'topo_vect_410', 'topo_vect_411', 'topo_vect_412', 'topo_vect_413', 'topo_vect_414', 'topo_vect_415', 'topo_vect_416', 'topo_vect_417', 'topo_vect_418', 'topo_vect_419', 'topo_vect_420', 'topo_vect_421', 'topo_vect_422', 'topo_vect_423', 'topo_vect_424', 'topo_vect_425', 'topo_vect_426', 'topo_vect_427', 'topo_vect_428', 'topo_vect_429', 'topo_vect_430', 'topo_vect_431', 'topo_vect_432', 'topo_vect_433', 'topo_vect_434', 'topo_vect_435', 'topo_vect_436', 'topo_vect_437', 'topo_vect_438', 'topo_vect_439', 'topo_vect_440', 'topo_vect_441', 'topo_vect_442', 'topo_vect_443', 'topo_vect_444', 'topo_vect_445', 'topo_vect_446', 'topo_vect_447', 'topo_vect_448', 'topo_vect_449', 'topo_vect_450', 'topo_vect_451', 'topo_vect_452', 'topo_vect_453', 'topo_vect_454', 'topo_vect_455', 'topo_vect_456', 'topo_vect_457', 'topo_vect_458', 'topo_vect_459', 'topo_vect_460', 'topo_vect_461', 'topo_vect_462', 'topo_vect_463', 'topo_vect_464', 'topo_vect_465', 'topo_vect_466', 'topo_vect_467', 'topo_vect_468', 'topo_vect_469', 'topo_vect_470', 'topo_vect_471', 'topo_vect_472', 'topo_vect_473', 'topo_vect_474', 'topo_vect_475', 'topo_vect_476', 'topo_vect_477', 'topo_vect_478', 'topo_vect_479', 'topo_vect_480', 'topo_vect_481', 'topo_vect_482', 'topo_vect_483', 'topo_vect_484', 'topo_vect_485', 'topo_vect_486', 'topo_vect_487', 'topo_vect_488', 'topo_vect_489', 'topo_vect_490', 'topo_vect_491', 'topo_vect_492', 'topo_vect_493', 'topo_vect_494', 'topo_vect_495', 'topo_vect_496', 'topo_vect_497', 'topo_vect_498', 'topo_vect_499', 'topo_vect_500', 'topo_vect_501', 'topo_vect_502', 'topo_vect_503', 'topo_vect_504', 'topo_vect_505', 'topo_vect_506', 'topo_vect_507', 'topo_vect_508', 'topo_vect_509', 'topo_vect_510', 'topo_vect_511', 'topo_vect_512', 'topo_vect_513', 'topo_vect_514', 'topo_vect_515', 'topo_vect_516', 'topo_vect_517', 'topo_vect_518', 'topo_vect_519', 'topo_vect_520', 'topo_vect_521', 'topo_vect_522', 'topo_vect_523', 'topo_vect_524', 'topo_vect_525', 'topo_vect_526', 'topo_vect_527', 'topo_vect_528', 'topo_vect_529', 'topo_vect_530', 'topo_vect_531']\n"
     ]
    }
   ],
   "execution_count": 15
  },
  {
   "cell_type": "markdown",
   "id": "7787ba61d27a01cb",
   "metadata": {},
   "source": [
    "#### Read the data"
   ]
  },
  {
   "cell_type": "code",
   "id": "b88f52c6d6c98ecf",
   "metadata": {
    "ExecuteTime": {
     "end_time": "2024-05-27T11:08:21.836758Z",
     "start_time": "2024-05-27T11:08:02.850563Z"
    }
   },
   "source": [
    "# read_dataset\n",
    "my_df = np.load(\"/share/data1/GYM/full_obs_data.npz\")\n",
    "topo_ag_data=my_df[\"topo\"]\n",
    "dn_ag_data=my_df[\"dn\"]\n",
    "senior_ag_data=my_df[\"senior\"]\n",
    "print(topo_ag_data.shape, len(topo_ag_data))"
   ],
   "outputs": [
    {
     "name": "stdout",
     "output_type": "stream",
     "text": [
      "(55772, 4296) 55772\n"
     ]
    }
   ],
   "execution_count": 16
  },
  {
   "metadata": {
    "ExecuteTime": {
     "end_time": "2024-05-27T11:08:22.491297Z",
     "start_time": "2024-05-27T11:08:21.839066Z"
    }
   },
   "cell_type": "code",
   "source": [
    "topo_ag_df = pd.DataFrame(topo_ag_data, columns=dataset_colnames)\n",
    "for col in categorical_names:\n",
    "    topo_ag_df[col] = topo_ag_df[col].astype(int)\n",
    "topo_ag_df[\"target\"] = topo_ag_df[\"target\"].astype(int)"
   ],
   "id": "4c237d8fb009b006",
   "outputs": [],
   "execution_count": 17
  },
  {
   "metadata": {
    "ExecuteTime": {
     "end_time": "2024-05-27T11:08:23.057313Z",
     "start_time": "2024-05-27T11:08:22.493403Z"
    }
   },
   "cell_type": "code",
   "source": [
    "dn_ag_df = pd.DataFrame(dn_ag_data, columns=dataset_colnames)\n",
    "for col in categorical_names:\n",
    "    dn_ag_df[col] = dn_ag_df[col].astype(int)\n",
    "dn_ag_df[\"target\"] = dn_ag_df[\"target\"].astype(int)"
   ],
   "id": "aad48639e718920e",
   "outputs": [],
   "execution_count": 18
  },
  {
   "metadata": {
    "ExecuteTime": {
     "end_time": "2024-05-27T11:08:23.529537Z",
     "start_time": "2024-05-27T11:08:23.060895Z"
    }
   },
   "cell_type": "code",
   "source": [
    "senior_ag_df = pd.DataFrame(senior_ag_data, columns=dataset_colnames)\n",
    "for col in categorical_names:\n",
    "    senior_ag_df[col] = senior_ag_df[col].astype(int)\n",
    "senior_ag_df[\"target\"] = senior_ag_df[\"target\"].astype(int)"
   ],
   "id": "b38edab08953811",
   "outputs": [],
   "execution_count": 19
  },
  {
   "metadata": {
    "ExecuteTime": {
     "end_time": "2024-05-27T11:08:27.468570Z",
     "start_time": "2024-05-27T11:08:23.531410Z"
    }
   },
   "cell_type": "code",
   "source": [
    "all_data = pd.DataFrame(np.concatenate([dn_ag_data,topo_ag_data,senior_ag_data]), columns=dataset_colnames)\n",
    "for col in categorical_names:\n",
    "    all_data[col] = all_data[col].astype(int)\n",
    "all_data[\"target\"] = all_data[\"target\"].astype(int)\n"
   ],
   "id": "f9448cdadcbbb8d6",
   "outputs": [],
   "execution_count": 20
  },
  {
   "cell_type": "code",
   "id": "4084d773-519a-4e46-85d5-cc1d535023bf",
   "metadata": {
    "ExecuteTime": {
     "end_time": "2024-05-27T11:08:27.475612Z",
     "start_time": "2024-05-27T11:08:27.470645Z"
    }
   },
   "source": [
    "topo_ag_data.shape"
   ],
   "outputs": [
    {
     "data": {
      "text/plain": [
       "(55772, 4296)"
      ]
     },
     "execution_count": 21,
     "metadata": {},
     "output_type": "execute_result"
    }
   ],
   "execution_count": 21
  },
  {
   "cell_type": "markdown",
   "id": "84e0836b145babd7",
   "metadata": {},
   "source": "### Classification multiclass"
  },
  {
   "cell_type": "code",
   "id": "78d39a83f68e484",
   "metadata": {
    "ExecuteTime": {
     "end_time": "2024-05-27T11:08:27.494360Z",
     "start_time": "2024-05-27T11:08:27.477262Z"
    }
   },
   "source": [
    "print(topo_ag_df.shape, topo_ag_df.shape)\n",
    "print(topo_ag_df.head())"
   ],
   "outputs": [
    {
     "name": "stdout",
     "output_type": "stream",
     "text": [
      "(55772, 4296) (55772, 4296)\n",
      "   year_0  month_0  day_0  hour_of_day_0  minute_of_hour_0  day_of_week_0  \\\n",
      "0  2050.0      1.0    3.0            0.0               0.0            0.0   \n",
      "1  2050.0      1.0    3.0            0.0               0.0            0.0   \n",
      "2  2050.0      1.0    3.0            0.0               0.0            0.0   \n",
      "3  2050.0      1.0    3.0            0.0               0.0            0.0   \n",
      "4  2050.0      1.0    3.0            0.0               0.0            0.0   \n",
      "\n",
      "      gen_p_0     gen_p_1     gen_p_2    gen_p_3  ...  gen_margin_down_53  \\\n",
      "0   21.900000   26.900000  360.000000  50.000000  ...                11.2   \n",
      "1   30.900000   31.500000  359.100006  27.400000  ...                11.2   \n",
      "2   42.500000   47.299999  353.899994  56.099998  ...                11.2   \n",
      "3   88.300003   88.900002  359.899994  81.400002  ...                11.2   \n",
      "4  105.199997  102.900002  359.899994  90.599998  ...                11.2   \n",
      "\n",
      "   gen_margin_down_54  gen_margin_down_55  gen_margin_down_56  \\\n",
      "0                 0.0                 5.3                 0.0   \n",
      "1                 0.0                 5.3                 0.0   \n",
      "2                 0.0                 5.3                 0.0   \n",
      "3                 0.0                 5.3                 0.0   \n",
      "4                 0.0                 5.3                 0.0   \n",
      "\n",
      "   gen_margin_down_57  gen_margin_down_58  gen_margin_down_59  \\\n",
      "0                 0.0                 5.3                 0.0   \n",
      "1                 0.0                 5.3                 0.0   \n",
      "2                 0.0                 5.3                 0.0   \n",
      "3                 0.0                 5.3                 0.0   \n",
      "4                 0.0                 5.3                 0.0   \n",
      "\n",
      "   gen_margin_down_60  gen_margin_down_61  target  \n",
      "0                 0.0                 0.0       0  \n",
      "1                 5.7                 0.0       0  \n",
      "2                 0.0                 0.0       0  \n",
      "3                 5.4                 0.0       0  \n",
      "4                 0.0                 0.0       0  \n",
      "\n",
      "[5 rows x 4296 columns]\n"
     ]
    }
   ],
   "execution_count": 22
  },
  {
   "cell_type": "code",
   "id": "c29f5b9c-373f-4f7e-846d-ea71bd89d443",
   "metadata": {
    "ExecuteTime": {
     "end_time": "2024-05-27T11:08:27.498616Z",
     "start_time": "2024-05-27T11:08:27.496016Z"
    }
   },
   "source": "",
   "outputs": [],
   "execution_count": 22
  },
  {
   "cell_type": "code",
   "id": "175775ae8ae75139",
   "metadata": {
    "ExecuteTime": {
     "end_time": "2024-05-27T11:08:27.502763Z",
     "start_time": "2024-05-27T11:08:27.500016Z"
    }
   },
   "source": [
    "#from pytorch_tabular.utils import load_covertype_dataset\n",
    "#data, _, _, _ = load_covertype_dataset()"
   ],
   "outputs": [],
   "execution_count": 23
  },
  {
   "cell_type": "markdown",
   "id": "e05f4e3435076dce",
   "metadata": {},
   "source": [
    "#### Split the data"
   ]
  },
  {
   "cell_type": "code",
   "id": "e5b973b8fc2805f2",
   "metadata": {
    "ExecuteTime": {
     "end_time": "2024-05-27T11:08:41.803320Z",
     "start_time": "2024-05-27T11:08:27.504577Z"
    }
   },
   "source": [
    "# Split the data\n",
    "tr_val, test = train_test_split(all_data, random_state=42, test_size=0.1, shuffle=True, stratify=all_data[\"target\"])\n",
    "train, val = train_test_split(tr_val, random_state=42, test_size=0.1, shuffle=True, stratify=tr_val[\"target\"])"
   ],
   "outputs": [],
   "execution_count": 24
  },
  {
   "cell_type": "code",
   "id": "e0299ef3-d599-4585-86e4-bdf9a29ee998",
   "metadata": {
    "ExecuteTime": {
     "end_time": "2024-05-27T11:08:41.850494Z",
     "start_time": "2024-05-27T11:08:41.805204Z"
    }
   },
   "source": [
    "print(train.shape, val.shape, test.shape)\n",
    "\n",
    "print(train.head)"
   ],
   "outputs": [
    {
     "name": "stdout",
     "output_type": "stream",
     "text": [
      "(128788, 4296) (22728, 4296) (37879, 4296)\n",
      "<bound method NDFrame.head of         year_0  month_0  day_0  hour_of_day_0  minute_of_hour_0  \\\n",
      "81784   2050.0      2.0   14.0            2.0              35.0   \n",
      "3875    2050.0      2.0   28.0            2.0              20.0   \n",
      "138050  2050.0      2.0    8.0           20.0               0.0   \n",
      "173175  2050.0      9.0    5.0           14.0              30.0   \n",
      "131203  2050.0      1.0    5.0           10.0              55.0   \n",
      "...        ...      ...    ...            ...               ...   \n",
      "15349   2050.0      4.0   25.0           11.0              30.0   \n",
      "8644    2050.0      4.0    4.0            4.0              10.0   \n",
      "158786  2050.0      5.0   30.0           10.0               5.0   \n",
      "30950   2050.0      6.0   23.0           19.0              15.0   \n",
      "45456   2050.0      8.0   16.0           17.0              50.0   \n",
      "\n",
      "        day_of_week_0     gen_p_0    gen_p_1     gen_p_2    gen_p_3  ...  \\\n",
      "81784             0.0   50.500000  48.900002  360.000000  39.000000  ...   \n",
      "3875              0.0  106.300003  91.900002  360.000000  49.000000  ...   \n",
      "138050            1.0   79.500000  69.400002  359.700012  38.099998  ...   \n",
      "173175            0.0   24.000000  25.100000  126.400002  32.200001  ...   \n",
      "131203            2.0   63.700001  61.799999  359.899994  47.599998  ...   \n",
      "...               ...         ...        ...         ...        ...  ...   \n",
      "15349             0.0   38.900002  40.299999  359.899994  39.700001  ...   \n",
      "8644              0.0   44.200001  43.500000  360.000000  43.299999  ...   \n",
      "158786            0.0   59.099998  55.700001  129.199997  40.400002  ...   \n",
      "30950             3.0   67.199997  59.900002  359.700012  31.700001  ...   \n",
      "45456             1.0    9.000000  10.800000  208.899994  21.600000  ...   \n",
      "\n",
      "        gen_margin_down_53  gen_margin_down_54  gen_margin_down_55  \\\n",
      "81784                 11.2                 0.0                 5.3   \n",
      "3875                  11.2                 0.0                 5.3   \n",
      "138050                11.2                 0.0                 5.3   \n",
      "173175                 0.0                 0.0                 0.0   \n",
      "131203                11.2                 0.0                 5.3   \n",
      "...                    ...                 ...                 ...   \n",
      "15349                 11.2                 0.0                 5.3   \n",
      "8644                  11.2                 0.0                 5.3   \n",
      "158786                 0.5                 0.0                 5.3   \n",
      "30950                 11.2                 0.0                 5.3   \n",
      "45456                 11.2                 0.0                 5.3   \n",
      "\n",
      "        gen_margin_down_56  gen_margin_down_57  gen_margin_down_58  \\\n",
      "81784                  0.0                 0.0                 3.0   \n",
      "3875                   0.0                 0.0                 0.0   \n",
      "138050                 0.0                 0.0                 5.3   \n",
      "173175                 0.0                 0.0                 0.0   \n",
      "131203                 0.0                 0.0                 5.3   \n",
      "...                    ...                 ...                 ...   \n",
      "15349                  0.0                 0.0                 0.0   \n",
      "8644                   0.0                 0.0                 0.0   \n",
      "158786                 0.0                 0.0                 0.0   \n",
      "30950                  0.0                 0.0                 0.0   \n",
      "45456                  0.0                 0.0                 5.3   \n",
      "\n",
      "        gen_margin_down_59  gen_margin_down_60  gen_margin_down_61  target  \n",
      "81784                  0.0                 0.0                 0.0       1  \n",
      "3875                   0.0                 0.0                 0.0       1  \n",
      "138050                 0.0                 5.7                 0.0       3  \n",
      "173175                 0.0                 0.0                 0.0       0  \n",
      "131203                 0.0                 0.0                 0.0       0  \n",
      "...                    ...                 ...                 ...     ...  \n",
      "15349                  0.0                 0.0                 0.0       1  \n",
      "8644                   0.0                 0.0                 0.0       0  \n",
      "158786                 0.0                 0.0                 0.0       0  \n",
      "30950                  0.0                 0.0                 0.0       1  \n",
      "45456                  0.0                 0.0                 0.0       3  \n",
      "\n",
      "[128788 rows x 4296 columns]>\n"
     ]
    }
   ],
   "execution_count": 25
  },
  {
   "cell_type": "code",
   "id": "5d2f585b52bf4a6b",
   "metadata": {
    "ExecuteTime": {
     "end_time": "2024-05-27T11:08:41.859631Z",
     "start_time": "2024-05-27T11:08:41.852226Z"
    }
   },
   "source": [
    "data_config = DataConfig(\n",
    "    target=[\n",
    "        \"target\"\n",
    "    ], \n",
    "    continuous_cols=dataset_colnames.tolist()[:-1],\n",
    "    categorical_cols=[],# target should always be a list. Multi-targets are only supported for regression. Multi-Task Classification is not implemented\n",
    ")\n",
    "trainer_config = TrainerConfig(\n",
    "    devices = -1,\n",
    "    batch_size=1024,\n",
    "    max_epochs=150,\n",
    "    min_epochs=50,\n",
    "    early_stopping='valid_loss',\n",
    "    early_stopping_patience=10,\n",
    "    early_stopping_mode='min'\n",
    ")\n",
    "\n",
    "optimizer_config = OptimizerConfig(\n",
    "    optimizer=\"Adamax\",\n",
    "    lr_scheduler=\"ReduceLROnPlateau\",\n",
    "    lr_scheduler_params={\"mode\": \"min\", \"patience\": 5, \"factor\": 0.5}\n",
    ")\n",
    "experiment_config = ExperimentConfig(project_name=\"GANDALF Multiclass\", run_name=\"run\", log_target=\"wandb\")\n",
    "model_config = GANDALFConfig(\n",
    "    task=\"classification\",\n",
    "    gflu_stages=6,\n",
    "    gflu_feature_init_sparsity=0.5,\n",
    "    gflu_dropout=0.05,\n",
    "    learning_rate=1e-5,\n",
    ")\n",
    "\n",
    "\n",
    "\"\"\"model_config = CategoryEmbeddingModelConfig(\n",
    "    task=\"classification\",\n",
    "    layers=\"1000-1000-1000-128\",\n",
    "    use_batch_norm=True,\n",
    "    dropout=0.2,\n",
    "\"\"\""
   ],
   "outputs": [
    {
     "data": {
      "text/plain": [
       "'model_config = CategoryEmbeddingModelConfig(\\n    task=\"classification\",\\n    layers=\"1000-1000-1000-128\",\\n    use_batch_norm=True,\\n    dropout=0.2,\\n'"
      ]
     },
     "execution_count": 26,
     "metadata": {},
     "output_type": "execute_result"
    }
   ],
   "execution_count": 26
  },
  {
   "cell_type": "code",
   "id": "2499536d15c14598",
   "metadata": {
    "ExecuteTime": {
     "end_time": "2024-05-27T11:08:42.799684Z",
     "start_time": "2024-05-27T11:08:41.861230Z"
    }
   },
   "source": [
    "torch.cuda.empty_cache()\n",
    "tabular_model = TabularModel(\n",
    "    data_config=data_config,\n",
    "    model_config=model_config,\n",
    "    experiment_config=experiment_config,\n",
    "    optimizer_config=optimizer_config,\n",
    "    trainer_config=trainer_config,\n",
    "    verbose=True\n",
    ")"
   ],
   "outputs": [],
   "execution_count": 27
  },
  {
   "cell_type": "code",
   "id": "a3ee854554b5b2a6",
   "metadata": {
    "ExecuteTime": {
     "end_time": "2024-05-27T11:32:13.442393Z",
     "start_time": "2024-05-27T11:08:42.801378Z"
    }
   },
   "source": [
    "model = tabular_model.fit(train=train, validation=val)"
   ],
   "outputs": [
    {
     "name": "stderr",
     "output_type": "stream",
     "text": [
      "Seed set to 42\n"
     ]
    },
    {
     "data": {
      "text/plain": [
       "\u001B[1;36m2024\u001B[0m-\u001B[1;36m05\u001B[0m-\u001B[1;36m27\u001B[0m \u001B[1;92m13:08:42\u001B[0m,\u001B[1;36m807\u001B[0m - \u001B[1m{\u001B[0mpytorch_tabular.tabular_model:\u001B[1;36m524\u001B[0m\u001B[1m}\u001B[0m - INFO - Preparing the DataLoaders                   \n"
      ],
      "text/html": [
       "<pre style=\"white-space:pre;overflow-x:auto;line-height:normal;font-family:Menlo,'DejaVu Sans Mono',consolas,'Courier New',monospace\"><span style=\"color: #008080; text-decoration-color: #008080; font-weight: bold\">2024</span>-<span style=\"color: #008080; text-decoration-color: #008080; font-weight: bold\">05</span>-<span style=\"color: #008080; text-decoration-color: #008080; font-weight: bold\">27</span> <span style=\"color: #00ff00; text-decoration-color: #00ff00; font-weight: bold\">13:08:42</span>,<span style=\"color: #008080; text-decoration-color: #008080; font-weight: bold\">807</span> - <span style=\"font-weight: bold\">{</span>pytorch_tabular.tabular_model:<span style=\"color: #008080; text-decoration-color: #008080; font-weight: bold\">524</span><span style=\"font-weight: bold\">}</span> - INFO - Preparing the DataLoaders                   \n",
       "</pre>\n"
      ]
     },
     "metadata": {},
     "output_type": "display_data"
    },
    {
     "data": {
      "text/plain": [
       "\u001B[1;36m2024\u001B[0m-\u001B[1;36m05\u001B[0m-\u001B[1;36m27\u001B[0m \u001B[1;92m13:08:54\u001B[0m,\u001B[1;36m480\u001B[0m - \u001B[1m{\u001B[0mpytorch_tabular.tabular_datamodul\u001B[1;92me:499\u001B[0m\u001B[1m}\u001B[0m - INFO - Setting up the datamodule for          \n",
       "classification task                                                                                                \n"
      ],
      "text/html": [
       "<pre style=\"white-space:pre;overflow-x:auto;line-height:normal;font-family:Menlo,'DejaVu Sans Mono',consolas,'Courier New',monospace\"><span style=\"color: #008080; text-decoration-color: #008080; font-weight: bold\">2024</span>-<span style=\"color: #008080; text-decoration-color: #008080; font-weight: bold\">05</span>-<span style=\"color: #008080; text-decoration-color: #008080; font-weight: bold\">27</span> <span style=\"color: #00ff00; text-decoration-color: #00ff00; font-weight: bold\">13:08:54</span>,<span style=\"color: #008080; text-decoration-color: #008080; font-weight: bold\">480</span> - <span style=\"font-weight: bold\">{</span>pytorch_tabular.tabular_datamodul<span style=\"color: #00ff00; text-decoration-color: #00ff00; font-weight: bold\">e:499</span><span style=\"font-weight: bold\">}</span> - INFO - Setting up the datamodule for          \n",
       "classification task                                                                                                \n",
       "</pre>\n"
      ]
     },
     "metadata": {},
     "output_type": "display_data"
    },
    {
     "data": {
      "text/plain": [
       "\u001B[1;36m2024\u001B[0m-\u001B[1;36m05\u001B[0m-\u001B[1;36m27\u001B[0m \u001B[1;92m13:09:31\u001B[0m,\u001B[1;36m245\u001B[0m - \u001B[1m{\u001B[0mpytorch_tabular.tabular_model:\u001B[1;36m574\u001B[0m\u001B[1m}\u001B[0m - INFO - Preparing the Model: GANDALFModel           \n"
      ],
      "text/html": [
       "<pre style=\"white-space:pre;overflow-x:auto;line-height:normal;font-family:Menlo,'DejaVu Sans Mono',consolas,'Courier New',monospace\"><span style=\"color: #008080; text-decoration-color: #008080; font-weight: bold\">2024</span>-<span style=\"color: #008080; text-decoration-color: #008080; font-weight: bold\">05</span>-<span style=\"color: #008080; text-decoration-color: #008080; font-weight: bold\">27</span> <span style=\"color: #00ff00; text-decoration-color: #00ff00; font-weight: bold\">13:09:31</span>,<span style=\"color: #008080; text-decoration-color: #008080; font-weight: bold\">245</span> - <span style=\"font-weight: bold\">{</span>pytorch_tabular.tabular_model:<span style=\"color: #008080; text-decoration-color: #008080; font-weight: bold\">574</span><span style=\"font-weight: bold\">}</span> - INFO - Preparing the Model: GANDALFModel           \n",
       "</pre>\n"
      ]
     },
     "metadata": {},
     "output_type": "display_data"
    },
    {
     "data": {
      "text/plain": [
       "<IPython.core.display.HTML object>"
      ],
      "text/html": [
       "wandb version 0.17.0 is available!  To upgrade, please run:\n",
       " $ pip install wandb --upgrade"
      ]
     },
     "metadata": {},
     "output_type": "display_data"
    },
    {
     "data": {
      "text/plain": [
       "<IPython.core.display.HTML object>"
      ],
      "text/html": [
       "Tracking run with wandb version 0.16.6"
      ]
     },
     "metadata": {},
     "output_type": "display_data"
    },
    {
     "data": {
      "text/plain": [
       "<IPython.core.display.HTML object>"
      ],
      "text/html": [
       "Run data is saved locally in <code>./wandb/run-20240527_130932-y4l9v6nt</code>"
      ]
     },
     "metadata": {},
     "output_type": "display_data"
    },
    {
     "data": {
      "text/plain": [
       "<IPython.core.display.HTML object>"
      ],
      "text/html": [
       "Syncing run <strong><a href='https://wandb.ai/degt/GANDALF%20Multiclass/runs/y4l9v6nt' target=\"_blank\">run_25</a></strong> to <a href='https://wandb.ai/degt/GANDALF%20Multiclass' target=\"_blank\">Weights & Biases</a> (<a href='https://wandb.me/run' target=\"_blank\">docs</a>)<br/>"
      ]
     },
     "metadata": {},
     "output_type": "display_data"
    },
    {
     "data": {
      "text/plain": [
       "<IPython.core.display.HTML object>"
      ],
      "text/html": [
       " View project at <a href='https://wandb.ai/degt/GANDALF%20Multiclass' target=\"_blank\">https://wandb.ai/degt/GANDALF%20Multiclass</a>"
      ]
     },
     "metadata": {},
     "output_type": "display_data"
    },
    {
     "data": {
      "text/plain": [
       "<IPython.core.display.HTML object>"
      ],
      "text/html": [
       " View run at <a href='https://wandb.ai/degt/GANDALF%20Multiclass/runs/y4l9v6nt' target=\"_blank\">https://wandb.ai/degt/GANDALF%20Multiclass/runs/y4l9v6nt</a>"
      ]
     },
     "metadata": {},
     "output_type": "display_data"
    },
    {
     "name": "stderr",
     "output_type": "stream",
     "text": [
      "\u001B[34m\u001B[1mwandb\u001B[0m: logging graph, to disable use `wandb.watch(log_graph=False)`\n"
     ]
    },
    {
     "data": {
      "text/plain": [
       "\u001B[1;36m2024\u001B[0m-\u001B[1;36m05\u001B[0m-\u001B[1;36m27\u001B[0m \u001B[1;92m13:09:42\u001B[0m,\u001B[1;36m821\u001B[0m - \u001B[1m{\u001B[0mpytorch_tabular.tabular_model:\u001B[1;36m340\u001B[0m\u001B[1m}\u001B[0m - INFO - Preparing the Trainer                       \n"
      ],
      "text/html": [
       "<pre style=\"white-space:pre;overflow-x:auto;line-height:normal;font-family:Menlo,'DejaVu Sans Mono',consolas,'Courier New',monospace\"><span style=\"color: #008080; text-decoration-color: #008080; font-weight: bold\">2024</span>-<span style=\"color: #008080; text-decoration-color: #008080; font-weight: bold\">05</span>-<span style=\"color: #008080; text-decoration-color: #008080; font-weight: bold\">27</span> <span style=\"color: #00ff00; text-decoration-color: #00ff00; font-weight: bold\">13:09:42</span>,<span style=\"color: #008080; text-decoration-color: #008080; font-weight: bold\">821</span> - <span style=\"font-weight: bold\">{</span>pytorch_tabular.tabular_model:<span style=\"color: #008080; text-decoration-color: #008080; font-weight: bold\">340</span><span style=\"font-weight: bold\">}</span> - INFO - Preparing the Trainer                       \n",
       "</pre>\n"
      ]
     },
     "metadata": {},
     "output_type": "display_data"
    },
    {
     "name": "stderr",
     "output_type": "stream",
     "text": [
      "Trainer will use only 1 of 2 GPUs because it is running inside an interactive / notebook environment. You may try to set `Trainer(devices=2)` but please note that multi-GPU inside interactive / notebook environments is considered experimental and unstable. Your mileage may vary.\n",
      "GPU available: True (cuda), used: True\n",
      "TPU available: False, using: 0 TPU cores\n",
      "IPU available: False, using: 0 IPUs\n",
      "HPU available: False, using: 0 HPUs\n"
     ]
    },
    {
     "data": {
      "text/plain": [
       "\u001B[1;36m2024\u001B[0m-\u001B[1;36m05\u001B[0m-\u001B[1;36m27\u001B[0m \u001B[1;92m13:09:43\u001B[0m,\u001B[1;36m154\u001B[0m - \u001B[1m{\u001B[0mpytorch_tabular.tabular_model:\u001B[1;36m652\u001B[0m\u001B[1m}\u001B[0m - INFO - Training Started                            \n"
      ],
      "text/html": [
       "<pre style=\"white-space:pre;overflow-x:auto;line-height:normal;font-family:Menlo,'DejaVu Sans Mono',consolas,'Courier New',monospace\"><span style=\"color: #008080; text-decoration-color: #008080; font-weight: bold\">2024</span>-<span style=\"color: #008080; text-decoration-color: #008080; font-weight: bold\">05</span>-<span style=\"color: #008080; text-decoration-color: #008080; font-weight: bold\">27</span> <span style=\"color: #00ff00; text-decoration-color: #00ff00; font-weight: bold\">13:09:43</span>,<span style=\"color: #008080; text-decoration-color: #008080; font-weight: bold\">154</span> - <span style=\"font-weight: bold\">{</span>pytorch_tabular.tabular_model:<span style=\"color: #008080; text-decoration-color: #008080; font-weight: bold\">652</span><span style=\"font-weight: bold\">}</span> - INFO - Training Started                            \n",
       "</pre>\n"
      ]
     },
     "metadata": {},
     "output_type": "display_data"
    },
    {
     "name": "stderr",
     "output_type": "stream",
     "text": [
      "LOCAL_RANK: 0 - CUDA_VISIBLE_DEVICES: [0,1]\n"
     ]
    },
    {
     "data": {
      "text/plain": [
       "┏━━━┳━━━━━━━━━━━━━━━━━━┳━━━━━━━━━━━━━━━━━━┳━━━━━━━━┓\n",
       "┃\u001B[1;35m \u001B[0m\u001B[1;35m \u001B[0m\u001B[1;35m \u001B[0m┃\u001B[1;35m \u001B[0m\u001B[1;35mName            \u001B[0m\u001B[1;35m \u001B[0m┃\u001B[1;35m \u001B[0m\u001B[1;35mType            \u001B[0m\u001B[1;35m \u001B[0m┃\u001B[1;35m \u001B[0m\u001B[1;35mParams\u001B[0m\u001B[1;35m \u001B[0m┃\n",
       "┡━━━╇━━━━━━━━━━━━━━━━━━╇━━━━━━━━━━━━━━━━━━╇━━━━━━━━┩\n",
       "│\u001B[2m \u001B[0m\u001B[2m0\u001B[0m\u001B[2m \u001B[0m│ _backbone        │ GANDALFBackbone  │  110 M │\n",
       "│\u001B[2m \u001B[0m\u001B[2m1\u001B[0m\u001B[2m \u001B[0m│ _embedding_layer │ Embedding1dLayer │  8.6 K │\n",
       "│\u001B[2m \u001B[0m\u001B[2m2\u001B[0m\u001B[2m \u001B[0m│ _head            │ Sequential       │ 17.2 K │\n",
       "│\u001B[2m \u001B[0m\u001B[2m3\u001B[0m\u001B[2m \u001B[0m│ loss             │ CrossEntropyLoss │      0 │\n",
       "└───┴──────────────────┴──────────────────┴────────┘\n"
      ],
      "text/html": [
       "<pre style=\"white-space:pre;overflow-x:auto;line-height:normal;font-family:Menlo,'DejaVu Sans Mono',consolas,'Courier New',monospace\">┏━━━┳━━━━━━━━━━━━━━━━━━┳━━━━━━━━━━━━━━━━━━┳━━━━━━━━┓\n",
       "┃<span style=\"color: #800080; text-decoration-color: #800080; font-weight: bold\">   </span>┃<span style=\"color: #800080; text-decoration-color: #800080; font-weight: bold\"> Name             </span>┃<span style=\"color: #800080; text-decoration-color: #800080; font-weight: bold\"> Type             </span>┃<span style=\"color: #800080; text-decoration-color: #800080; font-weight: bold\"> Params </span>┃\n",
       "┡━━━╇━━━━━━━━━━━━━━━━━━╇━━━━━━━━━━━━━━━━━━╇━━━━━━━━┩\n",
       "│<span style=\"color: #7f7f7f; text-decoration-color: #7f7f7f\"> 0 </span>│ _backbone        │ GANDALFBackbone  │  110 M │\n",
       "│<span style=\"color: #7f7f7f; text-decoration-color: #7f7f7f\"> 1 </span>│ _embedding_layer │ Embedding1dLayer │  8.6 K │\n",
       "│<span style=\"color: #7f7f7f; text-decoration-color: #7f7f7f\"> 2 </span>│ _head            │ Sequential       │ 17.2 K │\n",
       "│<span style=\"color: #7f7f7f; text-decoration-color: #7f7f7f\"> 3 </span>│ loss             │ CrossEntropyLoss │      0 │\n",
       "└───┴──────────────────┴──────────────────┴────────┘\n",
       "</pre>\n"
      ]
     },
     "metadata": {},
     "output_type": "display_data"
    },
    {
     "data": {
      "text/plain": [
       "\u001B[1mTrainable params\u001B[0m: 110 M                                                                                            \n",
       "\u001B[1mNon-trainable params\u001B[0m: 0                                                                                            \n",
       "\u001B[1mTotal params\u001B[0m: 110 M                                                                                                \n",
       "\u001B[1mTotal estimated model params size (MB)\u001B[0m: 442                                                                        \n"
      ],
      "text/html": [
       "<pre style=\"white-space:pre;overflow-x:auto;line-height:normal;font-family:Menlo,'DejaVu Sans Mono',consolas,'Courier New',monospace\"><span style=\"font-weight: bold\">Trainable params</span>: 110 M                                                                                            \n",
       "<span style=\"font-weight: bold\">Non-trainable params</span>: 0                                                                                            \n",
       "<span style=\"font-weight: bold\">Total params</span>: 110 M                                                                                                \n",
       "<span style=\"font-weight: bold\">Total estimated model params size (MB)</span>: 442                                                                        \n",
       "</pre>\n"
      ]
     },
     "metadata": {},
     "output_type": "display_data"
    },
    {
     "data": {
      "text/plain": [
       "Output()"
      ],
      "application/vnd.jupyter.widget-view+json": {
       "version_major": 2,
       "version_minor": 0,
       "model_id": "0dd5f8c3598546a7bfd0e45c6d504611"
      }
     },
     "metadata": {},
     "output_type": "display_data"
    },
    {
     "name": "stderr",
     "output_type": "stream",
     "text": [
      "Trainer was signaled to stop but the required `min_epochs=50` or `min_steps=None` has not been met. Training will continue...\n"
     ]
    },
    {
     "data": {
      "text/plain": [],
      "text/html": [
       "<pre style=\"white-space:pre;overflow-x:auto;line-height:normal;font-family:Menlo,'DejaVu Sans Mono',consolas,'Courier New',monospace\"></pre>\n"
      ]
     },
     "metadata": {},
     "output_type": "display_data"
    },
    {
     "data": {
      "text/plain": [
       "\n"
      ],
      "text/html": [
       "<pre style=\"white-space:pre;overflow-x:auto;line-height:normal;font-family:Menlo,'DejaVu Sans Mono',consolas,'Courier New',monospace\">\n",
       "</pre>\n"
      ]
     },
     "metadata": {},
     "output_type": "display_data"
    },
    {
     "data": {
      "text/plain": [
       "\u001B[1;36m2024\u001B[0m-\u001B[1;36m05\u001B[0m-\u001B[1;36m27\u001B[0m \u001B[1;92m13:32:12\u001B[0m,\u001B[1;36m239\u001B[0m - \u001B[1m{\u001B[0mpytorch_tabular.tabular_model:\u001B[1;36m663\u001B[0m\u001B[1m}\u001B[0m - INFO - Training the model completed                \n"
      ],
      "text/html": [
       "<pre style=\"white-space:pre;overflow-x:auto;line-height:normal;font-family:Menlo,'DejaVu Sans Mono',consolas,'Courier New',monospace\"><span style=\"color: #008080; text-decoration-color: #008080; font-weight: bold\">2024</span>-<span style=\"color: #008080; text-decoration-color: #008080; font-weight: bold\">05</span>-<span style=\"color: #008080; text-decoration-color: #008080; font-weight: bold\">27</span> <span style=\"color: #00ff00; text-decoration-color: #00ff00; font-weight: bold\">13:32:12</span>,<span style=\"color: #008080; text-decoration-color: #008080; font-weight: bold\">239</span> - <span style=\"font-weight: bold\">{</span>pytorch_tabular.tabular_model:<span style=\"color: #008080; text-decoration-color: #008080; font-weight: bold\">663</span><span style=\"font-weight: bold\">}</span> - INFO - Training the model completed                \n",
       "</pre>\n"
      ]
     },
     "metadata": {},
     "output_type": "display_data"
    },
    {
     "data": {
      "text/plain": [
       "\u001B[1;36m2024\u001B[0m-\u001B[1;36m05\u001B[0m-\u001B[1;36m27\u001B[0m \u001B[1;92m13:32:12\u001B[0m,\u001B[1;36m244\u001B[0m - \u001B[1m{\u001B[0mpytorch_tabular.tabular_model:\u001B[1;36m1489\u001B[0m\u001B[1m}\u001B[0m - INFO - Loading the best model                     \n"
      ],
      "text/html": [
       "<pre style=\"white-space:pre;overflow-x:auto;line-height:normal;font-family:Menlo,'DejaVu Sans Mono',consolas,'Courier New',monospace\"><span style=\"color: #008080; text-decoration-color: #008080; font-weight: bold\">2024</span>-<span style=\"color: #008080; text-decoration-color: #008080; font-weight: bold\">05</span>-<span style=\"color: #008080; text-decoration-color: #008080; font-weight: bold\">27</span> <span style=\"color: #00ff00; text-decoration-color: #00ff00; font-weight: bold\">13:32:12</span>,<span style=\"color: #008080; text-decoration-color: #008080; font-weight: bold\">244</span> - <span style=\"font-weight: bold\">{</span>pytorch_tabular.tabular_model:<span style=\"color: #008080; text-decoration-color: #008080; font-weight: bold\">1489</span><span style=\"font-weight: bold\">}</span> - INFO - Loading the best model                     \n",
       "</pre>\n"
      ]
     },
     "metadata": {},
     "output_type": "display_data"
    }
   ],
   "execution_count": 28
  },
  {
   "cell_type": "code",
   "id": "7721e1dc6a056724",
   "metadata": {
    "ExecuteTime": {
     "end_time": "2024-05-27T11:33:08.639433Z",
     "start_time": "2024-05-27T11:32:13.449575Z"
    }
   },
   "source": [
    "tabular_model.evaluate(train)\n",
    "tabular_model.evaluate(val)\n",
    "tabular_model.evaluate(test)\n",
    "#y_pred_proba = tabular_model.predict_proba(test)"
   ],
   "outputs": [
    {
     "name": "stderr",
     "output_type": "stream",
     "text": [
      "LOCAL_RANK: 0 - CUDA_VISIBLE_DEVICES: [0,1]\n"
     ]
    },
    {
     "data": {
      "text/plain": [
       "Output()"
      ],
      "application/vnd.jupyter.widget-view+json": {
       "version_major": 2,
       "version_minor": 0,
       "model_id": "3b0ad13f6ddd499b9db83fb8f7f9a116"
      }
     },
     "metadata": {},
     "output_type": "display_data"
    },
    {
     "data": {
      "text/plain": [
       "┏━━━━━━━━━━━━━━━━━━━━━━━━━━━┳━━━━━━━━━━━━━━━━━━━━━━━━━━━┓\n",
       "┃\u001B[1m \u001B[0m\u001B[1m       Test metric       \u001B[0m\u001B[1m \u001B[0m┃\u001B[1m \u001B[0m\u001B[1m      DataLoader 0       \u001B[0m\u001B[1m \u001B[0m┃\n",
       "┡━━━━━━━━━━━━━━━━━━━━━━━━━━━╇━━━━━━━━━━━━━━━━━━━━━━━━━━━┩\n",
       "│\u001B[36m \u001B[0m\u001B[36m      test_accuracy      \u001B[0m\u001B[36m \u001B[0m│\u001B[35m \u001B[0m\u001B[35m   0.7694039940834045    \u001B[0m\u001B[35m \u001B[0m│\n",
       "│\u001B[36m \u001B[0m\u001B[36m        test_loss        \u001B[0m\u001B[36m \u001B[0m│\u001B[35m \u001B[0m\u001B[35m   0.6661750674247742    \u001B[0m\u001B[35m \u001B[0m│\n",
       "└───────────────────────────┴───────────────────────────┘\n"
      ],
      "text/html": [
       "<pre style=\"white-space:pre;overflow-x:auto;line-height:normal;font-family:Menlo,'DejaVu Sans Mono',consolas,'Courier New',monospace\">┏━━━━━━━━━━━━━━━━━━━━━━━━━━━┳━━━━━━━━━━━━━━━━━━━━━━━━━━━┓\n",
       "┃<span style=\"font-weight: bold\">        Test metric        </span>┃<span style=\"font-weight: bold\">       DataLoader 0        </span>┃\n",
       "┡━━━━━━━━━━━━━━━━━━━━━━━━━━━╇━━━━━━━━━━━━━━━━━━━━━━━━━━━┩\n",
       "│<span style=\"color: #008080; text-decoration-color: #008080\">       test_accuracy       </span>│<span style=\"color: #800080; text-decoration-color: #800080\">    0.7694039940834045     </span>│\n",
       "│<span style=\"color: #008080; text-decoration-color: #008080\">         test_loss         </span>│<span style=\"color: #800080; text-decoration-color: #800080\">    0.6661750674247742     </span>│\n",
       "└───────────────────────────┴───────────────────────────┘\n",
       "</pre>\n"
      ]
     },
     "metadata": {},
     "output_type": "display_data"
    },
    {
     "data": {
      "text/plain": [],
      "text/html": [
       "<pre style=\"white-space:pre;overflow-x:auto;line-height:normal;font-family:Menlo,'DejaVu Sans Mono',consolas,'Courier New',monospace\"></pre>\n"
      ]
     },
     "metadata": {},
     "output_type": "display_data"
    },
    {
     "data": {
      "text/plain": [
       "\n"
      ],
      "text/html": [
       "<pre style=\"white-space:pre;overflow-x:auto;line-height:normal;font-family:Menlo,'DejaVu Sans Mono',consolas,'Courier New',monospace\">\n",
       "</pre>\n"
      ]
     },
     "metadata": {},
     "output_type": "display_data"
    },
    {
     "name": "stderr",
     "output_type": "stream",
     "text": [
      "LOCAL_RANK: 0 - CUDA_VISIBLE_DEVICES: [0,1]\n"
     ]
    },
    {
     "data": {
      "text/plain": [
       "Output()"
      ],
      "application/vnd.jupyter.widget-view+json": {
       "version_major": 2,
       "version_minor": 0,
       "model_id": "a4e12e1349674828850946384e780040"
      }
     },
     "metadata": {},
     "output_type": "display_data"
    },
    {
     "data": {
      "text/plain": [
       "┏━━━━━━━━━━━━━━━━━━━━━━━━━━━┳━━━━━━━━━━━━━━━━━━━━━━━━━━━┓\n",
       "┃\u001B[1m \u001B[0m\u001B[1m       Test metric       \u001B[0m\u001B[1m \u001B[0m┃\u001B[1m \u001B[0m\u001B[1m      DataLoader 0       \u001B[0m\u001B[1m \u001B[0m┃\n",
       "┡━━━━━━━━━━━━━━━━━━━━━━━━━━━╇━━━━━━━━━━━━━━━━━━━━━━━━━━━┩\n",
       "│\u001B[36m \u001B[0m\u001B[36m      test_accuracy      \u001B[0m\u001B[36m \u001B[0m│\u001B[35m \u001B[0m\u001B[35m   0.7364484667778015    \u001B[0m\u001B[35m \u001B[0m│\n",
       "│\u001B[36m \u001B[0m\u001B[36m        test_loss        \u001B[0m\u001B[36m \u001B[0m│\u001B[35m \u001B[0m\u001B[35m   0.7140346765518188    \u001B[0m\u001B[35m \u001B[0m│\n",
       "└───────────────────────────┴───────────────────────────┘\n"
      ],
      "text/html": [
       "<pre style=\"white-space:pre;overflow-x:auto;line-height:normal;font-family:Menlo,'DejaVu Sans Mono',consolas,'Courier New',monospace\">┏━━━━━━━━━━━━━━━━━━━━━━━━━━━┳━━━━━━━━━━━━━━━━━━━━━━━━━━━┓\n",
       "┃<span style=\"font-weight: bold\">        Test metric        </span>┃<span style=\"font-weight: bold\">       DataLoader 0        </span>┃\n",
       "┡━━━━━━━━━━━━━━━━━━━━━━━━━━━╇━━━━━━━━━━━━━━━━━━━━━━━━━━━┩\n",
       "│<span style=\"color: #008080; text-decoration-color: #008080\">       test_accuracy       </span>│<span style=\"color: #800080; text-decoration-color: #800080\">    0.7364484667778015     </span>│\n",
       "│<span style=\"color: #008080; text-decoration-color: #008080\">         test_loss         </span>│<span style=\"color: #800080; text-decoration-color: #800080\">    0.7140346765518188     </span>│\n",
       "└───────────────────────────┴───────────────────────────┘\n",
       "</pre>\n"
      ]
     },
     "metadata": {},
     "output_type": "display_data"
    },
    {
     "data": {
      "text/plain": [],
      "text/html": [
       "<pre style=\"white-space:pre;overflow-x:auto;line-height:normal;font-family:Menlo,'DejaVu Sans Mono',consolas,'Courier New',monospace\"></pre>\n"
      ]
     },
     "metadata": {},
     "output_type": "display_data"
    },
    {
     "data": {
      "text/plain": [
       "\n"
      ],
      "text/html": [
       "<pre style=\"white-space:pre;overflow-x:auto;line-height:normal;font-family:Menlo,'DejaVu Sans Mono',consolas,'Courier New',monospace\">\n",
       "</pre>\n"
      ]
     },
     "metadata": {},
     "output_type": "display_data"
    },
    {
     "name": "stderr",
     "output_type": "stream",
     "text": [
      "LOCAL_RANK: 0 - CUDA_VISIBLE_DEVICES: [0,1]\n"
     ]
    },
    {
     "data": {
      "text/plain": [
       "Output()"
      ],
      "application/vnd.jupyter.widget-view+json": {
       "version_major": 2,
       "version_minor": 0,
       "model_id": "a542488169214ae181f9214ba27a3bc3"
      }
     },
     "metadata": {},
     "output_type": "display_data"
    },
    {
     "data": {
      "text/plain": [
       "┏━━━━━━━━━━━━━━━━━━━━━━━━━━━┳━━━━━━━━━━━━━━━━━━━━━━━━━━━┓\n",
       "┃\u001B[1m \u001B[0m\u001B[1m       Test metric       \u001B[0m\u001B[1m \u001B[0m┃\u001B[1m \u001B[0m\u001B[1m      DataLoader 0       \u001B[0m\u001B[1m \u001B[0m┃\n",
       "┡━━━━━━━━━━━━━━━━━━━━━━━━━━━╇━━━━━━━━━━━━━━━━━━━━━━━━━━━┩\n",
       "│\u001B[36m \u001B[0m\u001B[36m      test_accuracy      \u001B[0m\u001B[36m \u001B[0m│\u001B[35m \u001B[0m\u001B[35m   0.7421526312828064    \u001B[0m\u001B[35m \u001B[0m│\n",
       "│\u001B[36m \u001B[0m\u001B[36m        test_loss        \u001B[0m\u001B[36m \u001B[0m│\u001B[35m \u001B[0m\u001B[35m   0.7154021263122559    \u001B[0m\u001B[35m \u001B[0m│\n",
       "└───────────────────────────┴───────────────────────────┘\n"
      ],
      "text/html": [
       "<pre style=\"white-space:pre;overflow-x:auto;line-height:normal;font-family:Menlo,'DejaVu Sans Mono',consolas,'Courier New',monospace\">┏━━━━━━━━━━━━━━━━━━━━━━━━━━━┳━━━━━━━━━━━━━━━━━━━━━━━━━━━┓\n",
       "┃<span style=\"font-weight: bold\">        Test metric        </span>┃<span style=\"font-weight: bold\">       DataLoader 0        </span>┃\n",
       "┡━━━━━━━━━━━━━━━━━━━━━━━━━━━╇━━━━━━━━━━━━━━━━━━━━━━━━━━━┩\n",
       "│<span style=\"color: #008080; text-decoration-color: #008080\">       test_accuracy       </span>│<span style=\"color: #800080; text-decoration-color: #800080\">    0.7421526312828064     </span>│\n",
       "│<span style=\"color: #008080; text-decoration-color: #008080\">         test_loss         </span>│<span style=\"color: #800080; text-decoration-color: #800080\">    0.7154021263122559     </span>│\n",
       "└───────────────────────────┴───────────────────────────┘\n",
       "</pre>\n"
      ]
     },
     "metadata": {},
     "output_type": "display_data"
    },
    {
     "data": {
      "text/plain": [],
      "text/html": [
       "<pre style=\"white-space:pre;overflow-x:auto;line-height:normal;font-family:Menlo,'DejaVu Sans Mono',consolas,'Courier New',monospace\"></pre>\n"
      ]
     },
     "metadata": {},
     "output_type": "display_data"
    },
    {
     "data": {
      "text/plain": [
       "\n"
      ],
      "text/html": [
       "<pre style=\"white-space:pre;overflow-x:auto;line-height:normal;font-family:Menlo,'DejaVu Sans Mono',consolas,'Courier New',monospace\">\n",
       "</pre>\n"
      ]
     },
     "metadata": {},
     "output_type": "display_data"
    },
    {
     "data": {
      "text/plain": [
       "[{'test_loss': 0.7154021263122559, 'test_accuracy': 0.7421526312828064}]"
      ]
     },
     "execution_count": 29,
     "metadata": {},
     "output_type": "execute_result"
    }
   ],
   "execution_count": 29
  },
  {
   "cell_type": "code",
   "id": "71e423eb-c570-42a1-896e-ed6789caf4fb",
   "metadata": {
    "ExecuteTime": {
     "end_time": "2024-05-27T11:33:44.404050Z",
     "start_time": "2024-05-27T11:33:08.641669Z"
    }
   },
   "source": [
    "y_pred_val= tabular_model.predict(val)\n",
    "y_pred_test= tabular_model.predict(test)\n",
    "\n"
   ],
   "outputs": [],
   "execution_count": 30
  },
  {
   "metadata": {
    "ExecuteTime": {
     "end_time": "2024-05-27T11:33:44.442065Z",
     "start_time": "2024-05-27T11:33:44.412375Z"
    }
   },
   "cell_type": "code",
   "source": "y_pred_val",
   "id": "3a3ca45b2088bd5f",
   "outputs": [
    {
     "data": {
      "text/plain": [
       "        0_probability  1_probability  2_probability  3_probability  prediction\n",
       "135456       0.053141       0.838222       0.103996       0.004641           1\n",
       "153539       0.026704       0.870266       0.098530       0.004500           1\n",
       "138185       0.001649       0.702937       0.294919       0.000495           1\n",
       "110103       0.653951       0.090113       0.070606       0.185330           0\n",
       "56254        0.441785       0.016690       0.171985       0.369541           0\n",
       "...               ...            ...            ...            ...         ...\n",
       "158831       0.879303       0.020888       0.037857       0.061951           0\n",
       "174295       0.250419       0.267723       0.171853       0.310005           3\n",
       "69653        0.986058       0.000469       0.001889       0.011583           0\n",
       "64376        0.898574       0.003691       0.019582       0.078152           0\n",
       "112338       0.886729       0.009663       0.010913       0.092696           0\n",
       "\n",
       "[22728 rows x 5 columns]"
      ],
      "text/html": [
       "<div>\n",
       "<style scoped>\n",
       "    .dataframe tbody tr th:only-of-type {\n",
       "        vertical-align: middle;\n",
       "    }\n",
       "\n",
       "    .dataframe tbody tr th {\n",
       "        vertical-align: top;\n",
       "    }\n",
       "\n",
       "    .dataframe thead th {\n",
       "        text-align: right;\n",
       "    }\n",
       "</style>\n",
       "<table border=\"1\" class=\"dataframe\">\n",
       "  <thead>\n",
       "    <tr style=\"text-align: right;\">\n",
       "      <th></th>\n",
       "      <th>0_probability</th>\n",
       "      <th>1_probability</th>\n",
       "      <th>2_probability</th>\n",
       "      <th>3_probability</th>\n",
       "      <th>prediction</th>\n",
       "    </tr>\n",
       "  </thead>\n",
       "  <tbody>\n",
       "    <tr>\n",
       "      <th>135456</th>\n",
       "      <td>0.053141</td>\n",
       "      <td>0.838222</td>\n",
       "      <td>0.103996</td>\n",
       "      <td>0.004641</td>\n",
       "      <td>1</td>\n",
       "    </tr>\n",
       "    <tr>\n",
       "      <th>153539</th>\n",
       "      <td>0.026704</td>\n",
       "      <td>0.870266</td>\n",
       "      <td>0.098530</td>\n",
       "      <td>0.004500</td>\n",
       "      <td>1</td>\n",
       "    </tr>\n",
       "    <tr>\n",
       "      <th>138185</th>\n",
       "      <td>0.001649</td>\n",
       "      <td>0.702937</td>\n",
       "      <td>0.294919</td>\n",
       "      <td>0.000495</td>\n",
       "      <td>1</td>\n",
       "    </tr>\n",
       "    <tr>\n",
       "      <th>110103</th>\n",
       "      <td>0.653951</td>\n",
       "      <td>0.090113</td>\n",
       "      <td>0.070606</td>\n",
       "      <td>0.185330</td>\n",
       "      <td>0</td>\n",
       "    </tr>\n",
       "    <tr>\n",
       "      <th>56254</th>\n",
       "      <td>0.441785</td>\n",
       "      <td>0.016690</td>\n",
       "      <td>0.171985</td>\n",
       "      <td>0.369541</td>\n",
       "      <td>0</td>\n",
       "    </tr>\n",
       "    <tr>\n",
       "      <th>...</th>\n",
       "      <td>...</td>\n",
       "      <td>...</td>\n",
       "      <td>...</td>\n",
       "      <td>...</td>\n",
       "      <td>...</td>\n",
       "    </tr>\n",
       "    <tr>\n",
       "      <th>158831</th>\n",
       "      <td>0.879303</td>\n",
       "      <td>0.020888</td>\n",
       "      <td>0.037857</td>\n",
       "      <td>0.061951</td>\n",
       "      <td>0</td>\n",
       "    </tr>\n",
       "    <tr>\n",
       "      <th>174295</th>\n",
       "      <td>0.250419</td>\n",
       "      <td>0.267723</td>\n",
       "      <td>0.171853</td>\n",
       "      <td>0.310005</td>\n",
       "      <td>3</td>\n",
       "    </tr>\n",
       "    <tr>\n",
       "      <th>69653</th>\n",
       "      <td>0.986058</td>\n",
       "      <td>0.000469</td>\n",
       "      <td>0.001889</td>\n",
       "      <td>0.011583</td>\n",
       "      <td>0</td>\n",
       "    </tr>\n",
       "    <tr>\n",
       "      <th>64376</th>\n",
       "      <td>0.898574</td>\n",
       "      <td>0.003691</td>\n",
       "      <td>0.019582</td>\n",
       "      <td>0.078152</td>\n",
       "      <td>0</td>\n",
       "    </tr>\n",
       "    <tr>\n",
       "      <th>112338</th>\n",
       "      <td>0.886729</td>\n",
       "      <td>0.009663</td>\n",
       "      <td>0.010913</td>\n",
       "      <td>0.092696</td>\n",
       "      <td>0</td>\n",
       "    </tr>\n",
       "  </tbody>\n",
       "</table>\n",
       "<p>22728 rows × 5 columns</p>\n",
       "</div>"
      ]
     },
     "execution_count": 31,
     "metadata": {},
     "output_type": "execute_result"
    }
   ],
   "execution_count": 31
  },
  {
   "cell_type": "code",
   "id": "7cdde7ea-6b07-4768-8e25-2f3a44ecdfa3",
   "metadata": {
    "ExecuteTime": {
     "end_time": "2024-05-27T11:33:44.446310Z",
     "start_time": "2024-05-27T11:33:44.443343Z"
    }
   },
   "source": "from sklearn.metrics import accuracy_score, f1_score\n",
   "outputs": [],
   "execution_count": 32
  },
  {
   "cell_type": "code",
   "id": "07e153ac-0495-49a6-aa8d-85c59afac727",
   "metadata": {
    "ExecuteTime": {
     "end_time": "2024-05-27T11:33:44.508079Z",
     "start_time": "2024-05-27T11:33:44.447603Z"
    }
   },
   "source": [
    "print(\"Val Acc\", accuracy_score(val[\"target\"], y_pred_val[\"prediction\"]))\n",
    "print(\"Test Acc\", accuracy_score(test[\"target\"], y_pred_test[\"prediction\"]))\n",
    "print(\"Val F1\", f1_score(val[\"target\"], y_pred_val[\"prediction\"], average=\"macro\"))\n",
    "print(\"Test F1\", f1_score(test[\"target\"], y_pred_test[\"prediction\"], average=\"macro\"))"
   ],
   "outputs": [
    {
     "name": "stdout",
     "output_type": "stream",
     "text": [
      "Val Acc 0.7364484336501232\n",
      "Test Acc 0.7421526439451939\n",
      "Val F1 0.6765518083233737\n",
      "Test F1 0.6829331351668431\n"
     ]
    }
   ],
   "execution_count": 33
  },
  {
   "cell_type": "code",
   "id": "b297f89a-8fd0-4fe9-92d7-2e644c162fb8",
   "metadata": {
    "ExecuteTime": {
     "end_time": "2024-05-27T11:33:44.512410Z",
     "start_time": "2024-05-27T11:33:44.509410Z"
    }
   },
   "source": "",
   "outputs": [],
   "execution_count": 33
  },
  {
   "metadata": {},
   "cell_type": "markdown",
   "source": "### Classification dichotom",
   "id": "b4419641fadba968"
  },
  {
   "metadata": {
    "ExecuteTime": {
     "end_time": "2024-05-27T11:33:44.521837Z",
     "start_time": "2024-05-27T11:33:44.513644Z"
    }
   },
   "cell_type": "code",
   "source": "wandb.login()",
   "id": "5a6e600071c1a7f7",
   "outputs": [
    {
     "name": "stderr",
     "output_type": "stream",
     "text": [
      "\u001B[34m\u001B[1mwandb\u001B[0m: \u001B[33mWARNING\u001B[0m Calling wandb.login() after wandb.init() has no effect.\n"
     ]
    },
    {
     "data": {
      "text/plain": [
       "True"
      ]
     },
     "execution_count": 34,
     "metadata": {},
     "output_type": "execute_result"
    }
   ],
   "execution_count": 34
  },
  {
   "metadata": {},
   "cell_type": "markdown",
   "source": "#### Split the data",
   "id": "b98b40a6c4b85b09"
  },
  {
   "metadata": {
    "ExecuteTime": {
     "end_time": "2024-05-27T11:34:12.648952Z",
     "start_time": "2024-05-27T11:33:44.526227Z"
    }
   },
   "cell_type": "code",
   "source": [
    "# Split the data\n",
    "all_data_dichotom = all_data.copy()\n",
    "all_data_dichotom[\"target\"] = all_data_dichotom[\"target\"].apply(lambda x: 1 if x != 0 else 0)\n",
    "tr_val, test = train_test_split(all_data_dichotom, random_state=42, test_size=0.2, shuffle=True, stratify=all_data_dichotom[\"target\"])\n",
    "train, val = train_test_split(tr_val, random_state=42, test_size=0.15, shuffle=True, stratify=tr_val[\"target\"])"
   ],
   "id": "13ce06a9486c57e6",
   "outputs": [],
   "execution_count": 35
  },
  {
   "metadata": {
    "ExecuteTime": {
     "end_time": "2024-05-27T11:34:12.683743Z",
     "start_time": "2024-05-27T11:34:12.651673Z"
    }
   },
   "cell_type": "code",
   "source": [
    "print(train.shape, val.shape, test.shape)\n",
    "\n",
    "print(train.head)"
   ],
   "id": "94e64b33edf32502",
   "outputs": [
    {
     "name": "stdout",
     "output_type": "stream",
     "text": [
      "(128788, 4296) (22728, 4296) (37879, 4296)\n",
      "<bound method NDFrame.head of         year_0  month_0  day_0  hour_of_day_0  minute_of_hour_0  \\\n",
      "96891   2050.0      5.0    6.0           10.0              15.0   \n",
      "96337   2050.0      5.0    3.0           17.0              45.0   \n",
      "27609   2050.0      6.0   13.0            8.0              35.0   \n",
      "47012   2050.0      8.0   22.0           11.0               0.0   \n",
      "122726  2050.0     11.0    8.0           11.0              30.0   \n",
      "...        ...      ...    ...            ...               ...   \n",
      "93326   2050.0      4.0   18.0           21.0              30.0   \n",
      "52426   2050.0      9.0   13.0            8.0              50.0   \n",
      "29820   2050.0      6.0   20.0           10.0              20.0   \n",
      "168516  2050.0      8.0    2.0            9.0               0.0   \n",
      "140614  2050.0      2.0   22.0            3.0              45.0   \n",
      "\n",
      "        day_of_week_0    gen_p_0    gen_p_1     gen_p_2    gen_p_3  ...  \\\n",
      "96891             4.0  29.400000  27.299999  277.399994  19.100000  ...   \n",
      "96337             1.0  23.400000  26.100000  359.100006  36.599998  ...   \n",
      "27609             0.0  38.599998  37.299999    2.700000  31.799999  ...   \n",
      "47012             0.0   0.300000   0.400000    0.000000   1.000000  ...   \n",
      "122726            1.0  65.699997  61.500000  357.799988  41.000000  ...   \n",
      "...               ...        ...        ...         ...        ...  ...   \n",
      "93326             0.0  34.599998  35.299999  360.000000  38.000000  ...   \n",
      "52426             1.0  29.600000  35.700001   56.799999  66.599998  ...   \n",
      "29820             0.0  32.799999  31.600000    0.000000  27.500000  ...   \n",
      "168516            1.0  21.400000  21.600000    0.000000  21.500000  ...   \n",
      "140614            1.0  10.200000  11.900000  359.600006  19.000000  ...   \n",
      "\n",
      "        gen_margin_down_53  gen_margin_down_54  gen_margin_down_55  \\\n",
      "96891                  0.0                 0.0                 5.3   \n",
      "96337                 11.2                 0.0                 5.3   \n",
      "27609                  0.0                 0.0                 0.0   \n",
      "47012                  0.0                 0.0                 0.0   \n",
      "122726                11.2                 0.0                 5.3   \n",
      "...                    ...                 ...                 ...   \n",
      "93326                 11.2                 0.0                 5.3   \n",
      "52426                  0.0                 0.0                 0.1   \n",
      "29820                  0.0                 0.0                 0.0   \n",
      "168516                 0.0                 0.0                 0.0   \n",
      "140614                11.2                 0.0                 5.3   \n",
      "\n",
      "        gen_margin_down_56  gen_margin_down_57  gen_margin_down_58  \\\n",
      "96891                  0.0                 0.0                 0.0   \n",
      "96337                  0.0                 0.0                 5.3   \n",
      "27609                  0.0                 0.0                 0.0   \n",
      "47012                  0.0                 0.0                 0.0   \n",
      "122726                 0.0                 0.0                 5.3   \n",
      "...                    ...                 ...                 ...   \n",
      "93326                  0.0                 0.0                 5.3   \n",
      "52426                  0.0                 0.0                 0.0   \n",
      "29820                  0.0                 0.0                 0.0   \n",
      "168516                 0.0                 0.0                 0.0   \n",
      "140614                 0.0                 0.0                 0.0   \n",
      "\n",
      "        gen_margin_down_59  gen_margin_down_60  gen_margin_down_61  target  \n",
      "96891                  0.0                 0.0                 0.0       0  \n",
      "96337                  0.0                 0.0                 0.0       1  \n",
      "27609                  0.0                 0.0                 0.0       0  \n",
      "47012                  0.0                 0.0                 0.0       1  \n",
      "122726                 0.0                 0.0                 0.0       1  \n",
      "...                    ...                 ...                 ...     ...  \n",
      "93326                  0.0                 5.7                 0.0       1  \n",
      "52426                  0.0                 0.0                 0.0       1  \n",
      "29820                  0.0                 0.0                 0.0       0  \n",
      "168516                 0.0                 0.0                 0.0       1  \n",
      "140614                 0.0                 0.0                 0.0       1  \n",
      "\n",
      "[128788 rows x 4296 columns]>\n"
     ]
    }
   ],
   "execution_count": 36
  },
  {
   "metadata": {
    "ExecuteTime": {
     "end_time": "2024-05-27T11:34:12.695416Z",
     "start_time": "2024-05-27T11:34:12.685865Z"
    }
   },
   "cell_type": "code",
   "source": [
    "data_config = DataConfig(\n",
    "    target=[\n",
    "        \"target\"\n",
    "    ], \n",
    "    continuous_cols=dataset_colnames.tolist()[:-1],\n",
    "    categorical_cols=[],# target should always be a list. Multi-targets are only supported for regression. Multi-Task Classification is not implemented\n",
    ")\n",
    "trainer_config = TrainerConfig(\n",
    "    devices = -1,\n",
    "    batch_size=1024,\n",
    "    max_epochs=50,\n",
    "    min_epochs=2,\n",
    "    early_stopping='valid_loss',\n",
    "    early_stopping_patience=10,\n",
    "    early_stopping_mode='min'\n",
    ")\n",
    "\n",
    "optimizer_config = OptimizerConfig(\n",
    "    optimizer=\"Adam\",\n",
    "    lr_scheduler=\"ReduceLROnPlateau\",\n",
    "    lr_scheduler_params={\"mode\": \"min\", \"patience\": 5, \"factor\": 0.5}\n",
    ")\n",
    "experiment_config = ExperimentConfig(project_name=\"GANDALF Dichotom\", run_name=\"run\", log_target=\"wandb\")\n",
    "model_config = GANDALFConfig(\n",
    "    task=\"classification\",\n",
    "    gflu_stages=10,\n",
    "    gflu_feature_init_sparsity=0.5,\n",
    "    gflu_dropout=0.1,\n",
    "    learning_rate=1e-2,\n",
    ")\n",
    "\n",
    "\n",
    "\"\"\"model_config = CategoryEmbeddingModelConfig(\n",
    "    task=\"classification\",\n",
    "    layers=\"1000-1000-1000-128\",\n",
    "    use_batch_norm=True,\n",
    "    dropout=0.2,\n",
    "\"\"\""
   ],
   "id": "d7e7abfa27302b70",
   "outputs": [
    {
     "data": {
      "text/plain": [
       "'model_config = CategoryEmbeddingModelConfig(\\n    task=\"classification\",\\n    layers=\"1000-1000-1000-128\",\\n    use_batch_norm=True,\\n    dropout=0.2,\\n'"
      ]
     },
     "execution_count": 37,
     "metadata": {},
     "output_type": "execute_result"
    }
   ],
   "execution_count": 37
  },
  {
   "metadata": {
    "ExecuteTime": {
     "end_time": "2024-05-27T11:34:13.949751Z",
     "start_time": "2024-05-27T11:34:12.697249Z"
    }
   },
   "cell_type": "code",
   "source": [
    "torch.cuda.empty_cache()\n",
    "tabular_model = TabularModel(\n",
    "    data_config=data_config,\n",
    "    model_config=model_config,\n",
    "    experiment_config=experiment_config,\n",
    "    optimizer_config=optimizer_config,\n",
    "    trainer_config=trainer_config,\n",
    "    verbose=True\n",
    ")"
   ],
   "id": "98a37130edfe2745",
   "outputs": [],
   "execution_count": 38
  },
  {
   "metadata": {
    "jupyter": {
     "is_executing": true
    },
    "ExecuteTime": {
     "start_time": "2024-05-27T11:34:13.951779Z"
    }
   },
   "cell_type": "code",
   "source": "model = tabular_model.fit(train=train, validation=val)",
   "id": "5384684035b28977",
   "outputs": [
    {
     "name": "stderr",
     "output_type": "stream",
     "text": [
      "Seed set to 42\n"
     ]
    },
    {
     "data": {
      "text/plain": [
       "\u001B[1;36m2024\u001B[0m-\u001B[1;36m05\u001B[0m-\u001B[1;36m27\u001B[0m \u001B[1;92m13:34:13\u001B[0m,\u001B[1;36m955\u001B[0m - \u001B[1m{\u001B[0mpytorch_tabular.tabular_model:\u001B[1;36m524\u001B[0m\u001B[1m}\u001B[0m - INFO - Preparing the DataLoaders                   \n"
      ],
      "text/html": [
       "<pre style=\"white-space:pre;overflow-x:auto;line-height:normal;font-family:Menlo,'DejaVu Sans Mono',consolas,'Courier New',monospace\"><span style=\"color: #008080; text-decoration-color: #008080; font-weight: bold\">2024</span>-<span style=\"color: #008080; text-decoration-color: #008080; font-weight: bold\">05</span>-<span style=\"color: #008080; text-decoration-color: #008080; font-weight: bold\">27</span> <span style=\"color: #00ff00; text-decoration-color: #00ff00; font-weight: bold\">13:34:13</span>,<span style=\"color: #008080; text-decoration-color: #008080; font-weight: bold\">955</span> - <span style=\"font-weight: bold\">{</span>pytorch_tabular.tabular_model:<span style=\"color: #008080; text-decoration-color: #008080; font-weight: bold\">524</span><span style=\"font-weight: bold\">}</span> - INFO - Preparing the DataLoaders                   \n",
       "</pre>\n"
      ]
     },
     "metadata": {},
     "output_type": "display_data"
    },
    {
     "data": {
      "text/plain": [
       "\u001B[1;36m2024\u001B[0m-\u001B[1;36m05\u001B[0m-\u001B[1;36m27\u001B[0m \u001B[1;92m13:34:18\u001B[0m,\u001B[1;36m255\u001B[0m - \u001B[1m{\u001B[0mpytorch_tabular.tabular_datamodul\u001B[1;92me:499\u001B[0m\u001B[1m}\u001B[0m - INFO - Setting up the datamodule for          \n",
       "classification task                                                                                                \n"
      ],
      "text/html": [
       "<pre style=\"white-space:pre;overflow-x:auto;line-height:normal;font-family:Menlo,'DejaVu Sans Mono',consolas,'Courier New',monospace\"><span style=\"color: #008080; text-decoration-color: #008080; font-weight: bold\">2024</span>-<span style=\"color: #008080; text-decoration-color: #008080; font-weight: bold\">05</span>-<span style=\"color: #008080; text-decoration-color: #008080; font-weight: bold\">27</span> <span style=\"color: #00ff00; text-decoration-color: #00ff00; font-weight: bold\">13:34:18</span>,<span style=\"color: #008080; text-decoration-color: #008080; font-weight: bold\">255</span> - <span style=\"font-weight: bold\">{</span>pytorch_tabular.tabular_datamodul<span style=\"color: #00ff00; text-decoration-color: #00ff00; font-weight: bold\">e:499</span><span style=\"font-weight: bold\">}</span> - INFO - Setting up the datamodule for          \n",
       "classification task                                                                                                \n",
       "</pre>\n"
      ]
     },
     "metadata": {},
     "output_type": "display_data"
    },
    {
     "data": {
      "text/plain": [
       "\u001B[1;36m2024\u001B[0m-\u001B[1;36m05\u001B[0m-\u001B[1;36m27\u001B[0m \u001B[1;92m13:34:56\u001B[0m,\u001B[1;36m236\u001B[0m - \u001B[1m{\u001B[0mpytorch_tabular.tabular_model:\u001B[1;36m574\u001B[0m\u001B[1m}\u001B[0m - INFO - Preparing the Model: GANDALFModel           \n"
      ],
      "text/html": [
       "<pre style=\"white-space:pre;overflow-x:auto;line-height:normal;font-family:Menlo,'DejaVu Sans Mono',consolas,'Courier New',monospace\"><span style=\"color: #008080; text-decoration-color: #008080; font-weight: bold\">2024</span>-<span style=\"color: #008080; text-decoration-color: #008080; font-weight: bold\">05</span>-<span style=\"color: #008080; text-decoration-color: #008080; font-weight: bold\">27</span> <span style=\"color: #00ff00; text-decoration-color: #00ff00; font-weight: bold\">13:34:56</span>,<span style=\"color: #008080; text-decoration-color: #008080; font-weight: bold\">236</span> - <span style=\"font-weight: bold\">{</span>pytorch_tabular.tabular_model:<span style=\"color: #008080; text-decoration-color: #008080; font-weight: bold\">574</span><span style=\"font-weight: bold\">}</span> - INFO - Preparing the Model: GANDALFModel           \n",
       "</pre>\n"
      ]
     },
     "metadata": {},
     "output_type": "display_data"
    },
    {
     "name": "stderr",
     "output_type": "stream",
     "text": [
      "\u001B[34m\u001B[1mwandb\u001B[0m: logging graph, to disable use `wandb.watch(log_graph=False)`\n"
     ]
    },
    {
     "data": {
      "text/plain": [
       "\u001B[1;36m2024\u001B[0m-\u001B[1;36m05\u001B[0m-\u001B[1;36m27\u001B[0m \u001B[1;92m13:35:05\u001B[0m,\u001B[1;36m308\u001B[0m - \u001B[1m{\u001B[0mpytorch_tabular.tabular_model:\u001B[1;36m340\u001B[0m\u001B[1m}\u001B[0m - INFO - Preparing the Trainer                       \n"
      ],
      "text/html": [
       "<pre style=\"white-space:pre;overflow-x:auto;line-height:normal;font-family:Menlo,'DejaVu Sans Mono',consolas,'Courier New',monospace\"><span style=\"color: #008080; text-decoration-color: #008080; font-weight: bold\">2024</span>-<span style=\"color: #008080; text-decoration-color: #008080; font-weight: bold\">05</span>-<span style=\"color: #008080; text-decoration-color: #008080; font-weight: bold\">27</span> <span style=\"color: #00ff00; text-decoration-color: #00ff00; font-weight: bold\">13:35:05</span>,<span style=\"color: #008080; text-decoration-color: #008080; font-weight: bold\">308</span> - <span style=\"font-weight: bold\">{</span>pytorch_tabular.tabular_model:<span style=\"color: #008080; text-decoration-color: #008080; font-weight: bold\">340</span><span style=\"font-weight: bold\">}</span> - INFO - Preparing the Trainer                       \n",
       "</pre>\n"
      ]
     },
     "metadata": {},
     "output_type": "display_data"
    },
    {
     "name": "stderr",
     "output_type": "stream",
     "text": [
      "Trainer will use only 1 of 2 GPUs because it is running inside an interactive / notebook environment. You may try to set `Trainer(devices=2)` but please note that multi-GPU inside interactive / notebook environments is considered experimental and unstable. Your mileage may vary.\n",
      "GPU available: True (cuda), used: True\n",
      "TPU available: False, using: 0 TPU cores\n",
      "IPU available: False, using: 0 IPUs\n",
      "HPU available: False, using: 0 HPUs\n"
     ]
    },
    {
     "data": {
      "text/plain": [
       "\u001B[1;36m2024\u001B[0m-\u001B[1;36m05\u001B[0m-\u001B[1;36m27\u001B[0m \u001B[1;92m13:35:05\u001B[0m,\u001B[1;36m382\u001B[0m - \u001B[1m{\u001B[0mpytorch_tabular.tabular_model:\u001B[1;36m652\u001B[0m\u001B[1m}\u001B[0m - INFO - Training Started                            \n"
      ],
      "text/html": [
       "<pre style=\"white-space:pre;overflow-x:auto;line-height:normal;font-family:Menlo,'DejaVu Sans Mono',consolas,'Courier New',monospace\"><span style=\"color: #008080; text-decoration-color: #008080; font-weight: bold\">2024</span>-<span style=\"color: #008080; text-decoration-color: #008080; font-weight: bold\">05</span>-<span style=\"color: #008080; text-decoration-color: #008080; font-weight: bold\">27</span> <span style=\"color: #00ff00; text-decoration-color: #00ff00; font-weight: bold\">13:35:05</span>,<span style=\"color: #008080; text-decoration-color: #008080; font-weight: bold\">382</span> - <span style=\"font-weight: bold\">{</span>pytorch_tabular.tabular_model:<span style=\"color: #008080; text-decoration-color: #008080; font-weight: bold\">652</span><span style=\"font-weight: bold\">}</span> - INFO - Training Started                            \n",
       "</pre>\n"
      ]
     },
     "metadata": {},
     "output_type": "display_data"
    },
    {
     "name": "stderr",
     "output_type": "stream",
     "text": [
      "LOCAL_RANK: 0 - CUDA_VISIBLE_DEVICES: [0,1]\n"
     ]
    },
    {
     "data": {
      "text/plain": [
       "┏━━━┳━━━━━━━━━━━━━━━━━━┳━━━━━━━━━━━━━━━━━━┳━━━━━━━━┓\n",
       "┃\u001B[1;35m \u001B[0m\u001B[1;35m \u001B[0m\u001B[1;35m \u001B[0m┃\u001B[1;35m \u001B[0m\u001B[1;35mName            \u001B[0m\u001B[1;35m \u001B[0m┃\u001B[1;35m \u001B[0m\u001B[1;35mType            \u001B[0m\u001B[1;35m \u001B[0m┃\u001B[1;35m \u001B[0m\u001B[1;35mParams\u001B[0m\u001B[1;35m \u001B[0m┃\n",
       "┡━━━╇━━━━━━━━━━━━━━━━━━╇━━━━━━━━━━━━━━━━━━╇━━━━━━━━┩\n",
       "│\u001B[2m \u001B[0m\u001B[2m0\u001B[0m\u001B[2m \u001B[0m│ _backbone        │ GANDALFBackbone  │  1.1 B │\n",
       "│\u001B[2m \u001B[0m\u001B[2m1\u001B[0m\u001B[2m \u001B[0m│ _embedding_layer │ Embedding1dLayer │  8.6 K │\n",
       "│\u001B[2m \u001B[0m\u001B[2m2\u001B[0m\u001B[2m \u001B[0m│ _head            │ Sequential       │  8.6 K │\n",
       "│\u001B[2m \u001B[0m\u001B[2m3\u001B[0m\u001B[2m \u001B[0m│ loss             │ CrossEntropyLoss │      0 │\n",
       "└───┴──────────────────┴──────────────────┴────────┘\n"
      ],
      "text/html": [
       "<pre style=\"white-space:pre;overflow-x:auto;line-height:normal;font-family:Menlo,'DejaVu Sans Mono',consolas,'Courier New',monospace\">┏━━━┳━━━━━━━━━━━━━━━━━━┳━━━━━━━━━━━━━━━━━━┳━━━━━━━━┓\n",
       "┃<span style=\"color: #800080; text-decoration-color: #800080; font-weight: bold\">   </span>┃<span style=\"color: #800080; text-decoration-color: #800080; font-weight: bold\"> Name             </span>┃<span style=\"color: #800080; text-decoration-color: #800080; font-weight: bold\"> Type             </span>┃<span style=\"color: #800080; text-decoration-color: #800080; font-weight: bold\"> Params </span>┃\n",
       "┡━━━╇━━━━━━━━━━━━━━━━━━╇━━━━━━━━━━━━━━━━━━╇━━━━━━━━┩\n",
       "│<span style=\"color: #7f7f7f; text-decoration-color: #7f7f7f\"> 0 </span>│ _backbone        │ GANDALFBackbone  │  1.1 B │\n",
       "│<span style=\"color: #7f7f7f; text-decoration-color: #7f7f7f\"> 1 </span>│ _embedding_layer │ Embedding1dLayer │  8.6 K │\n",
       "│<span style=\"color: #7f7f7f; text-decoration-color: #7f7f7f\"> 2 </span>│ _head            │ Sequential       │  8.6 K │\n",
       "│<span style=\"color: #7f7f7f; text-decoration-color: #7f7f7f\"> 3 </span>│ loss             │ CrossEntropyLoss │      0 │\n",
       "└───┴──────────────────┴──────────────────┴────────┘\n",
       "</pre>\n"
      ]
     },
     "metadata": {},
     "output_type": "display_data"
    },
    {
     "data": {
      "text/plain": [
       "\u001B[1mTrainable params\u001B[0m: 1.1 B                                                                                            \n",
       "\u001B[1mNon-trainable params\u001B[0m: 0                                                                                            \n",
       "\u001B[1mTotal params\u001B[0m: 1.1 B                                                                                                \n",
       "\u001B[1mTotal estimated model params size (MB)\u001B[0m: 4.4 K                                                                      \n"
      ],
      "text/html": [
       "<pre style=\"white-space:pre;overflow-x:auto;line-height:normal;font-family:Menlo,'DejaVu Sans Mono',consolas,'Courier New',monospace\"><span style=\"font-weight: bold\">Trainable params</span>: 1.1 B                                                                                            \n",
       "<span style=\"font-weight: bold\">Non-trainable params</span>: 0                                                                                            \n",
       "<span style=\"font-weight: bold\">Total params</span>: 1.1 B                                                                                                \n",
       "<span style=\"font-weight: bold\">Total estimated model params size (MB)</span>: 4.4 K                                                                      \n",
       "</pre>\n"
      ]
     },
     "metadata": {},
     "output_type": "display_data"
    },
    {
     "data": {
      "text/plain": [
       "Output()"
      ],
      "application/vnd.jupyter.widget-view+json": {
       "version_major": 2,
       "version_minor": 0,
       "model_id": "d353dee5e8c84f09adde36c204b0af15"
      }
     },
     "metadata": {},
     "output_type": "display_data"
    }
   ],
   "execution_count": null
  },
  {
   "metadata": {
    "jupyter": {
     "is_executing": true
    }
   },
   "cell_type": "code",
   "source": [
    "tabular_model.evaluate(train)\n",
    "tabular_model.evaluate(val)\n",
    "tabular_model.evaluate(test)\n",
    "#y_pred_proba = tabular_model.predict_proba(test)"
   ],
   "id": "bb0d2b59bd4e19a8",
   "outputs": [],
   "execution_count": null
  },
  {
   "metadata": {
    "jupyter": {
     "is_executing": true
    }
   },
   "cell_type": "code",
   "source": [
    "y_pred_val= tabular_model.predict(val)\n",
    "y_pred_test= tabular_model.predict(test)\n",
    "\n"
   ],
   "id": "6b19faba6d0494bc",
   "outputs": [],
   "execution_count": null
  },
  {
   "metadata": {
    "jupyter": {
     "is_executing": true
    }
   },
   "cell_type": "code",
   "source": "y_pred_val",
   "id": "a9eb1b6e0ecf343e",
   "outputs": [],
   "execution_count": null
  },
  {
   "metadata": {
    "jupyter": {
     "is_executing": true
    }
   },
   "cell_type": "code",
   "source": "from sklearn.metrics import accuracy_score, f1_score\n",
   "id": "606b456cc8daed22",
   "outputs": [],
   "execution_count": null
  },
  {
   "metadata": {
    "jupyter": {
     "is_executing": true
    }
   },
   "cell_type": "code",
   "source": [
    "print(\"Val Acc\", accuracy_score(val[\"target\"], y_pred_val[\"prediction\"]))\n",
    "print(\"Test Acc\", accuracy_score(test[\"target\"], y_pred_test[\"prediction\"]))\n",
    "print(\"Val F1\", f1_score(val[\"target\"], y_pred_val[\"prediction\"], average=\"macro\"))\n",
    "print(\"Test F1\", f1_score(test[\"target\"], y_pred_test[\"prediction\"], average=\"macro\"))"
   ],
   "id": "64229dec36f6a096",
   "outputs": [],
   "execution_count": null
  },
  {
   "cell_type": "code",
   "id": "41534523-89e9-4469-aeec-3d98e782e88d",
   "metadata": {
    "jupyter": {
     "is_executing": true
    }
   },
   "source": [],
   "outputs": [],
   "execution_count": null
  }
 ],
 "metadata": {
  "kernelspec": {
   "display_name": "Python 3 (ipykernel)",
   "language": "python",
   "name": "python3"
  },
  "language_info": {
   "codemirror_mode": {
    "name": "ipython",
    "version": 3
   },
   "file_extension": ".py",
   "mimetype": "text/x-python",
   "name": "python",
   "nbconvert_exporter": "python",
   "pygments_lexer": "ipython3",
   "version": "3.9.18"
  }
 },
 "nbformat": 4,
 "nbformat_minor": 5
}
