{
 "cells": [
  {
   "cell_type": "code",
   "execution_count": 1,
   "id": "bb407e49-886f-4786-836c-4ad7e5156e9d",
   "metadata": {},
   "outputs": [
    {
     "name": "stderr",
     "output_type": "stream",
     "text": [
      "/mnt/home/mhassouna/.conda/envs/grid/lib/python3.9/site-packages/dask/dataframe/_pyarrow_compat.py:23: UserWarning: You are using pyarrow version 13.0.0 which is known to be insecure. See https://www.cve.org/CVERecord?id=CVE-2023-47248 for further details. Please upgrade to pyarrow>=14.0.1 or install pyarrow-hotfix to patch your current version.\n",
      "  warnings.warn(\n",
      "/mnt/home/mhassouna/.conda/envs/grid/lib/python3.9/site-packages/dask/dataframe/__init__.py:31: FutureWarning: \n",
      "Dask dataframe query planning is disabled because dask-expr is not installed.\n",
      "\n",
      "You can install it with `pip install dask[dataframe]` or `conda install dask`.\n",
      "This will raise in a future version.\n",
      "\n",
      "  warnings.warn(msg, FutureWarning)\n"
     ]
    }
   ],
   "source": [
    "from sklearn.ensemble import RandomForestClassifier, GradientBoostingClassifier, HistGradientBoostingClassifier\n",
    "from sklearn.datasets import make_classification\n",
    "from sklearn.model_selection import train_test_split\n",
    "from sklearn.tree import DecisionTreeClassifier\n",
    "from sklearn.metrics import confusion_matrix, ConfusionMatrixDisplay\n",
    "import matplotlib.pyplot as plt\n",
    "\n",
    "import pickle\n",
    "import numpy as np\n",
    "import pandas as pd\n",
    "import re\n",
    "\n",
    "import lightgbm\n",
    "\n",
    "import optuna\n",
    "from optuna.visualization import plot_optimization_history\n",
    "from optuna.visualization import plot_param_importances\n",
    "from optuna.visualization import plot_parallel_coordinate\n",
    "from optuna.visualization import plot_contour"
   ]
  },
  {
   "cell_type": "markdown",
   "id": "fb6f3d4b-886d-49b9-b719-8cb3168d875f",
   "metadata": {},
   "source": [
    "# Read the data"
   ]
  },
  {
   "cell_type": "code",
   "execution_count": 2,
   "id": "aefcfc4c-6338-4be3-b428-7239c853ade7",
   "metadata": {},
   "outputs": [],
   "source": [
    "train_data = np.load(\"full_obs_data_train.npz\")\n",
    "val_data = np.load(\"full_obs_data_val.npz\")\n",
    "test_data = np.load(\"full_obs_data_test.npz\")\n",
    "\n",
    "dn = train_data[\"dn\"]\n",
    "senior = train_data[\"senior\"]\n",
    "topo = train_data[\"topo\"]\n",
    "\n",
    "dn = np.hstack([np.zeros((dn.shape[0],1)),dn])\n",
    "senior = np.hstack([np.ones((senior.shape[0],1)),senior])\n",
    "topo = np.hstack([2 * np.ones((topo.shape[0],1)),topo])\n",
    "\n",
    "Xy_train = np.concatenate([dn,senior,topo],axis=0)\n",
    "X_train, y_train = Xy_train[:, :-1], Xy_train[:,-1]\n",
    "\n",
    "\n",
    "dn = val_data[\"dn\"]\n",
    "senior = val_data[\"senior\"]\n",
    "topo = val_data[\"topo\"]\n",
    "\n",
    "dn = np.hstack([np.zeros((dn.shape[0],1)),dn])\n",
    "senior = np.hstack([np.ones((senior.shape[0],1)),senior])\n",
    "topo = np.hstack([2 * np.ones((topo.shape[0],1)),topo])\n",
    "\n",
    "Xy_val = np.concatenate([dn,senior,topo],axis=0)\n",
    "X_val, y_val = Xy_val[:, :-1], Xy_val[:,-1]\n",
    "\n",
    "dn = test_data[\"dn\"]\n",
    "senior = test_data[\"senior\"]\n",
    "topo = test_data[\"topo\"]\n",
    "\n",
    "dn = np.hstack([np.zeros((dn.shape[0],1)),dn])\n",
    "senior = np.hstack([np.ones((senior.shape[0],1)),senior])\n",
    "topo = np.hstack([2 * np.ones((topo.shape[0],1)),topo])\n",
    "\n",
    "Xy_test = np.concatenate([dn,senior,topo],axis=0)\n",
    "X_test, y_test = Xy_test[:, :-1], Xy_test[:,-1]"
   ]
  },
  {
   "cell_type": "code",
   "execution_count": 3,
   "id": "6ce5985d-6382-473f-a60a-abb9b63692c0",
   "metadata": {},
   "outputs": [
    {
     "name": "stdout",
     "output_type": "stream",
     "text": [
      "(6036, 4296) (6036,)\n"
     ]
    }
   ],
   "source": [
    "dn = np.load(\"OOD_DoNothing_obs_data.npy\")\n",
    "senior = np.load(\"OOD_Senior_original_95_obs_data.npy\")\n",
    "topo = np.load(\"OOD_Topo_Agent_95_2_obs_data.npy\")\n",
    "\n",
    "dn = np.hstack([np.zeros((dn.shape[0],1)),dn])\n",
    "senior = np.hstack([np.ones((senior.shape[0],1)),senior])\n",
    "topo = np.hstack([2 * np.ones((topo.shape[0],1)),topo])\n",
    "\n",
    "\n",
    "Xy_test_ood = np.concatenate([dn, senior, topo])\n",
    "X_test_ood, y_test_ood = Xy_test_ood[:,:-1], Xy_test_ood[:,-1]\n",
    "print(X_test_ood.shape, y_test_ood.shape)\n",
    "\n"
   ]
  },
  {
   "cell_type": "markdown",
   "id": "a0c02f00-ce58-4de4-951a-ed59a369159b",
   "metadata": {},
   "source": [
    "# Model input"
   ]
  },
  {
   "cell_type": "code",
   "execution_count": 4,
   "id": "49adfe82-54c9-4d1e-af1c-c29f68005d89",
   "metadata": {},
   "outputs": [],
   "source": [
    "#lgb_model.fit(X_train, y_train)\n",
    "with open('./models/lightgbm_new.pkl', 'rb') as f:\n",
    "    lgb_model_new = pickle.load(f)\n",
    "\n",
    " \n",
    "with open('./models/rf_new.pkl', 'rb') as f:\n",
    "    rf = pickle.load(f)\n",
    "\n",
    "with open('./models/xg_best_new.pkl', 'rb') as f:\n",
    "    xg = pickle.load(f)"
   ]
  },
  {
   "cell_type": "code",
   "execution_count": 5,
   "id": "d8202943-08ca-49ec-9d94-649196a55ea8",
   "metadata": {},
   "outputs": [],
   "source": [
    "from sklearn.metrics import accuracy_score, balanced_accuracy_score, f1_score\n",
    "# acc, balanced_acc, f1_score, binary_acc, ood_balanced_acc\n",
    "def calculate_metrics(model, X,y):\n",
    "    results = {}\n",
    "    pred = model.predict(X)\n",
    "    results[\"accuracy\"] = accuracy_score(y, pred)\n",
    "    results[\"balanced_accuracy\"] = balanced_accuracy_score(y, pred)\n",
    "    results[\"f1_micro\"] = f1_score(y, pred, average=\"micro\")\n",
    "    #results[\"f1_macro\"] = f1_score(y, pred, average=\"macro\")\n",
    "\n",
    "    y_pred_prob = model.predict_proba(X)[:, [0, 3, 2, 1]]\n",
    "    surv = y_pred_prob[:,0]\n",
    "    fail = np.sum(y_pred_prob[:,1:4], axis=1)\n",
    "    y_pred_binary = (surv < fail).astype(int)\n",
    "    \n",
    "    y_binary = y.copy()\n",
    "    y_binary[y_binary > 0] = 1\n",
    "\n",
    "\n",
    "    \n",
    "    results[\"binary_accuracy\"] = accuracy_score(y_binary, y_pred_binary)\n",
    "\n",
    "    return results\n",
    "    "
   ]
  },
  {
   "cell_type": "markdown",
   "id": "b42baca7-c425-4295-8d5b-3ffec3ead69a",
   "metadata": {},
   "source": [
    "## lightgbm"
   ]
  },
  {
   "cell_type": "code",
   "execution_count": 6,
   "id": "1c461abe-f5be-433e-99a5-106f7f762e2c",
   "metadata": {},
   "outputs": [],
   "source": [
    "test_results = calculate_metrics(lgb_model_new, X_test, y_test)\n",
    "ood_results = calculate_metrics(lgb_model_new, X_test_ood, y_test_ood)\n",
    "test_results[\"ood_balanced_accuracy\"] = ood_results[\"balanced_accuracy\"]\n",
    "test_results[\"ood_binary_accuracy\"] = ood_results[\"binary_accuracy\"]\n",
    "\n",
    "df_lightgbm = pd.DataFrame([test_results])\n",
    "#df.columns = [\"train\", \"val\", \"test\", \"ood\"]\n",
    "#lgb_model_new.index = [\"lightgbm\"]\n",
    "df_lightgbm\n",
    "df_lightgbm.index = [\"LGBM\"]"
   ]
  },
  {
   "cell_type": "code",
   "execution_count": 7,
   "id": "e01c1a7b-e50b-478e-aff6-1fdffdef1758",
   "metadata": {},
   "outputs": [
    {
     "data": {
      "text/html": [
       "<div>\n",
       "<style scoped>\n",
       "    .dataframe tbody tr th:only-of-type {\n",
       "        vertical-align: middle;\n",
       "    }\n",
       "\n",
       "    .dataframe tbody tr th {\n",
       "        vertical-align: top;\n",
       "    }\n",
       "\n",
       "    .dataframe thead th {\n",
       "        text-align: right;\n",
       "    }\n",
       "</style>\n",
       "<table border=\"1\" class=\"dataframe\">\n",
       "  <thead>\n",
       "    <tr style=\"text-align: right;\">\n",
       "      <th></th>\n",
       "      <th>accuracy</th>\n",
       "      <th>balanced_accuracy</th>\n",
       "      <th>f1_micro</th>\n",
       "      <th>binary_accuracy</th>\n",
       "      <th>ood_balanced_accuracy</th>\n",
       "      <th>ood_binary_accuracy</th>\n",
       "    </tr>\n",
       "  </thead>\n",
       "  <tbody>\n",
       "    <tr>\n",
       "      <th>LGBM</th>\n",
       "      <td>0.82</td>\n",
       "      <td>0.76</td>\n",
       "      <td>0.82</td>\n",
       "      <td>0.87</td>\n",
       "      <td>0.76</td>\n",
       "      <td>0.87</td>\n",
       "    </tr>\n",
       "  </tbody>\n",
       "</table>\n",
       "</div>"
      ],
      "text/plain": [
       "      accuracy  balanced_accuracy  f1_micro  binary_accuracy  \\\n",
       "LGBM      0.82               0.76      0.82             0.87   \n",
       "\n",
       "      ood_balanced_accuracy  ood_binary_accuracy  \n",
       "LGBM                   0.76                 0.87  "
      ]
     },
     "execution_count": 7,
     "metadata": {},
     "output_type": "execute_result"
    }
   ],
   "source": [
    "df_lightgbm.round(2)"
   ]
  },
  {
   "cell_type": "markdown",
   "id": "234b3ad9-b97c-41ac-923d-677b095ece29",
   "metadata": {},
   "source": [
    "## RF"
   ]
  },
  {
   "cell_type": "code",
   "execution_count": 8,
   "id": "ccc09357-9529-42f3-9d49-11f70d6b4534",
   "metadata": {},
   "outputs": [],
   "source": [
    "#train_results = calculate_metrics(lgb_model, X_train, y_train)\n",
    "#val_results = calculate_metrics(lgb_model, X_val, y_val)\n",
    "test_results = calculate_metrics(rf, X_test, y_test)\n",
    "ood_results = calculate_metrics(rf, X_test_ood, y_test_ood) "
   ]
  },
  {
   "cell_type": "code",
   "execution_count": 10,
   "id": "2f57d4a0-e364-4bb8-a0cf-69ea09a2679b",
   "metadata": {},
   "outputs": [
    {
     "data": {
      "text/html": [
       "<div>\n",
       "<style scoped>\n",
       "    .dataframe tbody tr th:only-of-type {\n",
       "        vertical-align: middle;\n",
       "    }\n",
       "\n",
       "    .dataframe tbody tr th {\n",
       "        vertical-align: top;\n",
       "    }\n",
       "\n",
       "    .dataframe thead th {\n",
       "        text-align: right;\n",
       "    }\n",
       "</style>\n",
       "<table border=\"1\" class=\"dataframe\">\n",
       "  <thead>\n",
       "    <tr style=\"text-align: right;\">\n",
       "      <th></th>\n",
       "      <th>accuracy</th>\n",
       "      <th>balanced_accuracy</th>\n",
       "      <th>f1_micro</th>\n",
       "      <th>binary_accuracy</th>\n",
       "      <th>ood_balanced_accuracy</th>\n",
       "      <th>ood_binary_accuracy</th>\n",
       "    </tr>\n",
       "  </thead>\n",
       "  <tbody>\n",
       "    <tr>\n",
       "      <th>RF</th>\n",
       "      <td>0.73</td>\n",
       "      <td>0.62</td>\n",
       "      <td>0.73</td>\n",
       "      <td>0.82</td>\n",
       "      <td>0.61</td>\n",
       "      <td>0.82</td>\n",
       "    </tr>\n",
       "  </tbody>\n",
       "</table>\n",
       "</div>"
      ],
      "text/plain": [
       "    accuracy  balanced_accuracy  f1_micro  binary_accuracy  \\\n",
       "RF      0.73               0.62      0.73             0.82   \n",
       "\n",
       "    ood_balanced_accuracy  ood_binary_accuracy  \n",
       "RF                   0.61                 0.82  "
      ]
     },
     "execution_count": 10,
     "metadata": {},
     "output_type": "execute_result"
    }
   ],
   "source": [
    "test_results[\"ood_balanced_accuracy\"] = ood_results[\"balanced_accuracy\"]\n",
    "test_results[\"ood_binary_accuracy\"] = ood_results[\"binary_accuracy\"]\n",
    "\n",
    "df_rf = pd.DataFrame([test_results])\n",
    "#df.columns = [\"train\", \"val\", \"test\", \"ood\"]\n",
    "df_rf.index = [\"RF\"]\n",
    "df_rf.round(2)"
   ]
  },
  {
   "cell_type": "code",
   "execution_count": 11,
   "id": "04b27c54-c7b1-4556-b5e2-3e8d33193367",
   "metadata": {},
   "outputs": [],
   "source": []
  },
  {
   "cell_type": "markdown",
   "id": "b9258b50-2f80-4abf-88dc-a1d587330ee5",
   "metadata": {},
   "source": [
    "## XGBoost"
   ]
  },
  {
   "cell_type": "code",
   "execution_count": 12,
   "id": "2191623e-c485-44ef-a14e-e1df67195ef9",
   "metadata": {},
   "outputs": [],
   "source": [
    "import xgboost as xgb\n",
    "dtrain_clf = xgb.DMatrix(X_train, y_train, enable_categorical = True)\n",
    "dval_clf = xgb.DMatrix(X_val, y_val, enable_categorical = True)\n",
    "dtest_clf = xgb.DMatrix(X_test, y_test, enable_categorical = True)\n",
    "dtest_ood_clf = xgb.DMatrix(X_test_ood, y_test_ood, enable_categorical = True)\n",
    "\n"
   ]
  },
  {
   "cell_type": "code",
   "execution_count": 13,
   "id": "10282e11-b0ac-4301-af81-298f34e5ba8b",
   "metadata": {},
   "outputs": [],
   "source": [
    "from sklearn.metrics import accuracy_score, balanced_accuracy_score, f1_score\n",
    "# acc, balanced_acc, f1_score, binary_acc, ood_balanced_acc\n",
    "def calculate_metrics_xg(model, X,y):\n",
    "    results = {}\n",
    "    pred_probs = model.predict(X)\n",
    "    pred = pred_probs.argmax(axis=1)\n",
    "\n",
    "    results[\"accuracy\"] = accuracy_score(y, pred)\n",
    "    results[\"balanced_accuracy\"] = balanced_accuracy_score(y, pred)\n",
    "    results[\"f1_micro\"] = f1_score(y, pred, average=\"micro\")\n",
    "    #results[\"f1_macro\"] = f1_score(y, pred, average=\"macro\")\n",
    "\n",
    "    \n",
    "\n",
    "    # binary \n",
    "    y_binary = y.copy()\n",
    "    pred_binary = pred.copy()\n",
    "    y_binary[y_binary > 0] = 1\n",
    "    pred_binary[pred_binary > 0] = 1\n",
    "\n",
    "   \n",
    "    results[\"binary_accuracy\"] = accuracy_score(y_binary, pred_binary)\n",
    "\n",
    "    return results\n",
    "    "
   ]
  },
  {
   "cell_type": "code",
   "execution_count": 14,
   "id": "bf4b78a5-bd7c-4880-9e5a-22285b345164",
   "metadata": {},
   "outputs": [],
   "source": [
    "#train_results = calculate_metrics_xg(xg, dtrain_clf, y_train)\n",
    "#val_results = calculate_metrics_xg(xg, dval_clf, y_val)\n",
    "test_results = calculate_metrics_xg(xg, dtest_clf, y_test)\n",
    "ood_results = calculate_metrics_xg(xg, dtest_ood_clf, y_test_ood) "
   ]
  },
  {
   "cell_type": "code",
   "execution_count": 16,
   "id": "a06edb0d-7e05-4d83-8dfc-bd32b011600b",
   "metadata": {},
   "outputs": [
    {
     "data": {
      "text/html": [
       "<div>\n",
       "<style scoped>\n",
       "    .dataframe tbody tr th:only-of-type {\n",
       "        vertical-align: middle;\n",
       "    }\n",
       "\n",
       "    .dataframe tbody tr th {\n",
       "        vertical-align: top;\n",
       "    }\n",
       "\n",
       "    .dataframe thead th {\n",
       "        text-align: right;\n",
       "    }\n",
       "</style>\n",
       "<table border=\"1\" class=\"dataframe\">\n",
       "  <thead>\n",
       "    <tr style=\"text-align: right;\">\n",
       "      <th></th>\n",
       "      <th>accuracy</th>\n",
       "      <th>balanced_accuracy</th>\n",
       "      <th>f1_micro</th>\n",
       "      <th>binary_accuracy</th>\n",
       "      <th>ood_balanced_accuracy</th>\n",
       "      <th>ood_binary_accuracy</th>\n",
       "    </tr>\n",
       "  </thead>\n",
       "  <tbody>\n",
       "    <tr>\n",
       "      <th>XGBoost</th>\n",
       "      <td>0.8</td>\n",
       "      <td>0.73</td>\n",
       "      <td>0.8</td>\n",
       "      <td>0.83</td>\n",
       "      <td>0.73</td>\n",
       "      <td>0.83</td>\n",
       "    </tr>\n",
       "  </tbody>\n",
       "</table>\n",
       "</div>"
      ],
      "text/plain": [
       "         accuracy  balanced_accuracy  f1_micro  binary_accuracy  \\\n",
       "XGBoost       0.8               0.73       0.8             0.83   \n",
       "\n",
       "         ood_balanced_accuracy  ood_binary_accuracy  \n",
       "XGBoost                   0.73                 0.83  "
      ]
     },
     "execution_count": 16,
     "metadata": {},
     "output_type": "execute_result"
    }
   ],
   "source": [
    "test_results[\"ood_balanced_accuracy\"] = ood_results[\"balanced_accuracy\"]\n",
    "test_results[\"ood_binary_accuracy\"] = ood_results[\"binary_accuracy\"]\n",
    "\n",
    "df_xg = pd.DataFrame([test_results])\n",
    "#df_xg.columns = [\"train\", \"val\", \"test\", \"ood\"]\n",
    "df_xg.index = [\"XGBoost\"]\n",
    "df_xg.round(2)"
   ]
  },
  {
   "cell_type": "code",
   "execution_count": 22,
   "id": "74a7c076-f76d-44ae-8c8d-c333b6441deb",
   "metadata": {},
   "outputs": [
    {
     "data": {
      "text/html": [
       "<div>\n",
       "<style scoped>\n",
       "    .dataframe tbody tr th:only-of-type {\n",
       "        vertical-align: middle;\n",
       "    }\n",
       "\n",
       "    .dataframe tbody tr th {\n",
       "        vertical-align: top;\n",
       "    }\n",
       "\n",
       "    .dataframe thead th {\n",
       "        text-align: right;\n",
       "    }\n",
       "</style>\n",
       "<table border=\"1\" class=\"dataframe\">\n",
       "  <thead>\n",
       "    <tr style=\"text-align: right;\">\n",
       "      <th></th>\n",
       "      <th>accuracy</th>\n",
       "      <th>balanced_accuracy</th>\n",
       "      <th>f1_micro</th>\n",
       "      <th>binary_accuracy</th>\n",
       "      <th>ood_balanced_accuracy</th>\n",
       "      <th>ood_binary_accuracy</th>\n",
       "    </tr>\n",
       "  </thead>\n",
       "  <tbody>\n",
       "    <tr>\n",
       "      <th>RF</th>\n",
       "      <td>0.73</td>\n",
       "      <td>0.62</td>\n",
       "      <td>0.73</td>\n",
       "      <td>0.82</td>\n",
       "      <td>0.61</td>\n",
       "      <td>0.82</td>\n",
       "    </tr>\n",
       "    <tr>\n",
       "      <th>XGBoost</th>\n",
       "      <td>0.80</td>\n",
       "      <td>0.73</td>\n",
       "      <td>0.80</td>\n",
       "      <td>0.83</td>\n",
       "      <td>0.73</td>\n",
       "      <td>0.83</td>\n",
       "    </tr>\n",
       "    <tr>\n",
       "      <th>LGBM</th>\n",
       "      <td>0.82</td>\n",
       "      <td>0.76</td>\n",
       "      <td>0.82</td>\n",
       "      <td>0.87</td>\n",
       "      <td>0.76</td>\n",
       "      <td>0.87</td>\n",
       "    </tr>\n",
       "  </tbody>\n",
       "</table>\n",
       "</div>"
      ],
      "text/plain": [
       "         accuracy  balanced_accuracy  f1_micro  binary_accuracy  \\\n",
       "RF           0.73               0.62      0.73             0.82   \n",
       "XGBoost      0.80               0.73      0.80             0.83   \n",
       "LGBM         0.82               0.76      0.82             0.87   \n",
       "\n",
       "         ood_balanced_accuracy  ood_binary_accuracy  \n",
       "RF                        0.61                 0.82  \n",
       "XGBoost                   0.73                 0.83  \n",
       "LGBM                      0.76                 0.87  "
      ]
     },
     "execution_count": 22,
     "metadata": {},
     "output_type": "execute_result"
    }
   ],
   "source": [
    "df = pd.concat([df_rf, df_xg, df_lightgbm])\n",
    "df.round(2)"
   ]
  },
  {
   "cell_type": "code",
   "execution_count": null,
   "id": "1f633e0a-1bb3-42a9-83be-bd7d561ff6a1",
   "metadata": {},
   "outputs": [],
   "source": []
  }
 ],
 "metadata": {
  "kernelspec": {
   "display_name": "Python 3 (ipykernel)",
   "language": "python",
   "name": "python3"
  },
  "language_info": {
   "codemirror_mode": {
    "name": "ipython",
    "version": 3
   },
   "file_extension": ".py",
   "mimetype": "text/x-python",
   "name": "python",
   "nbconvert_exporter": "python",
   "pygments_lexer": "ipython3",
   "version": "3.9.18"
  }
 },
 "nbformat": 4,
 "nbformat_minor": 5
}
