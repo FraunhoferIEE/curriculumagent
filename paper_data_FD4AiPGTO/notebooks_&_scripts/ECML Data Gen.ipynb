{
 "cells": [
  {
   "cell_type": "markdown",
   "id": "2caeb13f-8b72-4d21-b7d1-342263c401ec",
   "metadata": {},
   "source": [
    "# Data Generation Notebook. \n",
    "\n",
    "This is the notebook for getting the data. First we collect the cluster data, afterwards the data for the forecasting and the validation set.\n",
    "\n",
    "We have the following structure: \n",
    "#### 1. Generate Datasets Clustering\n",
    "#### 2. Generate Dataset for Forecasting\n",
    "#### 3. Get Test Data from Validation Environment"
   ]
  },
  {
   "cell_type": "code",
   "execution_count": 1,
   "id": "ec2aef66-d7a3-462e-81c1-918758618857",
   "metadata": {
    "ExecuteTime": {
     "end_time": "2024-05-15T15:03:27.449444Z",
     "start_time": "2024-05-15T15:03:27.418555Z"
    }
   },
   "outputs": [
    {
     "name": "stdout",
     "output_type": "stream",
     "text": [
      "/home/mlehna/AI2Go/Paper\n"
     ]
    },
    {
     "data": {
      "text/plain": [
       "128"
      ]
     },
     "execution_count": 1,
     "metadata": {},
     "output_type": "execute_result"
    }
   ],
   "source": [
    "import os\n",
    "#os.chdir(\"..\")\n",
    "print(os.getcwd())\n",
    "os.cpu_count()"
   ]
  },
  {
   "cell_type": "code",
   "execution_count": 2,
   "id": "3b6306a5-0c9f-41b0-a18c-ab59f92a0923",
   "metadata": {
    "ExecuteTime": {
     "end_time": "2024-05-15T15:40:35.879032Z",
     "start_time": "2024-05-15T15:40:27.195085Z"
    }
   },
   "outputs": [
    {
     "name": "stderr",
     "output_type": "stream",
     "text": [
      "/share/data1/GYM/anaconda3/envs/py310/lib/python3.10/site-packages/lightsim2grid/securityAnalysis.py:76: FutureWarning: In the future `np.str` will be defined as the corresponding NumPy scalar.\n",
      "  STR_TYPES = (str, np.str, np.str_)\n"
     ]
    }
   ],
   "source": [
    "import json\n",
    "import csv\n",
    "from tqdm import tqdm\n",
    "import grid2op\n",
    "\n",
    "import numpy as np\n",
    "import os\n",
    "from pathlib import Path\n",
    "from joblib import Parallel, delayed\n",
    "import multiprocessing as mp\n",
    "\n",
    "from grid2op.PlotGrid import PlotMatplot\n",
    "from tqdm import tqdm\n",
    "import pickle"
   ]
  },
  {
   "cell_type": "code",
   "execution_count": 3,
   "id": "567b7625-efa4-4c5f-9474-c0ddb8a9fb9e",
   "metadata": {},
   "outputs": [
    {
     "name": "stdout",
     "output_type": "stream",
     "text": [
      "[4483, 2120, 6825, 5612, 2224, 4735, 1016, 3891, 2377, 4582]\n"
     ]
    }
   ],
   "source": [
    "np.random.seed(8888)\n",
    "seeds = list(np.random.randint(0, 10000,10))\n",
    "print(seeds)"
   ]
  },
  {
   "cell_type": "code",
   "execution_count": 4,
   "id": "6f20ba02-9b09-4c5e-b72c-a8686b5564a0",
   "metadata": {},
   "outputs": [
    {
     "name": "stderr",
     "output_type": "stream",
     "text": [
      "numba cannot be imported and numba functions are disabled.\n",
      "Probably the execution is slow.\n",
      "Please install numba to gain a massive speedup.\n",
      "(or if you prefer slow execution, set the flag numba=False to avoid this warning!)\n",
      "\n",
      "numba cannot be imported and numba functions are disabled.\n",
      "Probably the execution is slow.\n",
      "Please install numba to gain a massive speedup.\n",
      "(or if you prefer slow execution, set the flag numba=False to avoid this warning!)\n",
      "\n",
      "numba cannot be imported and numba functions are disabled.\n",
      "Probably the execution is slow.\n",
      "Please install numba to gain a massive speedup.\n",
      "(or if you prefer slow execution, set the flag numba=False to avoid this warning!)\n",
      "\n",
      "numba cannot be imported and numba functions are disabled.\n",
      "Probably the execution is slow.\n",
      "Please install numba to gain a massive speedup.\n",
      "(or if you prefer slow execution, set the flag numba=False to avoid this warning!)\n",
      "\n"
     ]
    }
   ],
   "source": [
    "env = grid2op.make('l2rpn_wcci_2022')\n",
    "#plot_helper = PlotMatplot(env.observation_space)\n",
    "obs_original = env.reset()\n",
    "#fig = plot_helper.plot_obs(obs_original,storage_info=None,gen_info=None,load_info=None)"
   ]
  },
  {
   "cell_type": "markdown",
   "id": "9d64eb3b-c2bb-45ef-87fa-d2535ddff003",
   "metadata": {
    "tags": []
   },
   "source": [
    "# 1. Generate Datasets Clustering"
   ]
  },
  {
   "cell_type": "code",
   "execution_count": 19,
   "id": "9c8cf616-83a3-4619-a98c-c14f873fb973",
   "metadata": {},
   "outputs": [],
   "source": [
    "# There are only 3 Error Types: \n",
    "err_id = {'Grid2OpException DivergingPowerFlow \"Divergence of DC powerflow (non connected grid) at the initialization of AC powerflow. Detailed error: ErrorType.SolverFactor\"': 0,\n",
    "          'Grid2OpException DivergingPowerFlow \"Divergence of AC powerflow. Detailed error: ErrorType.TooManyIterations\"': 1,\n",
    "          'Grid2OpException DivergingPowerFlow \"Divergence of DC powerflow (non connected grid) at the initialization of AC powerflow. Detailed error: ErrorType.SolverSolve\"':2}\n",
    "\n",
    "def gen_obs(path):\n",
    "    \"\"\"\n",
    "    Generate Observations\n",
    "    \"\"\"\n",
    "    path = Path(path)\n",
    "    metapath = path/\"episode_meta.json\"\n",
    "    try: \n",
    "        with open(metapath) as json_file:\n",
    "            meta = json.load(json_file)\n",
    "\n",
    "\n",
    "        if meta['nb_timestep_played']==2017: \n",
    "            return None\n",
    "        else: \n",
    "            try: \n",
    "                o = np.load(path /\"observations.npz\")[\"data\"]\n",
    "            except FileNotFoundError:\n",
    "                pass\n",
    "            # Get error type: \n",
    "            e_t = meta['info'].get('exception',[\"no_error\"])[0]\n",
    "\n",
    "            # Set counter & id\n",
    "            id_e = err_id[e_t]\n",
    "\n",
    "            # Extract and save observation step -1,-3,-5\n",
    "            obs_start = np.hstack([-1,0,o[0]])\n",
    "            obs1 = np.hstack([id_e,meta['nb_timestep_played'],o[meta['nb_timestep_played']-1]])\n",
    "            obs3 = np.hstack([id_e,meta['nb_timestep_played'],o[meta['nb_timestep_played']-3]])\n",
    "            obs5 = np.hstack([id_e,meta['nb_timestep_played'],o[meta['nb_timestep_played']-5]])\n",
    "            return [obs1,obs3,obs5,obs_start]\n",
    "    except FileNotFoundError:\n",
    "        logging.info(f\"Meta not found in {path}\")\n",
    "        return None\n",
    "\n",
    "    except json.JSONDecodeError:\n",
    "        logging.info(f\"Meta had a problem loading: {metapath}\")\n",
    "        return None\n",
    "    "
   ]
  },
  {
   "cell_type": "code",
   "execution_count": 20,
   "id": "28bb084a-9216-4aa9-ac75-8df3019ead20",
   "metadata": {
    "tags": []
   },
   "outputs": [
    {
     "data": {
      "text/plain": [
       "[array([1.00e+00, 6.76e+02, 2.05e+03, ..., 0.00e+00, 0.00e+00, 0.00e+00]),\n",
       " array([1.00e+00, 6.76e+02, 2.05e+03, ..., 0.00e+00, 0.00e+00, 0.00e+00]),\n",
       " array([1.00e+00, 6.76e+02, 2.05e+03, ..., 0.00e+00, 0.00e+00, 0.00e+00]),\n",
       " array([-1.00000000e+00,  0.00000000e+00,  2.05000000e+03, ...,\n",
       "         0.00000000e+00,  5.69999981e+00,  0.00000000e+00])]"
      ]
     },
     "execution_count": 20,
     "metadata": {},
     "output_type": "execute_result"
    }
   ],
   "source": [
    "gen_obs(parallel_set[0])"
   ]
  },
  {
   "cell_type": "code",
   "execution_count": 33,
   "id": "7419cea1-688d-4cdf-bf7f-0c96a6e452ed",
   "metadata": {},
   "outputs": [
    {
     "name": "stdout",
     "output_type": "stream",
     "text": [
      "Collecting Senior_original_95\n"
     ]
    },
    {
     "name": "stderr",
     "output_type": "stream",
     "text": [
      "  0%|          | 0/10 [00:00<?, ?it/s]"
     ]
    },
    {
     "name": "stdout",
     "output_type": "stream",
     "text": [
      "Collecting all 1662 episodes of seed 4483 for agent Senior_original_95:\n"
     ]
    },
    {
     "name": "stderr",
     "output_type": "stream",
     "text": [
      " 10%|█         | 1/10 [00:21<03:16, 21.79s/it]"
     ]
    },
    {
     "name": "stdout",
     "output_type": "stream",
     "text": [
      "Done with Seed 4483. A total of 71.0% could be processed\n",
      "Collecting all 1662 episodes of seed 2120 for agent Senior_original_95:\n"
     ]
    },
    {
     "name": "stderr",
     "output_type": "stream",
     "text": [
      " 20%|██        | 2/10 [00:44<02:56, 22.07s/it]"
     ]
    },
    {
     "name": "stdout",
     "output_type": "stream",
     "text": [
      "Done with Seed 2120. A total of 71.0% could be processed\n",
      "Collecting all 1662 episodes of seed 6825 for agent Senior_original_95:\n"
     ]
    },
    {
     "name": "stderr",
     "output_type": "stream",
     "text": [
      " 30%|███       | 3/10 [01:05<02:33, 21.99s/it]"
     ]
    },
    {
     "name": "stdout",
     "output_type": "stream",
     "text": [
      "Done with Seed 6825. A total of 71.0% could be processed\n",
      "Collecting all 1662 episodes of seed 5612 for agent Senior_original_95:\n"
     ]
    },
    {
     "name": "stderr",
     "output_type": "stream",
     "text": [
      " 40%|████      | 4/10 [01:27<02:11, 21.95s/it]"
     ]
    },
    {
     "name": "stdout",
     "output_type": "stream",
     "text": [
      "Done with Seed 5612. A total of 70.0% could be processed\n",
      "Collecting all 1662 episodes of seed 2224 for agent Senior_original_95:\n"
     ]
    },
    {
     "name": "stderr",
     "output_type": "stream",
     "text": [
      " 50%|█████     | 5/10 [01:48<01:48, 21.66s/it]"
     ]
    },
    {
     "name": "stdout",
     "output_type": "stream",
     "text": [
      "Done with Seed 2224. A total of 69.0% could be processed\n",
      "Collecting all 1662 episodes of seed 4735 for agent Senior_original_95:\n"
     ]
    },
    {
     "name": "stderr",
     "output_type": "stream",
     "text": [
      " 60%|██████    | 6/10 [02:11<01:27, 21.96s/it]"
     ]
    },
    {
     "name": "stdout",
     "output_type": "stream",
     "text": [
      "Done with Seed 4735. A total of 72.0% could be processed\n",
      "Collecting all 1662 episodes of seed 1016 for agent Senior_original_95:\n"
     ]
    },
    {
     "name": "stderr",
     "output_type": "stream",
     "text": [
      " 70%|███████   | 7/10 [02:33<01:05, 21.89s/it]"
     ]
    },
    {
     "name": "stdout",
     "output_type": "stream",
     "text": [
      "Done with Seed 1016. A total of 70.0% could be processed\n",
      "Collecting all 1662 episodes of seed 3891 for agent Senior_original_95:\n"
     ]
    },
    {
     "name": "stderr",
     "output_type": "stream",
     "text": [
      " 80%|████████  | 8/10 [02:55<00:43, 21.91s/it]"
     ]
    },
    {
     "name": "stdout",
     "output_type": "stream",
     "text": [
      "Done with Seed 3891. A total of 69.0% could be processed\n",
      "Collecting all 1662 episodes of seed 2377 for agent Senior_original_95:\n"
     ]
    },
    {
     "name": "stderr",
     "output_type": "stream",
     "text": [
      " 90%|█████████ | 9/10 [03:17<00:21, 21.97s/it]"
     ]
    },
    {
     "name": "stdout",
     "output_type": "stream",
     "text": [
      "Done with Seed 2377. A total of 72.0% could be processed\n",
      "Collecting all 1662 episodes of seed 4582 for agent Senior_original_95:\n"
     ]
    },
    {
     "name": "stderr",
     "output_type": "stream",
     "text": [
      "100%|██████████| 10/10 [03:39<00:00, 21.92s/it]\n"
     ]
    },
    {
     "name": "stdout",
     "output_type": "stream",
     "text": [
      "Done with Seed 4582. A total of 70.0% could be processed\n",
      "Collecting DoNothing\n"
     ]
    },
    {
     "name": "stderr",
     "output_type": "stream",
     "text": [
      "  0%|          | 0/10 [00:00<?, ?it/s]"
     ]
    },
    {
     "name": "stdout",
     "output_type": "stream",
     "text": [
      "Collecting all 1662 episodes of seed 4483 for agent DoNothing:\n"
     ]
    },
    {
     "name": "stderr",
     "output_type": "stream",
     "text": [
      " 10%|█         | 1/10 [00:20<03:02, 20.22s/it]"
     ]
    },
    {
     "name": "stdout",
     "output_type": "stream",
     "text": [
      "Done with Seed 4483. A total of 99.0% could be processed\n",
      "Collecting all 1662 episodes of seed 2120 for agent DoNothing:\n"
     ]
    },
    {
     "name": "stderr",
     "output_type": "stream",
     "text": [
      " 20%|██        | 2/10 [00:43<02:54, 21.85s/it]"
     ]
    },
    {
     "name": "stdout",
     "output_type": "stream",
     "text": [
      "Done with Seed 2120. A total of 99.0% could be processed\n",
      "Collecting all 1662 episodes of seed 6825 for agent DoNothing:\n"
     ]
    },
    {
     "name": "stderr",
     "output_type": "stream",
     "text": [
      " 30%|███       | 3/10 [01:06<02:38, 22.65s/it]"
     ]
    },
    {
     "name": "stdout",
     "output_type": "stream",
     "text": [
      "Done with Seed 6825. A total of 99.0% could be processed\n",
      "Collecting all 1662 episodes of seed 5612 for agent DoNothing:\n"
     ]
    },
    {
     "name": "stderr",
     "output_type": "stream",
     "text": [
      " 40%|████      | 4/10 [01:30<02:17, 22.97s/it]"
     ]
    },
    {
     "name": "stdout",
     "output_type": "stream",
     "text": [
      "Done with Seed 5612. A total of 99.0% could be processed\n",
      "Collecting all 1662 episodes of seed 2224 for agent DoNothing:\n"
     ]
    },
    {
     "name": "stderr",
     "output_type": "stream",
     "text": [
      " 50%|█████     | 5/10 [01:54<01:56, 23.33s/it]"
     ]
    },
    {
     "name": "stdout",
     "output_type": "stream",
     "text": [
      "Done with Seed 2224. A total of 99.0% could be processed\n",
      "Collecting all 1662 episodes of seed 4735 for agent DoNothing:\n"
     ]
    },
    {
     "name": "stderr",
     "output_type": "stream",
     "text": [
      " 60%|██████    | 6/10 [02:21<01:38, 24.71s/it]"
     ]
    },
    {
     "name": "stdout",
     "output_type": "stream",
     "text": [
      "Done with Seed 4735. A total of 99.0% could be processed\n",
      "Collecting all 1662 episodes of seed 1016 for agent DoNothing:\n"
     ]
    },
    {
     "name": "stderr",
     "output_type": "stream",
     "text": [
      " 70%|███████   | 7/10 [02:47<01:15, 25.19s/it]"
     ]
    },
    {
     "name": "stdout",
     "output_type": "stream",
     "text": [
      "Done with Seed 1016. A total of 99.0% could be processed\n",
      "Collecting all 1662 episodes of seed 3891 for agent DoNothing:\n"
     ]
    },
    {
     "name": "stderr",
     "output_type": "stream",
     "text": [
      " 80%|████████  | 8/10 [03:11<00:49, 24.80s/it]"
     ]
    },
    {
     "name": "stdout",
     "output_type": "stream",
     "text": [
      "Done with Seed 3891. A total of 99.0% could be processed\n",
      "Collecting all 1662 episodes of seed 2377 for agent DoNothing:\n"
     ]
    },
    {
     "name": "stderr",
     "output_type": "stream",
     "text": [
      " 90%|█████████ | 9/10 [03:35<00:24, 24.58s/it]"
     ]
    },
    {
     "name": "stdout",
     "output_type": "stream",
     "text": [
      "Done with Seed 2377. A total of 99.0% could be processed\n",
      "Collecting all 1662 episodes of seed 4582 for agent DoNothing:\n"
     ]
    },
    {
     "name": "stderr",
     "output_type": "stream",
     "text": [
      "100%|██████████| 10/10 [04:00<00:00, 24.08s/it]\n"
     ]
    },
    {
     "name": "stdout",
     "output_type": "stream",
     "text": [
      "Done with Seed 4582. A total of 99.0% could be processed\n",
      "Collecting Topo_Agent_95_2\n"
     ]
    },
    {
     "name": "stderr",
     "output_type": "stream",
     "text": [
      "  0%|          | 0/10 [00:00<?, ?it/s]"
     ]
    },
    {
     "name": "stdout",
     "output_type": "stream",
     "text": [
      "Collecting all 1662 episodes of seed 4483 for agent Topo_Agent_95_2:\n"
     ]
    },
    {
     "name": "stderr",
     "output_type": "stream",
     "text": [
      " 10%|█         | 1/10 [00:25<03:47, 25.28s/it]"
     ]
    },
    {
     "name": "stdout",
     "output_type": "stream",
     "text": [
      "Done with Seed 4483. A total of 69.0% could be processed\n",
      "Collecting all 1662 episodes of seed 2120 for agent Topo_Agent_95_2:\n"
     ]
    },
    {
     "name": "stderr",
     "output_type": "stream",
     "text": [
      " 20%|██        | 2/10 [00:49<03:15, 24.46s/it]"
     ]
    },
    {
     "name": "stdout",
     "output_type": "stream",
     "text": [
      "Done with Seed 2120. A total of 69.0% could be processed\n",
      "Collecting all 1662 episodes of seed 6825 for agent Topo_Agent_95_2:\n"
     ]
    },
    {
     "name": "stderr",
     "output_type": "stream",
     "text": [
      " 30%|███       | 3/10 [01:11<02:45, 23.68s/it]"
     ]
    },
    {
     "name": "stdout",
     "output_type": "stream",
     "text": [
      "Done with Seed 6825. A total of 69.0% could be processed\n",
      "Collecting all 1662 episodes of seed 5612 for agent Topo_Agent_95_2:\n"
     ]
    },
    {
     "name": "stderr",
     "output_type": "stream",
     "text": [
      " 40%|████      | 4/10 [01:37<02:26, 24.46s/it]"
     ]
    },
    {
     "name": "stdout",
     "output_type": "stream",
     "text": [
      "Done with Seed 5612. A total of 69.0% could be processed\n",
      "Collecting all 1662 episodes of seed 2224 for agent Topo_Agent_95_2:\n"
     ]
    },
    {
     "name": "stderr",
     "output_type": "stream",
     "text": [
      " 50%|█████     | 5/10 [02:03<02:04, 24.98s/it]"
     ]
    },
    {
     "name": "stdout",
     "output_type": "stream",
     "text": [
      "Done with Seed 2224. A total of 69.0% could be processed\n",
      "Collecting all 1662 episodes of seed 4735 for agent Topo_Agent_95_2:\n"
     ]
    },
    {
     "name": "stderr",
     "output_type": "stream",
     "text": [
      " 60%|██████    | 6/10 [02:29<01:41, 25.47s/it]"
     ]
    },
    {
     "name": "stdout",
     "output_type": "stream",
     "text": [
      "Done with Seed 4735. A total of 72.0% could be processed\n",
      "Collecting all 1662 episodes of seed 1016 for agent Topo_Agent_95_2:\n"
     ]
    },
    {
     "name": "stderr",
     "output_type": "stream",
     "text": [
      " 70%|███████   | 7/10 [02:55<01:16, 25.59s/it]"
     ]
    },
    {
     "name": "stdout",
     "output_type": "stream",
     "text": [
      "Done with Seed 1016. A total of 68.0% could be processed\n",
      "Collecting all 1662 episodes of seed 3891 for agent Topo_Agent_95_2:\n"
     ]
    },
    {
     "name": "stderr",
     "output_type": "stream",
     "text": [
      " 80%|████████  | 8/10 [03:21<00:51, 25.79s/it]"
     ]
    },
    {
     "name": "stdout",
     "output_type": "stream",
     "text": [
      "Done with Seed 3891. A total of 68.0% could be processed\n",
      "Collecting all 1662 episodes of seed 2377 for agent Topo_Agent_95_2:\n"
     ]
    },
    {
     "name": "stderr",
     "output_type": "stream",
     "text": [
      " 90%|█████████ | 9/10 [03:48<00:26, 26.17s/it]"
     ]
    },
    {
     "name": "stdout",
     "output_type": "stream",
     "text": [
      "Done with Seed 2377. A total of 70.0% could be processed\n",
      "Collecting all 1662 episodes of seed 4582 for agent Topo_Agent_95_2:\n"
     ]
    },
    {
     "name": "stderr",
     "output_type": "stream",
     "text": [
      "100%|██████████| 10/10 [04:13<00:00, 25.35s/it]"
     ]
    },
    {
     "name": "stdout",
     "output_type": "stream",
     "text": [
      "Done with Seed 4582. A total of 68.0% could be processed\n"
     ]
    },
    {
     "name": "stderr",
     "output_type": "stream",
     "text": [
      "\n"
     ]
    }
   ],
   "source": [
    "import logging\n",
    "from multiprocessing import Pool\n",
    "agent_res =  {}\n",
    "\n",
    "for agent in [\"Senior_original_95\",\"DoNothing\",\"Topo_Agent_95_2\"]: #,\"Senior_original_95\", #,\"DoNothing\",\"Senior_original_95\"\n",
    "    print(f\"Collecting {agent}\")\n",
    "    obs1_res =[]\n",
    "    obs3_res = []\n",
    "    obs5_res = []\n",
    "    obs_start_r = []\n",
    "    for seed in tqdm(seeds):\n",
    "        path_saved = Path(f\"/share/data1/GYM/seed_ecml2/{seed}/agent_logs/{agent}/\")\n",
    "        if path_saved.is_dir():\n",
    "            all_ep = [ep for ep in os.listdir(Path(f\"/share/data1/GYM/seed_ecml2/{seed}/agent_logs/{agent}/\"))  if \"2050\" in ep]\n",
    "            parallel_set = [str(path_saved / ep) for ep in all_ep]\n",
    "            print(f\"Collecting all {len(parallel_set)} episodes of seed {seed} for agent {agent}:\")\n",
    "            \n",
    "            # ToDo: Pooling:\n",
    "            with Pool() as pool:\n",
    "                out = pool.map(gen_obs, parallel_set)\n",
    "            \n",
    "            out = [o for o in out if o is not None]\n",
    "        \n",
    "        for o in out:\n",
    "            obs1_res.append(o[0])\n",
    "            obs3_res.append(o[1])\n",
    "            obs5_res.append(o[2])\n",
    "            obs_start_r.append(o[3])\n",
    "        print(f\"Done with Seed {seed}. A total of {np.round(len(out)/len(parallel_set)*100,0)}% could be processed\")\n",
    "    \n",
    "    agent_res[agent] = [obs1_res,obs3_res,obs5_res,obs_start_r]"
   ]
  },
  {
   "cell_type": "code",
   "execution_count": 38,
   "id": "7fe83671-05c1-4e2a-aff4-34b41f04f475",
   "metadata": {},
   "outputs": [],
   "source": [
    "# Store data (serialize)\n",
    "with open('/share/data1/GYM/evaltrain_full.pkl', 'wb') as handle:\n",
    "    pickle.dump(agent_res, handle, protocol=pickle.HIGHEST_PROTOCOL)\n",
    "\n",
    "# Load data (deserialize)\n",
    "with open('/share/data1/GYM/evaltrain_full.pkl', 'rb') as handle:\n",
    "    agent_res = pickle.load(handle)"
   ]
  },
  {
   "cell_type": "markdown",
   "id": "c4482634-e962-49cb-af31-db1be4c0daf1",
   "metadata": {},
   "source": [
    "# 2. Generate Dataset for Forecasting"
   ]
  },
  {
   "cell_type": "code",
   "execution_count": 71,
   "id": "f12ac91e-846b-45f2-aa9c-ff6ffba7b04e",
   "metadata": {},
   "outputs": [],
   "source": [
    "\n",
    "def get_ep_res(path, top_n = 12):\n",
    "    \"\"\"\n",
    "    Generate episode results\n",
    "    \"\"\"\n",
    "    path = Path(path)\n",
    "    obs_data = []\n",
    "    try:\n",
    "        with open(path/ \"episode_meta.json\") as json_file:\n",
    "            meta = json.load(json_file)\n",
    "\n",
    "        if not meta['nb_timestep_played'] == 2017 and meta['nb_timestep_played'] > 10: \n",
    "            o = np.load(path/ \"observations.npz\")[\"data\"]\n",
    "\n",
    "            if len(o) <= 5+(top_n*10)+1:\n",
    "                raise Exception(f\"Too short observation list in ep {ep}\")\n",
    "\n",
    "            # Extract and save bad observations at steps -1, -3, -5\n",
    "            obs_data.append(np.append(o[meta['nb_timestep_played']-1],[1]))\n",
    "            obs_data.append(np.append(o[meta['nb_timestep_played']-3],[2]))\n",
    "            obs_data.append(np.append(o[meta['nb_timestep_played']-5],[3]))\n",
    "\n",
    "            # Extract all observations from 0 to max-6\n",
    "            observations = [(i, env.observation_space.from_vect(o[i])) for i in range(meta['nb_timestep_played'] - 6)]\n",
    "\n",
    "            # Sort them based on max_rho\n",
    "            sorted_obs_with_ids = sorted(observations, key=lambda x: x[1].rho.max(), reverse=True)\n",
    "\n",
    "            # Sample the top good observation\n",
    "            top_observation = sorted_obs_with_ids[0]\n",
    "\n",
    "            remaining_observations = sorted(sorted_obs_with_ids[1:top_n*10], key=lambda x: x[0], reverse=True)  # Sort by index\n",
    "            sampled_observations = [top_observation]\n",
    "\n",
    "            for candidate in remaining_observations:\n",
    "                if len(sampled_observations) >= top_n:\n",
    "                    break\n",
    "                if all(abs(candidate[0] - obs[0]) >= 10 for obs in sampled_observations):\n",
    "                    sampled_observations.append(candidate)\n",
    "\n",
    "            # Append the sampled good observations to obs_data\n",
    "            for id, _ in sampled_observations:\n",
    "                obs_data.append(np.append(o[id], [0]))\n",
    "            \n",
    "            return obs_data\n",
    "                      \n",
    "    except Exception as e: \n",
    "        print(f\"Error with agent in path {path}: {e}\")\n",
    "    \n",
    "    \n",
    "def generate_datasets2(seeds_path, savepath, environment_name, seed_ids=None, ep_year=\"2050\", percentage_bad=0.2):\n",
    "    full_data = []\n",
    "    for agent in [\"Topo_Agent_95_2\", \"Senior_original_95\", \"DoNothing\"]:\n",
    "        \n",
    "        # calculate how many good observations regarding percentage_bad parameter\n",
    "        top_n = int(np.round(3*(1-percentage_bad)/percentage_bad))\n",
    "        print(f\"Generating of datasets with distribution: game_over={percentage_bad}, not_game_over={1-percentage_bad}\")\n",
    "        env = grid2op.make(environment_name)\n",
    "\n",
    "        obs_data = []\n",
    "        print(f\"Collecting {agent}\")\n",
    "        \n",
    "        seeds = seed_ids if seed_ids is not None else list(np.random.randint(0, 10000, 10))\n",
    "        for seed in tqdm(seeds):\n",
    "            path_saved = Path(f\"{seeds_path}/{seed}/agent_logs/{agent}/\")\n",
    "            \n",
    "            all_ep = [ep for ep in os.listdir(path_saved) if str(ep_year) in ep]\n",
    "            print(f\"Collecting all {len(all_ep)} episodes of seed {seed} for agent {agent}:\")\n",
    "            \n",
    "            parallel_set = [(path_saved / ep ,top_n) for ep in all_ep]\n",
    "            \n",
    "            with Pool() as pool:\n",
    "                out = pool.starmap(get_ep_res, parallel_set)\n",
    "            \n",
    "            out = [o for o in out if o is not None]\n",
    "            \n",
    "            obs_data.append(np.concatenate(out))\n",
    "        \n",
    "        # Save for agent: \n",
    "        obs_data = np.concatenate(obs_data)\n",
    "        \n",
    "        obs_data = np.unique( obs_data, axis=0)\n",
    "        print(f\"Save agent results of shape {obs_data.shape}\")\n",
    "        \n",
    "        \n",
    "        full_data.append(obs_data)\n",
    "        # Save all observations as an array dumped to csv\n",
    "        np.save(savepath/ f\"{agent}_obs_data.npy\",obs_data)\n",
    "\n",
    "   # Save for all: \n",
    "    full_data = np.concatenate(full_data)\n",
    "    # Save all observations as an array dumped to csv\n",
    "    np.save(savepath/ f\"all_obs_data.npy\",full_data)\n"
   ]
  },
  {
   "cell_type": "code",
   "execution_count": 73,
   "id": "66b4318e-8108-416a-af89-9e3ec7a20c83",
   "metadata": {
    "collapsed": true,
    "jupyter": {
     "outputs_hidden": true
    },
    "tags": []
   },
   "outputs": [
    {
     "name": "stdout",
     "output_type": "stream",
     "text": [
      "Generating of datasets with distribution: game_over=0.5, not_game_over=0.5\n"
     ]
    },
    {
     "name": "stderr",
     "output_type": "stream",
     "text": [
      "WARNING:pandapower.auxiliary:numba cannot be imported and numba functions are disabled.\n",
      "Probably the execution is slow.\n",
      "Please install numba to gain a massive speedup.\n",
      "(or if you prefer slow execution, set the flag numba=False to avoid this warning!)\n",
      "\n",
      "WARNING:pandapower.auxiliary:numba cannot be imported and numba functions are disabled.\n",
      "Probably the execution is slow.\n",
      "Please install numba to gain a massive speedup.\n",
      "(or if you prefer slow execution, set the flag numba=False to avoid this warning!)\n",
      "\n",
      "WARNING:pandapower.auxiliary:numba cannot be imported and numba functions are disabled.\n",
      "Probably the execution is slow.\n",
      "Please install numba to gain a massive speedup.\n",
      "(or if you prefer slow execution, set the flag numba=False to avoid this warning!)\n",
      "\n"
     ]
    },
    {
     "name": "stdout",
     "output_type": "stream",
     "text": [
      "Collecting Topo_Agent_95_2\n"
     ]
    },
    {
     "name": "stderr",
     "output_type": "stream",
     "text": [
      "  0%|          | 0/10 [00:00<?, ?it/s]"
     ]
    },
    {
     "name": "stdout",
     "output_type": "stream",
     "text": [
      "Collecting all 1662 episodes of seed 4483 for agent Topo_Agent_95_2:\n"
     ]
    },
    {
     "name": "stderr",
     "output_type": "stream",
     "text": [
      " 10%|█         | 1/10 [01:32<13:53, 92.60s/it]"
     ]
    },
    {
     "name": "stdout",
     "output_type": "stream",
     "text": [
      "Collecting all 1662 episodes of seed 2120 for agent Topo_Agent_95_2:\n"
     ]
    },
    {
     "name": "stderr",
     "output_type": "stream",
     "text": [
      " 20%|██        | 2/10 [03:08<12:35, 94.50s/it]"
     ]
    },
    {
     "name": "stdout",
     "output_type": "stream",
     "text": [
      "Collecting all 1662 episodes of seed 6825 for agent Topo_Agent_95_2:\n"
     ]
    },
    {
     "name": "stderr",
     "output_type": "stream",
     "text": [
      " 30%|███       | 3/10 [04:42<10:58, 94.08s/it]"
     ]
    },
    {
     "name": "stdout",
     "output_type": "stream",
     "text": [
      "Collecting all 1662 episodes of seed 5612 for agent Topo_Agent_95_2:\n"
     ]
    },
    {
     "name": "stderr",
     "output_type": "stream",
     "text": [
      " 40%|████      | 4/10 [06:16<09:25, 94.27s/it]"
     ]
    },
    {
     "name": "stdout",
     "output_type": "stream",
     "text": [
      "Collecting all 1662 episodes of seed 2224 for agent Topo_Agent_95_2:\n"
     ]
    },
    {
     "name": "stderr",
     "output_type": "stream",
     "text": [
      " 50%|█████     | 5/10 [07:53<07:55, 95.06s/it]"
     ]
    },
    {
     "name": "stdout",
     "output_type": "stream",
     "text": [
      "Collecting all 1662 episodes of seed 4735 for agent Topo_Agent_95_2:\n"
     ]
    },
    {
     "name": "stderr",
     "output_type": "stream",
     "text": [
      " 60%|██████    | 6/10 [09:30<06:23, 95.75s/it]"
     ]
    },
    {
     "name": "stdout",
     "output_type": "stream",
     "text": [
      "Collecting all 1662 episodes of seed 1016 for agent Topo_Agent_95_2:\n"
     ]
    },
    {
     "name": "stderr",
     "output_type": "stream",
     "text": [
      " 70%|███████   | 7/10 [11:07<04:49, 96.35s/it]"
     ]
    },
    {
     "name": "stdout",
     "output_type": "stream",
     "text": [
      "Collecting all 1662 episodes of seed 3891 for agent Topo_Agent_95_2:\n"
     ]
    },
    {
     "name": "stderr",
     "output_type": "stream",
     "text": [
      " 80%|████████  | 8/10 [12:44<03:12, 96.36s/it]"
     ]
    },
    {
     "name": "stdout",
     "output_type": "stream",
     "text": [
      "Collecting all 1662 episodes of seed 2377 for agent Topo_Agent_95_2:\n"
     ]
    },
    {
     "name": "stderr",
     "output_type": "stream",
     "text": [
      " 90%|█████████ | 9/10 [14:20<01:36, 96.34s/it]"
     ]
    },
    {
     "name": "stdout",
     "output_type": "stream",
     "text": [
      "Collecting all 1662 episodes of seed 4582 for agent Topo_Agent_95_2:\n"
     ]
    },
    {
     "name": "stderr",
     "output_type": "stream",
     "text": [
      "100%|██████████| 10/10 [15:56<00:00, 95.65s/it]\n"
     ]
    },
    {
     "name": "stdout",
     "output_type": "stream",
     "text": [
      "Save agent results of shape (55772, 4296)\n",
      "Generating of datasets with distribution: game_over=0.5, not_game_over=0.5\n"
     ]
    },
    {
     "name": "stderr",
     "output_type": "stream",
     "text": [
      "WARNING:pandapower.auxiliary:numba cannot be imported and numba functions are disabled.\n",
      "Probably the execution is slow.\n",
      "Please install numba to gain a massive speedup.\n",
      "(or if you prefer slow execution, set the flag numba=False to avoid this warning!)\n",
      "\n",
      "WARNING:pandapower.auxiliary:numba cannot be imported and numba functions are disabled.\n",
      "Probably the execution is slow.\n",
      "Please install numba to gain a massive speedup.\n",
      "(or if you prefer slow execution, set the flag numba=False to avoid this warning!)\n",
      "\n",
      "WARNING:pandapower.auxiliary:numba cannot be imported and numba functions are disabled.\n",
      "Probably the execution is slow.\n",
      "Please install numba to gain a massive speedup.\n",
      "(or if you prefer slow execution, set the flag numba=False to avoid this warning!)\n",
      "\n"
     ]
    },
    {
     "name": "stdout",
     "output_type": "stream",
     "text": [
      "Collecting Senior_original_95\n"
     ]
    },
    {
     "name": "stderr",
     "output_type": "stream",
     "text": [
      "  0%|          | 0/10 [00:00<?, ?it/s]"
     ]
    },
    {
     "name": "stdout",
     "output_type": "stream",
     "text": [
      "Collecting all 1662 episodes of seed 4483 for agent Senior_original_95:\n"
     ]
    },
    {
     "name": "stderr",
     "output_type": "stream",
     "text": [
      " 10%|█         | 1/10 [01:34<14:09, 94.44s/it]"
     ]
    },
    {
     "name": "stdout",
     "output_type": "stream",
     "text": [
      "Collecting all 1662 episodes of seed 2120 for agent Senior_original_95:\n"
     ]
    },
    {
     "name": "stderr",
     "output_type": "stream",
     "text": [
      " 20%|██        | 2/10 [03:10<12:42, 95.28s/it]"
     ]
    },
    {
     "name": "stdout",
     "output_type": "stream",
     "text": [
      "Collecting all 1662 episodes of seed 6825 for agent Senior_original_95:\n"
     ]
    },
    {
     "name": "stderr",
     "output_type": "stream",
     "text": [
      " 30%|███       | 3/10 [04:45<11:06, 95.19s/it]"
     ]
    },
    {
     "name": "stdout",
     "output_type": "stream",
     "text": [
      "Collecting all 1662 episodes of seed 5612 for agent Senior_original_95:\n"
     ]
    },
    {
     "name": "stderr",
     "output_type": "stream",
     "text": [
      " 40%|████      | 4/10 [06:21<09:33, 95.50s/it]"
     ]
    },
    {
     "name": "stdout",
     "output_type": "stream",
     "text": [
      "Collecting all 1662 episodes of seed 2224 for agent Senior_original_95:\n"
     ]
    },
    {
     "name": "stderr",
     "output_type": "stream",
     "text": [
      " 50%|█████     | 5/10 [07:57<07:58, 95.74s/it]"
     ]
    },
    {
     "name": "stdout",
     "output_type": "stream",
     "text": [
      "Collecting all 1662 episodes of seed 4735 for agent Senior_original_95:\n"
     ]
    },
    {
     "name": "stderr",
     "output_type": "stream",
     "text": [
      " 60%|██████    | 6/10 [09:35<06:26, 96.64s/it]"
     ]
    },
    {
     "name": "stdout",
     "output_type": "stream",
     "text": [
      "Collecting all 1662 episodes of seed 1016 for agent Senior_original_95:\n"
     ]
    },
    {
     "name": "stderr",
     "output_type": "stream",
     "text": [
      " 70%|███████   | 7/10 [11:14<04:51, 97.31s/it]"
     ]
    },
    {
     "name": "stdout",
     "output_type": "stream",
     "text": [
      "Collecting all 1662 episodes of seed 3891 for agent Senior_original_95:\n"
     ]
    },
    {
     "name": "stderr",
     "output_type": "stream",
     "text": [
      " 80%|████████  | 8/10 [12:52<03:14, 97.50s/it]"
     ]
    },
    {
     "name": "stdout",
     "output_type": "stream",
     "text": [
      "Collecting all 1662 episodes of seed 2377 for agent Senior_original_95:\n"
     ]
    },
    {
     "name": "stderr",
     "output_type": "stream",
     "text": [
      " 90%|█████████ | 9/10 [14:31<01:37, 97.86s/it]"
     ]
    },
    {
     "name": "stdout",
     "output_type": "stream",
     "text": [
      "Collecting all 1662 episodes of seed 4582 for agent Senior_original_95:\n"
     ]
    },
    {
     "name": "stderr",
     "output_type": "stream",
     "text": [
      "100%|██████████| 10/10 [16:11<00:00, 97.15s/it]\n"
     ]
    },
    {
     "name": "stdout",
     "output_type": "stream",
     "text": [
      "Save agent results of shape (59016, 4296)\n",
      "Generating of datasets with distribution: game_over=0.5, not_game_over=0.5\n"
     ]
    },
    {
     "name": "stderr",
     "output_type": "stream",
     "text": [
      "WARNING:pandapower.auxiliary:numba cannot be imported and numba functions are disabled.\n",
      "Probably the execution is slow.\n",
      "Please install numba to gain a massive speedup.\n",
      "(or if you prefer slow execution, set the flag numba=False to avoid this warning!)\n",
      "\n",
      "WARNING:pandapower.auxiliary:numba cannot be imported and numba functions are disabled.\n",
      "Probably the execution is slow.\n",
      "Please install numba to gain a massive speedup.\n",
      "(or if you prefer slow execution, set the flag numba=False to avoid this warning!)\n",
      "\n",
      "WARNING:pandapower.auxiliary:numba cannot be imported and numba functions are disabled.\n",
      "Probably the execution is slow.\n",
      "Please install numba to gain a massive speedup.\n",
      "(or if you prefer slow execution, set the flag numba=False to avoid this warning!)\n",
      "\n"
     ]
    },
    {
     "name": "stdout",
     "output_type": "stream",
     "text": [
      "Collecting DoNothing\n"
     ]
    },
    {
     "name": "stderr",
     "output_type": "stream",
     "text": [
      "  0%|          | 0/10 [00:00<?, ?it/s]"
     ]
    },
    {
     "name": "stdout",
     "output_type": "stream",
     "text": [
      "Collecting all 1662 episodes of seed 4483 for agent DoNothing:\n"
     ]
    },
    {
     "name": "stderr",
     "output_type": "stream",
     "text": [
      " 10%|█         | 1/10 [01:35<14:17, 95.33s/it]"
     ]
    },
    {
     "name": "stdout",
     "output_type": "stream",
     "text": [
      "Collecting all 1662 episodes of seed 2120 for agent DoNothing:\n"
     ]
    },
    {
     "name": "stderr",
     "output_type": "stream",
     "text": [
      " 20%|██        | 2/10 [03:13<12:53, 96.74s/it]"
     ]
    },
    {
     "name": "stdout",
     "output_type": "stream",
     "text": [
      "Collecting all 1662 episodes of seed 6825 for agent DoNothing:\n"
     ]
    },
    {
     "name": "stderr",
     "output_type": "stream",
     "text": [
      " 30%|███       | 3/10 [04:54<11:31, 98.85s/it]"
     ]
    },
    {
     "name": "stdout",
     "output_type": "stream",
     "text": [
      "Collecting all 1662 episodes of seed 5612 for agent DoNothing:\n"
     ]
    },
    {
     "name": "stderr",
     "output_type": "stream",
     "text": [
      " 40%|████      | 4/10 [06:35<09:57, 99.58s/it]"
     ]
    },
    {
     "name": "stdout",
     "output_type": "stream",
     "text": [
      "Collecting all 1662 episodes of seed 2224 for agent DoNothing:\n"
     ]
    },
    {
     "name": "stderr",
     "output_type": "stream",
     "text": [
      " 50%|█████     | 5/10 [08:15<08:20, 100.01s/it]"
     ]
    },
    {
     "name": "stdout",
     "output_type": "stream",
     "text": [
      "Collecting all 1662 episodes of seed 4735 for agent DoNothing:\n"
     ]
    },
    {
     "name": "stderr",
     "output_type": "stream",
     "text": [
      " 60%|██████    | 6/10 [10:03<06:50, 102.57s/it]"
     ]
    },
    {
     "name": "stdout",
     "output_type": "stream",
     "text": [
      "Collecting all 1662 episodes of seed 1016 for agent DoNothing:\n"
     ]
    },
    {
     "name": "stderr",
     "output_type": "stream",
     "text": [
      " 70%|███████   | 7/10 [11:50<05:12, 104.20s/it]"
     ]
    },
    {
     "name": "stdout",
     "output_type": "stream",
     "text": [
      "Collecting all 1662 episodes of seed 3891 for agent DoNothing:\n"
     ]
    },
    {
     "name": "stderr",
     "output_type": "stream",
     "text": [
      " 80%|████████  | 8/10 [13:33<03:27, 103.59s/it]"
     ]
    },
    {
     "name": "stdout",
     "output_type": "stream",
     "text": [
      "Collecting all 1662 episodes of seed 2377 for agent DoNothing:\n"
     ]
    },
    {
     "name": "stderr",
     "output_type": "stream",
     "text": [
      " 90%|█████████ | 9/10 [15:17<01:43, 103.81s/it]"
     ]
    },
    {
     "name": "stdout",
     "output_type": "stream",
     "text": [
      "Collecting all 1662 episodes of seed 4582 for agent DoNothing:\n"
     ]
    },
    {
     "name": "stderr",
     "output_type": "stream",
     "text": [
      "100%|██████████| 10/10 [17:01<00:00, 102.13s/it]\n"
     ]
    },
    {
     "name": "stdout",
     "output_type": "stream",
     "text": [
      "Save agent results of shape (74607, 4296)\n"
     ]
    }
   ],
   "source": [
    "generate_datasets2(\"/share/data1/GYM/seed_ecml2/\", Path(\"/share/data1/GYM/\"), 'l2rpn_wcci_2022', seed_ids=seeds, ep_year=\"2050\", percentage_bad=0.5)"
   ]
  },
  {
   "cell_type": "code",
   "execution_count": 74,
   "id": "f7cbc30f-1f77-4c09-908f-b334fc78f05c",
   "metadata": {},
   "outputs": [],
   "source": [
    "senior = np.load(\"/share/data1/GYM/Senior_original_95_obs_data.npy\")\n",
    "topo = np.load(\"/share/data1/GYM/Topo_Agent_95_2_obs_data.npy\")\n",
    "dn = np.load(\"/share/data1/GYM/DoNothing_obs_data.npy\")"
   ]
  },
  {
   "cell_type": "code",
   "execution_count": 75,
   "id": "d63d9eeb-4183-4acc-9349-e7c0961745ff",
   "metadata": {},
   "outputs": [
    {
     "name": "stdout",
     "output_type": "stream",
     "text": [
      "(59016, 4296)\n",
      "(59016, 4296)\n",
      "\n",
      "(55772, 4296)\n",
      "(55772, 4296)\n",
      "\n",
      "(74607, 4296)\n",
      "(74607, 4296)\n",
      "\n"
     ]
    }
   ],
   "source": [
    "print(senior.shape)\n",
    "senior_sub = np.unique(senior, axis=0)\n",
    "print(senior_sub.shape)\n",
    "print()\n",
    "\n",
    "print(topo.shape)\n",
    "topo_sub = np.unique(topo, axis=0)\n",
    "print(topo_sub.shape)\n",
    "print()\n",
    "print(dn.shape)\n",
    "dn_sub = np.unique(dn, axis=0)\n",
    "print(dn_sub.shape)\n",
    "print()"
   ]
  },
  {
   "cell_type": "code",
   "execution_count": 76,
   "id": "1d87b6a1-7dfc-4b64-8c08-27108630f4ea",
   "metadata": {},
   "outputs": [],
   "source": [
    "np.savez_compressed('/share/data1/GYM/full_obs_data.npz', senior=senior_sub, topo=topo_sub,dn=dn_sub)"
   ]
  },
  {
   "cell_type": "markdown",
   "id": "d64ce491-51d0-486d-bd01-9ee9f22fd02a",
   "metadata": {},
   "source": [
    "# 3. Get Test Data from Validation Environment"
   ]
  },
  {
   "cell_type": "code",
   "execution_count": 77,
   "id": "87a90296-4a8e-476f-bd4c-c33dbdeb81d7",
   "metadata": {},
   "outputs": [
    {
     "name": "stdout",
     "output_type": "stream",
     "text": [
      "Generating of datasets with distribution: game_over=0.5, not_game_over=0.5\n"
     ]
    },
    {
     "name": "stderr",
     "output_type": "stream",
     "text": [
      "WARNING:pandapower.auxiliary:numba cannot be imported and numba functions are disabled.\n",
      "Probably the execution is slow.\n",
      "Please install numba to gain a massive speedup.\n",
      "(or if you prefer slow execution, set the flag numba=False to avoid this warning!)\n",
      "\n",
      "WARNING:pandapower.auxiliary:numba cannot be imported and numba functions are disabled.\n",
      "Probably the execution is slow.\n",
      "Please install numba to gain a massive speedup.\n",
      "(or if you prefer slow execution, set the flag numba=False to avoid this warning!)\n",
      "\n",
      "WARNING:pandapower.auxiliary:numba cannot be imported and numba functions are disabled.\n",
      "Probably the execution is slow.\n",
      "Please install numba to gain a massive speedup.\n",
      "(or if you prefer slow execution, set the flag numba=False to avoid this warning!)\n",
      "\n"
     ]
    },
    {
     "name": "stdout",
     "output_type": "stream",
     "text": [
      "Collecting Topo_Agent_95_2\n"
     ]
    },
    {
     "name": "stderr",
     "output_type": "stream",
     "text": [
      "  0%|          | 0/10 [00:00<?, ?it/s]"
     ]
    },
    {
     "name": "stdout",
     "output_type": "stream",
     "text": [
      "Collecting all 52 episodes of seed 4483 for agent Topo_Agent_95_2:\n"
     ]
    },
    {
     "name": "stderr",
     "output_type": "stream",
     "text": [
      " 10%|█         | 1/10 [00:57<08:38, 57.65s/it]"
     ]
    },
    {
     "name": "stdout",
     "output_type": "stream",
     "text": [
      "Collecting all 52 episodes of seed 2120 for agent Topo_Agent_95_2:\n"
     ]
    },
    {
     "name": "stderr",
     "output_type": "stream",
     "text": [
      " 20%|██        | 2/10 [01:59<07:59, 59.92s/it]"
     ]
    },
    {
     "name": "stdout",
     "output_type": "stream",
     "text": [
      "Collecting all 52 episodes of seed 6825 for agent Topo_Agent_95_2:\n"
     ]
    },
    {
     "name": "stderr",
     "output_type": "stream",
     "text": [
      " 30%|███       | 3/10 [03:00<07:02, 60.40s/it]"
     ]
    },
    {
     "name": "stdout",
     "output_type": "stream",
     "text": [
      "Collecting all 52 episodes of seed 5612 for agent Topo_Agent_95_2:\n"
     ]
    },
    {
     "name": "stderr",
     "output_type": "stream",
     "text": [
      " 40%|████      | 4/10 [04:00<06:03, 60.57s/it]"
     ]
    },
    {
     "name": "stdout",
     "output_type": "stream",
     "text": [
      "Collecting all 52 episodes of seed 2224 for agent Topo_Agent_95_2:\n"
     ]
    },
    {
     "name": "stderr",
     "output_type": "stream",
     "text": [
      " 50%|█████     | 5/10 [05:02<05:03, 60.78s/it]"
     ]
    },
    {
     "name": "stdout",
     "output_type": "stream",
     "text": [
      "Collecting all 52 episodes of seed 4735 for agent Topo_Agent_95_2:\n"
     ]
    },
    {
     "name": "stderr",
     "output_type": "stream",
     "text": [
      " 60%|██████    | 6/10 [06:04<04:05, 61.39s/it]"
     ]
    },
    {
     "name": "stdout",
     "output_type": "stream",
     "text": [
      "Collecting all 52 episodes of seed 1016 for agent Topo_Agent_95_2:\n"
     ]
    },
    {
     "name": "stderr",
     "output_type": "stream",
     "text": [
      " 70%|███████   | 7/10 [07:06<03:04, 61.57s/it]"
     ]
    },
    {
     "name": "stdout",
     "output_type": "stream",
     "text": [
      "Collecting all 52 episodes of seed 3891 for agent Topo_Agent_95_2:\n"
     ]
    },
    {
     "name": "stderr",
     "output_type": "stream",
     "text": [
      " 80%|████████  | 8/10 [08:07<02:02, 61.41s/it]"
     ]
    },
    {
     "name": "stdout",
     "output_type": "stream",
     "text": [
      "Collecting all 52 episodes of seed 2377 for agent Topo_Agent_95_2:\n"
     ]
    },
    {
     "name": "stderr",
     "output_type": "stream",
     "text": [
      " 90%|█████████ | 9/10 [09:09<01:01, 61.39s/it]"
     ]
    },
    {
     "name": "stdout",
     "output_type": "stream",
     "text": [
      "Collecting all 52 episodes of seed 4582 for agent Topo_Agent_95_2:\n"
     ]
    },
    {
     "name": "stderr",
     "output_type": "stream",
     "text": [
      "100%|██████████| 10/10 [10:10<00:00, 61.01s/it]\n"
     ]
    },
    {
     "name": "stdout",
     "output_type": "stream",
     "text": [
      "Save agent results of shape (1757, 4296)\n",
      "Generating of datasets with distribution: game_over=0.5, not_game_over=0.5\n"
     ]
    },
    {
     "name": "stderr",
     "output_type": "stream",
     "text": [
      "WARNING:pandapower.auxiliary:numba cannot be imported and numba functions are disabled.\n",
      "Probably the execution is slow.\n",
      "Please install numba to gain a massive speedup.\n",
      "(or if you prefer slow execution, set the flag numba=False to avoid this warning!)\n",
      "\n",
      "WARNING:pandapower.auxiliary:numba cannot be imported and numba functions are disabled.\n",
      "Probably the execution is slow.\n",
      "Please install numba to gain a massive speedup.\n",
      "(or if you prefer slow execution, set the flag numba=False to avoid this warning!)\n",
      "\n",
      "WARNING:pandapower.auxiliary:numba cannot be imported and numba functions are disabled.\n",
      "Probably the execution is slow.\n",
      "Please install numba to gain a massive speedup.\n",
      "(or if you prefer slow execution, set the flag numba=False to avoid this warning!)\n",
      "\n"
     ]
    },
    {
     "name": "stdout",
     "output_type": "stream",
     "text": [
      "Collecting Senior_original_95\n"
     ]
    },
    {
     "name": "stderr",
     "output_type": "stream",
     "text": [
      "  0%|          | 0/10 [00:00<?, ?it/s]"
     ]
    },
    {
     "name": "stdout",
     "output_type": "stream",
     "text": [
      "Collecting all 52 episodes of seed 4483 for agent Senior_original_95:\n"
     ]
    },
    {
     "name": "stderr",
     "output_type": "stream",
     "text": [
      " 10%|█         | 1/10 [01:00<09:04, 60.46s/it]"
     ]
    },
    {
     "name": "stdout",
     "output_type": "stream",
     "text": [
      "Collecting all 52 episodes of seed 2120 for agent Senior_original_95:\n"
     ]
    },
    {
     "name": "stderr",
     "output_type": "stream",
     "text": [
      " 20%|██        | 2/10 [02:01<08:04, 60.59s/it]"
     ]
    },
    {
     "name": "stdout",
     "output_type": "stream",
     "text": [
      "Collecting all 52 episodes of seed 6825 for agent Senior_original_95:\n"
     ]
    },
    {
     "name": "stderr",
     "output_type": "stream",
     "text": [
      " 30%|███       | 3/10 [03:01<07:02, 60.34s/it]"
     ]
    },
    {
     "name": "stdout",
     "output_type": "stream",
     "text": [
      "Collecting all 52 episodes of seed 5612 for agent Senior_original_95:\n"
     ]
    },
    {
     "name": "stderr",
     "output_type": "stream",
     "text": [
      " 40%|████      | 4/10 [04:02<06:03, 60.63s/it]"
     ]
    },
    {
     "name": "stdout",
     "output_type": "stream",
     "text": [
      "Collecting all 52 episodes of seed 2224 for agent Senior_original_95:\n"
     ]
    },
    {
     "name": "stderr",
     "output_type": "stream",
     "text": [
      " 50%|█████     | 5/10 [05:03<05:04, 60.81s/it]"
     ]
    },
    {
     "name": "stdout",
     "output_type": "stream",
     "text": [
      "Collecting all 52 episodes of seed 4735 for agent Senior_original_95:\n"
     ]
    },
    {
     "name": "stderr",
     "output_type": "stream",
     "text": [
      " 60%|██████    | 6/10 [06:03<04:02, 60.68s/it]"
     ]
    },
    {
     "name": "stdout",
     "output_type": "stream",
     "text": [
      "Collecting all 52 episodes of seed 1016 for agent Senior_original_95:\n"
     ]
    },
    {
     "name": "stderr",
     "output_type": "stream",
     "text": [
      " 70%|███████   | 7/10 [07:04<03:02, 60.70s/it]"
     ]
    },
    {
     "name": "stdout",
     "output_type": "stream",
     "text": [
      "Collecting all 52 episodes of seed 3891 for agent Senior_original_95:\n"
     ]
    },
    {
     "name": "stderr",
     "output_type": "stream",
     "text": [
      " 80%|████████  | 8/10 [08:05<02:01, 60.78s/it]"
     ]
    },
    {
     "name": "stdout",
     "output_type": "stream",
     "text": [
      "Collecting all 52 episodes of seed 2377 for agent Senior_original_95:\n"
     ]
    },
    {
     "name": "stderr",
     "output_type": "stream",
     "text": [
      " 90%|█████████ | 9/10 [09:06<01:00, 60.89s/it]"
     ]
    },
    {
     "name": "stdout",
     "output_type": "stream",
     "text": [
      "Collecting all 52 episodes of seed 4582 for agent Senior_original_95:\n"
     ]
    },
    {
     "name": "stderr",
     "output_type": "stream",
     "text": [
      "100%|██████████| 10/10 [10:08<00:00, 60.82s/it]\n"
     ]
    },
    {
     "name": "stdout",
     "output_type": "stream",
     "text": [
      "Save agent results of shape (1918, 4296)\n",
      "Generating of datasets with distribution: game_over=0.5, not_game_over=0.5\n"
     ]
    },
    {
     "name": "stderr",
     "output_type": "stream",
     "text": [
      "WARNING:pandapower.auxiliary:numba cannot be imported and numba functions are disabled.\n",
      "Probably the execution is slow.\n",
      "Please install numba to gain a massive speedup.\n",
      "(or if you prefer slow execution, set the flag numba=False to avoid this warning!)\n",
      "\n",
      "WARNING:pandapower.auxiliary:numba cannot be imported and numba functions are disabled.\n",
      "Probably the execution is slow.\n",
      "Please install numba to gain a massive speedup.\n",
      "(or if you prefer slow execution, set the flag numba=False to avoid this warning!)\n",
      "\n",
      "WARNING:pandapower.auxiliary:numba cannot be imported and numba functions are disabled.\n",
      "Probably the execution is slow.\n",
      "Please install numba to gain a massive speedup.\n",
      "(or if you prefer slow execution, set the flag numba=False to avoid this warning!)\n",
      "\n"
     ]
    },
    {
     "name": "stdout",
     "output_type": "stream",
     "text": [
      "Collecting DoNothing\n"
     ]
    },
    {
     "name": "stderr",
     "output_type": "stream",
     "text": [
      "  0%|          | 0/10 [00:00<?, ?it/s]"
     ]
    },
    {
     "name": "stdout",
     "output_type": "stream",
     "text": [
      "Collecting all 52 episodes of seed 4483 for agent DoNothing:\n"
     ]
    },
    {
     "name": "stderr",
     "output_type": "stream",
     "text": [
      " 10%|█         | 1/10 [01:02<09:18, 62.01s/it]"
     ]
    },
    {
     "name": "stdout",
     "output_type": "stream",
     "text": [
      "Collecting all 52 episodes of seed 2120 for agent DoNothing:\n"
     ]
    },
    {
     "name": "stderr",
     "output_type": "stream",
     "text": [
      " 20%|██        | 2/10 [02:09<08:43, 65.40s/it]"
     ]
    },
    {
     "name": "stdout",
     "output_type": "stream",
     "text": [
      "Collecting all 52 episodes of seed 6825 for agent DoNothing:\n"
     ]
    },
    {
     "name": "stderr",
     "output_type": "stream",
     "text": [
      " 30%|███       | 3/10 [03:34<08:38, 74.06s/it]"
     ]
    },
    {
     "name": "stdout",
     "output_type": "stream",
     "text": [
      "Collecting all 52 episodes of seed 5612 for agent DoNothing:\n"
     ]
    },
    {
     "name": "stderr",
     "output_type": "stream",
     "text": [
      " 40%|████      | 4/10 [04:39<07:03, 70.54s/it]"
     ]
    },
    {
     "name": "stdout",
     "output_type": "stream",
     "text": [
      "Collecting all 52 episodes of seed 2224 for agent DoNothing:\n"
     ]
    },
    {
     "name": "stderr",
     "output_type": "stream",
     "text": [
      " 50%|█████     | 5/10 [05:48<05:50, 70.14s/it]"
     ]
    },
    {
     "name": "stdout",
     "output_type": "stream",
     "text": [
      "Collecting all 52 episodes of seed 4735 for agent DoNothing:\n"
     ]
    },
    {
     "name": "stderr",
     "output_type": "stream",
     "text": [
      " 60%|██████    | 6/10 [07:02<04:45, 71.26s/it]"
     ]
    },
    {
     "name": "stdout",
     "output_type": "stream",
     "text": [
      "Collecting all 52 episodes of seed 1016 for agent DoNothing:\n"
     ]
    },
    {
     "name": "stderr",
     "output_type": "stream",
     "text": [
      " 70%|███████   | 7/10 [08:05<03:26, 68.70s/it]"
     ]
    },
    {
     "name": "stdout",
     "output_type": "stream",
     "text": [
      "Collecting all 52 episodes of seed 3891 for agent DoNothing:\n"
     ]
    },
    {
     "name": "stderr",
     "output_type": "stream",
     "text": [
      " 80%|████████  | 8/10 [09:04<02:11, 65.69s/it]"
     ]
    },
    {
     "name": "stdout",
     "output_type": "stream",
     "text": [
      "Collecting all 52 episodes of seed 2377 for agent DoNothing:\n"
     ]
    },
    {
     "name": "stderr",
     "output_type": "stream",
     "text": [
      " 90%|█████████ | 9/10 [10:04<01:03, 63.85s/it]"
     ]
    },
    {
     "name": "stdout",
     "output_type": "stream",
     "text": [
      "Collecting all 52 episodes of seed 4582 for agent DoNothing:\n"
     ]
    },
    {
     "name": "stderr",
     "output_type": "stream",
     "text": [
      "100%|██████████| 10/10 [11:03<00:00, 66.37s/it]\n"
     ]
    },
    {
     "name": "stdout",
     "output_type": "stream",
     "text": [
      "Save agent results of shape (2361, 4296)\n"
     ]
    }
   ],
   "source": [
    "generate_datasets2(\"/share/data1/GYM/seed_ecml_val/\", Path(\"/share/data1/GYM/seed_ecml_val/\"), \"/share/data1/GYM/data_grid2op/l2rpn_2022_val_6987/\", seed_ids=seeds, ep_year=\"2050\", percentage_bad=0.5)"
   ]
  }
 ],
 "metadata": {
  "kernelspec": {
   "display_name": "py310",
   "language": "python",
   "name": "py310"
  },
  "language_info": {
   "codemirror_mode": {
    "name": "ipython",
    "version": 3
   },
   "file_extension": ".py",
   "mimetype": "text/x-python",
   "name": "python",
   "nbconvert_exporter": "python",
   "pygments_lexer": "ipython3",
   "version": "3.10.11"
  }
 },
 "nbformat": 4,
 "nbformat_minor": 5
}
