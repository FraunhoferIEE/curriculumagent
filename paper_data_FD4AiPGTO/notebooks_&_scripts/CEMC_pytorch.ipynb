{
 "cells": [
  {
   "metadata": {},
   "cell_type": "markdown",
   "source": "",
   "id": "315ffcd4a610ed9"
  },
  {
   "metadata": {},
   "cell_type": "markdown",
   "source": "# Imports",
   "id": "36d2339f034959a2"
  },
  {
   "metadata": {
    "ExecuteTime": {
     "end_time": "2024-05-21T16:50:42.491668Z",
     "start_time": "2024-05-21T16:50:36.042968Z"
    }
   },
   "cell_type": "code",
   "source": [
    "import numpy as np\n",
    "import warnings\n",
    "from sklearn.model_selection import train_test_split\n",
    "\n",
    "import pandas as pd\n",
    "from pytorch_tabular import TabularModel\n",
    "\n",
    "from pytorch_tabular.models import GANDALFConfig\n",
    "from pytorch_tabular.config import (\n",
    "    DataConfig,\n",
    "    OptimizerConfig,\n",
    "    TrainerConfig,\n",
    "    ExperimentConfig\n",
    ")\n",
    "from pytorch_tabular import TabularModel\n",
    "from pytorch_tabular.models import (\n",
    "    CategoryEmbeddingModelConfig,\n",
    ")\n",
    "from pytorch_tabular.config import DataConfig, OptimizerConfig, TrainerConfig, ExperimentConfig\n",
    "from pytorch_tabular.models.common.heads import LinearHeadConfig\n",
    "import torch\n",
    "warnings.filterwarnings(\"ignore\")\n",
    "import wandb\n",
    "\n",
    "# %load_ext autoreload\n",
    "# %autoreload 2"
   ],
   "id": "e9ab009fd269a2e",
   "outputs": [],
   "execution_count": 1
  },
  {
   "metadata": {
    "ExecuteTime": {
     "end_time": "2024-05-21T16:50:44.726737Z",
     "start_time": "2024-05-21T16:50:42.494049Z"
    }
   },
   "cell_type": "code",
   "source": "wandb.login()",
   "id": "9335818195524122",
   "outputs": [
    {
     "name": "stderr",
     "output_type": "stream",
     "text": [
      "\u001B[34m\u001B[1mwandb\u001B[0m: Currently logged in as: \u001B[33mddima19981998\u001B[0m (\u001B[33mdegt\u001B[0m). Use \u001B[1m`wandb login --relogin`\u001B[0m to force relogin\n"
     ]
    },
    {
     "data": {
      "text/plain": [
       "True"
      ]
     },
     "execution_count": 2,
     "metadata": {},
     "output_type": "execute_result"
    }
   ],
   "execution_count": 2
  },
  {
   "metadata": {},
   "cell_type": "markdown",
   "source": "#### Read the data",
   "id": "7787ba61d27a01cb"
  },
  {
   "metadata": {
    "ExecuteTime": {
     "end_time": "2024-05-21T16:51:03.782541Z",
     "start_time": "2024-05-21T16:50:44.729486Z"
    }
   },
   "cell_type": "code",
   "source": [
    "# read_dataset\n",
    "my_df = np.load(\"/share/data1/GYM/full_obs_data.npz\")\n",
    "topo_ag_data=my_df[\"topo\"]\n",
    "dn_ag_data=my_df[\"dn\"]\n",
    "senior_ag_data=my_df[\"senior\"]\n",
    "print(topo_ag_data.shape, len(topo_ag_data))"
   ],
   "id": "b88f52c6d6c98ecf",
   "outputs": [
    {
     "name": "stdout",
     "output_type": "stream",
     "text": [
      "(55772, 4296) 55772\n"
     ]
    }
   ],
   "execution_count": 3
  },
  {
   "metadata": {},
   "cell_type": "markdown",
   "source": "### Topo agent ",
   "id": "84e0836b145babd7"
  },
  {
   "metadata": {
    "ExecuteTime": {
     "end_time": "2024-05-21T16:51:03.842367Z",
     "start_time": "2024-05-21T16:51:03.785102Z"
    }
   },
   "cell_type": "code",
   "source": [
    "topo_ag_df = pd.DataFrame(topo_ag_data, columns=[f'{i}' for i in range(topo_ag_data.shape[1])])\n",
    "topo_ag_df[\"4295\"] = topo_ag_df[\"4295\"].astype(int).astype('category')\n",
    "print(topo_ag_df.shape, topo_ag_df.shape)\n",
    "print(topo_ag_df.head())"
   ],
   "id": "78d39a83f68e484",
   "outputs": [
    {
     "name": "stdout",
     "output_type": "stream",
     "text": [
      "(55772, 4296) (55772, 4296)\n",
      "        0    1    2    3    4    5           6           7           8  \\\n",
      "0  2050.0  1.0  3.0  0.0  0.0  0.0   21.900000   26.900000  360.000000   \n",
      "1  2050.0  1.0  3.0  0.0  0.0  0.0   30.900000   31.500000  359.100006   \n",
      "2  2050.0  1.0  3.0  0.0  0.0  0.0   42.500000   47.299999  353.899994   \n",
      "3  2050.0  1.0  3.0  0.0  0.0  0.0   88.300003   88.900002  359.899994   \n",
      "4  2050.0  1.0  3.0  0.0  0.0  0.0  105.199997  102.900002  359.899994   \n",
      "\n",
      "           9  ...  4286  4287  4288  4289  4290  4291  4292  4293  4294  4295  \n",
      "0  50.000000  ...  11.2   0.0   5.3   0.0   0.0   5.3   0.0   0.0   0.0     0  \n",
      "1  27.400000  ...  11.2   0.0   5.3   0.0   0.0   5.3   0.0   5.7   0.0     0  \n",
      "2  56.099998  ...  11.2   0.0   5.3   0.0   0.0   5.3   0.0   0.0   0.0     0  \n",
      "3  81.400002  ...  11.2   0.0   5.3   0.0   0.0   5.3   0.0   5.4   0.0     0  \n",
      "4  90.599998  ...  11.2   0.0   5.3   0.0   0.0   5.3   0.0   0.0   0.0     0  \n",
      "\n",
      "[5 rows x 4296 columns]\n"
     ]
    }
   ],
   "execution_count": 4
  },
  {
   "metadata": {},
   "cell_type": "markdown",
   "source": "#### Split the TOPO data",
   "id": "e05f4e3435076dce"
  },
  {
   "metadata": {
    "ExecuteTime": {
     "end_time": "2024-05-21T16:51:06.438593Z",
     "start_time": "2024-05-21T16:51:03.844942Z"
    }
   },
   "cell_type": "code",
   "source": [
    "# Split the data\n",
    "tr_val, test = train_test_split(topo_ag_df, random_state=42, test_size=0.2, shuffle=True, stratify=topo_ag_df[\"4295\"])\n",
    "train, val = train_test_split(tr_val, random_state=42, test_size=0.15, shuffle=True, stratify=tr_val[\"4295\"])"
   ],
   "id": "e5b973b8fc2805f2",
   "outputs": [],
   "execution_count": 5
  },
  {
   "metadata": {
    "ExecuteTime": {
     "end_time": "2024-05-21T16:51:06.447289Z",
     "start_time": "2024-05-21T16:51:06.440642Z"
    }
   },
   "cell_type": "code",
   "source": [
    "data_config = DataConfig(\n",
    "    target=[\n",
    "        \"4295\"\n",
    "    ],  # target should always be a list. Multi-targets are only supported for regression. Multi-Task Classification is not implemented\n",
    "    continuous_cols=[f'{i}' for i in range(topo_ag_data.shape[1]-1)],\n",
    "    categorical_cols=[],\n",
    ")\n",
    "trainer_config = TrainerConfig(\n",
    "    batch_size=1024,\n",
    "    max_epochs=100,\n",
    "    early_stopping=\"valid_loss\",  # Monitor valid_loss for early stopping\n",
    "    early_stopping_mode=\"min\",  # Set the mode as min because for val_loss, lower is better\n",
    "    early_stopping_patience=5,  # No. of epochs of degradation training will wait before terminating\n",
    "    checkpoints=\"valid_loss\",  # Save best checkpoint monitoring val_loss\n",
    "    load_best=True,  # After training, load the best checkpoint\n",
    "    progress_bar=\"none\",  # Turning off Progress bar\n",
    "    trainer_kwargs=dict(enable_model_summary=False),  # Turning off model summary\n",
    ")\n",
    "optimizer_config = OptimizerConfig()\n",
    "\n",
    "head_config = LinearHeadConfig(\n",
    "    layers=\"\", dropout=0.1, initialization=\"kaiming\"  # No additional layer in head, just a mapping layer to output_dim\n",
    ").__dict__  # Convert to dict to pass to the model config (OmegaConf doesn't accept objects)\n",
    "\n",
    "experiment_config = ExperimentConfig(project_name=\"ecml_paper\", run_name=\"CEMC\", log_target=\"wandb\")\n",
    "model_config = CategoryEmbeddingModelConfig(\n",
    "    task=\"classification\",\n",
    "    layers=\"1024-512-512\",  # Number of nodes in each layer\n",
    "    activation=\"LeakyReLU\",  # Activation between each layers\n",
    "    learning_rate=1e-3,\n",
    "    head=\"LinearHead\",  # Linear Head\n",
    "    head_config=head_config,  # Linear Head Config\n",
    ")"
   ],
   "id": "5d2f585b52bf4a6b",
   "outputs": [],
   "execution_count": 6
  },
  {
   "metadata": {
    "ExecuteTime": {
     "end_time": "2024-05-21T16:51:06.453701Z",
     "start_time": "2024-05-21T16:51:06.449328Z"
    }
   },
   "cell_type": "code",
   "source": [
    "search_space = {\n",
    "    \"model_config__layers\": [\"1024-512-512\", \"1024-512-256\", \"1024-512-128\"],\n",
    "    \"model_config.head_config__dropout\": [0.1, 0.2, 0.3],\n",
    "    \"trainer_config__batch_size\": [1024, 2048, 4096],\n",
    "    \"optimizer_config__optimizer\": [\"RAdam\", \"AdamW\"],\n",
    "}"
   ],
   "id": "ed24159a0479443d",
   "outputs": [],
   "execution_count": 7
  },
  {
   "metadata": {
    "ExecuteTime": {
     "end_time": "2024-05-21T17:28:32.403582Z",
     "start_time": "2024-05-21T16:51:06.455202Z"
    }
   },
   "cell_type": "code",
   "source": [
    "from pytorch_tabular import TabularModelTuner\n",
    "\n",
    "tuner = TabularModelTuner(\n",
    "    data_config=data_config,\n",
    "    model_config=model_config,\n",
    "    optimizer_config=optimizer_config,\n",
    "    trainer_config=trainer_config\n",
    ")\n",
    "with warnings.catch_warnings():\n",
    "    warnings.simplefilter(\"ignore\")\n",
    "    result = tuner.tune(\n",
    "        train=train,\n",
    "        validation=val,\n",
    "        search_space=search_space,\n",
    "        strategy=\"grid_search\",\n",
    "        # cv=5, # Uncomment this to do a 5 fold cross validation \n",
    "        metric=\"accuracy\",\n",
    "        mode=\"max\",\n",
    "        progress_bar=True,\n",
    "        verbose=True # Make True if you want to log metrics and params each iteration\n",
    "    )"
   ],
   "id": "f5b2216df7b1df3d",
   "outputs": [
    {
     "data": {
      "text/plain": [
       "Output()"
      ],
      "application/vnd.jupyter.widget-view+json": {
       "version_major": 2,
       "version_minor": 0,
       "model_id": "837d1af7305c42b2897b22bb44dd092a"
      }
     },
     "metadata": {},
     "output_type": "display_data"
    },
    {
     "data": {
      "text/plain": [
       "\u001B[1;36m2024\u001B[0m-\u001B[1;36m05\u001B[0m-\u001B[1;36m21\u001B[0m \u001B[1;92m18:51:55\u001B[0m,\u001B[1;36m300\u001B[0m - \u001B[1m{\u001B[0mpytorch_tabular.tabular_model_tuner:\u001B[1;36m364\u001B[0m\u001B[1m}\u001B[0m - INFO - Trial \u001B[1;36m1\u001B[0m/\u001B[1;36m54\u001B[0m:                           \n",
       "\u001B[1m{\u001B[0m\u001B[32m'model_config.head_config__dropout'\u001B[0m: \u001B[1;36m0.1\u001B[0m, \u001B[32m'model_config__layers'\u001B[0m: \u001B[32m'1024-512-512'\u001B[0m, \u001B[32m'optimizer_config__optimizer'\u001B[0m:  \n",
       "\u001B[32m'RAdam'\u001B[0m, \u001B[32m'trainer_config__batch_size'\u001B[0m: \u001B[1;36m1024\u001B[0m, \u001B[32m'loss'\u001B[0m: \u001B[1;36m0.8753462433815002\u001B[0m, \u001B[32m'accuracy'\u001B[0m: \u001B[1;36m0.6835500001907349\u001B[0m,           \n",
       "\u001B[32m'trial_id'\u001B[0m: \u001B[1;36m0\u001B[0m\u001B[1m}\u001B[0m | Score: \u001B[1;36m0.6835500001907349\u001B[0m                                                                         \n"
      ],
      "text/html": [
       "<pre style=\"white-space:pre;overflow-x:auto;line-height:normal;font-family:Menlo,'DejaVu Sans Mono',consolas,'Courier New',monospace\"><span style=\"color: #008080; text-decoration-color: #008080; font-weight: bold\">2024</span>-<span style=\"color: #008080; text-decoration-color: #008080; font-weight: bold\">05</span>-<span style=\"color: #008080; text-decoration-color: #008080; font-weight: bold\">21</span> <span style=\"color: #00ff00; text-decoration-color: #00ff00; font-weight: bold\">18:51:55</span>,<span style=\"color: #008080; text-decoration-color: #008080; font-weight: bold\">300</span> - <span style=\"font-weight: bold\">{</span>pytorch_tabular.tabular_model_tuner:<span style=\"color: #008080; text-decoration-color: #008080; font-weight: bold\">364</span><span style=\"font-weight: bold\">}</span> - INFO - Trial <span style=\"color: #008080; text-decoration-color: #008080; font-weight: bold\">1</span>/<span style=\"color: #008080; text-decoration-color: #008080; font-weight: bold\">54</span>:                           \n",
       "<span style=\"font-weight: bold\">{</span><span style=\"color: #008000; text-decoration-color: #008000\">'model_config.head_config__dropout'</span>: <span style=\"color: #008080; text-decoration-color: #008080; font-weight: bold\">0.1</span>, <span style=\"color: #008000; text-decoration-color: #008000\">'model_config__layers'</span>: <span style=\"color: #008000; text-decoration-color: #008000\">'1024-512-512'</span>, <span style=\"color: #008000; text-decoration-color: #008000\">'optimizer_config__optimizer'</span>:  \n",
       "<span style=\"color: #008000; text-decoration-color: #008000\">'RAdam'</span>, <span style=\"color: #008000; text-decoration-color: #008000\">'trainer_config__batch_size'</span>: <span style=\"color: #008080; text-decoration-color: #008080; font-weight: bold\">1024</span>, <span style=\"color: #008000; text-decoration-color: #008000\">'loss'</span>: <span style=\"color: #008080; text-decoration-color: #008080; font-weight: bold\">0.8753462433815002</span>, <span style=\"color: #008000; text-decoration-color: #008000\">'accuracy'</span>: <span style=\"color: #008080; text-decoration-color: #008080; font-weight: bold\">0.6835500001907349</span>,           \n",
       "<span style=\"color: #008000; text-decoration-color: #008000\">'trial_id'</span>: <span style=\"color: #008080; text-decoration-color: #008080; font-weight: bold\">0</span><span style=\"font-weight: bold\">}</span> | Score: <span style=\"color: #008080; text-decoration-color: #008080; font-weight: bold\">0.6835500001907349</span>                                                                         \n",
       "</pre>\n"
      ]
     },
     "metadata": {},
     "output_type": "display_data"
    },
    {
     "data": {
      "text/plain": [
       "\u001B[1;36m2024\u001B[0m-\u001B[1;36m05\u001B[0m-\u001B[1;36m21\u001B[0m \u001B[1;92m18:52:33\u001B[0m,\u001B[1;36m430\u001B[0m - \u001B[1m{\u001B[0mpytorch_tabular.tabular_model_tuner:\u001B[1;36m364\u001B[0m\u001B[1m}\u001B[0m - INFO - Trial \u001B[1;36m2\u001B[0m/\u001B[1;36m54\u001B[0m:                           \n",
       "\u001B[1m{\u001B[0m\u001B[32m'model_config.head_config__dropout'\u001B[0m: \u001B[1;36m0.1\u001B[0m, \u001B[32m'model_config__layers'\u001B[0m: \u001B[32m'1024-512-512'\u001B[0m, \u001B[32m'optimizer_config__optimizer'\u001B[0m:  \n",
       "\u001B[32m'RAdam'\u001B[0m, \u001B[32m'trainer_config__batch_size'\u001B[0m: \u001B[1;36m2048\u001B[0m, \u001B[32m'loss'\u001B[0m: \u001B[1;36m0.862733781337738\u001B[0m, \u001B[32m'accuracy'\u001B[0m: \u001B[1;36m0.6718960404396057\u001B[0m, \u001B[32m'trial_id'\u001B[0m:\n",
       "\u001B[1;36m1\u001B[0m\u001B[1m}\u001B[0m | Score: \u001B[1;36m0.6718960404396057\u001B[0m                                                                                     \n"
      ],
      "text/html": [
       "<pre style=\"white-space:pre;overflow-x:auto;line-height:normal;font-family:Menlo,'DejaVu Sans Mono',consolas,'Courier New',monospace\"><span style=\"color: #008080; text-decoration-color: #008080; font-weight: bold\">2024</span>-<span style=\"color: #008080; text-decoration-color: #008080; font-weight: bold\">05</span>-<span style=\"color: #008080; text-decoration-color: #008080; font-weight: bold\">21</span> <span style=\"color: #00ff00; text-decoration-color: #00ff00; font-weight: bold\">18:52:33</span>,<span style=\"color: #008080; text-decoration-color: #008080; font-weight: bold\">430</span> - <span style=\"font-weight: bold\">{</span>pytorch_tabular.tabular_model_tuner:<span style=\"color: #008080; text-decoration-color: #008080; font-weight: bold\">364</span><span style=\"font-weight: bold\">}</span> - INFO - Trial <span style=\"color: #008080; text-decoration-color: #008080; font-weight: bold\">2</span>/<span style=\"color: #008080; text-decoration-color: #008080; font-weight: bold\">54</span>:                           \n",
       "<span style=\"font-weight: bold\">{</span><span style=\"color: #008000; text-decoration-color: #008000\">'model_config.head_config__dropout'</span>: <span style=\"color: #008080; text-decoration-color: #008080; font-weight: bold\">0.1</span>, <span style=\"color: #008000; text-decoration-color: #008000\">'model_config__layers'</span>: <span style=\"color: #008000; text-decoration-color: #008000\">'1024-512-512'</span>, <span style=\"color: #008000; text-decoration-color: #008000\">'optimizer_config__optimizer'</span>:  \n",
       "<span style=\"color: #008000; text-decoration-color: #008000\">'RAdam'</span>, <span style=\"color: #008000; text-decoration-color: #008000\">'trainer_config__batch_size'</span>: <span style=\"color: #008080; text-decoration-color: #008080; font-weight: bold\">2048</span>, <span style=\"color: #008000; text-decoration-color: #008000\">'loss'</span>: <span style=\"color: #008080; text-decoration-color: #008080; font-weight: bold\">0.862733781337738</span>, <span style=\"color: #008000; text-decoration-color: #008000\">'accuracy'</span>: <span style=\"color: #008080; text-decoration-color: #008080; font-weight: bold\">0.6718960404396057</span>, <span style=\"color: #008000; text-decoration-color: #008000\">'trial_id'</span>:\n",
       "<span style=\"color: #008080; text-decoration-color: #008080; font-weight: bold\">1</span><span style=\"font-weight: bold\">}</span> | Score: <span style=\"color: #008080; text-decoration-color: #008080; font-weight: bold\">0.6718960404396057</span>                                                                                     \n",
       "</pre>\n"
      ]
     },
     "metadata": {},
     "output_type": "display_data"
    },
    {
     "data": {
      "text/plain": [
       "\u001B[1;36m2024\u001B[0m-\u001B[1;36m05\u001B[0m-\u001B[1;36m21\u001B[0m \u001B[1;92m18:53:08\u001B[0m,\u001B[1;36m834\u001B[0m - \u001B[1m{\u001B[0mpytorch_tabular.tabular_model_tuner:\u001B[1;36m364\u001B[0m\u001B[1m}\u001B[0m - INFO - Trial \u001B[1;36m3\u001B[0m/\u001B[1;36m54\u001B[0m:                           \n",
       "\u001B[1m{\u001B[0m\u001B[32m'model_config.head_config__dropout'\u001B[0m: \u001B[1;36m0.1\u001B[0m, \u001B[32m'model_config__layers'\u001B[0m: \u001B[32m'1024-512-512'\u001B[0m, \u001B[32m'optimizer_config__optimizer'\u001B[0m:  \n",
       "\u001B[32m'RAdam'\u001B[0m, \u001B[32m'trainer_config__batch_size'\u001B[0m: \u001B[1;36m4096\u001B[0m, \u001B[32m'loss'\u001B[0m: \u001B[1;36m0.8671982288360596\u001B[0m, \u001B[32m'accuracy'\u001B[0m: \u001B[1;36m0.6741371750831604\u001B[0m,           \n",
       "\u001B[32m'trial_id'\u001B[0m: \u001B[1;36m2\u001B[0m\u001B[1m}\u001B[0m | Score: \u001B[1;36m0.6741371750831604\u001B[0m                                                                         \n"
      ],
      "text/html": [
       "<pre style=\"white-space:pre;overflow-x:auto;line-height:normal;font-family:Menlo,'DejaVu Sans Mono',consolas,'Courier New',monospace\"><span style=\"color: #008080; text-decoration-color: #008080; font-weight: bold\">2024</span>-<span style=\"color: #008080; text-decoration-color: #008080; font-weight: bold\">05</span>-<span style=\"color: #008080; text-decoration-color: #008080; font-weight: bold\">21</span> <span style=\"color: #00ff00; text-decoration-color: #00ff00; font-weight: bold\">18:53:08</span>,<span style=\"color: #008080; text-decoration-color: #008080; font-weight: bold\">834</span> - <span style=\"font-weight: bold\">{</span>pytorch_tabular.tabular_model_tuner:<span style=\"color: #008080; text-decoration-color: #008080; font-weight: bold\">364</span><span style=\"font-weight: bold\">}</span> - INFO - Trial <span style=\"color: #008080; text-decoration-color: #008080; font-weight: bold\">3</span>/<span style=\"color: #008080; text-decoration-color: #008080; font-weight: bold\">54</span>:                           \n",
       "<span style=\"font-weight: bold\">{</span><span style=\"color: #008000; text-decoration-color: #008000\">'model_config.head_config__dropout'</span>: <span style=\"color: #008080; text-decoration-color: #008080; font-weight: bold\">0.1</span>, <span style=\"color: #008000; text-decoration-color: #008000\">'model_config__layers'</span>: <span style=\"color: #008000; text-decoration-color: #008000\">'1024-512-512'</span>, <span style=\"color: #008000; text-decoration-color: #008000\">'optimizer_config__optimizer'</span>:  \n",
       "<span style=\"color: #008000; text-decoration-color: #008000\">'RAdam'</span>, <span style=\"color: #008000; text-decoration-color: #008000\">'trainer_config__batch_size'</span>: <span style=\"color: #008080; text-decoration-color: #008080; font-weight: bold\">4096</span>, <span style=\"color: #008000; text-decoration-color: #008000\">'loss'</span>: <span style=\"color: #008080; text-decoration-color: #008080; font-weight: bold\">0.8671982288360596</span>, <span style=\"color: #008000; text-decoration-color: #008000\">'accuracy'</span>: <span style=\"color: #008080; text-decoration-color: #008080; font-weight: bold\">0.6741371750831604</span>,           \n",
       "<span style=\"color: #008000; text-decoration-color: #008000\">'trial_id'</span>: <span style=\"color: #008080; text-decoration-color: #008080; font-weight: bold\">2</span><span style=\"font-weight: bold\">}</span> | Score: <span style=\"color: #008080; text-decoration-color: #008080; font-weight: bold\">0.6741371750831604</span>                                                                         \n",
       "</pre>\n"
      ]
     },
     "metadata": {},
     "output_type": "display_data"
    },
    {
     "data": {
      "text/plain": [
       "\u001B[1;36m2024\u001B[0m-\u001B[1;36m05\u001B[0m-\u001B[1;36m21\u001B[0m \u001B[1;92m18:53:57\u001B[0m,\u001B[1;36m932\u001B[0m - \u001B[1m{\u001B[0mpytorch_tabular.tabular_model_tuner:\u001B[1;36m364\u001B[0m\u001B[1m}\u001B[0m - INFO - Trial \u001B[1;36m4\u001B[0m/\u001B[1;36m54\u001B[0m:                           \n",
       "\u001B[1m{\u001B[0m\u001B[32m'model_config.head_config__dropout'\u001B[0m: \u001B[1;36m0.1\u001B[0m, \u001B[32m'model_config__layers'\u001B[0m: \u001B[32m'1024-512-512'\u001B[0m, \u001B[32m'optimizer_config__optimizer'\u001B[0m:  \n",
       "\u001B[32m'AdamW'\u001B[0m, \u001B[32m'trainer_config__batch_size'\u001B[0m: \u001B[1;36m1024\u001B[0m, \u001B[32m'loss'\u001B[0m: \u001B[1;36m0.854624330997467\u001B[0m, \u001B[32m'accuracy'\u001B[0m: \u001B[1;36m0.6922157406806946\u001B[0m, \u001B[32m'trial_id'\u001B[0m:\n",
       "\u001B[1;36m3\u001B[0m\u001B[1m}\u001B[0m | Score: \u001B[1;36m0.6922157406806946\u001B[0m                                                                                     \n"
      ],
      "text/html": [
       "<pre style=\"white-space:pre;overflow-x:auto;line-height:normal;font-family:Menlo,'DejaVu Sans Mono',consolas,'Courier New',monospace\"><span style=\"color: #008080; text-decoration-color: #008080; font-weight: bold\">2024</span>-<span style=\"color: #008080; text-decoration-color: #008080; font-weight: bold\">05</span>-<span style=\"color: #008080; text-decoration-color: #008080; font-weight: bold\">21</span> <span style=\"color: #00ff00; text-decoration-color: #00ff00; font-weight: bold\">18:53:57</span>,<span style=\"color: #008080; text-decoration-color: #008080; font-weight: bold\">932</span> - <span style=\"font-weight: bold\">{</span>pytorch_tabular.tabular_model_tuner:<span style=\"color: #008080; text-decoration-color: #008080; font-weight: bold\">364</span><span style=\"font-weight: bold\">}</span> - INFO - Trial <span style=\"color: #008080; text-decoration-color: #008080; font-weight: bold\">4</span>/<span style=\"color: #008080; text-decoration-color: #008080; font-weight: bold\">54</span>:                           \n",
       "<span style=\"font-weight: bold\">{</span><span style=\"color: #008000; text-decoration-color: #008000\">'model_config.head_config__dropout'</span>: <span style=\"color: #008080; text-decoration-color: #008080; font-weight: bold\">0.1</span>, <span style=\"color: #008000; text-decoration-color: #008000\">'model_config__layers'</span>: <span style=\"color: #008000; text-decoration-color: #008000\">'1024-512-512'</span>, <span style=\"color: #008000; text-decoration-color: #008000\">'optimizer_config__optimizer'</span>:  \n",
       "<span style=\"color: #008000; text-decoration-color: #008000\">'AdamW'</span>, <span style=\"color: #008000; text-decoration-color: #008000\">'trainer_config__batch_size'</span>: <span style=\"color: #008080; text-decoration-color: #008080; font-weight: bold\">1024</span>, <span style=\"color: #008000; text-decoration-color: #008000\">'loss'</span>: <span style=\"color: #008080; text-decoration-color: #008080; font-weight: bold\">0.854624330997467</span>, <span style=\"color: #008000; text-decoration-color: #008000\">'accuracy'</span>: <span style=\"color: #008080; text-decoration-color: #008080; font-weight: bold\">0.6922157406806946</span>, <span style=\"color: #008000; text-decoration-color: #008000\">'trial_id'</span>:\n",
       "<span style=\"color: #008080; text-decoration-color: #008080; font-weight: bold\">3</span><span style=\"font-weight: bold\">}</span> | Score: <span style=\"color: #008080; text-decoration-color: #008080; font-weight: bold\">0.6922157406806946</span>                                                                                     \n",
       "</pre>\n"
      ]
     },
     "metadata": {},
     "output_type": "display_data"
    },
    {
     "data": {
      "text/plain": [
       "\u001B[1;36m2024\u001B[0m-\u001B[1;36m05\u001B[0m-\u001B[1;36m21\u001B[0m \u001B[1;92m18:54:31\u001B[0m,\u001B[1;36m809\u001B[0m - \u001B[1m{\u001B[0mpytorch_tabular.tabular_model_tuner:\u001B[1;36m364\u001B[0m\u001B[1m}\u001B[0m - INFO - Trial \u001B[1;36m5\u001B[0m/\u001B[1;36m54\u001B[0m:                           \n",
       "\u001B[1m{\u001B[0m\u001B[32m'model_config.head_config__dropout'\u001B[0m: \u001B[1;36m0.1\u001B[0m, \u001B[32m'model_config__layers'\u001B[0m: \u001B[32m'1024-512-512'\u001B[0m, \u001B[32m'optimizer_config__optimizer'\u001B[0m:  \n",
       "\u001B[32m'AdamW'\u001B[0m, \u001B[32m'trainer_config__batch_size'\u001B[0m: \u001B[1;36m2048\u001B[0m, \u001B[32m'loss'\u001B[0m: \u001B[1;36m0.8694221377372742\u001B[0m, \u001B[32m'accuracy'\u001B[0m: \u001B[1;36m0.6644254922866821\u001B[0m,           \n",
       "\u001B[32m'trial_id'\u001B[0m: \u001B[1;36m4\u001B[0m\u001B[1m}\u001B[0m | Score: \u001B[1;36m0.6644254922866821\u001B[0m                                                                         \n"
      ],
      "text/html": [
       "<pre style=\"white-space:pre;overflow-x:auto;line-height:normal;font-family:Menlo,'DejaVu Sans Mono',consolas,'Courier New',monospace\"><span style=\"color: #008080; text-decoration-color: #008080; font-weight: bold\">2024</span>-<span style=\"color: #008080; text-decoration-color: #008080; font-weight: bold\">05</span>-<span style=\"color: #008080; text-decoration-color: #008080; font-weight: bold\">21</span> <span style=\"color: #00ff00; text-decoration-color: #00ff00; font-weight: bold\">18:54:31</span>,<span style=\"color: #008080; text-decoration-color: #008080; font-weight: bold\">809</span> - <span style=\"font-weight: bold\">{</span>pytorch_tabular.tabular_model_tuner:<span style=\"color: #008080; text-decoration-color: #008080; font-weight: bold\">364</span><span style=\"font-weight: bold\">}</span> - INFO - Trial <span style=\"color: #008080; text-decoration-color: #008080; font-weight: bold\">5</span>/<span style=\"color: #008080; text-decoration-color: #008080; font-weight: bold\">54</span>:                           \n",
       "<span style=\"font-weight: bold\">{</span><span style=\"color: #008000; text-decoration-color: #008000\">'model_config.head_config__dropout'</span>: <span style=\"color: #008080; text-decoration-color: #008080; font-weight: bold\">0.1</span>, <span style=\"color: #008000; text-decoration-color: #008000\">'model_config__layers'</span>: <span style=\"color: #008000; text-decoration-color: #008000\">'1024-512-512'</span>, <span style=\"color: #008000; text-decoration-color: #008000\">'optimizer_config__optimizer'</span>:  \n",
       "<span style=\"color: #008000; text-decoration-color: #008000\">'AdamW'</span>, <span style=\"color: #008000; text-decoration-color: #008000\">'trainer_config__batch_size'</span>: <span style=\"color: #008080; text-decoration-color: #008080; font-weight: bold\">2048</span>, <span style=\"color: #008000; text-decoration-color: #008000\">'loss'</span>: <span style=\"color: #008080; text-decoration-color: #008080; font-weight: bold\">0.8694221377372742</span>, <span style=\"color: #008000; text-decoration-color: #008000\">'accuracy'</span>: <span style=\"color: #008080; text-decoration-color: #008080; font-weight: bold\">0.6644254922866821</span>,           \n",
       "<span style=\"color: #008000; text-decoration-color: #008000\">'trial_id'</span>: <span style=\"color: #008080; text-decoration-color: #008080; font-weight: bold\">4</span><span style=\"font-weight: bold\">}</span> | Score: <span style=\"color: #008080; text-decoration-color: #008080; font-weight: bold\">0.6644254922866821</span>                                                                         \n",
       "</pre>\n"
      ]
     },
     "metadata": {},
     "output_type": "display_data"
    },
    {
     "data": {
      "text/plain": [
       "\u001B[1;36m2024\u001B[0m-\u001B[1;36m05\u001B[0m-\u001B[1;36m21\u001B[0m \u001B[1;92m18:55:05\u001B[0m,\u001B[1;36m549\u001B[0m - \u001B[1m{\u001B[0mpytorch_tabular.tabular_model_tuner:\u001B[1;36m364\u001B[0m\u001B[1m}\u001B[0m - INFO - Trial \u001B[1;36m6\u001B[0m/\u001B[1;36m54\u001B[0m:                           \n",
       "\u001B[1m{\u001B[0m\u001B[32m'model_config.head_config__dropout'\u001B[0m: \u001B[1;36m0.1\u001B[0m, \u001B[32m'model_config__layers'\u001B[0m: \u001B[32m'1024-512-512'\u001B[0m, \u001B[32m'optimizer_config__optimizer'\u001B[0m:  \n",
       "\u001B[32m'AdamW'\u001B[0m, \u001B[32m'trainer_config__batch_size'\u001B[0m: \u001B[1;36m4096\u001B[0m, \u001B[32m'loss'\u001B[0m: \u001B[1;36m0.8594146966934204\u001B[0m, \u001B[32m'accuracy'\u001B[0m: \u001B[1;36m0.6789183020591736\u001B[0m,           \n",
       "\u001B[32m'trial_id'\u001B[0m: \u001B[1;36m5\u001B[0m\u001B[1m}\u001B[0m | Score: \u001B[1;36m0.6789183020591736\u001B[0m                                                                         \n"
      ],
      "text/html": [
       "<pre style=\"white-space:pre;overflow-x:auto;line-height:normal;font-family:Menlo,'DejaVu Sans Mono',consolas,'Courier New',monospace\"><span style=\"color: #008080; text-decoration-color: #008080; font-weight: bold\">2024</span>-<span style=\"color: #008080; text-decoration-color: #008080; font-weight: bold\">05</span>-<span style=\"color: #008080; text-decoration-color: #008080; font-weight: bold\">21</span> <span style=\"color: #00ff00; text-decoration-color: #00ff00; font-weight: bold\">18:55:05</span>,<span style=\"color: #008080; text-decoration-color: #008080; font-weight: bold\">549</span> - <span style=\"font-weight: bold\">{</span>pytorch_tabular.tabular_model_tuner:<span style=\"color: #008080; text-decoration-color: #008080; font-weight: bold\">364</span><span style=\"font-weight: bold\">}</span> - INFO - Trial <span style=\"color: #008080; text-decoration-color: #008080; font-weight: bold\">6</span>/<span style=\"color: #008080; text-decoration-color: #008080; font-weight: bold\">54</span>:                           \n",
       "<span style=\"font-weight: bold\">{</span><span style=\"color: #008000; text-decoration-color: #008000\">'model_config.head_config__dropout'</span>: <span style=\"color: #008080; text-decoration-color: #008080; font-weight: bold\">0.1</span>, <span style=\"color: #008000; text-decoration-color: #008000\">'model_config__layers'</span>: <span style=\"color: #008000; text-decoration-color: #008000\">'1024-512-512'</span>, <span style=\"color: #008000; text-decoration-color: #008000\">'optimizer_config__optimizer'</span>:  \n",
       "<span style=\"color: #008000; text-decoration-color: #008000\">'AdamW'</span>, <span style=\"color: #008000; text-decoration-color: #008000\">'trainer_config__batch_size'</span>: <span style=\"color: #008080; text-decoration-color: #008080; font-weight: bold\">4096</span>, <span style=\"color: #008000; text-decoration-color: #008000\">'loss'</span>: <span style=\"color: #008080; text-decoration-color: #008080; font-weight: bold\">0.8594146966934204</span>, <span style=\"color: #008000; text-decoration-color: #008000\">'accuracy'</span>: <span style=\"color: #008080; text-decoration-color: #008080; font-weight: bold\">0.6789183020591736</span>,           \n",
       "<span style=\"color: #008000; text-decoration-color: #008000\">'trial_id'</span>: <span style=\"color: #008080; text-decoration-color: #008080; font-weight: bold\">5</span><span style=\"font-weight: bold\">}</span> | Score: <span style=\"color: #008080; text-decoration-color: #008080; font-weight: bold\">0.6789183020591736</span>                                                                         \n",
       "</pre>\n"
      ]
     },
     "metadata": {},
     "output_type": "display_data"
    },
    {
     "data": {
      "text/plain": [
       "\u001B[1;36m2024\u001B[0m-\u001B[1;36m05\u001B[0m-\u001B[1;36m21\u001B[0m \u001B[1;92m18:55:43\u001B[0m,\u001B[1;36m005\u001B[0m - \u001B[1m{\u001B[0mpytorch_tabular.tabular_model_tuner:\u001B[1;36m364\u001B[0m\u001B[1m}\u001B[0m - INFO - Trial \u001B[1;36m7\u001B[0m/\u001B[1;36m54\u001B[0m:                           \n",
       "\u001B[1m{\u001B[0m\u001B[32m'model_config.head_config__dropout'\u001B[0m: \u001B[1;36m0.1\u001B[0m, \u001B[32m'model_config__layers'\u001B[0m: \u001B[32m'1024-512-256'\u001B[0m, \u001B[32m'optimizer_config__optimizer'\u001B[0m:  \n",
       "\u001B[32m'RAdam'\u001B[0m, \u001B[32m'trainer_config__batch_size'\u001B[0m: \u001B[1;36m1024\u001B[0m, \u001B[32m'loss'\u001B[0m: \u001B[1;36m0.8659669160842896\u001B[0m, \u001B[32m'accuracy'\u001B[0m: \u001B[1;36m0.6774241924285889\u001B[0m,           \n",
       "\u001B[32m'trial_id'\u001B[0m: \u001B[1;36m6\u001B[0m\u001B[1m}\u001B[0m | Score: \u001B[1;36m0.6774241924285889\u001B[0m                                                                         \n"
      ],
      "text/html": [
       "<pre style=\"white-space:pre;overflow-x:auto;line-height:normal;font-family:Menlo,'DejaVu Sans Mono',consolas,'Courier New',monospace\"><span style=\"color: #008080; text-decoration-color: #008080; font-weight: bold\">2024</span>-<span style=\"color: #008080; text-decoration-color: #008080; font-weight: bold\">05</span>-<span style=\"color: #008080; text-decoration-color: #008080; font-weight: bold\">21</span> <span style=\"color: #00ff00; text-decoration-color: #00ff00; font-weight: bold\">18:55:43</span>,<span style=\"color: #008080; text-decoration-color: #008080; font-weight: bold\">005</span> - <span style=\"font-weight: bold\">{</span>pytorch_tabular.tabular_model_tuner:<span style=\"color: #008080; text-decoration-color: #008080; font-weight: bold\">364</span><span style=\"font-weight: bold\">}</span> - INFO - Trial <span style=\"color: #008080; text-decoration-color: #008080; font-weight: bold\">7</span>/<span style=\"color: #008080; text-decoration-color: #008080; font-weight: bold\">54</span>:                           \n",
       "<span style=\"font-weight: bold\">{</span><span style=\"color: #008000; text-decoration-color: #008000\">'model_config.head_config__dropout'</span>: <span style=\"color: #008080; text-decoration-color: #008080; font-weight: bold\">0.1</span>, <span style=\"color: #008000; text-decoration-color: #008000\">'model_config__layers'</span>: <span style=\"color: #008000; text-decoration-color: #008000\">'1024-512-256'</span>, <span style=\"color: #008000; text-decoration-color: #008000\">'optimizer_config__optimizer'</span>:  \n",
       "<span style=\"color: #008000; text-decoration-color: #008000\">'RAdam'</span>, <span style=\"color: #008000; text-decoration-color: #008000\">'trainer_config__batch_size'</span>: <span style=\"color: #008080; text-decoration-color: #008080; font-weight: bold\">1024</span>, <span style=\"color: #008000; text-decoration-color: #008000\">'loss'</span>: <span style=\"color: #008080; text-decoration-color: #008080; font-weight: bold\">0.8659669160842896</span>, <span style=\"color: #008000; text-decoration-color: #008000\">'accuracy'</span>: <span style=\"color: #008080; text-decoration-color: #008080; font-weight: bold\">0.6774241924285889</span>,           \n",
       "<span style=\"color: #008000; text-decoration-color: #008000\">'trial_id'</span>: <span style=\"color: #008080; text-decoration-color: #008080; font-weight: bold\">6</span><span style=\"font-weight: bold\">}</span> | Score: <span style=\"color: #008080; text-decoration-color: #008080; font-weight: bold\">0.6774241924285889</span>                                                                         \n",
       "</pre>\n"
      ]
     },
     "metadata": {},
     "output_type": "display_data"
    },
    {
     "data": {
      "text/plain": [
       "\u001B[1;36m2024\u001B[0m-\u001B[1;36m05\u001B[0m-\u001B[1;36m21\u001B[0m \u001B[1;92m18:56:25\u001B[0m,\u001B[1;36m439\u001B[0m - \u001B[1m{\u001B[0mpytorch_tabular.tabular_model_tuner:\u001B[1;36m364\u001B[0m\u001B[1m}\u001B[0m - INFO - Trial \u001B[1;36m8\u001B[0m/\u001B[1;36m54\u001B[0m:                           \n",
       "\u001B[1m{\u001B[0m\u001B[32m'model_config.head_config__dropout'\u001B[0m: \u001B[1;36m0.1\u001B[0m, \u001B[32m'model_config__layers'\u001B[0m: \u001B[32m'1024-512-256'\u001B[0m, \u001B[32m'optimizer_config__optimizer'\u001B[0m:  \n",
       "\u001B[32m'RAdam'\u001B[0m, \u001B[32m'trainer_config__batch_size'\u001B[0m: \u001B[1;36m2048\u001B[0m, \u001B[32m'loss'\u001B[0m: \u001B[1;36m0.8359962105751038\u001B[0m, \u001B[32m'accuracy'\u001B[0m: \u001B[1;36m0.6866875886917114\u001B[0m,           \n",
       "\u001B[32m'trial_id'\u001B[0m: \u001B[1;36m7\u001B[0m\u001B[1m}\u001B[0m | Score: \u001B[1;36m0.6866875886917114\u001B[0m                                                                         \n"
      ],
      "text/html": [
       "<pre style=\"white-space:pre;overflow-x:auto;line-height:normal;font-family:Menlo,'DejaVu Sans Mono',consolas,'Courier New',monospace\"><span style=\"color: #008080; text-decoration-color: #008080; font-weight: bold\">2024</span>-<span style=\"color: #008080; text-decoration-color: #008080; font-weight: bold\">05</span>-<span style=\"color: #008080; text-decoration-color: #008080; font-weight: bold\">21</span> <span style=\"color: #00ff00; text-decoration-color: #00ff00; font-weight: bold\">18:56:25</span>,<span style=\"color: #008080; text-decoration-color: #008080; font-weight: bold\">439</span> - <span style=\"font-weight: bold\">{</span>pytorch_tabular.tabular_model_tuner:<span style=\"color: #008080; text-decoration-color: #008080; font-weight: bold\">364</span><span style=\"font-weight: bold\">}</span> - INFO - Trial <span style=\"color: #008080; text-decoration-color: #008080; font-weight: bold\">8</span>/<span style=\"color: #008080; text-decoration-color: #008080; font-weight: bold\">54</span>:                           \n",
       "<span style=\"font-weight: bold\">{</span><span style=\"color: #008000; text-decoration-color: #008000\">'model_config.head_config__dropout'</span>: <span style=\"color: #008080; text-decoration-color: #008080; font-weight: bold\">0.1</span>, <span style=\"color: #008000; text-decoration-color: #008000\">'model_config__layers'</span>: <span style=\"color: #008000; text-decoration-color: #008000\">'1024-512-256'</span>, <span style=\"color: #008000; text-decoration-color: #008000\">'optimizer_config__optimizer'</span>:  \n",
       "<span style=\"color: #008000; text-decoration-color: #008000\">'RAdam'</span>, <span style=\"color: #008000; text-decoration-color: #008000\">'trainer_config__batch_size'</span>: <span style=\"color: #008080; text-decoration-color: #008080; font-weight: bold\">2048</span>, <span style=\"color: #008000; text-decoration-color: #008000\">'loss'</span>: <span style=\"color: #008080; text-decoration-color: #008080; font-weight: bold\">0.8359962105751038</span>, <span style=\"color: #008000; text-decoration-color: #008000\">'accuracy'</span>: <span style=\"color: #008080; text-decoration-color: #008080; font-weight: bold\">0.6866875886917114</span>,           \n",
       "<span style=\"color: #008000; text-decoration-color: #008000\">'trial_id'</span>: <span style=\"color: #008080; text-decoration-color: #008080; font-weight: bold\">7</span><span style=\"font-weight: bold\">}</span> | Score: <span style=\"color: #008080; text-decoration-color: #008080; font-weight: bold\">0.6866875886917114</span>                                                                         \n",
       "</pre>\n"
      ]
     },
     "metadata": {},
     "output_type": "display_data"
    },
    {
     "data": {
      "text/plain": [
       "\u001B[1;36m2024\u001B[0m-\u001B[1;36m05\u001B[0m-\u001B[1;36m21\u001B[0m \u001B[1;92m18:57:01\u001B[0m,\u001B[1;36m528\u001B[0m - \u001B[1m{\u001B[0mpytorch_tabular.tabular_model_tuner:\u001B[1;36m364\u001B[0m\u001B[1m}\u001B[0m - INFO - Trial \u001B[1;36m9\u001B[0m/\u001B[1;36m54\u001B[0m:                           \n",
       "\u001B[1m{\u001B[0m\u001B[32m'model_config.head_config__dropout'\u001B[0m: \u001B[1;36m0.1\u001B[0m, \u001B[32m'model_config__layers'\u001B[0m: \u001B[32m'1024-512-256'\u001B[0m, \u001B[32m'optimizer_config__optimizer'\u001B[0m:  \n",
       "\u001B[32m'RAdam'\u001B[0m, \u001B[32m'trainer_config__batch_size'\u001B[0m: \u001B[1;36m4096\u001B[0m, \u001B[32m'loss'\u001B[0m: \u001B[1;36m0.8473047614097595\u001B[0m, \u001B[32m'accuracy'\u001B[0m: \u001B[1;36m0.6736889481544495\u001B[0m,           \n",
       "\u001B[32m'trial_id'\u001B[0m: \u001B[1;36m8\u001B[0m\u001B[1m}\u001B[0m | Score: \u001B[1;36m0.6736889481544495\u001B[0m                                                                         \n"
      ],
      "text/html": [
       "<pre style=\"white-space:pre;overflow-x:auto;line-height:normal;font-family:Menlo,'DejaVu Sans Mono',consolas,'Courier New',monospace\"><span style=\"color: #008080; text-decoration-color: #008080; font-weight: bold\">2024</span>-<span style=\"color: #008080; text-decoration-color: #008080; font-weight: bold\">05</span>-<span style=\"color: #008080; text-decoration-color: #008080; font-weight: bold\">21</span> <span style=\"color: #00ff00; text-decoration-color: #00ff00; font-weight: bold\">18:57:01</span>,<span style=\"color: #008080; text-decoration-color: #008080; font-weight: bold\">528</span> - <span style=\"font-weight: bold\">{</span>pytorch_tabular.tabular_model_tuner:<span style=\"color: #008080; text-decoration-color: #008080; font-weight: bold\">364</span><span style=\"font-weight: bold\">}</span> - INFO - Trial <span style=\"color: #008080; text-decoration-color: #008080; font-weight: bold\">9</span>/<span style=\"color: #008080; text-decoration-color: #008080; font-weight: bold\">54</span>:                           \n",
       "<span style=\"font-weight: bold\">{</span><span style=\"color: #008000; text-decoration-color: #008000\">'model_config.head_config__dropout'</span>: <span style=\"color: #008080; text-decoration-color: #008080; font-weight: bold\">0.1</span>, <span style=\"color: #008000; text-decoration-color: #008000\">'model_config__layers'</span>: <span style=\"color: #008000; text-decoration-color: #008000\">'1024-512-256'</span>, <span style=\"color: #008000; text-decoration-color: #008000\">'optimizer_config__optimizer'</span>:  \n",
       "<span style=\"color: #008000; text-decoration-color: #008000\">'RAdam'</span>, <span style=\"color: #008000; text-decoration-color: #008000\">'trainer_config__batch_size'</span>: <span style=\"color: #008080; text-decoration-color: #008080; font-weight: bold\">4096</span>, <span style=\"color: #008000; text-decoration-color: #008000\">'loss'</span>: <span style=\"color: #008080; text-decoration-color: #008080; font-weight: bold\">0.8473047614097595</span>, <span style=\"color: #008000; text-decoration-color: #008000\">'accuracy'</span>: <span style=\"color: #008080; text-decoration-color: #008080; font-weight: bold\">0.6736889481544495</span>,           \n",
       "<span style=\"color: #008000; text-decoration-color: #008000\">'trial_id'</span>: <span style=\"color: #008080; text-decoration-color: #008080; font-weight: bold\">8</span><span style=\"font-weight: bold\">}</span> | Score: <span style=\"color: #008080; text-decoration-color: #008080; font-weight: bold\">0.6736889481544495</span>                                                                         \n",
       "</pre>\n"
      ]
     },
     "metadata": {},
     "output_type": "display_data"
    },
    {
     "data": {
      "text/plain": [
       "\u001B[1;36m2024\u001B[0m-\u001B[1;36m05\u001B[0m-\u001B[1;36m21\u001B[0m \u001B[1;92m18:57:37\u001B[0m,\u001B[1;36m003\u001B[0m - \u001B[1m{\u001B[0mpytorch_tabular.tabular_model_tuner:\u001B[1;36m364\u001B[0m\u001B[1m}\u001B[0m - INFO - Trial \u001B[1;36m10\u001B[0m/\u001B[1;36m54\u001B[0m:                          \n",
       "\u001B[1m{\u001B[0m\u001B[32m'model_config.head_config__dropout'\u001B[0m: \u001B[1;36m0.1\u001B[0m, \u001B[32m'model_config__layers'\u001B[0m: \u001B[32m'1024-512-256'\u001B[0m, \u001B[32m'optimizer_config__optimizer'\u001B[0m:  \n",
       "\u001B[32m'AdamW'\u001B[0m, \u001B[32m'trainer_config__batch_size'\u001B[0m: \u001B[1;36m1024\u001B[0m, \u001B[32m'loss'\u001B[0m: \u001B[1;36m0.8448008894920349\u001B[0m, \u001B[32m'accuracy'\u001B[0m: \u001B[1;36m0.6657702326774597\u001B[0m,           \n",
       "\u001B[32m'trial_id'\u001B[0m: \u001B[1;36m9\u001B[0m\u001B[1m}\u001B[0m | Score: \u001B[1;36m0.6657702326774597\u001B[0m                                                                         \n"
      ],
      "text/html": [
       "<pre style=\"white-space:pre;overflow-x:auto;line-height:normal;font-family:Menlo,'DejaVu Sans Mono',consolas,'Courier New',monospace\"><span style=\"color: #008080; text-decoration-color: #008080; font-weight: bold\">2024</span>-<span style=\"color: #008080; text-decoration-color: #008080; font-weight: bold\">05</span>-<span style=\"color: #008080; text-decoration-color: #008080; font-weight: bold\">21</span> <span style=\"color: #00ff00; text-decoration-color: #00ff00; font-weight: bold\">18:57:37</span>,<span style=\"color: #008080; text-decoration-color: #008080; font-weight: bold\">003</span> - <span style=\"font-weight: bold\">{</span>pytorch_tabular.tabular_model_tuner:<span style=\"color: #008080; text-decoration-color: #008080; font-weight: bold\">364</span><span style=\"font-weight: bold\">}</span> - INFO - Trial <span style=\"color: #008080; text-decoration-color: #008080; font-weight: bold\">10</span>/<span style=\"color: #008080; text-decoration-color: #008080; font-weight: bold\">54</span>:                          \n",
       "<span style=\"font-weight: bold\">{</span><span style=\"color: #008000; text-decoration-color: #008000\">'model_config.head_config__dropout'</span>: <span style=\"color: #008080; text-decoration-color: #008080; font-weight: bold\">0.1</span>, <span style=\"color: #008000; text-decoration-color: #008000\">'model_config__layers'</span>: <span style=\"color: #008000; text-decoration-color: #008000\">'1024-512-256'</span>, <span style=\"color: #008000; text-decoration-color: #008000\">'optimizer_config__optimizer'</span>:  \n",
       "<span style=\"color: #008000; text-decoration-color: #008000\">'AdamW'</span>, <span style=\"color: #008000; text-decoration-color: #008000\">'trainer_config__batch_size'</span>: <span style=\"color: #008080; text-decoration-color: #008080; font-weight: bold\">1024</span>, <span style=\"color: #008000; text-decoration-color: #008000\">'loss'</span>: <span style=\"color: #008080; text-decoration-color: #008080; font-weight: bold\">0.8448008894920349</span>, <span style=\"color: #008000; text-decoration-color: #008000\">'accuracy'</span>: <span style=\"color: #008080; text-decoration-color: #008080; font-weight: bold\">0.6657702326774597</span>,           \n",
       "<span style=\"color: #008000; text-decoration-color: #008000\">'trial_id'</span>: <span style=\"color: #008080; text-decoration-color: #008080; font-weight: bold\">9</span><span style=\"font-weight: bold\">}</span> | Score: <span style=\"color: #008080; text-decoration-color: #008080; font-weight: bold\">0.6657702326774597</span>                                                                         \n",
       "</pre>\n"
      ]
     },
     "metadata": {},
     "output_type": "display_data"
    },
    {
     "data": {
      "text/plain": [
       "\u001B[1;36m2024\u001B[0m-\u001B[1;36m05\u001B[0m-\u001B[1;36m21\u001B[0m \u001B[1;92m18:58:22\u001B[0m,\u001B[1;36m063\u001B[0m - \u001B[1m{\u001B[0mpytorch_tabular.tabular_model_tuner:\u001B[1;36m364\u001B[0m\u001B[1m}\u001B[0m - INFO - Trial \u001B[1;36m11\u001B[0m/\u001B[1;36m54\u001B[0m:                          \n",
       "\u001B[1m{\u001B[0m\u001B[32m'model_config.head_config__dropout'\u001B[0m: \u001B[1;36m0.1\u001B[0m, \u001B[32m'model_config__layers'\u001B[0m: \u001B[32m'1024-512-256'\u001B[0m, \u001B[32m'optimizer_config__optimizer'\u001B[0m:  \n",
       "\u001B[32m'AdamW'\u001B[0m, \u001B[32m'trainer_config__batch_size'\u001B[0m: \u001B[1;36m2048\u001B[0m, \u001B[32m'loss'\u001B[0m: \u001B[1;36m0.8309357762336731\u001B[0m, \u001B[32m'accuracy'\u001B[0m: \u001B[1;36m0.6917675137519836\u001B[0m,           \n",
       "\u001B[32m'trial_id'\u001B[0m: \u001B[1;36m10\u001B[0m\u001B[1m}\u001B[0m | Score: \u001B[1;36m0.6917675137519836\u001B[0m                                                                        \n"
      ],
      "text/html": [
       "<pre style=\"white-space:pre;overflow-x:auto;line-height:normal;font-family:Menlo,'DejaVu Sans Mono',consolas,'Courier New',monospace\"><span style=\"color: #008080; text-decoration-color: #008080; font-weight: bold\">2024</span>-<span style=\"color: #008080; text-decoration-color: #008080; font-weight: bold\">05</span>-<span style=\"color: #008080; text-decoration-color: #008080; font-weight: bold\">21</span> <span style=\"color: #00ff00; text-decoration-color: #00ff00; font-weight: bold\">18:58:22</span>,<span style=\"color: #008080; text-decoration-color: #008080; font-weight: bold\">063</span> - <span style=\"font-weight: bold\">{</span>pytorch_tabular.tabular_model_tuner:<span style=\"color: #008080; text-decoration-color: #008080; font-weight: bold\">364</span><span style=\"font-weight: bold\">}</span> - INFO - Trial <span style=\"color: #008080; text-decoration-color: #008080; font-weight: bold\">11</span>/<span style=\"color: #008080; text-decoration-color: #008080; font-weight: bold\">54</span>:                          \n",
       "<span style=\"font-weight: bold\">{</span><span style=\"color: #008000; text-decoration-color: #008000\">'model_config.head_config__dropout'</span>: <span style=\"color: #008080; text-decoration-color: #008080; font-weight: bold\">0.1</span>, <span style=\"color: #008000; text-decoration-color: #008000\">'model_config__layers'</span>: <span style=\"color: #008000; text-decoration-color: #008000\">'1024-512-256'</span>, <span style=\"color: #008000; text-decoration-color: #008000\">'optimizer_config__optimizer'</span>:  \n",
       "<span style=\"color: #008000; text-decoration-color: #008000\">'AdamW'</span>, <span style=\"color: #008000; text-decoration-color: #008000\">'trainer_config__batch_size'</span>: <span style=\"color: #008080; text-decoration-color: #008080; font-weight: bold\">2048</span>, <span style=\"color: #008000; text-decoration-color: #008000\">'loss'</span>: <span style=\"color: #008080; text-decoration-color: #008080; font-weight: bold\">0.8309357762336731</span>, <span style=\"color: #008000; text-decoration-color: #008000\">'accuracy'</span>: <span style=\"color: #008080; text-decoration-color: #008080; font-weight: bold\">0.6917675137519836</span>,           \n",
       "<span style=\"color: #008000; text-decoration-color: #008000\">'trial_id'</span>: <span style=\"color: #008080; text-decoration-color: #008080; font-weight: bold\">10</span><span style=\"font-weight: bold\">}</span> | Score: <span style=\"color: #008080; text-decoration-color: #008080; font-weight: bold\">0.6917675137519836</span>                                                                        \n",
       "</pre>\n"
      ]
     },
     "metadata": {},
     "output_type": "display_data"
    },
    {
     "data": {
      "text/plain": [
       "\u001B[1;36m2024\u001B[0m-\u001B[1;36m05\u001B[0m-\u001B[1;36m21\u001B[0m \u001B[1;92m18:58:56\u001B[0m,\u001B[1;36m009\u001B[0m - \u001B[1m{\u001B[0mpytorch_tabular.tabular_model_tuner:\u001B[1;36m364\u001B[0m\u001B[1m}\u001B[0m - INFO - Trial \u001B[1;36m12\u001B[0m/\u001B[1;36m54\u001B[0m:                          \n",
       "\u001B[1m{\u001B[0m\u001B[32m'model_config.head_config__dropout'\u001B[0m: \u001B[1;36m0.1\u001B[0m, \u001B[32m'model_config__layers'\u001B[0m: \u001B[32m'1024-512-256'\u001B[0m, \u001B[32m'optimizer_config__optimizer'\u001B[0m:  \n",
       "\u001B[32m'AdamW'\u001B[0m, \u001B[32m'trainer_config__batch_size'\u001B[0m: \u001B[1;36m4096\u001B[0m, \u001B[32m'loss'\u001B[0m: \u001B[1;36m0.8533334136009216\u001B[0m, \u001B[32m'accuracy'\u001B[0m: \u001B[1;36m0.6763783097267151\u001B[0m,           \n",
       "\u001B[32m'trial_id'\u001B[0m: \u001B[1;36m11\u001B[0m\u001B[1m}\u001B[0m | Score: \u001B[1;36m0.6763783097267151\u001B[0m                                                                        \n"
      ],
      "text/html": [
       "<pre style=\"white-space:pre;overflow-x:auto;line-height:normal;font-family:Menlo,'DejaVu Sans Mono',consolas,'Courier New',monospace\"><span style=\"color: #008080; text-decoration-color: #008080; font-weight: bold\">2024</span>-<span style=\"color: #008080; text-decoration-color: #008080; font-weight: bold\">05</span>-<span style=\"color: #008080; text-decoration-color: #008080; font-weight: bold\">21</span> <span style=\"color: #00ff00; text-decoration-color: #00ff00; font-weight: bold\">18:58:56</span>,<span style=\"color: #008080; text-decoration-color: #008080; font-weight: bold\">009</span> - <span style=\"font-weight: bold\">{</span>pytorch_tabular.tabular_model_tuner:<span style=\"color: #008080; text-decoration-color: #008080; font-weight: bold\">364</span><span style=\"font-weight: bold\">}</span> - INFO - Trial <span style=\"color: #008080; text-decoration-color: #008080; font-weight: bold\">12</span>/<span style=\"color: #008080; text-decoration-color: #008080; font-weight: bold\">54</span>:                          \n",
       "<span style=\"font-weight: bold\">{</span><span style=\"color: #008000; text-decoration-color: #008000\">'model_config.head_config__dropout'</span>: <span style=\"color: #008080; text-decoration-color: #008080; font-weight: bold\">0.1</span>, <span style=\"color: #008000; text-decoration-color: #008000\">'model_config__layers'</span>: <span style=\"color: #008000; text-decoration-color: #008000\">'1024-512-256'</span>, <span style=\"color: #008000; text-decoration-color: #008000\">'optimizer_config__optimizer'</span>:  \n",
       "<span style=\"color: #008000; text-decoration-color: #008000\">'AdamW'</span>, <span style=\"color: #008000; text-decoration-color: #008000\">'trainer_config__batch_size'</span>: <span style=\"color: #008080; text-decoration-color: #008080; font-weight: bold\">4096</span>, <span style=\"color: #008000; text-decoration-color: #008000\">'loss'</span>: <span style=\"color: #008080; text-decoration-color: #008080; font-weight: bold\">0.8533334136009216</span>, <span style=\"color: #008000; text-decoration-color: #008000\">'accuracy'</span>: <span style=\"color: #008080; text-decoration-color: #008080; font-weight: bold\">0.6763783097267151</span>,           \n",
       "<span style=\"color: #008000; text-decoration-color: #008000\">'trial_id'</span>: <span style=\"color: #008080; text-decoration-color: #008080; font-weight: bold\">11</span><span style=\"font-weight: bold\">}</span> | Score: <span style=\"color: #008080; text-decoration-color: #008080; font-weight: bold\">0.6763783097267151</span>                                                                        \n",
       "</pre>\n"
      ]
     },
     "metadata": {},
     "output_type": "display_data"
    },
    {
     "data": {
      "text/plain": [
       "\u001B[1;36m2024\u001B[0m-\u001B[1;36m05\u001B[0m-\u001B[1;36m21\u001B[0m \u001B[1;92m18:59:49\u001B[0m,\u001B[1;36m897\u001B[0m - \u001B[1m{\u001B[0mpytorch_tabular.tabular_model_tuner:\u001B[1;36m364\u001B[0m\u001B[1m}\u001B[0m - INFO - Trial \u001B[1;36m13\u001B[0m/\u001B[1;36m54\u001B[0m:                          \n",
       "\u001B[1m{\u001B[0m\u001B[32m'model_config.head_config__dropout'\u001B[0m: \u001B[1;36m0.1\u001B[0m, \u001B[32m'model_config__layers'\u001B[0m: \u001B[32m'1024-512-128'\u001B[0m, \u001B[32m'optimizer_config__optimizer'\u001B[0m:  \n",
       "\u001B[32m'RAdam'\u001B[0m, \u001B[32m'trainer_config__batch_size'\u001B[0m: \u001B[1;36m1024\u001B[0m, \u001B[32m'loss'\u001B[0m: \u001B[1;36m0.8719759583473206\u001B[0m, \u001B[32m'accuracy'\u001B[0m: \u001B[1;36m0.6715971827507019\u001B[0m,           \n",
       "\u001B[32m'trial_id'\u001B[0m: \u001B[1;36m12\u001B[0m\u001B[1m}\u001B[0m | Score: \u001B[1;36m0.6715971827507019\u001B[0m                                                                        \n"
      ],
      "text/html": [
       "<pre style=\"white-space:pre;overflow-x:auto;line-height:normal;font-family:Menlo,'DejaVu Sans Mono',consolas,'Courier New',monospace\"><span style=\"color: #008080; text-decoration-color: #008080; font-weight: bold\">2024</span>-<span style=\"color: #008080; text-decoration-color: #008080; font-weight: bold\">05</span>-<span style=\"color: #008080; text-decoration-color: #008080; font-weight: bold\">21</span> <span style=\"color: #00ff00; text-decoration-color: #00ff00; font-weight: bold\">18:59:49</span>,<span style=\"color: #008080; text-decoration-color: #008080; font-weight: bold\">897</span> - <span style=\"font-weight: bold\">{</span>pytorch_tabular.tabular_model_tuner:<span style=\"color: #008080; text-decoration-color: #008080; font-weight: bold\">364</span><span style=\"font-weight: bold\">}</span> - INFO - Trial <span style=\"color: #008080; text-decoration-color: #008080; font-weight: bold\">13</span>/<span style=\"color: #008080; text-decoration-color: #008080; font-weight: bold\">54</span>:                          \n",
       "<span style=\"font-weight: bold\">{</span><span style=\"color: #008000; text-decoration-color: #008000\">'model_config.head_config__dropout'</span>: <span style=\"color: #008080; text-decoration-color: #008080; font-weight: bold\">0.1</span>, <span style=\"color: #008000; text-decoration-color: #008000\">'model_config__layers'</span>: <span style=\"color: #008000; text-decoration-color: #008000\">'1024-512-128'</span>, <span style=\"color: #008000; text-decoration-color: #008000\">'optimizer_config__optimizer'</span>:  \n",
       "<span style=\"color: #008000; text-decoration-color: #008000\">'RAdam'</span>, <span style=\"color: #008000; text-decoration-color: #008000\">'trainer_config__batch_size'</span>: <span style=\"color: #008080; text-decoration-color: #008080; font-weight: bold\">1024</span>, <span style=\"color: #008000; text-decoration-color: #008000\">'loss'</span>: <span style=\"color: #008080; text-decoration-color: #008080; font-weight: bold\">0.8719759583473206</span>, <span style=\"color: #008000; text-decoration-color: #008000\">'accuracy'</span>: <span style=\"color: #008080; text-decoration-color: #008080; font-weight: bold\">0.6715971827507019</span>,           \n",
       "<span style=\"color: #008000; text-decoration-color: #008000\">'trial_id'</span>: <span style=\"color: #008080; text-decoration-color: #008080; font-weight: bold\">12</span><span style=\"font-weight: bold\">}</span> | Score: <span style=\"color: #008080; text-decoration-color: #008080; font-weight: bold\">0.6715971827507019</span>                                                                        \n",
       "</pre>\n"
      ]
     },
     "metadata": {},
     "output_type": "display_data"
    },
    {
     "data": {
      "text/plain": [
       "\u001B[1;36m2024\u001B[0m-\u001B[1;36m05\u001B[0m-\u001B[1;36m21\u001B[0m \u001B[1;92m19:00:36\u001B[0m,\u001B[1;36m984\u001B[0m - \u001B[1m{\u001B[0mpytorch_tabular.tabular_model_tuner:\u001B[1;36m364\u001B[0m\u001B[1m}\u001B[0m - INFO - Trial \u001B[1;36m14\u001B[0m/\u001B[1;36m54\u001B[0m:                          \n",
       "\u001B[1m{\u001B[0m\u001B[32m'model_config.head_config__dropout'\u001B[0m: \u001B[1;36m0.1\u001B[0m, \u001B[32m'model_config__layers'\u001B[0m: \u001B[32m'1024-512-128'\u001B[0m, \u001B[32m'optimizer_config__optimizer'\u001B[0m:  \n",
       "\u001B[32m'RAdam'\u001B[0m, \u001B[32m'trainer_config__batch_size'\u001B[0m: \u001B[1;36m2048\u001B[0m, \u001B[32m'loss'\u001B[0m: \u001B[1;36m0.854229211807251\u001B[0m, \u001B[32m'accuracy'\u001B[0m: \u001B[1;36m0.6865381598472595\u001B[0m, \u001B[32m'trial_id'\u001B[0m:\n",
       "\u001B[1;36m13\u001B[0m\u001B[1m}\u001B[0m | Score: \u001B[1;36m0.6865381598472595\u001B[0m                                                                                    \n"
      ],
      "text/html": [
       "<pre style=\"white-space:pre;overflow-x:auto;line-height:normal;font-family:Menlo,'DejaVu Sans Mono',consolas,'Courier New',monospace\"><span style=\"color: #008080; text-decoration-color: #008080; font-weight: bold\">2024</span>-<span style=\"color: #008080; text-decoration-color: #008080; font-weight: bold\">05</span>-<span style=\"color: #008080; text-decoration-color: #008080; font-weight: bold\">21</span> <span style=\"color: #00ff00; text-decoration-color: #00ff00; font-weight: bold\">19:00:36</span>,<span style=\"color: #008080; text-decoration-color: #008080; font-weight: bold\">984</span> - <span style=\"font-weight: bold\">{</span>pytorch_tabular.tabular_model_tuner:<span style=\"color: #008080; text-decoration-color: #008080; font-weight: bold\">364</span><span style=\"font-weight: bold\">}</span> - INFO - Trial <span style=\"color: #008080; text-decoration-color: #008080; font-weight: bold\">14</span>/<span style=\"color: #008080; text-decoration-color: #008080; font-weight: bold\">54</span>:                          \n",
       "<span style=\"font-weight: bold\">{</span><span style=\"color: #008000; text-decoration-color: #008000\">'model_config.head_config__dropout'</span>: <span style=\"color: #008080; text-decoration-color: #008080; font-weight: bold\">0.1</span>, <span style=\"color: #008000; text-decoration-color: #008000\">'model_config__layers'</span>: <span style=\"color: #008000; text-decoration-color: #008000\">'1024-512-128'</span>, <span style=\"color: #008000; text-decoration-color: #008000\">'optimizer_config__optimizer'</span>:  \n",
       "<span style=\"color: #008000; text-decoration-color: #008000\">'RAdam'</span>, <span style=\"color: #008000; text-decoration-color: #008000\">'trainer_config__batch_size'</span>: <span style=\"color: #008080; text-decoration-color: #008080; font-weight: bold\">2048</span>, <span style=\"color: #008000; text-decoration-color: #008000\">'loss'</span>: <span style=\"color: #008080; text-decoration-color: #008080; font-weight: bold\">0.854229211807251</span>, <span style=\"color: #008000; text-decoration-color: #008000\">'accuracy'</span>: <span style=\"color: #008080; text-decoration-color: #008080; font-weight: bold\">0.6865381598472595</span>, <span style=\"color: #008000; text-decoration-color: #008000\">'trial_id'</span>:\n",
       "<span style=\"color: #008080; text-decoration-color: #008080; font-weight: bold\">13</span><span style=\"font-weight: bold\">}</span> | Score: <span style=\"color: #008080; text-decoration-color: #008080; font-weight: bold\">0.6865381598472595</span>                                                                                    \n",
       "</pre>\n"
      ]
     },
     "metadata": {},
     "output_type": "display_data"
    },
    {
     "data": {
      "text/plain": [
       "\u001B[1;36m2024\u001B[0m-\u001B[1;36m05\u001B[0m-\u001B[1;36m21\u001B[0m \u001B[1;92m19:01:07\u001B[0m,\u001B[1;36m274\u001B[0m - \u001B[1m{\u001B[0mpytorch_tabular.tabular_model_tuner:\u001B[1;36m364\u001B[0m\u001B[1m}\u001B[0m - INFO - Trial \u001B[1;36m15\u001B[0m/\u001B[1;36m54\u001B[0m:                          \n",
       "\u001B[1m{\u001B[0m\u001B[32m'model_config.head_config__dropout'\u001B[0m: \u001B[1;36m0.1\u001B[0m, \u001B[32m'model_config__layers'\u001B[0m: \u001B[32m'1024-512-128'\u001B[0m, \u001B[32m'optimizer_config__optimizer'\u001B[0m:  \n",
       "\u001B[32m'RAdam'\u001B[0m, \u001B[32m'trainer_config__batch_size'\u001B[0m: \u001B[1;36m4096\u001B[0m, \u001B[32m'loss'\u001B[0m: \u001B[1;36m0.8734381794929504\u001B[0m, \u001B[32m'accuracy'\u001B[0m: \u001B[1;36m0.6742865443229675\u001B[0m,           \n",
       "\u001B[32m'trial_id'\u001B[0m: \u001B[1;36m14\u001B[0m\u001B[1m}\u001B[0m | Score: \u001B[1;36m0.6742865443229675\u001B[0m                                                                        \n"
      ],
      "text/html": [
       "<pre style=\"white-space:pre;overflow-x:auto;line-height:normal;font-family:Menlo,'DejaVu Sans Mono',consolas,'Courier New',monospace\"><span style=\"color: #008080; text-decoration-color: #008080; font-weight: bold\">2024</span>-<span style=\"color: #008080; text-decoration-color: #008080; font-weight: bold\">05</span>-<span style=\"color: #008080; text-decoration-color: #008080; font-weight: bold\">21</span> <span style=\"color: #00ff00; text-decoration-color: #00ff00; font-weight: bold\">19:01:07</span>,<span style=\"color: #008080; text-decoration-color: #008080; font-weight: bold\">274</span> - <span style=\"font-weight: bold\">{</span>pytorch_tabular.tabular_model_tuner:<span style=\"color: #008080; text-decoration-color: #008080; font-weight: bold\">364</span><span style=\"font-weight: bold\">}</span> - INFO - Trial <span style=\"color: #008080; text-decoration-color: #008080; font-weight: bold\">15</span>/<span style=\"color: #008080; text-decoration-color: #008080; font-weight: bold\">54</span>:                          \n",
       "<span style=\"font-weight: bold\">{</span><span style=\"color: #008000; text-decoration-color: #008000\">'model_config.head_config__dropout'</span>: <span style=\"color: #008080; text-decoration-color: #008080; font-weight: bold\">0.1</span>, <span style=\"color: #008000; text-decoration-color: #008000\">'model_config__layers'</span>: <span style=\"color: #008000; text-decoration-color: #008000\">'1024-512-128'</span>, <span style=\"color: #008000; text-decoration-color: #008000\">'optimizer_config__optimizer'</span>:  \n",
       "<span style=\"color: #008000; text-decoration-color: #008000\">'RAdam'</span>, <span style=\"color: #008000; text-decoration-color: #008000\">'trainer_config__batch_size'</span>: <span style=\"color: #008080; text-decoration-color: #008080; font-weight: bold\">4096</span>, <span style=\"color: #008000; text-decoration-color: #008000\">'loss'</span>: <span style=\"color: #008080; text-decoration-color: #008080; font-weight: bold\">0.8734381794929504</span>, <span style=\"color: #008000; text-decoration-color: #008000\">'accuracy'</span>: <span style=\"color: #008080; text-decoration-color: #008080; font-weight: bold\">0.6742865443229675</span>,           \n",
       "<span style=\"color: #008000; text-decoration-color: #008000\">'trial_id'</span>: <span style=\"color: #008080; text-decoration-color: #008080; font-weight: bold\">14</span><span style=\"font-weight: bold\">}</span> | Score: <span style=\"color: #008080; text-decoration-color: #008080; font-weight: bold\">0.6742865443229675</span>                                                                        \n",
       "</pre>\n"
      ]
     },
     "metadata": {},
     "output_type": "display_data"
    },
    {
     "data": {
      "text/plain": [
       "\u001B[1;36m2024\u001B[0m-\u001B[1;36m05\u001B[0m-\u001B[1;36m21\u001B[0m \u001B[1;92m19:01:50\u001B[0m,\u001B[1;36m944\u001B[0m - \u001B[1m{\u001B[0mpytorch_tabular.tabular_model_tuner:\u001B[1;36m364\u001B[0m\u001B[1m}\u001B[0m - INFO - Trial \u001B[1;36m16\u001B[0m/\u001B[1;36m54\u001B[0m:                          \n",
       "\u001B[1m{\u001B[0m\u001B[32m'model_config.head_config__dropout'\u001B[0m: \u001B[1;36m0.1\u001B[0m, \u001B[32m'model_config__layers'\u001B[0m: \u001B[32m'1024-512-128'\u001B[0m, \u001B[32m'optimizer_config__optimizer'\u001B[0m:  \n",
       "\u001B[32m'AdamW'\u001B[0m, \u001B[32m'trainer_config__batch_size'\u001B[0m: \u001B[1;36m1024\u001B[0m, \u001B[32m'loss'\u001B[0m: \u001B[1;36m0.846892774105072\u001B[0m, \u001B[32m'accuracy'\u001B[0m: \u001B[1;36m0.6807112097740173\u001B[0m, \u001B[32m'trial_id'\u001B[0m:\n",
       "\u001B[1;36m15\u001B[0m\u001B[1m}\u001B[0m | Score: \u001B[1;36m0.6807112097740173\u001B[0m                                                                                    \n"
      ],
      "text/html": [
       "<pre style=\"white-space:pre;overflow-x:auto;line-height:normal;font-family:Menlo,'DejaVu Sans Mono',consolas,'Courier New',monospace\"><span style=\"color: #008080; text-decoration-color: #008080; font-weight: bold\">2024</span>-<span style=\"color: #008080; text-decoration-color: #008080; font-weight: bold\">05</span>-<span style=\"color: #008080; text-decoration-color: #008080; font-weight: bold\">21</span> <span style=\"color: #00ff00; text-decoration-color: #00ff00; font-weight: bold\">19:01:50</span>,<span style=\"color: #008080; text-decoration-color: #008080; font-weight: bold\">944</span> - <span style=\"font-weight: bold\">{</span>pytorch_tabular.tabular_model_tuner:<span style=\"color: #008080; text-decoration-color: #008080; font-weight: bold\">364</span><span style=\"font-weight: bold\">}</span> - INFO - Trial <span style=\"color: #008080; text-decoration-color: #008080; font-weight: bold\">16</span>/<span style=\"color: #008080; text-decoration-color: #008080; font-weight: bold\">54</span>:                          \n",
       "<span style=\"font-weight: bold\">{</span><span style=\"color: #008000; text-decoration-color: #008000\">'model_config.head_config__dropout'</span>: <span style=\"color: #008080; text-decoration-color: #008080; font-weight: bold\">0.1</span>, <span style=\"color: #008000; text-decoration-color: #008000\">'model_config__layers'</span>: <span style=\"color: #008000; text-decoration-color: #008000\">'1024-512-128'</span>, <span style=\"color: #008000; text-decoration-color: #008000\">'optimizer_config__optimizer'</span>:  \n",
       "<span style=\"color: #008000; text-decoration-color: #008000\">'AdamW'</span>, <span style=\"color: #008000; text-decoration-color: #008000\">'trainer_config__batch_size'</span>: <span style=\"color: #008080; text-decoration-color: #008080; font-weight: bold\">1024</span>, <span style=\"color: #008000; text-decoration-color: #008000\">'loss'</span>: <span style=\"color: #008080; text-decoration-color: #008080; font-weight: bold\">0.846892774105072</span>, <span style=\"color: #008000; text-decoration-color: #008000\">'accuracy'</span>: <span style=\"color: #008080; text-decoration-color: #008080; font-weight: bold\">0.6807112097740173</span>, <span style=\"color: #008000; text-decoration-color: #008000\">'trial_id'</span>:\n",
       "<span style=\"color: #008080; text-decoration-color: #008080; font-weight: bold\">15</span><span style=\"font-weight: bold\">}</span> | Score: <span style=\"color: #008080; text-decoration-color: #008080; font-weight: bold\">0.6807112097740173</span>                                                                                    \n",
       "</pre>\n"
      ]
     },
     "metadata": {},
     "output_type": "display_data"
    },
    {
     "data": {
      "text/plain": [
       "\u001B[1;36m2024\u001B[0m-\u001B[1;36m05\u001B[0m-\u001B[1;36m21\u001B[0m \u001B[1;92m19:02:38\u001B[0m,\u001B[1;36m244\u001B[0m - \u001B[1m{\u001B[0mpytorch_tabular.tabular_model_tuner:\u001B[1;36m364\u001B[0m\u001B[1m}\u001B[0m - INFO - Trial \u001B[1;36m17\u001B[0m/\u001B[1;36m54\u001B[0m:                          \n",
       "\u001B[1m{\u001B[0m\u001B[32m'model_config.head_config__dropout'\u001B[0m: \u001B[1;36m0.1\u001B[0m, \u001B[32m'model_config__layers'\u001B[0m: \u001B[32m'1024-512-128'\u001B[0m, \u001B[32m'optimizer_config__optimizer'\u001B[0m:  \n",
       "\u001B[32m'AdamW'\u001B[0m, \u001B[32m'trainer_config__batch_size'\u001B[0m: \u001B[1;36m2048\u001B[0m, \u001B[32m'loss'\u001B[0m: \u001B[1;36m0.8400841951370239\u001B[0m, \u001B[32m'accuracy'\u001B[0m: \u001B[1;36m0.6911698579788208\u001B[0m,           \n",
       "\u001B[32m'trial_id'\u001B[0m: \u001B[1;36m16\u001B[0m\u001B[1m}\u001B[0m | Score: \u001B[1;36m0.6911698579788208\u001B[0m                                                                        \n"
      ],
      "text/html": [
       "<pre style=\"white-space:pre;overflow-x:auto;line-height:normal;font-family:Menlo,'DejaVu Sans Mono',consolas,'Courier New',monospace\"><span style=\"color: #008080; text-decoration-color: #008080; font-weight: bold\">2024</span>-<span style=\"color: #008080; text-decoration-color: #008080; font-weight: bold\">05</span>-<span style=\"color: #008080; text-decoration-color: #008080; font-weight: bold\">21</span> <span style=\"color: #00ff00; text-decoration-color: #00ff00; font-weight: bold\">19:02:38</span>,<span style=\"color: #008080; text-decoration-color: #008080; font-weight: bold\">244</span> - <span style=\"font-weight: bold\">{</span>pytorch_tabular.tabular_model_tuner:<span style=\"color: #008080; text-decoration-color: #008080; font-weight: bold\">364</span><span style=\"font-weight: bold\">}</span> - INFO - Trial <span style=\"color: #008080; text-decoration-color: #008080; font-weight: bold\">17</span>/<span style=\"color: #008080; text-decoration-color: #008080; font-weight: bold\">54</span>:                          \n",
       "<span style=\"font-weight: bold\">{</span><span style=\"color: #008000; text-decoration-color: #008000\">'model_config.head_config__dropout'</span>: <span style=\"color: #008080; text-decoration-color: #008080; font-weight: bold\">0.1</span>, <span style=\"color: #008000; text-decoration-color: #008000\">'model_config__layers'</span>: <span style=\"color: #008000; text-decoration-color: #008000\">'1024-512-128'</span>, <span style=\"color: #008000; text-decoration-color: #008000\">'optimizer_config__optimizer'</span>:  \n",
       "<span style=\"color: #008000; text-decoration-color: #008000\">'AdamW'</span>, <span style=\"color: #008000; text-decoration-color: #008000\">'trainer_config__batch_size'</span>: <span style=\"color: #008080; text-decoration-color: #008080; font-weight: bold\">2048</span>, <span style=\"color: #008000; text-decoration-color: #008000\">'loss'</span>: <span style=\"color: #008080; text-decoration-color: #008080; font-weight: bold\">0.8400841951370239</span>, <span style=\"color: #008000; text-decoration-color: #008000\">'accuracy'</span>: <span style=\"color: #008080; text-decoration-color: #008080; font-weight: bold\">0.6911698579788208</span>,           \n",
       "<span style=\"color: #008000; text-decoration-color: #008000\">'trial_id'</span>: <span style=\"color: #008080; text-decoration-color: #008080; font-weight: bold\">16</span><span style=\"font-weight: bold\">}</span> | Score: <span style=\"color: #008080; text-decoration-color: #008080; font-weight: bold\">0.6911698579788208</span>                                                                        \n",
       "</pre>\n"
      ]
     },
     "metadata": {},
     "output_type": "display_data"
    },
    {
     "data": {
      "text/plain": [
       "\u001B[1;36m2024\u001B[0m-\u001B[1;36m05\u001B[0m-\u001B[1;36m21\u001B[0m \u001B[1;92m19:03:13\u001B[0m,\u001B[1;36m229\u001B[0m - \u001B[1m{\u001B[0mpytorch_tabular.tabular_model_tuner:\u001B[1;36m364\u001B[0m\u001B[1m}\u001B[0m - INFO - Trial \u001B[1;36m18\u001B[0m/\u001B[1;36m54\u001B[0m:                          \n",
       "\u001B[1m{\u001B[0m\u001B[32m'model_config.head_config__dropout'\u001B[0m: \u001B[1;36m0.1\u001B[0m, \u001B[32m'model_config__layers'\u001B[0m: \u001B[32m'1024-512-128'\u001B[0m, \u001B[32m'optimizer_config__optimizer'\u001B[0m:  \n",
       "\u001B[32m'AdamW'\u001B[0m, \u001B[32m'trainer_config__batch_size'\u001B[0m: \u001B[1;36m4096\u001B[0m, \u001B[32m'loss'\u001B[0m: \u001B[1;36m0.8396451473236084\u001B[0m, \u001B[32m'accuracy'\u001B[0m: \u001B[1;36m0.6922157406806946\u001B[0m,           \n",
       "\u001B[32m'trial_id'\u001B[0m: \u001B[1;36m17\u001B[0m\u001B[1m}\u001B[0m | Score: \u001B[1;36m0.6922157406806946\u001B[0m                                                                        \n"
      ],
      "text/html": [
       "<pre style=\"white-space:pre;overflow-x:auto;line-height:normal;font-family:Menlo,'DejaVu Sans Mono',consolas,'Courier New',monospace\"><span style=\"color: #008080; text-decoration-color: #008080; font-weight: bold\">2024</span>-<span style=\"color: #008080; text-decoration-color: #008080; font-weight: bold\">05</span>-<span style=\"color: #008080; text-decoration-color: #008080; font-weight: bold\">21</span> <span style=\"color: #00ff00; text-decoration-color: #00ff00; font-weight: bold\">19:03:13</span>,<span style=\"color: #008080; text-decoration-color: #008080; font-weight: bold\">229</span> - <span style=\"font-weight: bold\">{</span>pytorch_tabular.tabular_model_tuner:<span style=\"color: #008080; text-decoration-color: #008080; font-weight: bold\">364</span><span style=\"font-weight: bold\">}</span> - INFO - Trial <span style=\"color: #008080; text-decoration-color: #008080; font-weight: bold\">18</span>/<span style=\"color: #008080; text-decoration-color: #008080; font-weight: bold\">54</span>:                          \n",
       "<span style=\"font-weight: bold\">{</span><span style=\"color: #008000; text-decoration-color: #008000\">'model_config.head_config__dropout'</span>: <span style=\"color: #008080; text-decoration-color: #008080; font-weight: bold\">0.1</span>, <span style=\"color: #008000; text-decoration-color: #008000\">'model_config__layers'</span>: <span style=\"color: #008000; text-decoration-color: #008000\">'1024-512-128'</span>, <span style=\"color: #008000; text-decoration-color: #008000\">'optimizer_config__optimizer'</span>:  \n",
       "<span style=\"color: #008000; text-decoration-color: #008000\">'AdamW'</span>, <span style=\"color: #008000; text-decoration-color: #008000\">'trainer_config__batch_size'</span>: <span style=\"color: #008080; text-decoration-color: #008080; font-weight: bold\">4096</span>, <span style=\"color: #008000; text-decoration-color: #008000\">'loss'</span>: <span style=\"color: #008080; text-decoration-color: #008080; font-weight: bold\">0.8396451473236084</span>, <span style=\"color: #008000; text-decoration-color: #008000\">'accuracy'</span>: <span style=\"color: #008080; text-decoration-color: #008080; font-weight: bold\">0.6922157406806946</span>,           \n",
       "<span style=\"color: #008000; text-decoration-color: #008000\">'trial_id'</span>: <span style=\"color: #008080; text-decoration-color: #008080; font-weight: bold\">17</span><span style=\"font-weight: bold\">}</span> | Score: <span style=\"color: #008080; text-decoration-color: #008080; font-weight: bold\">0.6922157406806946</span>                                                                        \n",
       "</pre>\n"
      ]
     },
     "metadata": {},
     "output_type": "display_data"
    },
    {
     "data": {
      "text/plain": [
       "\u001B[1;36m2024\u001B[0m-\u001B[1;36m05\u001B[0m-\u001B[1;36m21\u001B[0m \u001B[1;92m19:04:01\u001B[0m,\u001B[1;36m714\u001B[0m - \u001B[1m{\u001B[0mpytorch_tabular.tabular_model_tuner:\u001B[1;36m364\u001B[0m\u001B[1m}\u001B[0m - INFO - Trial \u001B[1;36m19\u001B[0m/\u001B[1;36m54\u001B[0m:                          \n",
       "\u001B[1m{\u001B[0m\u001B[32m'model_config.head_config__dropout'\u001B[0m: \u001B[1;36m0.2\u001B[0m, \u001B[32m'model_config__layers'\u001B[0m: \u001B[32m'1024-512-512'\u001B[0m, \u001B[32m'optimizer_config__optimizer'\u001B[0m:  \n",
       "\u001B[32m'RAdam'\u001B[0m, \u001B[32m'trainer_config__batch_size'\u001B[0m: \u001B[1;36m1024\u001B[0m, \u001B[32m'loss'\u001B[0m: \u001B[1;36m0.8506125807762146\u001B[0m, \u001B[32m'accuracy'\u001B[0m: \u001B[1;36m0.6958015561103821\u001B[0m,           \n",
       "\u001B[32m'trial_id'\u001B[0m: \u001B[1;36m18\u001B[0m\u001B[1m}\u001B[0m | Score: \u001B[1;36m0.6958015561103821\u001B[0m                                                                        \n"
      ],
      "text/html": [
       "<pre style=\"white-space:pre;overflow-x:auto;line-height:normal;font-family:Menlo,'DejaVu Sans Mono',consolas,'Courier New',monospace\"><span style=\"color: #008080; text-decoration-color: #008080; font-weight: bold\">2024</span>-<span style=\"color: #008080; text-decoration-color: #008080; font-weight: bold\">05</span>-<span style=\"color: #008080; text-decoration-color: #008080; font-weight: bold\">21</span> <span style=\"color: #00ff00; text-decoration-color: #00ff00; font-weight: bold\">19:04:01</span>,<span style=\"color: #008080; text-decoration-color: #008080; font-weight: bold\">714</span> - <span style=\"font-weight: bold\">{</span>pytorch_tabular.tabular_model_tuner:<span style=\"color: #008080; text-decoration-color: #008080; font-weight: bold\">364</span><span style=\"font-weight: bold\">}</span> - INFO - Trial <span style=\"color: #008080; text-decoration-color: #008080; font-weight: bold\">19</span>/<span style=\"color: #008080; text-decoration-color: #008080; font-weight: bold\">54</span>:                          \n",
       "<span style=\"font-weight: bold\">{</span><span style=\"color: #008000; text-decoration-color: #008000\">'model_config.head_config__dropout'</span>: <span style=\"color: #008080; text-decoration-color: #008080; font-weight: bold\">0.2</span>, <span style=\"color: #008000; text-decoration-color: #008000\">'model_config__layers'</span>: <span style=\"color: #008000; text-decoration-color: #008000\">'1024-512-512'</span>, <span style=\"color: #008000; text-decoration-color: #008000\">'optimizer_config__optimizer'</span>:  \n",
       "<span style=\"color: #008000; text-decoration-color: #008000\">'RAdam'</span>, <span style=\"color: #008000; text-decoration-color: #008000\">'trainer_config__batch_size'</span>: <span style=\"color: #008080; text-decoration-color: #008080; font-weight: bold\">1024</span>, <span style=\"color: #008000; text-decoration-color: #008000\">'loss'</span>: <span style=\"color: #008080; text-decoration-color: #008080; font-weight: bold\">0.8506125807762146</span>, <span style=\"color: #008000; text-decoration-color: #008000\">'accuracy'</span>: <span style=\"color: #008080; text-decoration-color: #008080; font-weight: bold\">0.6958015561103821</span>,           \n",
       "<span style=\"color: #008000; text-decoration-color: #008000\">'trial_id'</span>: <span style=\"color: #008080; text-decoration-color: #008080; font-weight: bold\">18</span><span style=\"font-weight: bold\">}</span> | Score: <span style=\"color: #008080; text-decoration-color: #008080; font-weight: bold\">0.6958015561103821</span>                                                                        \n",
       "</pre>\n"
      ]
     },
     "metadata": {},
     "output_type": "display_data"
    },
    {
     "data": {
      "text/plain": [
       "\u001B[1;36m2024\u001B[0m-\u001B[1;36m05\u001B[0m-\u001B[1;36m21\u001B[0m \u001B[1;92m19:04:41\u001B[0m,\u001B[1;36m487\u001B[0m - \u001B[1m{\u001B[0mpytorch_tabular.tabular_model_tuner:\u001B[1;36m364\u001B[0m\u001B[1m}\u001B[0m - INFO - Trial \u001B[1;36m20\u001B[0m/\u001B[1;36m54\u001B[0m:                          \n",
       "\u001B[1m{\u001B[0m\u001B[32m'model_config.head_config__dropout'\u001B[0m: \u001B[1;36m0.2\u001B[0m, \u001B[32m'model_config__layers'\u001B[0m: \u001B[32m'1024-512-512'\u001B[0m, \u001B[32m'optimizer_config__optimizer'\u001B[0m:  \n",
       "\u001B[32m'RAdam'\u001B[0m, \u001B[32m'trainer_config__batch_size'\u001B[0m: \u001B[1;36m2048\u001B[0m, \u001B[32m'loss'\u001B[0m: \u001B[1;36m0.8476096391677856\u001B[0m, \u001B[32m'accuracy'\u001B[0m: \u001B[1;36m0.6778724193572998\u001B[0m,           \n",
       "\u001B[32m'trial_id'\u001B[0m: \u001B[1;36m19\u001B[0m\u001B[1m}\u001B[0m | Score: \u001B[1;36m0.6778724193572998\u001B[0m                                                                        \n"
      ],
      "text/html": [
       "<pre style=\"white-space:pre;overflow-x:auto;line-height:normal;font-family:Menlo,'DejaVu Sans Mono',consolas,'Courier New',monospace\"><span style=\"color: #008080; text-decoration-color: #008080; font-weight: bold\">2024</span>-<span style=\"color: #008080; text-decoration-color: #008080; font-weight: bold\">05</span>-<span style=\"color: #008080; text-decoration-color: #008080; font-weight: bold\">21</span> <span style=\"color: #00ff00; text-decoration-color: #00ff00; font-weight: bold\">19:04:41</span>,<span style=\"color: #008080; text-decoration-color: #008080; font-weight: bold\">487</span> - <span style=\"font-weight: bold\">{</span>pytorch_tabular.tabular_model_tuner:<span style=\"color: #008080; text-decoration-color: #008080; font-weight: bold\">364</span><span style=\"font-weight: bold\">}</span> - INFO - Trial <span style=\"color: #008080; text-decoration-color: #008080; font-weight: bold\">20</span>/<span style=\"color: #008080; text-decoration-color: #008080; font-weight: bold\">54</span>:                          \n",
       "<span style=\"font-weight: bold\">{</span><span style=\"color: #008000; text-decoration-color: #008000\">'model_config.head_config__dropout'</span>: <span style=\"color: #008080; text-decoration-color: #008080; font-weight: bold\">0.2</span>, <span style=\"color: #008000; text-decoration-color: #008000\">'model_config__layers'</span>: <span style=\"color: #008000; text-decoration-color: #008000\">'1024-512-512'</span>, <span style=\"color: #008000; text-decoration-color: #008000\">'optimizer_config__optimizer'</span>:  \n",
       "<span style=\"color: #008000; text-decoration-color: #008000\">'RAdam'</span>, <span style=\"color: #008000; text-decoration-color: #008000\">'trainer_config__batch_size'</span>: <span style=\"color: #008080; text-decoration-color: #008080; font-weight: bold\">2048</span>, <span style=\"color: #008000; text-decoration-color: #008000\">'loss'</span>: <span style=\"color: #008080; text-decoration-color: #008080; font-weight: bold\">0.8476096391677856</span>, <span style=\"color: #008000; text-decoration-color: #008000\">'accuracy'</span>: <span style=\"color: #008080; text-decoration-color: #008080; font-weight: bold\">0.6778724193572998</span>,           \n",
       "<span style=\"color: #008000; text-decoration-color: #008000\">'trial_id'</span>: <span style=\"color: #008080; text-decoration-color: #008080; font-weight: bold\">19</span><span style=\"font-weight: bold\">}</span> | Score: <span style=\"color: #008080; text-decoration-color: #008080; font-weight: bold\">0.6778724193572998</span>                                                                        \n",
       "</pre>\n"
      ]
     },
     "metadata": {},
     "output_type": "display_data"
    },
    {
     "data": {
      "text/plain": [
       "\u001B[1;36m2024\u001B[0m-\u001B[1;36m05\u001B[0m-\u001B[1;36m21\u001B[0m \u001B[1;92m19:05:21\u001B[0m,\u001B[1;36m443\u001B[0m - \u001B[1m{\u001B[0mpytorch_tabular.tabular_model_tuner:\u001B[1;36m364\u001B[0m\u001B[1m}\u001B[0m - INFO - Trial \u001B[1;36m21\u001B[0m/\u001B[1;36m54\u001B[0m:                          \n",
       "\u001B[1m{\u001B[0m\u001B[32m'model_config.head_config__dropout'\u001B[0m: \u001B[1;36m0.2\u001B[0m, \u001B[32m'model_config__layers'\u001B[0m: \u001B[32m'1024-512-512'\u001B[0m, \u001B[32m'optimizer_config__optimizer'\u001B[0m:  \n",
       "\u001B[32m'RAdam'\u001B[0m, \u001B[32m'trainer_config__batch_size'\u001B[0m: \u001B[1;36m4096\u001B[0m, \u001B[32m'loss'\u001B[0m: \u001B[1;36m0.8462177515029907\u001B[0m, \u001B[32m'accuracy'\u001B[0m: \u001B[1;36m0.6672642827033997\u001B[0m,           \n",
       "\u001B[32m'trial_id'\u001B[0m: \u001B[1;36m20\u001B[0m\u001B[1m}\u001B[0m | Score: \u001B[1;36m0.6672642827033997\u001B[0m                                                                        \n"
      ],
      "text/html": [
       "<pre style=\"white-space:pre;overflow-x:auto;line-height:normal;font-family:Menlo,'DejaVu Sans Mono',consolas,'Courier New',monospace\"><span style=\"color: #008080; text-decoration-color: #008080; font-weight: bold\">2024</span>-<span style=\"color: #008080; text-decoration-color: #008080; font-weight: bold\">05</span>-<span style=\"color: #008080; text-decoration-color: #008080; font-weight: bold\">21</span> <span style=\"color: #00ff00; text-decoration-color: #00ff00; font-weight: bold\">19:05:21</span>,<span style=\"color: #008080; text-decoration-color: #008080; font-weight: bold\">443</span> - <span style=\"font-weight: bold\">{</span>pytorch_tabular.tabular_model_tuner:<span style=\"color: #008080; text-decoration-color: #008080; font-weight: bold\">364</span><span style=\"font-weight: bold\">}</span> - INFO - Trial <span style=\"color: #008080; text-decoration-color: #008080; font-weight: bold\">21</span>/<span style=\"color: #008080; text-decoration-color: #008080; font-weight: bold\">54</span>:                          \n",
       "<span style=\"font-weight: bold\">{</span><span style=\"color: #008000; text-decoration-color: #008000\">'model_config.head_config__dropout'</span>: <span style=\"color: #008080; text-decoration-color: #008080; font-weight: bold\">0.2</span>, <span style=\"color: #008000; text-decoration-color: #008000\">'model_config__layers'</span>: <span style=\"color: #008000; text-decoration-color: #008000\">'1024-512-512'</span>, <span style=\"color: #008000; text-decoration-color: #008000\">'optimizer_config__optimizer'</span>:  \n",
       "<span style=\"color: #008000; text-decoration-color: #008000\">'RAdam'</span>, <span style=\"color: #008000; text-decoration-color: #008000\">'trainer_config__batch_size'</span>: <span style=\"color: #008080; text-decoration-color: #008080; font-weight: bold\">4096</span>, <span style=\"color: #008000; text-decoration-color: #008000\">'loss'</span>: <span style=\"color: #008080; text-decoration-color: #008080; font-weight: bold\">0.8462177515029907</span>, <span style=\"color: #008000; text-decoration-color: #008000\">'accuracy'</span>: <span style=\"color: #008080; text-decoration-color: #008080; font-weight: bold\">0.6672642827033997</span>,           \n",
       "<span style=\"color: #008000; text-decoration-color: #008000\">'trial_id'</span>: <span style=\"color: #008080; text-decoration-color: #008080; font-weight: bold\">20</span><span style=\"font-weight: bold\">}</span> | Score: <span style=\"color: #008080; text-decoration-color: #008080; font-weight: bold\">0.6672642827033997</span>                                                                        \n",
       "</pre>\n"
      ]
     },
     "metadata": {},
     "output_type": "display_data"
    },
    {
     "data": {
      "text/plain": [
       "\u001B[1;36m2024\u001B[0m-\u001B[1;36m05\u001B[0m-\u001B[1;36m21\u001B[0m \u001B[1;92m19:06:02\u001B[0m,\u001B[1;36m519\u001B[0m - \u001B[1m{\u001B[0mpytorch_tabular.tabular_model_tuner:\u001B[1;36m364\u001B[0m\u001B[1m}\u001B[0m - INFO - Trial \u001B[1;36m22\u001B[0m/\u001B[1;36m54\u001B[0m:                          \n",
       "\u001B[1m{\u001B[0m\u001B[32m'model_config.head_config__dropout'\u001B[0m: \u001B[1;36m0.2\u001B[0m, \u001B[32m'model_config__layers'\u001B[0m: \u001B[32m'1024-512-512'\u001B[0m, \u001B[32m'optimizer_config__optimizer'\u001B[0m:  \n",
       "\u001B[32m'AdamW'\u001B[0m, \u001B[32m'trainer_config__batch_size'\u001B[0m: \u001B[1;36m1024\u001B[0m, \u001B[32m'loss'\u001B[0m: \u001B[1;36m0.8462132811546326\u001B[0m, \u001B[32m'accuracy'\u001B[0m: \u001B[1;36m0.6762288808822632\u001B[0m,           \n",
       "\u001B[32m'trial_id'\u001B[0m: \u001B[1;36m21\u001B[0m\u001B[1m}\u001B[0m | Score: \u001B[1;36m0.6762288808822632\u001B[0m                                                                        \n"
      ],
      "text/html": [
       "<pre style=\"white-space:pre;overflow-x:auto;line-height:normal;font-family:Menlo,'DejaVu Sans Mono',consolas,'Courier New',monospace\"><span style=\"color: #008080; text-decoration-color: #008080; font-weight: bold\">2024</span>-<span style=\"color: #008080; text-decoration-color: #008080; font-weight: bold\">05</span>-<span style=\"color: #008080; text-decoration-color: #008080; font-weight: bold\">21</span> <span style=\"color: #00ff00; text-decoration-color: #00ff00; font-weight: bold\">19:06:02</span>,<span style=\"color: #008080; text-decoration-color: #008080; font-weight: bold\">519</span> - <span style=\"font-weight: bold\">{</span>pytorch_tabular.tabular_model_tuner:<span style=\"color: #008080; text-decoration-color: #008080; font-weight: bold\">364</span><span style=\"font-weight: bold\">}</span> - INFO - Trial <span style=\"color: #008080; text-decoration-color: #008080; font-weight: bold\">22</span>/<span style=\"color: #008080; text-decoration-color: #008080; font-weight: bold\">54</span>:                          \n",
       "<span style=\"font-weight: bold\">{</span><span style=\"color: #008000; text-decoration-color: #008000\">'model_config.head_config__dropout'</span>: <span style=\"color: #008080; text-decoration-color: #008080; font-weight: bold\">0.2</span>, <span style=\"color: #008000; text-decoration-color: #008000\">'model_config__layers'</span>: <span style=\"color: #008000; text-decoration-color: #008000\">'1024-512-512'</span>, <span style=\"color: #008000; text-decoration-color: #008000\">'optimizer_config__optimizer'</span>:  \n",
       "<span style=\"color: #008000; text-decoration-color: #008000\">'AdamW'</span>, <span style=\"color: #008000; text-decoration-color: #008000\">'trainer_config__batch_size'</span>: <span style=\"color: #008080; text-decoration-color: #008080; font-weight: bold\">1024</span>, <span style=\"color: #008000; text-decoration-color: #008000\">'loss'</span>: <span style=\"color: #008080; text-decoration-color: #008080; font-weight: bold\">0.8462132811546326</span>, <span style=\"color: #008000; text-decoration-color: #008000\">'accuracy'</span>: <span style=\"color: #008080; text-decoration-color: #008080; font-weight: bold\">0.6762288808822632</span>,           \n",
       "<span style=\"color: #008000; text-decoration-color: #008000\">'trial_id'</span>: <span style=\"color: #008080; text-decoration-color: #008080; font-weight: bold\">21</span><span style=\"font-weight: bold\">}</span> | Score: <span style=\"color: #008080; text-decoration-color: #008080; font-weight: bold\">0.6762288808822632</span>                                                                        \n",
       "</pre>\n"
      ]
     },
     "metadata": {},
     "output_type": "display_data"
    },
    {
     "data": {
      "text/plain": [
       "\u001B[1;36m2024\u001B[0m-\u001B[1;36m05\u001B[0m-\u001B[1;36m21\u001B[0m \u001B[1;92m19:06:36\u001B[0m,\u001B[1;36m043\u001B[0m - \u001B[1m{\u001B[0mpytorch_tabular.tabular_model_tuner:\u001B[1;36m364\u001B[0m\u001B[1m}\u001B[0m - INFO - Trial \u001B[1;36m23\u001B[0m/\u001B[1;36m54\u001B[0m:                          \n",
       "\u001B[1m{\u001B[0m\u001B[32m'model_config.head_config__dropout'\u001B[0m: \u001B[1;36m0.2\u001B[0m, \u001B[32m'model_config__layers'\u001B[0m: \u001B[32m'1024-512-512'\u001B[0m, \u001B[32m'optimizer_config__optimizer'\u001B[0m:  \n",
       "\u001B[32m'AdamW'\u001B[0m, \u001B[32m'trainer_config__batch_size'\u001B[0m: \u001B[1;36m2048\u001B[0m, \u001B[32m'loss'\u001B[0m: \u001B[1;36m0.8538779616355896\u001B[0m, \u001B[32m'accuracy'\u001B[0m: \u001B[1;36m0.6828029155731201\u001B[0m,           \n",
       "\u001B[32m'trial_id'\u001B[0m: \u001B[1;36m22\u001B[0m\u001B[1m}\u001B[0m | Score: \u001B[1;36m0.6828029155731201\u001B[0m                                                                        \n"
      ],
      "text/html": [
       "<pre style=\"white-space:pre;overflow-x:auto;line-height:normal;font-family:Menlo,'DejaVu Sans Mono',consolas,'Courier New',monospace\"><span style=\"color: #008080; text-decoration-color: #008080; font-weight: bold\">2024</span>-<span style=\"color: #008080; text-decoration-color: #008080; font-weight: bold\">05</span>-<span style=\"color: #008080; text-decoration-color: #008080; font-weight: bold\">21</span> <span style=\"color: #00ff00; text-decoration-color: #00ff00; font-weight: bold\">19:06:36</span>,<span style=\"color: #008080; text-decoration-color: #008080; font-weight: bold\">043</span> - <span style=\"font-weight: bold\">{</span>pytorch_tabular.tabular_model_tuner:<span style=\"color: #008080; text-decoration-color: #008080; font-weight: bold\">364</span><span style=\"font-weight: bold\">}</span> - INFO - Trial <span style=\"color: #008080; text-decoration-color: #008080; font-weight: bold\">23</span>/<span style=\"color: #008080; text-decoration-color: #008080; font-weight: bold\">54</span>:                          \n",
       "<span style=\"font-weight: bold\">{</span><span style=\"color: #008000; text-decoration-color: #008000\">'model_config.head_config__dropout'</span>: <span style=\"color: #008080; text-decoration-color: #008080; font-weight: bold\">0.2</span>, <span style=\"color: #008000; text-decoration-color: #008000\">'model_config__layers'</span>: <span style=\"color: #008000; text-decoration-color: #008000\">'1024-512-512'</span>, <span style=\"color: #008000; text-decoration-color: #008000\">'optimizer_config__optimizer'</span>:  \n",
       "<span style=\"color: #008000; text-decoration-color: #008000\">'AdamW'</span>, <span style=\"color: #008000; text-decoration-color: #008000\">'trainer_config__batch_size'</span>: <span style=\"color: #008080; text-decoration-color: #008080; font-weight: bold\">2048</span>, <span style=\"color: #008000; text-decoration-color: #008000\">'loss'</span>: <span style=\"color: #008080; text-decoration-color: #008080; font-weight: bold\">0.8538779616355896</span>, <span style=\"color: #008000; text-decoration-color: #008000\">'accuracy'</span>: <span style=\"color: #008080; text-decoration-color: #008080; font-weight: bold\">0.6828029155731201</span>,           \n",
       "<span style=\"color: #008000; text-decoration-color: #008000\">'trial_id'</span>: <span style=\"color: #008080; text-decoration-color: #008080; font-weight: bold\">22</span><span style=\"font-weight: bold\">}</span> | Score: <span style=\"color: #008080; text-decoration-color: #008080; font-weight: bold\">0.6828029155731201</span>                                                                        \n",
       "</pre>\n"
      ]
     },
     "metadata": {},
     "output_type": "display_data"
    },
    {
     "data": {
      "text/plain": [
       "\u001B[1;36m2024\u001B[0m-\u001B[1;36m05\u001B[0m-\u001B[1;36m21\u001B[0m \u001B[1;92m19:07:09\u001B[0m,\u001B[1;36m361\u001B[0m - \u001B[1m{\u001B[0mpytorch_tabular.tabular_model_tuner:\u001B[1;36m364\u001B[0m\u001B[1m}\u001B[0m - INFO - Trial \u001B[1;36m24\u001B[0m/\u001B[1;36m54\u001B[0m:                          \n",
       "\u001B[1m{\u001B[0m\u001B[32m'model_config.head_config__dropout'\u001B[0m: \u001B[1;36m0.2\u001B[0m, \u001B[32m'model_config__layers'\u001B[0m: \u001B[32m'1024-512-512'\u001B[0m, \u001B[32m'optimizer_config__optimizer'\u001B[0m:  \n",
       "\u001B[32m'AdamW'\u001B[0m, \u001B[32m'trainer_config__batch_size'\u001B[0m: \u001B[1;36m4096\u001B[0m, \u001B[32m'loss'\u001B[0m: \u001B[1;36m0.8700322508811951\u001B[0m, \u001B[32m'accuracy'\u001B[0m: \u001B[1;36m0.6789183020591736\u001B[0m,           \n",
       "\u001B[32m'trial_id'\u001B[0m: \u001B[1;36m23\u001B[0m\u001B[1m}\u001B[0m | Score: \u001B[1;36m0.6789183020591736\u001B[0m                                                                        \n"
      ],
      "text/html": [
       "<pre style=\"white-space:pre;overflow-x:auto;line-height:normal;font-family:Menlo,'DejaVu Sans Mono',consolas,'Courier New',monospace\"><span style=\"color: #008080; text-decoration-color: #008080; font-weight: bold\">2024</span>-<span style=\"color: #008080; text-decoration-color: #008080; font-weight: bold\">05</span>-<span style=\"color: #008080; text-decoration-color: #008080; font-weight: bold\">21</span> <span style=\"color: #00ff00; text-decoration-color: #00ff00; font-weight: bold\">19:07:09</span>,<span style=\"color: #008080; text-decoration-color: #008080; font-weight: bold\">361</span> - <span style=\"font-weight: bold\">{</span>pytorch_tabular.tabular_model_tuner:<span style=\"color: #008080; text-decoration-color: #008080; font-weight: bold\">364</span><span style=\"font-weight: bold\">}</span> - INFO - Trial <span style=\"color: #008080; text-decoration-color: #008080; font-weight: bold\">24</span>/<span style=\"color: #008080; text-decoration-color: #008080; font-weight: bold\">54</span>:                          \n",
       "<span style=\"font-weight: bold\">{</span><span style=\"color: #008000; text-decoration-color: #008000\">'model_config.head_config__dropout'</span>: <span style=\"color: #008080; text-decoration-color: #008080; font-weight: bold\">0.2</span>, <span style=\"color: #008000; text-decoration-color: #008000\">'model_config__layers'</span>: <span style=\"color: #008000; text-decoration-color: #008000\">'1024-512-512'</span>, <span style=\"color: #008000; text-decoration-color: #008000\">'optimizer_config__optimizer'</span>:  \n",
       "<span style=\"color: #008000; text-decoration-color: #008000\">'AdamW'</span>, <span style=\"color: #008000; text-decoration-color: #008000\">'trainer_config__batch_size'</span>: <span style=\"color: #008080; text-decoration-color: #008080; font-weight: bold\">4096</span>, <span style=\"color: #008000; text-decoration-color: #008000\">'loss'</span>: <span style=\"color: #008080; text-decoration-color: #008080; font-weight: bold\">0.8700322508811951</span>, <span style=\"color: #008000; text-decoration-color: #008000\">'accuracy'</span>: <span style=\"color: #008080; text-decoration-color: #008080; font-weight: bold\">0.6789183020591736</span>,           \n",
       "<span style=\"color: #008000; text-decoration-color: #008000\">'trial_id'</span>: <span style=\"color: #008080; text-decoration-color: #008080; font-weight: bold\">23</span><span style=\"font-weight: bold\">}</span> | Score: <span style=\"color: #008080; text-decoration-color: #008080; font-weight: bold\">0.6789183020591736</span>                                                                        \n",
       "</pre>\n"
      ]
     },
     "metadata": {},
     "output_type": "display_data"
    },
    {
     "data": {
      "text/plain": [
       "\u001B[1;36m2024\u001B[0m-\u001B[1;36m05\u001B[0m-\u001B[1;36m21\u001B[0m \u001B[1;92m19:08:02\u001B[0m,\u001B[1;36m590\u001B[0m - \u001B[1m{\u001B[0mpytorch_tabular.tabular_model_tuner:\u001B[1;36m364\u001B[0m\u001B[1m}\u001B[0m - INFO - Trial \u001B[1;36m25\u001B[0m/\u001B[1;36m54\u001B[0m:                          \n",
       "\u001B[1m{\u001B[0m\u001B[32m'model_config.head_config__dropout'\u001B[0m: \u001B[1;36m0.2\u001B[0m, \u001B[32m'model_config__layers'\u001B[0m: \u001B[32m'1024-512-256'\u001B[0m, \u001B[32m'optimizer_config__optimizer'\u001B[0m:  \n",
       "\u001B[32m'RAdam'\u001B[0m, \u001B[32m'trainer_config__batch_size'\u001B[0m: \u001B[1;36m1024\u001B[0m, \u001B[32m'loss'\u001B[0m: \u001B[1;36m0.8658092021942139\u001B[0m, \u001B[32m'accuracy'\u001B[0m: \u001B[1;36m0.6883310675621033\u001B[0m,           \n",
       "\u001B[32m'trial_id'\u001B[0m: \u001B[1;36m24\u001B[0m\u001B[1m}\u001B[0m | Score: \u001B[1;36m0.6883310675621033\u001B[0m                                                                        \n"
      ],
      "text/html": [
       "<pre style=\"white-space:pre;overflow-x:auto;line-height:normal;font-family:Menlo,'DejaVu Sans Mono',consolas,'Courier New',monospace\"><span style=\"color: #008080; text-decoration-color: #008080; font-weight: bold\">2024</span>-<span style=\"color: #008080; text-decoration-color: #008080; font-weight: bold\">05</span>-<span style=\"color: #008080; text-decoration-color: #008080; font-weight: bold\">21</span> <span style=\"color: #00ff00; text-decoration-color: #00ff00; font-weight: bold\">19:08:02</span>,<span style=\"color: #008080; text-decoration-color: #008080; font-weight: bold\">590</span> - <span style=\"font-weight: bold\">{</span>pytorch_tabular.tabular_model_tuner:<span style=\"color: #008080; text-decoration-color: #008080; font-weight: bold\">364</span><span style=\"font-weight: bold\">}</span> - INFO - Trial <span style=\"color: #008080; text-decoration-color: #008080; font-weight: bold\">25</span>/<span style=\"color: #008080; text-decoration-color: #008080; font-weight: bold\">54</span>:                          \n",
       "<span style=\"font-weight: bold\">{</span><span style=\"color: #008000; text-decoration-color: #008000\">'model_config.head_config__dropout'</span>: <span style=\"color: #008080; text-decoration-color: #008080; font-weight: bold\">0.2</span>, <span style=\"color: #008000; text-decoration-color: #008000\">'model_config__layers'</span>: <span style=\"color: #008000; text-decoration-color: #008000\">'1024-512-256'</span>, <span style=\"color: #008000; text-decoration-color: #008000\">'optimizer_config__optimizer'</span>:  \n",
       "<span style=\"color: #008000; text-decoration-color: #008000\">'RAdam'</span>, <span style=\"color: #008000; text-decoration-color: #008000\">'trainer_config__batch_size'</span>: <span style=\"color: #008080; text-decoration-color: #008080; font-weight: bold\">1024</span>, <span style=\"color: #008000; text-decoration-color: #008000\">'loss'</span>: <span style=\"color: #008080; text-decoration-color: #008080; font-weight: bold\">0.8658092021942139</span>, <span style=\"color: #008000; text-decoration-color: #008000\">'accuracy'</span>: <span style=\"color: #008080; text-decoration-color: #008080; font-weight: bold\">0.6883310675621033</span>,           \n",
       "<span style=\"color: #008000; text-decoration-color: #008000\">'trial_id'</span>: <span style=\"color: #008080; text-decoration-color: #008080; font-weight: bold\">24</span><span style=\"font-weight: bold\">}</span> | Score: <span style=\"color: #008080; text-decoration-color: #008080; font-weight: bold\">0.6883310675621033</span>                                                                        \n",
       "</pre>\n"
      ]
     },
     "metadata": {},
     "output_type": "display_data"
    },
    {
     "data": {
      "text/plain": [
       "\u001B[1;36m2024\u001B[0m-\u001B[1;36m05\u001B[0m-\u001B[1;36m21\u001B[0m \u001B[1;92m19:08:53\u001B[0m,\u001B[1;36m643\u001B[0m - \u001B[1m{\u001B[0mpytorch_tabular.tabular_model_tuner:\u001B[1;36m364\u001B[0m\u001B[1m}\u001B[0m - INFO - Trial \u001B[1;36m26\u001B[0m/\u001B[1;36m54\u001B[0m:                          \n",
       "\u001B[1m{\u001B[0m\u001B[32m'model_config.head_config__dropout'\u001B[0m: \u001B[1;36m0.2\u001B[0m, \u001B[32m'model_config__layers'\u001B[0m: \u001B[32m'1024-512-256'\u001B[0m, \u001B[32m'optimizer_config__optimizer'\u001B[0m:  \n",
       "\u001B[32m'RAdam'\u001B[0m, \u001B[32m'trainer_config__batch_size'\u001B[0m: \u001B[1;36m2048\u001B[0m, \u001B[32m'loss'\u001B[0m: \u001B[1;36m0.8735960721969604\u001B[0m, \u001B[32m'accuracy'\u001B[0m: \u001B[1;36m0.6929628252983093\u001B[0m,           \n",
       "\u001B[32m'trial_id'\u001B[0m: \u001B[1;36m25\u001B[0m\u001B[1m}\u001B[0m | Score: \u001B[1;36m0.6929628252983093\u001B[0m                                                                        \n"
      ],
      "text/html": [
       "<pre style=\"white-space:pre;overflow-x:auto;line-height:normal;font-family:Menlo,'DejaVu Sans Mono',consolas,'Courier New',monospace\"><span style=\"color: #008080; text-decoration-color: #008080; font-weight: bold\">2024</span>-<span style=\"color: #008080; text-decoration-color: #008080; font-weight: bold\">05</span>-<span style=\"color: #008080; text-decoration-color: #008080; font-weight: bold\">21</span> <span style=\"color: #00ff00; text-decoration-color: #00ff00; font-weight: bold\">19:08:53</span>,<span style=\"color: #008080; text-decoration-color: #008080; font-weight: bold\">643</span> - <span style=\"font-weight: bold\">{</span>pytorch_tabular.tabular_model_tuner:<span style=\"color: #008080; text-decoration-color: #008080; font-weight: bold\">364</span><span style=\"font-weight: bold\">}</span> - INFO - Trial <span style=\"color: #008080; text-decoration-color: #008080; font-weight: bold\">26</span>/<span style=\"color: #008080; text-decoration-color: #008080; font-weight: bold\">54</span>:                          \n",
       "<span style=\"font-weight: bold\">{</span><span style=\"color: #008000; text-decoration-color: #008000\">'model_config.head_config__dropout'</span>: <span style=\"color: #008080; text-decoration-color: #008080; font-weight: bold\">0.2</span>, <span style=\"color: #008000; text-decoration-color: #008000\">'model_config__layers'</span>: <span style=\"color: #008000; text-decoration-color: #008000\">'1024-512-256'</span>, <span style=\"color: #008000; text-decoration-color: #008000\">'optimizer_config__optimizer'</span>:  \n",
       "<span style=\"color: #008000; text-decoration-color: #008000\">'RAdam'</span>, <span style=\"color: #008000; text-decoration-color: #008000\">'trainer_config__batch_size'</span>: <span style=\"color: #008080; text-decoration-color: #008080; font-weight: bold\">2048</span>, <span style=\"color: #008000; text-decoration-color: #008000\">'loss'</span>: <span style=\"color: #008080; text-decoration-color: #008080; font-weight: bold\">0.8735960721969604</span>, <span style=\"color: #008000; text-decoration-color: #008000\">'accuracy'</span>: <span style=\"color: #008080; text-decoration-color: #008080; font-weight: bold\">0.6929628252983093</span>,           \n",
       "<span style=\"color: #008000; text-decoration-color: #008000\">'trial_id'</span>: <span style=\"color: #008080; text-decoration-color: #008080; font-weight: bold\">25</span><span style=\"font-weight: bold\">}</span> | Score: <span style=\"color: #008080; text-decoration-color: #008080; font-weight: bold\">0.6929628252983093</span>                                                                        \n",
       "</pre>\n"
      ]
     },
     "metadata": {},
     "output_type": "display_data"
    },
    {
     "data": {
      "text/plain": [
       "\u001B[1;36m2024\u001B[0m-\u001B[1;36m05\u001B[0m-\u001B[1;36m21\u001B[0m \u001B[1;92m19:09:39\u001B[0m,\u001B[1;36m379\u001B[0m - \u001B[1m{\u001B[0mpytorch_tabular.tabular_model_tuner:\u001B[1;36m364\u001B[0m\u001B[1m}\u001B[0m - INFO - Trial \u001B[1;36m27\u001B[0m/\u001B[1;36m54\u001B[0m:                          \n",
       "\u001B[1m{\u001B[0m\u001B[32m'model_config.head_config__dropout'\u001B[0m: \u001B[1;36m0.2\u001B[0m, \u001B[32m'model_config__layers'\u001B[0m: \u001B[32m'1024-512-256'\u001B[0m, \u001B[32m'optimizer_config__optimizer'\u001B[0m:  \n",
       "\u001B[32m'RAdam'\u001B[0m, \u001B[32m'trainer_config__batch_size'\u001B[0m: \u001B[1;36m4096\u001B[0m, \u001B[32m'loss'\u001B[0m: \u001B[1;36m0.8676323294639587\u001B[0m, \u001B[32m'accuracy'\u001B[0m: \u001B[1;36m0.6693560481071472\u001B[0m,           \n",
       "\u001B[32m'trial_id'\u001B[0m: \u001B[1;36m26\u001B[0m\u001B[1m}\u001B[0m | Score: \u001B[1;36m0.6693560481071472\u001B[0m                                                                        \n"
      ],
      "text/html": [
       "<pre style=\"white-space:pre;overflow-x:auto;line-height:normal;font-family:Menlo,'DejaVu Sans Mono',consolas,'Courier New',monospace\"><span style=\"color: #008080; text-decoration-color: #008080; font-weight: bold\">2024</span>-<span style=\"color: #008080; text-decoration-color: #008080; font-weight: bold\">05</span>-<span style=\"color: #008080; text-decoration-color: #008080; font-weight: bold\">21</span> <span style=\"color: #00ff00; text-decoration-color: #00ff00; font-weight: bold\">19:09:39</span>,<span style=\"color: #008080; text-decoration-color: #008080; font-weight: bold\">379</span> - <span style=\"font-weight: bold\">{</span>pytorch_tabular.tabular_model_tuner:<span style=\"color: #008080; text-decoration-color: #008080; font-weight: bold\">364</span><span style=\"font-weight: bold\">}</span> - INFO - Trial <span style=\"color: #008080; text-decoration-color: #008080; font-weight: bold\">27</span>/<span style=\"color: #008080; text-decoration-color: #008080; font-weight: bold\">54</span>:                          \n",
       "<span style=\"font-weight: bold\">{</span><span style=\"color: #008000; text-decoration-color: #008000\">'model_config.head_config__dropout'</span>: <span style=\"color: #008080; text-decoration-color: #008080; font-weight: bold\">0.2</span>, <span style=\"color: #008000; text-decoration-color: #008000\">'model_config__layers'</span>: <span style=\"color: #008000; text-decoration-color: #008000\">'1024-512-256'</span>, <span style=\"color: #008000; text-decoration-color: #008000\">'optimizer_config__optimizer'</span>:  \n",
       "<span style=\"color: #008000; text-decoration-color: #008000\">'RAdam'</span>, <span style=\"color: #008000; text-decoration-color: #008000\">'trainer_config__batch_size'</span>: <span style=\"color: #008080; text-decoration-color: #008080; font-weight: bold\">4096</span>, <span style=\"color: #008000; text-decoration-color: #008000\">'loss'</span>: <span style=\"color: #008080; text-decoration-color: #008080; font-weight: bold\">0.8676323294639587</span>, <span style=\"color: #008000; text-decoration-color: #008000\">'accuracy'</span>: <span style=\"color: #008080; text-decoration-color: #008080; font-weight: bold\">0.6693560481071472</span>,           \n",
       "<span style=\"color: #008000; text-decoration-color: #008000\">'trial_id'</span>: <span style=\"color: #008080; text-decoration-color: #008080; font-weight: bold\">26</span><span style=\"font-weight: bold\">}</span> | Score: <span style=\"color: #008080; text-decoration-color: #008080; font-weight: bold\">0.6693560481071472</span>                                                                        \n",
       "</pre>\n"
      ]
     },
     "metadata": {},
     "output_type": "display_data"
    },
    {
     "data": {
      "text/plain": [
       "\u001B[1;36m2024\u001B[0m-\u001B[1;36m05\u001B[0m-\u001B[1;36m21\u001B[0m \u001B[1;92m19:10:22\u001B[0m,\u001B[1;36m490\u001B[0m - \u001B[1m{\u001B[0mpytorch_tabular.tabular_model_tuner:\u001B[1;36m364\u001B[0m\u001B[1m}\u001B[0m - INFO - Trial \u001B[1;36m28\u001B[0m/\u001B[1;36m54\u001B[0m:                          \n",
       "\u001B[1m{\u001B[0m\u001B[32m'model_config.head_config__dropout'\u001B[0m: \u001B[1;36m0.2\u001B[0m, \u001B[32m'model_config__layers'\u001B[0m: \u001B[32m'1024-512-256'\u001B[0m, \u001B[32m'optimizer_config__optimizer'\u001B[0m:  \n",
       "\u001B[32m'AdamW'\u001B[0m, \u001B[32m'trainer_config__batch_size'\u001B[0m: \u001B[1;36m1024\u001B[0m, \u001B[32m'loss'\u001B[0m: \u001B[1;36m0.8575905561447144\u001B[0m, \u001B[32m'accuracy'\u001B[0m: \u001B[1;36m0.683251142501831\u001B[0m, \u001B[32m'trial_id'\u001B[0m:\n",
       "\u001B[1;36m27\u001B[0m\u001B[1m}\u001B[0m | Score: \u001B[1;36m0.683251142501831\u001B[0m                                                                                     \n"
      ],
      "text/html": [
       "<pre style=\"white-space:pre;overflow-x:auto;line-height:normal;font-family:Menlo,'DejaVu Sans Mono',consolas,'Courier New',monospace\"><span style=\"color: #008080; text-decoration-color: #008080; font-weight: bold\">2024</span>-<span style=\"color: #008080; text-decoration-color: #008080; font-weight: bold\">05</span>-<span style=\"color: #008080; text-decoration-color: #008080; font-weight: bold\">21</span> <span style=\"color: #00ff00; text-decoration-color: #00ff00; font-weight: bold\">19:10:22</span>,<span style=\"color: #008080; text-decoration-color: #008080; font-weight: bold\">490</span> - <span style=\"font-weight: bold\">{</span>pytorch_tabular.tabular_model_tuner:<span style=\"color: #008080; text-decoration-color: #008080; font-weight: bold\">364</span><span style=\"font-weight: bold\">}</span> - INFO - Trial <span style=\"color: #008080; text-decoration-color: #008080; font-weight: bold\">28</span>/<span style=\"color: #008080; text-decoration-color: #008080; font-weight: bold\">54</span>:                          \n",
       "<span style=\"font-weight: bold\">{</span><span style=\"color: #008000; text-decoration-color: #008000\">'model_config.head_config__dropout'</span>: <span style=\"color: #008080; text-decoration-color: #008080; font-weight: bold\">0.2</span>, <span style=\"color: #008000; text-decoration-color: #008000\">'model_config__layers'</span>: <span style=\"color: #008000; text-decoration-color: #008000\">'1024-512-256'</span>, <span style=\"color: #008000; text-decoration-color: #008000\">'optimizer_config__optimizer'</span>:  \n",
       "<span style=\"color: #008000; text-decoration-color: #008000\">'AdamW'</span>, <span style=\"color: #008000; text-decoration-color: #008000\">'trainer_config__batch_size'</span>: <span style=\"color: #008080; text-decoration-color: #008080; font-weight: bold\">1024</span>, <span style=\"color: #008000; text-decoration-color: #008000\">'loss'</span>: <span style=\"color: #008080; text-decoration-color: #008080; font-weight: bold\">0.8575905561447144</span>, <span style=\"color: #008000; text-decoration-color: #008000\">'accuracy'</span>: <span style=\"color: #008080; text-decoration-color: #008080; font-weight: bold\">0.683251142501831</span>, <span style=\"color: #008000; text-decoration-color: #008000\">'trial_id'</span>:\n",
       "<span style=\"color: #008080; text-decoration-color: #008080; font-weight: bold\">27</span><span style=\"font-weight: bold\">}</span> | Score: <span style=\"color: #008080; text-decoration-color: #008080; font-weight: bold\">0.683251142501831</span>                                                                                     \n",
       "</pre>\n"
      ]
     },
     "metadata": {},
     "output_type": "display_data"
    },
    {
     "data": {
      "text/plain": [
       "\u001B[1;36m2024\u001B[0m-\u001B[1;36m05\u001B[0m-\u001B[1;36m21\u001B[0m \u001B[1;92m19:11:05\u001B[0m,\u001B[1;36m105\u001B[0m - \u001B[1m{\u001B[0mpytorch_tabular.tabular_model_tuner:\u001B[1;36m364\u001B[0m\u001B[1m}\u001B[0m - INFO - Trial \u001B[1;36m29\u001B[0m/\u001B[1;36m54\u001B[0m:                          \n",
       "\u001B[1m{\u001B[0m\u001B[32m'model_config.head_config__dropout'\u001B[0m: \u001B[1;36m0.2\u001B[0m, \u001B[32m'model_config__layers'\u001B[0m: \u001B[32m'1024-512-256'\u001B[0m, \u001B[32m'optimizer_config__optimizer'\u001B[0m:  \n",
       "\u001B[32m'AdamW'\u001B[0m, \u001B[32m'trainer_config__batch_size'\u001B[0m: \u001B[1;36m2048\u001B[0m, \u001B[32m'loss'\u001B[0m: \u001B[1;36m0.8518266081809998\u001B[0m, \u001B[32m'accuracy'\u001B[0m: \u001B[1;36m0.683251142501831\u001B[0m, \u001B[32m'trial_id'\u001B[0m:\n",
       "\u001B[1;36m28\u001B[0m\u001B[1m}\u001B[0m | Score: \u001B[1;36m0.683251142501831\u001B[0m                                                                                     \n"
      ],
      "text/html": [
       "<pre style=\"white-space:pre;overflow-x:auto;line-height:normal;font-family:Menlo,'DejaVu Sans Mono',consolas,'Courier New',monospace\"><span style=\"color: #008080; text-decoration-color: #008080; font-weight: bold\">2024</span>-<span style=\"color: #008080; text-decoration-color: #008080; font-weight: bold\">05</span>-<span style=\"color: #008080; text-decoration-color: #008080; font-weight: bold\">21</span> <span style=\"color: #00ff00; text-decoration-color: #00ff00; font-weight: bold\">19:11:05</span>,<span style=\"color: #008080; text-decoration-color: #008080; font-weight: bold\">105</span> - <span style=\"font-weight: bold\">{</span>pytorch_tabular.tabular_model_tuner:<span style=\"color: #008080; text-decoration-color: #008080; font-weight: bold\">364</span><span style=\"font-weight: bold\">}</span> - INFO - Trial <span style=\"color: #008080; text-decoration-color: #008080; font-weight: bold\">29</span>/<span style=\"color: #008080; text-decoration-color: #008080; font-weight: bold\">54</span>:                          \n",
       "<span style=\"font-weight: bold\">{</span><span style=\"color: #008000; text-decoration-color: #008000\">'model_config.head_config__dropout'</span>: <span style=\"color: #008080; text-decoration-color: #008080; font-weight: bold\">0.2</span>, <span style=\"color: #008000; text-decoration-color: #008000\">'model_config__layers'</span>: <span style=\"color: #008000; text-decoration-color: #008000\">'1024-512-256'</span>, <span style=\"color: #008000; text-decoration-color: #008000\">'optimizer_config__optimizer'</span>:  \n",
       "<span style=\"color: #008000; text-decoration-color: #008000\">'AdamW'</span>, <span style=\"color: #008000; text-decoration-color: #008000\">'trainer_config__batch_size'</span>: <span style=\"color: #008080; text-decoration-color: #008080; font-weight: bold\">2048</span>, <span style=\"color: #008000; text-decoration-color: #008000\">'loss'</span>: <span style=\"color: #008080; text-decoration-color: #008080; font-weight: bold\">0.8518266081809998</span>, <span style=\"color: #008000; text-decoration-color: #008000\">'accuracy'</span>: <span style=\"color: #008080; text-decoration-color: #008080; font-weight: bold\">0.683251142501831</span>, <span style=\"color: #008000; text-decoration-color: #008000\">'trial_id'</span>:\n",
       "<span style=\"color: #008080; text-decoration-color: #008080; font-weight: bold\">28</span><span style=\"font-weight: bold\">}</span> | Score: <span style=\"color: #008080; text-decoration-color: #008080; font-weight: bold\">0.683251142501831</span>                                                                                     \n",
       "</pre>\n"
      ]
     },
     "metadata": {},
     "output_type": "display_data"
    },
    {
     "data": {
      "text/plain": [
       "\u001B[1;36m2024\u001B[0m-\u001B[1;36m05\u001B[0m-\u001B[1;36m21\u001B[0m \u001B[1;92m19:11:43\u001B[0m,\u001B[1;36m081\u001B[0m - \u001B[1m{\u001B[0mpytorch_tabular.tabular_model_tuner:\u001B[1;36m364\u001B[0m\u001B[1m}\u001B[0m - INFO - Trial \u001B[1;36m30\u001B[0m/\u001B[1;36m54\u001B[0m:                          \n",
       "\u001B[1m{\u001B[0m\u001B[32m'model_config.head_config__dropout'\u001B[0m: \u001B[1;36m0.2\u001B[0m, \u001B[32m'model_config__layers'\u001B[0m: \u001B[32m'1024-512-256'\u001B[0m, \u001B[32m'optimizer_config__optimizer'\u001B[0m:  \n",
       "\u001B[32m'AdamW'\u001B[0m, \u001B[32m'trainer_config__batch_size'\u001B[0m: \u001B[1;36m4096\u001B[0m, \u001B[32m'loss'\u001B[0m: \u001B[1;36m0.8418487906455994\u001B[0m, \u001B[32m'accuracy'\u001B[0m: \u001B[1;36m0.6718960404396057\u001B[0m,           \n",
       "\u001B[32m'trial_id'\u001B[0m: \u001B[1;36m29\u001B[0m\u001B[1m}\u001B[0m | Score: \u001B[1;36m0.6718960404396057\u001B[0m                                                                        \n"
      ],
      "text/html": [
       "<pre style=\"white-space:pre;overflow-x:auto;line-height:normal;font-family:Menlo,'DejaVu Sans Mono',consolas,'Courier New',monospace\"><span style=\"color: #008080; text-decoration-color: #008080; font-weight: bold\">2024</span>-<span style=\"color: #008080; text-decoration-color: #008080; font-weight: bold\">05</span>-<span style=\"color: #008080; text-decoration-color: #008080; font-weight: bold\">21</span> <span style=\"color: #00ff00; text-decoration-color: #00ff00; font-weight: bold\">19:11:43</span>,<span style=\"color: #008080; text-decoration-color: #008080; font-weight: bold\">081</span> - <span style=\"font-weight: bold\">{</span>pytorch_tabular.tabular_model_tuner:<span style=\"color: #008080; text-decoration-color: #008080; font-weight: bold\">364</span><span style=\"font-weight: bold\">}</span> - INFO - Trial <span style=\"color: #008080; text-decoration-color: #008080; font-weight: bold\">30</span>/<span style=\"color: #008080; text-decoration-color: #008080; font-weight: bold\">54</span>:                          \n",
       "<span style=\"font-weight: bold\">{</span><span style=\"color: #008000; text-decoration-color: #008000\">'model_config.head_config__dropout'</span>: <span style=\"color: #008080; text-decoration-color: #008080; font-weight: bold\">0.2</span>, <span style=\"color: #008000; text-decoration-color: #008000\">'model_config__layers'</span>: <span style=\"color: #008000; text-decoration-color: #008000\">'1024-512-256'</span>, <span style=\"color: #008000; text-decoration-color: #008000\">'optimizer_config__optimizer'</span>:  \n",
       "<span style=\"color: #008000; text-decoration-color: #008000\">'AdamW'</span>, <span style=\"color: #008000; text-decoration-color: #008000\">'trainer_config__batch_size'</span>: <span style=\"color: #008080; text-decoration-color: #008080; font-weight: bold\">4096</span>, <span style=\"color: #008000; text-decoration-color: #008000\">'loss'</span>: <span style=\"color: #008080; text-decoration-color: #008080; font-weight: bold\">0.8418487906455994</span>, <span style=\"color: #008000; text-decoration-color: #008000\">'accuracy'</span>: <span style=\"color: #008080; text-decoration-color: #008080; font-weight: bold\">0.6718960404396057</span>,           \n",
       "<span style=\"color: #008000; text-decoration-color: #008000\">'trial_id'</span>: <span style=\"color: #008080; text-decoration-color: #008080; font-weight: bold\">29</span><span style=\"font-weight: bold\">}</span> | Score: <span style=\"color: #008080; text-decoration-color: #008080; font-weight: bold\">0.6718960404396057</span>                                                                        \n",
       "</pre>\n"
      ]
     },
     "metadata": {},
     "output_type": "display_data"
    },
    {
     "data": {
      "text/plain": [
       "\u001B[1;36m2024\u001B[0m-\u001B[1;36m05\u001B[0m-\u001B[1;36m21\u001B[0m \u001B[1;92m19:12:17\u001B[0m,\u001B[1;36m790\u001B[0m - \u001B[1m{\u001B[0mpytorch_tabular.tabular_model_tuner:\u001B[1;36m364\u001B[0m\u001B[1m}\u001B[0m - INFO - Trial \u001B[1;36m31\u001B[0m/\u001B[1;36m54\u001B[0m:                          \n",
       "\u001B[1m{\u001B[0m\u001B[32m'model_config.head_config__dropout'\u001B[0m: \u001B[1;36m0.2\u001B[0m, \u001B[32m'model_config__layers'\u001B[0m: \u001B[32m'1024-512-128'\u001B[0m, \u001B[32m'optimizer_config__optimizer'\u001B[0m:  \n",
       "\u001B[32m'RAdam'\u001B[0m, \u001B[32m'trainer_config__batch_size'\u001B[0m: \u001B[1;36m1024\u001B[0m, \u001B[32m'loss'\u001B[0m: \u001B[1;36m0.8402971029281616\u001B[0m, \u001B[32m'accuracy'\u001B[0m: \u001B[1;36m0.6751829981803894\u001B[0m,           \n",
       "\u001B[32m'trial_id'\u001B[0m: \u001B[1;36m30\u001B[0m\u001B[1m}\u001B[0m | Score: \u001B[1;36m0.6751829981803894\u001B[0m                                                                        \n"
      ],
      "text/html": [
       "<pre style=\"white-space:pre;overflow-x:auto;line-height:normal;font-family:Menlo,'DejaVu Sans Mono',consolas,'Courier New',monospace\"><span style=\"color: #008080; text-decoration-color: #008080; font-weight: bold\">2024</span>-<span style=\"color: #008080; text-decoration-color: #008080; font-weight: bold\">05</span>-<span style=\"color: #008080; text-decoration-color: #008080; font-weight: bold\">21</span> <span style=\"color: #00ff00; text-decoration-color: #00ff00; font-weight: bold\">19:12:17</span>,<span style=\"color: #008080; text-decoration-color: #008080; font-weight: bold\">790</span> - <span style=\"font-weight: bold\">{</span>pytorch_tabular.tabular_model_tuner:<span style=\"color: #008080; text-decoration-color: #008080; font-weight: bold\">364</span><span style=\"font-weight: bold\">}</span> - INFO - Trial <span style=\"color: #008080; text-decoration-color: #008080; font-weight: bold\">31</span>/<span style=\"color: #008080; text-decoration-color: #008080; font-weight: bold\">54</span>:                          \n",
       "<span style=\"font-weight: bold\">{</span><span style=\"color: #008000; text-decoration-color: #008000\">'model_config.head_config__dropout'</span>: <span style=\"color: #008080; text-decoration-color: #008080; font-weight: bold\">0.2</span>, <span style=\"color: #008000; text-decoration-color: #008000\">'model_config__layers'</span>: <span style=\"color: #008000; text-decoration-color: #008000\">'1024-512-128'</span>, <span style=\"color: #008000; text-decoration-color: #008000\">'optimizer_config__optimizer'</span>:  \n",
       "<span style=\"color: #008000; text-decoration-color: #008000\">'RAdam'</span>, <span style=\"color: #008000; text-decoration-color: #008000\">'trainer_config__batch_size'</span>: <span style=\"color: #008080; text-decoration-color: #008080; font-weight: bold\">1024</span>, <span style=\"color: #008000; text-decoration-color: #008000\">'loss'</span>: <span style=\"color: #008080; text-decoration-color: #008080; font-weight: bold\">0.8402971029281616</span>, <span style=\"color: #008000; text-decoration-color: #008000\">'accuracy'</span>: <span style=\"color: #008080; text-decoration-color: #008080; font-weight: bold\">0.6751829981803894</span>,           \n",
       "<span style=\"color: #008000; text-decoration-color: #008000\">'trial_id'</span>: <span style=\"color: #008080; text-decoration-color: #008080; font-weight: bold\">30</span><span style=\"font-weight: bold\">}</span> | Score: <span style=\"color: #008080; text-decoration-color: #008080; font-weight: bold\">0.6751829981803894</span>                                                                        \n",
       "</pre>\n"
      ]
     },
     "metadata": {},
     "output_type": "display_data"
    },
    {
     "data": {
      "text/plain": [
       "\u001B[1;36m2024\u001B[0m-\u001B[1;36m05\u001B[0m-\u001B[1;36m21\u001B[0m \u001B[1;92m19:12:59\u001B[0m,\u001B[1;36m755\u001B[0m - \u001B[1m{\u001B[0mpytorch_tabular.tabular_model_tuner:\u001B[1;36m364\u001B[0m\u001B[1m}\u001B[0m - INFO - Trial \u001B[1;36m32\u001B[0m/\u001B[1;36m54\u001B[0m:                          \n",
       "\u001B[1m{\u001B[0m\u001B[32m'model_config.head_config__dropout'\u001B[0m: \u001B[1;36m0.2\u001B[0m, \u001B[32m'model_config__layers'\u001B[0m: \u001B[32m'1024-512-128'\u001B[0m, \u001B[32m'optimizer_config__optimizer'\u001B[0m:  \n",
       "\u001B[32m'RAdam'\u001B[0m, \u001B[32m'trainer_config__batch_size'\u001B[0m: \u001B[1;36m2048\u001B[0m, \u001B[32m'loss'\u001B[0m: \u001B[1;36m0.8423932194709778\u001B[0m, \u001B[32m'accuracy'\u001B[0m: \u001B[1;36m0.6741371750831604\u001B[0m,           \n",
       "\u001B[32m'trial_id'\u001B[0m: \u001B[1;36m31\u001B[0m\u001B[1m}\u001B[0m | Score: \u001B[1;36m0.6741371750831604\u001B[0m                                                                        \n"
      ],
      "text/html": [
       "<pre style=\"white-space:pre;overflow-x:auto;line-height:normal;font-family:Menlo,'DejaVu Sans Mono',consolas,'Courier New',monospace\"><span style=\"color: #008080; text-decoration-color: #008080; font-weight: bold\">2024</span>-<span style=\"color: #008080; text-decoration-color: #008080; font-weight: bold\">05</span>-<span style=\"color: #008080; text-decoration-color: #008080; font-weight: bold\">21</span> <span style=\"color: #00ff00; text-decoration-color: #00ff00; font-weight: bold\">19:12:59</span>,<span style=\"color: #008080; text-decoration-color: #008080; font-weight: bold\">755</span> - <span style=\"font-weight: bold\">{</span>pytorch_tabular.tabular_model_tuner:<span style=\"color: #008080; text-decoration-color: #008080; font-weight: bold\">364</span><span style=\"font-weight: bold\">}</span> - INFO - Trial <span style=\"color: #008080; text-decoration-color: #008080; font-weight: bold\">32</span>/<span style=\"color: #008080; text-decoration-color: #008080; font-weight: bold\">54</span>:                          \n",
       "<span style=\"font-weight: bold\">{</span><span style=\"color: #008000; text-decoration-color: #008000\">'model_config.head_config__dropout'</span>: <span style=\"color: #008080; text-decoration-color: #008080; font-weight: bold\">0.2</span>, <span style=\"color: #008000; text-decoration-color: #008000\">'model_config__layers'</span>: <span style=\"color: #008000; text-decoration-color: #008000\">'1024-512-128'</span>, <span style=\"color: #008000; text-decoration-color: #008000\">'optimizer_config__optimizer'</span>:  \n",
       "<span style=\"color: #008000; text-decoration-color: #008000\">'RAdam'</span>, <span style=\"color: #008000; text-decoration-color: #008000\">'trainer_config__batch_size'</span>: <span style=\"color: #008080; text-decoration-color: #008080; font-weight: bold\">2048</span>, <span style=\"color: #008000; text-decoration-color: #008000\">'loss'</span>: <span style=\"color: #008080; text-decoration-color: #008080; font-weight: bold\">0.8423932194709778</span>, <span style=\"color: #008000; text-decoration-color: #008000\">'accuracy'</span>: <span style=\"color: #008080; text-decoration-color: #008080; font-weight: bold\">0.6741371750831604</span>,           \n",
       "<span style=\"color: #008000; text-decoration-color: #008000\">'trial_id'</span>: <span style=\"color: #008080; text-decoration-color: #008080; font-weight: bold\">31</span><span style=\"font-weight: bold\">}</span> | Score: <span style=\"color: #008080; text-decoration-color: #008080; font-weight: bold\">0.6741371750831604</span>                                                                        \n",
       "</pre>\n"
      ]
     },
     "metadata": {},
     "output_type": "display_data"
    },
    {
     "data": {
      "text/plain": [
       "\u001B[1;36m2024\u001B[0m-\u001B[1;36m05\u001B[0m-\u001B[1;36m21\u001B[0m \u001B[1;92m19:13:53\u001B[0m,\u001B[1;36m323\u001B[0m - \u001B[1m{\u001B[0mpytorch_tabular.tabular_model_tuner:\u001B[1;36m364\u001B[0m\u001B[1m}\u001B[0m - INFO - Trial \u001B[1;36m33\u001B[0m/\u001B[1;36m54\u001B[0m:                          \n",
       "\u001B[1m{\u001B[0m\u001B[32m'model_config.head_config__dropout'\u001B[0m: \u001B[1;36m0.2\u001B[0m, \u001B[32m'model_config__layers'\u001B[0m: \u001B[32m'1024-512-128'\u001B[0m, \u001B[32m'optimizer_config__optimizer'\u001B[0m:  \n",
       "\u001B[32m'RAdam'\u001B[0m, \u001B[32m'trainer_config__batch_size'\u001B[0m: \u001B[1;36m4096\u001B[0m, \u001B[32m'loss'\u001B[0m: \u001B[1;36m0.861775279045105\u001B[0m, \u001B[32m'accuracy'\u001B[0m: \u001B[1;36m0.6856417059898376\u001B[0m, \u001B[32m'trial_id'\u001B[0m:\n",
       "\u001B[1;36m32\u001B[0m\u001B[1m}\u001B[0m | Score: \u001B[1;36m0.6856417059898376\u001B[0m                                                                                    \n"
      ],
      "text/html": [
       "<pre style=\"white-space:pre;overflow-x:auto;line-height:normal;font-family:Menlo,'DejaVu Sans Mono',consolas,'Courier New',monospace\"><span style=\"color: #008080; text-decoration-color: #008080; font-weight: bold\">2024</span>-<span style=\"color: #008080; text-decoration-color: #008080; font-weight: bold\">05</span>-<span style=\"color: #008080; text-decoration-color: #008080; font-weight: bold\">21</span> <span style=\"color: #00ff00; text-decoration-color: #00ff00; font-weight: bold\">19:13:53</span>,<span style=\"color: #008080; text-decoration-color: #008080; font-weight: bold\">323</span> - <span style=\"font-weight: bold\">{</span>pytorch_tabular.tabular_model_tuner:<span style=\"color: #008080; text-decoration-color: #008080; font-weight: bold\">364</span><span style=\"font-weight: bold\">}</span> - INFO - Trial <span style=\"color: #008080; text-decoration-color: #008080; font-weight: bold\">33</span>/<span style=\"color: #008080; text-decoration-color: #008080; font-weight: bold\">54</span>:                          \n",
       "<span style=\"font-weight: bold\">{</span><span style=\"color: #008000; text-decoration-color: #008000\">'model_config.head_config__dropout'</span>: <span style=\"color: #008080; text-decoration-color: #008080; font-weight: bold\">0.2</span>, <span style=\"color: #008000; text-decoration-color: #008000\">'model_config__layers'</span>: <span style=\"color: #008000; text-decoration-color: #008000\">'1024-512-128'</span>, <span style=\"color: #008000; text-decoration-color: #008000\">'optimizer_config__optimizer'</span>:  \n",
       "<span style=\"color: #008000; text-decoration-color: #008000\">'RAdam'</span>, <span style=\"color: #008000; text-decoration-color: #008000\">'trainer_config__batch_size'</span>: <span style=\"color: #008080; text-decoration-color: #008080; font-weight: bold\">4096</span>, <span style=\"color: #008000; text-decoration-color: #008000\">'loss'</span>: <span style=\"color: #008080; text-decoration-color: #008080; font-weight: bold\">0.861775279045105</span>, <span style=\"color: #008000; text-decoration-color: #008000\">'accuracy'</span>: <span style=\"color: #008080; text-decoration-color: #008080; font-weight: bold\">0.6856417059898376</span>, <span style=\"color: #008000; text-decoration-color: #008000\">'trial_id'</span>:\n",
       "<span style=\"color: #008080; text-decoration-color: #008080; font-weight: bold\">32</span><span style=\"font-weight: bold\">}</span> | Score: <span style=\"color: #008080; text-decoration-color: #008080; font-weight: bold\">0.6856417059898376</span>                                                                                    \n",
       "</pre>\n"
      ]
     },
     "metadata": {},
     "output_type": "display_data"
    },
    {
     "data": {
      "text/plain": [
       "\u001B[1;36m2024\u001B[0m-\u001B[1;36m05\u001B[0m-\u001B[1;36m21\u001B[0m \u001B[1;92m19:14:41\u001B[0m,\u001B[1;36m581\u001B[0m - \u001B[1m{\u001B[0mpytorch_tabular.tabular_model_tuner:\u001B[1;36m364\u001B[0m\u001B[1m}\u001B[0m - INFO - Trial \u001B[1;36m34\u001B[0m/\u001B[1;36m54\u001B[0m:                          \n",
       "\u001B[1m{\u001B[0m\u001B[32m'model_config.head_config__dropout'\u001B[0m: \u001B[1;36m0.2\u001B[0m, \u001B[32m'model_config__layers'\u001B[0m: \u001B[32m'1024-512-128'\u001B[0m, \u001B[32m'optimizer_config__optimizer'\u001B[0m:  \n",
       "\u001B[32m'AdamW'\u001B[0m, \u001B[32m'trainer_config__batch_size'\u001B[0m: \u001B[1;36m1024\u001B[0m, \u001B[32m'loss'\u001B[0m: \u001B[1;36m0.8628183603286743\u001B[0m, \u001B[32m'accuracy'\u001B[0m: \u001B[1;36m0.689376950263977\u001B[0m, \u001B[32m'trial_id'\u001B[0m:\n",
       "\u001B[1;36m33\u001B[0m\u001B[1m}\u001B[0m | Score: \u001B[1;36m0.689376950263977\u001B[0m                                                                                     \n"
      ],
      "text/html": [
       "<pre style=\"white-space:pre;overflow-x:auto;line-height:normal;font-family:Menlo,'DejaVu Sans Mono',consolas,'Courier New',monospace\"><span style=\"color: #008080; text-decoration-color: #008080; font-weight: bold\">2024</span>-<span style=\"color: #008080; text-decoration-color: #008080; font-weight: bold\">05</span>-<span style=\"color: #008080; text-decoration-color: #008080; font-weight: bold\">21</span> <span style=\"color: #00ff00; text-decoration-color: #00ff00; font-weight: bold\">19:14:41</span>,<span style=\"color: #008080; text-decoration-color: #008080; font-weight: bold\">581</span> - <span style=\"font-weight: bold\">{</span>pytorch_tabular.tabular_model_tuner:<span style=\"color: #008080; text-decoration-color: #008080; font-weight: bold\">364</span><span style=\"font-weight: bold\">}</span> - INFO - Trial <span style=\"color: #008080; text-decoration-color: #008080; font-weight: bold\">34</span>/<span style=\"color: #008080; text-decoration-color: #008080; font-weight: bold\">54</span>:                          \n",
       "<span style=\"font-weight: bold\">{</span><span style=\"color: #008000; text-decoration-color: #008000\">'model_config.head_config__dropout'</span>: <span style=\"color: #008080; text-decoration-color: #008080; font-weight: bold\">0.2</span>, <span style=\"color: #008000; text-decoration-color: #008000\">'model_config__layers'</span>: <span style=\"color: #008000; text-decoration-color: #008000\">'1024-512-128'</span>, <span style=\"color: #008000; text-decoration-color: #008000\">'optimizer_config__optimizer'</span>:  \n",
       "<span style=\"color: #008000; text-decoration-color: #008000\">'AdamW'</span>, <span style=\"color: #008000; text-decoration-color: #008000\">'trainer_config__batch_size'</span>: <span style=\"color: #008080; text-decoration-color: #008080; font-weight: bold\">1024</span>, <span style=\"color: #008000; text-decoration-color: #008000\">'loss'</span>: <span style=\"color: #008080; text-decoration-color: #008080; font-weight: bold\">0.8628183603286743</span>, <span style=\"color: #008000; text-decoration-color: #008000\">'accuracy'</span>: <span style=\"color: #008080; text-decoration-color: #008080; font-weight: bold\">0.689376950263977</span>, <span style=\"color: #008000; text-decoration-color: #008000\">'trial_id'</span>:\n",
       "<span style=\"color: #008080; text-decoration-color: #008080; font-weight: bold\">33</span><span style=\"font-weight: bold\">}</span> | Score: <span style=\"color: #008080; text-decoration-color: #008080; font-weight: bold\">0.689376950263977</span>                                                                                     \n",
       "</pre>\n"
      ]
     },
     "metadata": {},
     "output_type": "display_data"
    },
    {
     "data": {
      "text/plain": [
       "\u001B[1;36m2024\u001B[0m-\u001B[1;36m05\u001B[0m-\u001B[1;36m21\u001B[0m \u001B[1;92m19:15:19\u001B[0m,\u001B[1;36m765\u001B[0m - \u001B[1m{\u001B[0mpytorch_tabular.tabular_model_tuner:\u001B[1;36m364\u001B[0m\u001B[1m}\u001B[0m - INFO - Trial \u001B[1;36m35\u001B[0m/\u001B[1;36m54\u001B[0m:                          \n",
       "\u001B[1m{\u001B[0m\u001B[32m'model_config.head_config__dropout'\u001B[0m: \u001B[1;36m0.2\u001B[0m, \u001B[32m'model_config__layers'\u001B[0m: \u001B[32m'1024-512-128'\u001B[0m, \u001B[32m'optimizer_config__optimizer'\u001B[0m:  \n",
       "\u001B[32m'AdamW'\u001B[0m, \u001B[32m'trainer_config__batch_size'\u001B[0m: \u001B[1;36m2048\u001B[0m, \u001B[32m'loss'\u001B[0m: \u001B[1;36m0.8320538401603699\u001B[0m, \u001B[32m'accuracy'\u001B[0m: \u001B[1;36m0.6920663118362427\u001B[0m,           \n",
       "\u001B[32m'trial_id'\u001B[0m: \u001B[1;36m34\u001B[0m\u001B[1m}\u001B[0m | Score: \u001B[1;36m0.6920663118362427\u001B[0m                                                                        \n"
      ],
      "text/html": [
       "<pre style=\"white-space:pre;overflow-x:auto;line-height:normal;font-family:Menlo,'DejaVu Sans Mono',consolas,'Courier New',monospace\"><span style=\"color: #008080; text-decoration-color: #008080; font-weight: bold\">2024</span>-<span style=\"color: #008080; text-decoration-color: #008080; font-weight: bold\">05</span>-<span style=\"color: #008080; text-decoration-color: #008080; font-weight: bold\">21</span> <span style=\"color: #00ff00; text-decoration-color: #00ff00; font-weight: bold\">19:15:19</span>,<span style=\"color: #008080; text-decoration-color: #008080; font-weight: bold\">765</span> - <span style=\"font-weight: bold\">{</span>pytorch_tabular.tabular_model_tuner:<span style=\"color: #008080; text-decoration-color: #008080; font-weight: bold\">364</span><span style=\"font-weight: bold\">}</span> - INFO - Trial <span style=\"color: #008080; text-decoration-color: #008080; font-weight: bold\">35</span>/<span style=\"color: #008080; text-decoration-color: #008080; font-weight: bold\">54</span>:                          \n",
       "<span style=\"font-weight: bold\">{</span><span style=\"color: #008000; text-decoration-color: #008000\">'model_config.head_config__dropout'</span>: <span style=\"color: #008080; text-decoration-color: #008080; font-weight: bold\">0.2</span>, <span style=\"color: #008000; text-decoration-color: #008000\">'model_config__layers'</span>: <span style=\"color: #008000; text-decoration-color: #008000\">'1024-512-128'</span>, <span style=\"color: #008000; text-decoration-color: #008000\">'optimizer_config__optimizer'</span>:  \n",
       "<span style=\"color: #008000; text-decoration-color: #008000\">'AdamW'</span>, <span style=\"color: #008000; text-decoration-color: #008000\">'trainer_config__batch_size'</span>: <span style=\"color: #008080; text-decoration-color: #008080; font-weight: bold\">2048</span>, <span style=\"color: #008000; text-decoration-color: #008000\">'loss'</span>: <span style=\"color: #008080; text-decoration-color: #008080; font-weight: bold\">0.8320538401603699</span>, <span style=\"color: #008000; text-decoration-color: #008000\">'accuracy'</span>: <span style=\"color: #008080; text-decoration-color: #008080; font-weight: bold\">0.6920663118362427</span>,           \n",
       "<span style=\"color: #008000; text-decoration-color: #008000\">'trial_id'</span>: <span style=\"color: #008080; text-decoration-color: #008080; font-weight: bold\">34</span><span style=\"font-weight: bold\">}</span> | Score: <span style=\"color: #008080; text-decoration-color: #008080; font-weight: bold\">0.6920663118362427</span>                                                                        \n",
       "</pre>\n"
      ]
     },
     "metadata": {},
     "output_type": "display_data"
    },
    {
     "data": {
      "text/plain": [
       "\u001B[1;36m2024\u001B[0m-\u001B[1;36m05\u001B[0m-\u001B[1;36m21\u001B[0m \u001B[1;92m19:16:04\u001B[0m,\u001B[1;36m852\u001B[0m - \u001B[1m{\u001B[0mpytorch_tabular.tabular_model_tuner:\u001B[1;36m364\u001B[0m\u001B[1m}\u001B[0m - INFO - Trial \u001B[1;36m36\u001B[0m/\u001B[1;36m54\u001B[0m:                          \n",
       "\u001B[1m{\u001B[0m\u001B[32m'model_config.head_config__dropout'\u001B[0m: \u001B[1;36m0.2\u001B[0m, \u001B[32m'model_config__layers'\u001B[0m: \u001B[32m'1024-512-128'\u001B[0m, \u001B[32m'optimizer_config__optimizer'\u001B[0m:  \n",
       "\u001B[32m'AdamW'\u001B[0m, \u001B[32m'trainer_config__batch_size'\u001B[0m: \u001B[1;36m4096\u001B[0m, \u001B[32m'loss'\u001B[0m: \u001B[1;36m0.8535709977149963\u001B[0m, \u001B[32m'accuracy'\u001B[0m: \u001B[1;36m0.6801135540008545\u001B[0m,           \n",
       "\u001B[32m'trial_id'\u001B[0m: \u001B[1;36m35\u001B[0m\u001B[1m}\u001B[0m | Score: \u001B[1;36m0.6801135540008545\u001B[0m                                                                        \n"
      ],
      "text/html": [
       "<pre style=\"white-space:pre;overflow-x:auto;line-height:normal;font-family:Menlo,'DejaVu Sans Mono',consolas,'Courier New',monospace\"><span style=\"color: #008080; text-decoration-color: #008080; font-weight: bold\">2024</span>-<span style=\"color: #008080; text-decoration-color: #008080; font-weight: bold\">05</span>-<span style=\"color: #008080; text-decoration-color: #008080; font-weight: bold\">21</span> <span style=\"color: #00ff00; text-decoration-color: #00ff00; font-weight: bold\">19:16:04</span>,<span style=\"color: #008080; text-decoration-color: #008080; font-weight: bold\">852</span> - <span style=\"font-weight: bold\">{</span>pytorch_tabular.tabular_model_tuner:<span style=\"color: #008080; text-decoration-color: #008080; font-weight: bold\">364</span><span style=\"font-weight: bold\">}</span> - INFO - Trial <span style=\"color: #008080; text-decoration-color: #008080; font-weight: bold\">36</span>/<span style=\"color: #008080; text-decoration-color: #008080; font-weight: bold\">54</span>:                          \n",
       "<span style=\"font-weight: bold\">{</span><span style=\"color: #008000; text-decoration-color: #008000\">'model_config.head_config__dropout'</span>: <span style=\"color: #008080; text-decoration-color: #008080; font-weight: bold\">0.2</span>, <span style=\"color: #008000; text-decoration-color: #008000\">'model_config__layers'</span>: <span style=\"color: #008000; text-decoration-color: #008000\">'1024-512-128'</span>, <span style=\"color: #008000; text-decoration-color: #008000\">'optimizer_config__optimizer'</span>:  \n",
       "<span style=\"color: #008000; text-decoration-color: #008000\">'AdamW'</span>, <span style=\"color: #008000; text-decoration-color: #008000\">'trainer_config__batch_size'</span>: <span style=\"color: #008080; text-decoration-color: #008080; font-weight: bold\">4096</span>, <span style=\"color: #008000; text-decoration-color: #008000\">'loss'</span>: <span style=\"color: #008080; text-decoration-color: #008080; font-weight: bold\">0.8535709977149963</span>, <span style=\"color: #008000; text-decoration-color: #008000\">'accuracy'</span>: <span style=\"color: #008080; text-decoration-color: #008080; font-weight: bold\">0.6801135540008545</span>,           \n",
       "<span style=\"color: #008000; text-decoration-color: #008000\">'trial_id'</span>: <span style=\"color: #008080; text-decoration-color: #008080; font-weight: bold\">35</span><span style=\"font-weight: bold\">}</span> | Score: <span style=\"color: #008080; text-decoration-color: #008080; font-weight: bold\">0.6801135540008545</span>                                                                        \n",
       "</pre>\n"
      ]
     },
     "metadata": {},
     "output_type": "display_data"
    },
    {
     "data": {
      "text/plain": [
       "\u001B[1;36m2024\u001B[0m-\u001B[1;36m05\u001B[0m-\u001B[1;36m21\u001B[0m \u001B[1;92m19:16:39\u001B[0m,\u001B[1;36m701\u001B[0m - \u001B[1m{\u001B[0mpytorch_tabular.tabular_model_tuner:\u001B[1;36m364\u001B[0m\u001B[1m}\u001B[0m - INFO - Trial \u001B[1;36m37\u001B[0m/\u001B[1;36m54\u001B[0m:                          \n",
       "\u001B[1m{\u001B[0m\u001B[32m'model_config.head_config__dropout'\u001B[0m: \u001B[1;36m0.3\u001B[0m, \u001B[32m'model_config__layers'\u001B[0m: \u001B[32m'1024-512-512'\u001B[0m, \u001B[32m'optimizer_config__optimizer'\u001B[0m:  \n",
       "\u001B[32m'RAdam'\u001B[0m, \u001B[32m'trainer_config__batch_size'\u001B[0m: \u001B[1;36m1024\u001B[0m, \u001B[32m'loss'\u001B[0m: \u001B[1;36m0.8243773579597473\u001B[0m, \u001B[32m'accuracy'\u001B[0m: \u001B[1;36m0.6928133964538574\u001B[0m,           \n",
       "\u001B[32m'trial_id'\u001B[0m: \u001B[1;36m36\u001B[0m\u001B[1m}\u001B[0m | Score: \u001B[1;36m0.6928133964538574\u001B[0m                                                                        \n"
      ],
      "text/html": [
       "<pre style=\"white-space:pre;overflow-x:auto;line-height:normal;font-family:Menlo,'DejaVu Sans Mono',consolas,'Courier New',monospace\"><span style=\"color: #008080; text-decoration-color: #008080; font-weight: bold\">2024</span>-<span style=\"color: #008080; text-decoration-color: #008080; font-weight: bold\">05</span>-<span style=\"color: #008080; text-decoration-color: #008080; font-weight: bold\">21</span> <span style=\"color: #00ff00; text-decoration-color: #00ff00; font-weight: bold\">19:16:39</span>,<span style=\"color: #008080; text-decoration-color: #008080; font-weight: bold\">701</span> - <span style=\"font-weight: bold\">{</span>pytorch_tabular.tabular_model_tuner:<span style=\"color: #008080; text-decoration-color: #008080; font-weight: bold\">364</span><span style=\"font-weight: bold\">}</span> - INFO - Trial <span style=\"color: #008080; text-decoration-color: #008080; font-weight: bold\">37</span>/<span style=\"color: #008080; text-decoration-color: #008080; font-weight: bold\">54</span>:                          \n",
       "<span style=\"font-weight: bold\">{</span><span style=\"color: #008000; text-decoration-color: #008000\">'model_config.head_config__dropout'</span>: <span style=\"color: #008080; text-decoration-color: #008080; font-weight: bold\">0.3</span>, <span style=\"color: #008000; text-decoration-color: #008000\">'model_config__layers'</span>: <span style=\"color: #008000; text-decoration-color: #008000\">'1024-512-512'</span>, <span style=\"color: #008000; text-decoration-color: #008000\">'optimizer_config__optimizer'</span>:  \n",
       "<span style=\"color: #008000; text-decoration-color: #008000\">'RAdam'</span>, <span style=\"color: #008000; text-decoration-color: #008000\">'trainer_config__batch_size'</span>: <span style=\"color: #008080; text-decoration-color: #008080; font-weight: bold\">1024</span>, <span style=\"color: #008000; text-decoration-color: #008000\">'loss'</span>: <span style=\"color: #008080; text-decoration-color: #008080; font-weight: bold\">0.8243773579597473</span>, <span style=\"color: #008000; text-decoration-color: #008000\">'accuracy'</span>: <span style=\"color: #008080; text-decoration-color: #008080; font-weight: bold\">0.6928133964538574</span>,           \n",
       "<span style=\"color: #008000; text-decoration-color: #008000\">'trial_id'</span>: <span style=\"color: #008080; text-decoration-color: #008080; font-weight: bold\">36</span><span style=\"font-weight: bold\">}</span> | Score: <span style=\"color: #008080; text-decoration-color: #008080; font-weight: bold\">0.6928133964538574</span>                                                                        \n",
       "</pre>\n"
      ]
     },
     "metadata": {},
     "output_type": "display_data"
    },
    {
     "data": {
      "text/plain": [
       "\u001B[1;36m2024\u001B[0m-\u001B[1;36m05\u001B[0m-\u001B[1;36m21\u001B[0m \u001B[1;92m19:17:15\u001B[0m,\u001B[1;36m024\u001B[0m - \u001B[1m{\u001B[0mpytorch_tabular.tabular_model_tuner:\u001B[1;36m364\u001B[0m\u001B[1m}\u001B[0m - INFO - Trial \u001B[1;36m38\u001B[0m/\u001B[1;36m54\u001B[0m:                          \n",
       "\u001B[1m{\u001B[0m\u001B[32m'model_config.head_config__dropout'\u001B[0m: \u001B[1;36m0.3\u001B[0m, \u001B[32m'model_config__layers'\u001B[0m: \u001B[32m'1024-512-512'\u001B[0m, \u001B[32m'optimizer_config__optimizer'\u001B[0m:  \n",
       "\u001B[32m'RAdam'\u001B[0m, \u001B[32m'trainer_config__batch_size'\u001B[0m: \u001B[1;36m2048\u001B[0m, \u001B[32m'loss'\u001B[0m: \u001B[1;36m0.8405893445014954\u001B[0m, \u001B[32m'accuracy'\u001B[0m: \u001B[1;36m0.6848946809768677\u001B[0m,           \n",
       "\u001B[32m'trial_id'\u001B[0m: \u001B[1;36m37\u001B[0m\u001B[1m}\u001B[0m | Score: \u001B[1;36m0.6848946809768677\u001B[0m                                                                        \n"
      ],
      "text/html": [
       "<pre style=\"white-space:pre;overflow-x:auto;line-height:normal;font-family:Menlo,'DejaVu Sans Mono',consolas,'Courier New',monospace\"><span style=\"color: #008080; text-decoration-color: #008080; font-weight: bold\">2024</span>-<span style=\"color: #008080; text-decoration-color: #008080; font-weight: bold\">05</span>-<span style=\"color: #008080; text-decoration-color: #008080; font-weight: bold\">21</span> <span style=\"color: #00ff00; text-decoration-color: #00ff00; font-weight: bold\">19:17:15</span>,<span style=\"color: #008080; text-decoration-color: #008080; font-weight: bold\">024</span> - <span style=\"font-weight: bold\">{</span>pytorch_tabular.tabular_model_tuner:<span style=\"color: #008080; text-decoration-color: #008080; font-weight: bold\">364</span><span style=\"font-weight: bold\">}</span> - INFO - Trial <span style=\"color: #008080; text-decoration-color: #008080; font-weight: bold\">38</span>/<span style=\"color: #008080; text-decoration-color: #008080; font-weight: bold\">54</span>:                          \n",
       "<span style=\"font-weight: bold\">{</span><span style=\"color: #008000; text-decoration-color: #008000\">'model_config.head_config__dropout'</span>: <span style=\"color: #008080; text-decoration-color: #008080; font-weight: bold\">0.3</span>, <span style=\"color: #008000; text-decoration-color: #008000\">'model_config__layers'</span>: <span style=\"color: #008000; text-decoration-color: #008000\">'1024-512-512'</span>, <span style=\"color: #008000; text-decoration-color: #008000\">'optimizer_config__optimizer'</span>:  \n",
       "<span style=\"color: #008000; text-decoration-color: #008000\">'RAdam'</span>, <span style=\"color: #008000; text-decoration-color: #008000\">'trainer_config__batch_size'</span>: <span style=\"color: #008080; text-decoration-color: #008080; font-weight: bold\">2048</span>, <span style=\"color: #008000; text-decoration-color: #008000\">'loss'</span>: <span style=\"color: #008080; text-decoration-color: #008080; font-weight: bold\">0.8405893445014954</span>, <span style=\"color: #008000; text-decoration-color: #008000\">'accuracy'</span>: <span style=\"color: #008080; text-decoration-color: #008080; font-weight: bold\">0.6848946809768677</span>,           \n",
       "<span style=\"color: #008000; text-decoration-color: #008000\">'trial_id'</span>: <span style=\"color: #008080; text-decoration-color: #008080; font-weight: bold\">37</span><span style=\"font-weight: bold\">}</span> | Score: <span style=\"color: #008080; text-decoration-color: #008080; font-weight: bold\">0.6848946809768677</span>                                                                        \n",
       "</pre>\n"
      ]
     },
     "metadata": {},
     "output_type": "display_data"
    },
    {
     "data": {
      "text/plain": [
       "\u001B[1;36m2024\u001B[0m-\u001B[1;36m05\u001B[0m-\u001B[1;36m21\u001B[0m \u001B[1;92m19:17:46\u001B[0m,\u001B[1;36m793\u001B[0m - \u001B[1m{\u001B[0mpytorch_tabular.tabular_model_tuner:\u001B[1;36m364\u001B[0m\u001B[1m}\u001B[0m - INFO - Trial \u001B[1;36m39\u001B[0m/\u001B[1;36m54\u001B[0m:                          \n",
       "\u001B[1m{\u001B[0m\u001B[32m'model_config.head_config__dropout'\u001B[0m: \u001B[1;36m0.3\u001B[0m, \u001B[32m'model_config__layers'\u001B[0m: \u001B[32m'1024-512-512'\u001B[0m, \u001B[32m'optimizer_config__optimizer'\u001B[0m:  \n",
       "\u001B[32m'RAdam'\u001B[0m, \u001B[32m'trainer_config__batch_size'\u001B[0m: \u001B[1;36m4096\u001B[0m, \u001B[32m'loss'\u001B[0m: \u001B[1;36m0.852378785610199\u001B[0m, \u001B[32m'accuracy'\u001B[0m: \u001B[1;36m0.6744359731674194\u001B[0m, \u001B[32m'trial_id'\u001B[0m:\n",
       "\u001B[1;36m38\u001B[0m\u001B[1m}\u001B[0m | Score: \u001B[1;36m0.6744359731674194\u001B[0m                                                                                    \n"
      ],
      "text/html": [
       "<pre style=\"white-space:pre;overflow-x:auto;line-height:normal;font-family:Menlo,'DejaVu Sans Mono',consolas,'Courier New',monospace\"><span style=\"color: #008080; text-decoration-color: #008080; font-weight: bold\">2024</span>-<span style=\"color: #008080; text-decoration-color: #008080; font-weight: bold\">05</span>-<span style=\"color: #008080; text-decoration-color: #008080; font-weight: bold\">21</span> <span style=\"color: #00ff00; text-decoration-color: #00ff00; font-weight: bold\">19:17:46</span>,<span style=\"color: #008080; text-decoration-color: #008080; font-weight: bold\">793</span> - <span style=\"font-weight: bold\">{</span>pytorch_tabular.tabular_model_tuner:<span style=\"color: #008080; text-decoration-color: #008080; font-weight: bold\">364</span><span style=\"font-weight: bold\">}</span> - INFO - Trial <span style=\"color: #008080; text-decoration-color: #008080; font-weight: bold\">39</span>/<span style=\"color: #008080; text-decoration-color: #008080; font-weight: bold\">54</span>:                          \n",
       "<span style=\"font-weight: bold\">{</span><span style=\"color: #008000; text-decoration-color: #008000\">'model_config.head_config__dropout'</span>: <span style=\"color: #008080; text-decoration-color: #008080; font-weight: bold\">0.3</span>, <span style=\"color: #008000; text-decoration-color: #008000\">'model_config__layers'</span>: <span style=\"color: #008000; text-decoration-color: #008000\">'1024-512-512'</span>, <span style=\"color: #008000; text-decoration-color: #008000\">'optimizer_config__optimizer'</span>:  \n",
       "<span style=\"color: #008000; text-decoration-color: #008000\">'RAdam'</span>, <span style=\"color: #008000; text-decoration-color: #008000\">'trainer_config__batch_size'</span>: <span style=\"color: #008080; text-decoration-color: #008080; font-weight: bold\">4096</span>, <span style=\"color: #008000; text-decoration-color: #008000\">'loss'</span>: <span style=\"color: #008080; text-decoration-color: #008080; font-weight: bold\">0.852378785610199</span>, <span style=\"color: #008000; text-decoration-color: #008000\">'accuracy'</span>: <span style=\"color: #008080; text-decoration-color: #008080; font-weight: bold\">0.6744359731674194</span>, <span style=\"color: #008000; text-decoration-color: #008000\">'trial_id'</span>:\n",
       "<span style=\"color: #008080; text-decoration-color: #008080; font-weight: bold\">38</span><span style=\"font-weight: bold\">}</span> | Score: <span style=\"color: #008080; text-decoration-color: #008080; font-weight: bold\">0.6744359731674194</span>                                                                                    \n",
       "</pre>\n"
      ]
     },
     "metadata": {},
     "output_type": "display_data"
    },
    {
     "data": {
      "text/plain": [
       "\u001B[1;36m2024\u001B[0m-\u001B[1;36m05\u001B[0m-\u001B[1;36m21\u001B[0m \u001B[1;92m19:18:39\u001B[0m,\u001B[1;36m603\u001B[0m - \u001B[1m{\u001B[0mpytorch_tabular.tabular_model_tuner:\u001B[1;36m364\u001B[0m\u001B[1m}\u001B[0m - INFO - Trial \u001B[1;36m40\u001B[0m/\u001B[1;36m54\u001B[0m:                          \n",
       "\u001B[1m{\u001B[0m\u001B[32m'model_config.head_config__dropout'\u001B[0m: \u001B[1;36m0.3\u001B[0m, \u001B[32m'model_config__layers'\u001B[0m: \u001B[32m'1024-512-512'\u001B[0m, \u001B[32m'optimizer_config__optimizer'\u001B[0m:  \n",
       "\u001B[32m'AdamW'\u001B[0m, \u001B[32m'trainer_config__batch_size'\u001B[0m: \u001B[1;36m1024\u001B[0m, \u001B[32m'loss'\u001B[0m: \u001B[1;36m0.8623287677764893\u001B[0m, \u001B[32m'accuracy'\u001B[0m: \u001B[1;36m0.6925145387649536\u001B[0m,           \n",
       "\u001B[32m'trial_id'\u001B[0m: \u001B[1;36m39\u001B[0m\u001B[1m}\u001B[0m | Score: \u001B[1;36m0.6925145387649536\u001B[0m                                                                        \n"
      ],
      "text/html": [
       "<pre style=\"white-space:pre;overflow-x:auto;line-height:normal;font-family:Menlo,'DejaVu Sans Mono',consolas,'Courier New',monospace\"><span style=\"color: #008080; text-decoration-color: #008080; font-weight: bold\">2024</span>-<span style=\"color: #008080; text-decoration-color: #008080; font-weight: bold\">05</span>-<span style=\"color: #008080; text-decoration-color: #008080; font-weight: bold\">21</span> <span style=\"color: #00ff00; text-decoration-color: #00ff00; font-weight: bold\">19:18:39</span>,<span style=\"color: #008080; text-decoration-color: #008080; font-weight: bold\">603</span> - <span style=\"font-weight: bold\">{</span>pytorch_tabular.tabular_model_tuner:<span style=\"color: #008080; text-decoration-color: #008080; font-weight: bold\">364</span><span style=\"font-weight: bold\">}</span> - INFO - Trial <span style=\"color: #008080; text-decoration-color: #008080; font-weight: bold\">40</span>/<span style=\"color: #008080; text-decoration-color: #008080; font-weight: bold\">54</span>:                          \n",
       "<span style=\"font-weight: bold\">{</span><span style=\"color: #008000; text-decoration-color: #008000\">'model_config.head_config__dropout'</span>: <span style=\"color: #008080; text-decoration-color: #008080; font-weight: bold\">0.3</span>, <span style=\"color: #008000; text-decoration-color: #008000\">'model_config__layers'</span>: <span style=\"color: #008000; text-decoration-color: #008000\">'1024-512-512'</span>, <span style=\"color: #008000; text-decoration-color: #008000\">'optimizer_config__optimizer'</span>:  \n",
       "<span style=\"color: #008000; text-decoration-color: #008000\">'AdamW'</span>, <span style=\"color: #008000; text-decoration-color: #008000\">'trainer_config__batch_size'</span>: <span style=\"color: #008080; text-decoration-color: #008080; font-weight: bold\">1024</span>, <span style=\"color: #008000; text-decoration-color: #008000\">'loss'</span>: <span style=\"color: #008080; text-decoration-color: #008080; font-weight: bold\">0.8623287677764893</span>, <span style=\"color: #008000; text-decoration-color: #008000\">'accuracy'</span>: <span style=\"color: #008080; text-decoration-color: #008080; font-weight: bold\">0.6925145387649536</span>,           \n",
       "<span style=\"color: #008000; text-decoration-color: #008000\">'trial_id'</span>: <span style=\"color: #008080; text-decoration-color: #008080; font-weight: bold\">39</span><span style=\"font-weight: bold\">}</span> | Score: <span style=\"color: #008080; text-decoration-color: #008080; font-weight: bold\">0.6925145387649536</span>                                                                        \n",
       "</pre>\n"
      ]
     },
     "metadata": {},
     "output_type": "display_data"
    },
    {
     "data": {
      "text/plain": [
       "\u001B[1;36m2024\u001B[0m-\u001B[1;36m05\u001B[0m-\u001B[1;36m21\u001B[0m \u001B[1;92m19:19:26\u001B[0m,\u001B[1;36m705\u001B[0m - \u001B[1m{\u001B[0mpytorch_tabular.tabular_model_tuner:\u001B[1;36m364\u001B[0m\u001B[1m}\u001B[0m - INFO - Trial \u001B[1;36m41\u001B[0m/\u001B[1;36m54\u001B[0m:                          \n",
       "\u001B[1m{\u001B[0m\u001B[32m'model_config.head_config__dropout'\u001B[0m: \u001B[1;36m0.3\u001B[0m, \u001B[32m'model_config__layers'\u001B[0m: \u001B[32m'1024-512-512'\u001B[0m, \u001B[32m'optimizer_config__optimizer'\u001B[0m:  \n",
       "\u001B[32m'AdamW'\u001B[0m, \u001B[32m'trainer_config__batch_size'\u001B[0m: \u001B[1;36m2048\u001B[0m, \u001B[32m'loss'\u001B[0m: \u001B[1;36m0.8573150038719177\u001B[0m, \u001B[32m'accuracy'\u001B[0m: \u001B[1;36m0.6907216310501099\u001B[0m,           \n",
       "\u001B[32m'trial_id'\u001B[0m: \u001B[1;36m40\u001B[0m\u001B[1m}\u001B[0m | Score: \u001B[1;36m0.6907216310501099\u001B[0m                                                                        \n"
      ],
      "text/html": [
       "<pre style=\"white-space:pre;overflow-x:auto;line-height:normal;font-family:Menlo,'DejaVu Sans Mono',consolas,'Courier New',monospace\"><span style=\"color: #008080; text-decoration-color: #008080; font-weight: bold\">2024</span>-<span style=\"color: #008080; text-decoration-color: #008080; font-weight: bold\">05</span>-<span style=\"color: #008080; text-decoration-color: #008080; font-weight: bold\">21</span> <span style=\"color: #00ff00; text-decoration-color: #00ff00; font-weight: bold\">19:19:26</span>,<span style=\"color: #008080; text-decoration-color: #008080; font-weight: bold\">705</span> - <span style=\"font-weight: bold\">{</span>pytorch_tabular.tabular_model_tuner:<span style=\"color: #008080; text-decoration-color: #008080; font-weight: bold\">364</span><span style=\"font-weight: bold\">}</span> - INFO - Trial <span style=\"color: #008080; text-decoration-color: #008080; font-weight: bold\">41</span>/<span style=\"color: #008080; text-decoration-color: #008080; font-weight: bold\">54</span>:                          \n",
       "<span style=\"font-weight: bold\">{</span><span style=\"color: #008000; text-decoration-color: #008000\">'model_config.head_config__dropout'</span>: <span style=\"color: #008080; text-decoration-color: #008080; font-weight: bold\">0.3</span>, <span style=\"color: #008000; text-decoration-color: #008000\">'model_config__layers'</span>: <span style=\"color: #008000; text-decoration-color: #008000\">'1024-512-512'</span>, <span style=\"color: #008000; text-decoration-color: #008000\">'optimizer_config__optimizer'</span>:  \n",
       "<span style=\"color: #008000; text-decoration-color: #008000\">'AdamW'</span>, <span style=\"color: #008000; text-decoration-color: #008000\">'trainer_config__batch_size'</span>: <span style=\"color: #008080; text-decoration-color: #008080; font-weight: bold\">2048</span>, <span style=\"color: #008000; text-decoration-color: #008000\">'loss'</span>: <span style=\"color: #008080; text-decoration-color: #008080; font-weight: bold\">0.8573150038719177</span>, <span style=\"color: #008000; text-decoration-color: #008000\">'accuracy'</span>: <span style=\"color: #008080; text-decoration-color: #008080; font-weight: bold\">0.6907216310501099</span>,           \n",
       "<span style=\"color: #008000; text-decoration-color: #008000\">'trial_id'</span>: <span style=\"color: #008080; text-decoration-color: #008080; font-weight: bold\">40</span><span style=\"font-weight: bold\">}</span> | Score: <span style=\"color: #008080; text-decoration-color: #008080; font-weight: bold\">0.6907216310501099</span>                                                                        \n",
       "</pre>\n"
      ]
     },
     "metadata": {},
     "output_type": "display_data"
    },
    {
     "data": {
      "text/plain": [
       "\u001B[1;36m2024\u001B[0m-\u001B[1;36m05\u001B[0m-\u001B[1;36m21\u001B[0m \u001B[1;92m19:20:00\u001B[0m,\u001B[1;36m972\u001B[0m - \u001B[1m{\u001B[0mpytorch_tabular.tabular_model_tuner:\u001B[1;36m364\u001B[0m\u001B[1m}\u001B[0m - INFO - Trial \u001B[1;36m42\u001B[0m/\u001B[1;36m54\u001B[0m:                          \n",
       "\u001B[1m{\u001B[0m\u001B[32m'model_config.head_config__dropout'\u001B[0m: \u001B[1;36m0.3\u001B[0m, \u001B[32m'model_config__layers'\u001B[0m: \u001B[32m'1024-512-512'\u001B[0m, \u001B[32m'optimizer_config__optimizer'\u001B[0m:  \n",
       "\u001B[32m'AdamW'\u001B[0m, \u001B[32m'trainer_config__batch_size'\u001B[0m: \u001B[1;36m4096\u001B[0m, \u001B[32m'loss'\u001B[0m: \u001B[1;36m0.8416909575462341\u001B[0m, \u001B[32m'accuracy'\u001B[0m: \u001B[1;36m0.695203959941864\u001B[0m, \u001B[32m'trial_id'\u001B[0m:\n",
       "\u001B[1;36m41\u001B[0m\u001B[1m}\u001B[0m | Score: \u001B[1;36m0.695203959941864\u001B[0m                                                                                     \n"
      ],
      "text/html": [
       "<pre style=\"white-space:pre;overflow-x:auto;line-height:normal;font-family:Menlo,'DejaVu Sans Mono',consolas,'Courier New',monospace\"><span style=\"color: #008080; text-decoration-color: #008080; font-weight: bold\">2024</span>-<span style=\"color: #008080; text-decoration-color: #008080; font-weight: bold\">05</span>-<span style=\"color: #008080; text-decoration-color: #008080; font-weight: bold\">21</span> <span style=\"color: #00ff00; text-decoration-color: #00ff00; font-weight: bold\">19:20:00</span>,<span style=\"color: #008080; text-decoration-color: #008080; font-weight: bold\">972</span> - <span style=\"font-weight: bold\">{</span>pytorch_tabular.tabular_model_tuner:<span style=\"color: #008080; text-decoration-color: #008080; font-weight: bold\">364</span><span style=\"font-weight: bold\">}</span> - INFO - Trial <span style=\"color: #008080; text-decoration-color: #008080; font-weight: bold\">42</span>/<span style=\"color: #008080; text-decoration-color: #008080; font-weight: bold\">54</span>:                          \n",
       "<span style=\"font-weight: bold\">{</span><span style=\"color: #008000; text-decoration-color: #008000\">'model_config.head_config__dropout'</span>: <span style=\"color: #008080; text-decoration-color: #008080; font-weight: bold\">0.3</span>, <span style=\"color: #008000; text-decoration-color: #008000\">'model_config__layers'</span>: <span style=\"color: #008000; text-decoration-color: #008000\">'1024-512-512'</span>, <span style=\"color: #008000; text-decoration-color: #008000\">'optimizer_config__optimizer'</span>:  \n",
       "<span style=\"color: #008000; text-decoration-color: #008000\">'AdamW'</span>, <span style=\"color: #008000; text-decoration-color: #008000\">'trainer_config__batch_size'</span>: <span style=\"color: #008080; text-decoration-color: #008080; font-weight: bold\">4096</span>, <span style=\"color: #008000; text-decoration-color: #008000\">'loss'</span>: <span style=\"color: #008080; text-decoration-color: #008080; font-weight: bold\">0.8416909575462341</span>, <span style=\"color: #008000; text-decoration-color: #008000\">'accuracy'</span>: <span style=\"color: #008080; text-decoration-color: #008080; font-weight: bold\">0.695203959941864</span>, <span style=\"color: #008000; text-decoration-color: #008000\">'trial_id'</span>:\n",
       "<span style=\"color: #008080; text-decoration-color: #008080; font-weight: bold\">41</span><span style=\"font-weight: bold\">}</span> | Score: <span style=\"color: #008080; text-decoration-color: #008080; font-weight: bold\">0.695203959941864</span>                                                                                     \n",
       "</pre>\n"
      ]
     },
     "metadata": {},
     "output_type": "display_data"
    },
    {
     "data": {
      "text/plain": [
       "\u001B[1;36m2024\u001B[0m-\u001B[1;36m05\u001B[0m-\u001B[1;36m21\u001B[0m \u001B[1;92m19:20:32\u001B[0m,\u001B[1;36m110\u001B[0m - \u001B[1m{\u001B[0mpytorch_tabular.tabular_model_tuner:\u001B[1;36m364\u001B[0m\u001B[1m}\u001B[0m - INFO - Trial \u001B[1;36m43\u001B[0m/\u001B[1;36m54\u001B[0m:                          \n",
       "\u001B[1m{\u001B[0m\u001B[32m'model_config.head_config__dropout'\u001B[0m: \u001B[1;36m0.3\u001B[0m, \u001B[32m'model_config__layers'\u001B[0m: \u001B[32m'1024-512-256'\u001B[0m, \u001B[32m'optimizer_config__optimizer'\u001B[0m:  \n",
       "\u001B[32m'RAdam'\u001B[0m, \u001B[32m'trainer_config__batch_size'\u001B[0m: \u001B[1;36m1024\u001B[0m, \u001B[32m'loss'\u001B[0m: \u001B[1;36m0.8361175656318665\u001B[0m, \u001B[32m'accuracy'\u001B[0m: \u001B[1;36m0.6792171001434326\u001B[0m,           \n",
       "\u001B[32m'trial_id'\u001B[0m: \u001B[1;36m42\u001B[0m\u001B[1m}\u001B[0m | Score: \u001B[1;36m0.6792171001434326\u001B[0m                                                                        \n"
      ],
      "text/html": [
       "<pre style=\"white-space:pre;overflow-x:auto;line-height:normal;font-family:Menlo,'DejaVu Sans Mono',consolas,'Courier New',monospace\"><span style=\"color: #008080; text-decoration-color: #008080; font-weight: bold\">2024</span>-<span style=\"color: #008080; text-decoration-color: #008080; font-weight: bold\">05</span>-<span style=\"color: #008080; text-decoration-color: #008080; font-weight: bold\">21</span> <span style=\"color: #00ff00; text-decoration-color: #00ff00; font-weight: bold\">19:20:32</span>,<span style=\"color: #008080; text-decoration-color: #008080; font-weight: bold\">110</span> - <span style=\"font-weight: bold\">{</span>pytorch_tabular.tabular_model_tuner:<span style=\"color: #008080; text-decoration-color: #008080; font-weight: bold\">364</span><span style=\"font-weight: bold\">}</span> - INFO - Trial <span style=\"color: #008080; text-decoration-color: #008080; font-weight: bold\">43</span>/<span style=\"color: #008080; text-decoration-color: #008080; font-weight: bold\">54</span>:                          \n",
       "<span style=\"font-weight: bold\">{</span><span style=\"color: #008000; text-decoration-color: #008000\">'model_config.head_config__dropout'</span>: <span style=\"color: #008080; text-decoration-color: #008080; font-weight: bold\">0.3</span>, <span style=\"color: #008000; text-decoration-color: #008000\">'model_config__layers'</span>: <span style=\"color: #008000; text-decoration-color: #008000\">'1024-512-256'</span>, <span style=\"color: #008000; text-decoration-color: #008000\">'optimizer_config__optimizer'</span>:  \n",
       "<span style=\"color: #008000; text-decoration-color: #008000\">'RAdam'</span>, <span style=\"color: #008000; text-decoration-color: #008000\">'trainer_config__batch_size'</span>: <span style=\"color: #008080; text-decoration-color: #008080; font-weight: bold\">1024</span>, <span style=\"color: #008000; text-decoration-color: #008000\">'loss'</span>: <span style=\"color: #008080; text-decoration-color: #008080; font-weight: bold\">0.8361175656318665</span>, <span style=\"color: #008000; text-decoration-color: #008000\">'accuracy'</span>: <span style=\"color: #008080; text-decoration-color: #008080; font-weight: bold\">0.6792171001434326</span>,           \n",
       "<span style=\"color: #008000; text-decoration-color: #008000\">'trial_id'</span>: <span style=\"color: #008080; text-decoration-color: #008080; font-weight: bold\">42</span><span style=\"font-weight: bold\">}</span> | Score: <span style=\"color: #008080; text-decoration-color: #008080; font-weight: bold\">0.6792171001434326</span>                                                                        \n",
       "</pre>\n"
      ]
     },
     "metadata": {},
     "output_type": "display_data"
    },
    {
     "data": {
      "text/plain": [
       "\u001B[1;36m2024\u001B[0m-\u001B[1;36m05\u001B[0m-\u001B[1;36m21\u001B[0m \u001B[1;92m19:21:19\u001B[0m,\u001B[1;36m414\u001B[0m - \u001B[1m{\u001B[0mpytorch_tabular.tabular_model_tuner:\u001B[1;36m364\u001B[0m\u001B[1m}\u001B[0m - INFO - Trial \u001B[1;36m44\u001B[0m/\u001B[1;36m54\u001B[0m:                          \n",
       "\u001B[1m{\u001B[0m\u001B[32m'model_config.head_config__dropout'\u001B[0m: \u001B[1;36m0.3\u001B[0m, \u001B[32m'model_config__layers'\u001B[0m: \u001B[32m'1024-512-256'\u001B[0m, \u001B[32m'optimizer_config__optimizer'\u001B[0m:  \n",
       "\u001B[32m'RAdam'\u001B[0m, \u001B[32m'trainer_config__batch_size'\u001B[0m: \u001B[1;36m2048\u001B[0m, \u001B[32m'loss'\u001B[0m: \u001B[1;36m0.8603554964065552\u001B[0m, \u001B[32m'accuracy'\u001B[0m: \u001B[1;36m0.6796653270721436\u001B[0m,           \n",
       "\u001B[32m'trial_id'\u001B[0m: \u001B[1;36m43\u001B[0m\u001B[1m}\u001B[0m | Score: \u001B[1;36m0.6796653270721436\u001B[0m                                                                        \n"
      ],
      "text/html": [
       "<pre style=\"white-space:pre;overflow-x:auto;line-height:normal;font-family:Menlo,'DejaVu Sans Mono',consolas,'Courier New',monospace\"><span style=\"color: #008080; text-decoration-color: #008080; font-weight: bold\">2024</span>-<span style=\"color: #008080; text-decoration-color: #008080; font-weight: bold\">05</span>-<span style=\"color: #008080; text-decoration-color: #008080; font-weight: bold\">21</span> <span style=\"color: #00ff00; text-decoration-color: #00ff00; font-weight: bold\">19:21:19</span>,<span style=\"color: #008080; text-decoration-color: #008080; font-weight: bold\">414</span> - <span style=\"font-weight: bold\">{</span>pytorch_tabular.tabular_model_tuner:<span style=\"color: #008080; text-decoration-color: #008080; font-weight: bold\">364</span><span style=\"font-weight: bold\">}</span> - INFO - Trial <span style=\"color: #008080; text-decoration-color: #008080; font-weight: bold\">44</span>/<span style=\"color: #008080; text-decoration-color: #008080; font-weight: bold\">54</span>:                          \n",
       "<span style=\"font-weight: bold\">{</span><span style=\"color: #008000; text-decoration-color: #008000\">'model_config.head_config__dropout'</span>: <span style=\"color: #008080; text-decoration-color: #008080; font-weight: bold\">0.3</span>, <span style=\"color: #008000; text-decoration-color: #008000\">'model_config__layers'</span>: <span style=\"color: #008000; text-decoration-color: #008000\">'1024-512-256'</span>, <span style=\"color: #008000; text-decoration-color: #008000\">'optimizer_config__optimizer'</span>:  \n",
       "<span style=\"color: #008000; text-decoration-color: #008000\">'RAdam'</span>, <span style=\"color: #008000; text-decoration-color: #008000\">'trainer_config__batch_size'</span>: <span style=\"color: #008080; text-decoration-color: #008080; font-weight: bold\">2048</span>, <span style=\"color: #008000; text-decoration-color: #008000\">'loss'</span>: <span style=\"color: #008080; text-decoration-color: #008080; font-weight: bold\">0.8603554964065552</span>, <span style=\"color: #008000; text-decoration-color: #008000\">'accuracy'</span>: <span style=\"color: #008080; text-decoration-color: #008080; font-weight: bold\">0.6796653270721436</span>,           \n",
       "<span style=\"color: #008000; text-decoration-color: #008000\">'trial_id'</span>: <span style=\"color: #008080; text-decoration-color: #008080; font-weight: bold\">43</span><span style=\"font-weight: bold\">}</span> | Score: <span style=\"color: #008080; text-decoration-color: #008080; font-weight: bold\">0.6796653270721436</span>                                                                        \n",
       "</pre>\n"
      ]
     },
     "metadata": {},
     "output_type": "display_data"
    },
    {
     "data": {
      "text/plain": [
       "\u001B[1;36m2024\u001B[0m-\u001B[1;36m05\u001B[0m-\u001B[1;36m21\u001B[0m \u001B[1;92m19:21:58\u001B[0m,\u001B[1;36m056\u001B[0m - \u001B[1m{\u001B[0mpytorch_tabular.tabular_model_tuner:\u001B[1;36m364\u001B[0m\u001B[1m}\u001B[0m - INFO - Trial \u001B[1;36m45\u001B[0m/\u001B[1;36m54\u001B[0m:                          \n",
       "\u001B[1m{\u001B[0m\u001B[32m'model_config.head_config__dropout'\u001B[0m: \u001B[1;36m0.3\u001B[0m, \u001B[32m'model_config__layers'\u001B[0m: \u001B[32m'1024-512-256'\u001B[0m, \u001B[32m'optimizer_config__optimizer'\u001B[0m:  \n",
       "\u001B[32m'RAdam'\u001B[0m, \u001B[32m'trainer_config__batch_size'\u001B[0m: \u001B[1;36m4096\u001B[0m, \u001B[32m'loss'\u001B[0m: \u001B[1;36m0.8546037077903748\u001B[0m, \u001B[32m'accuracy'\u001B[0m: \u001B[1;36m0.67070072889328\u001B[0m, \u001B[32m'trial_id'\u001B[0m: \n",
       "\u001B[1;36m44\u001B[0m\u001B[1m}\u001B[0m | Score: \u001B[1;36m0.67070072889328\u001B[0m                                                                                      \n"
      ],
      "text/html": [
       "<pre style=\"white-space:pre;overflow-x:auto;line-height:normal;font-family:Menlo,'DejaVu Sans Mono',consolas,'Courier New',monospace\"><span style=\"color: #008080; text-decoration-color: #008080; font-weight: bold\">2024</span>-<span style=\"color: #008080; text-decoration-color: #008080; font-weight: bold\">05</span>-<span style=\"color: #008080; text-decoration-color: #008080; font-weight: bold\">21</span> <span style=\"color: #00ff00; text-decoration-color: #00ff00; font-weight: bold\">19:21:58</span>,<span style=\"color: #008080; text-decoration-color: #008080; font-weight: bold\">056</span> - <span style=\"font-weight: bold\">{</span>pytorch_tabular.tabular_model_tuner:<span style=\"color: #008080; text-decoration-color: #008080; font-weight: bold\">364</span><span style=\"font-weight: bold\">}</span> - INFO - Trial <span style=\"color: #008080; text-decoration-color: #008080; font-weight: bold\">45</span>/<span style=\"color: #008080; text-decoration-color: #008080; font-weight: bold\">54</span>:                          \n",
       "<span style=\"font-weight: bold\">{</span><span style=\"color: #008000; text-decoration-color: #008000\">'model_config.head_config__dropout'</span>: <span style=\"color: #008080; text-decoration-color: #008080; font-weight: bold\">0.3</span>, <span style=\"color: #008000; text-decoration-color: #008000\">'model_config__layers'</span>: <span style=\"color: #008000; text-decoration-color: #008000\">'1024-512-256'</span>, <span style=\"color: #008000; text-decoration-color: #008000\">'optimizer_config__optimizer'</span>:  \n",
       "<span style=\"color: #008000; text-decoration-color: #008000\">'RAdam'</span>, <span style=\"color: #008000; text-decoration-color: #008000\">'trainer_config__batch_size'</span>: <span style=\"color: #008080; text-decoration-color: #008080; font-weight: bold\">4096</span>, <span style=\"color: #008000; text-decoration-color: #008000\">'loss'</span>: <span style=\"color: #008080; text-decoration-color: #008080; font-weight: bold\">0.8546037077903748</span>, <span style=\"color: #008000; text-decoration-color: #008000\">'accuracy'</span>: <span style=\"color: #008080; text-decoration-color: #008080; font-weight: bold\">0.67070072889328</span>, <span style=\"color: #008000; text-decoration-color: #008000\">'trial_id'</span>: \n",
       "<span style=\"color: #008080; text-decoration-color: #008080; font-weight: bold\">44</span><span style=\"font-weight: bold\">}</span> | Score: <span style=\"color: #008080; text-decoration-color: #008080; font-weight: bold\">0.67070072889328</span>                                                                                      \n",
       "</pre>\n"
      ]
     },
     "metadata": {},
     "output_type": "display_data"
    },
    {
     "data": {
      "text/plain": [
       "\u001B[1;36m2024\u001B[0m-\u001B[1;36m05\u001B[0m-\u001B[1;36m21\u001B[0m \u001B[1;92m19:22:53\u001B[0m,\u001B[1;36m179\u001B[0m - \u001B[1m{\u001B[0mpytorch_tabular.tabular_model_tuner:\u001B[1;36m364\u001B[0m\u001B[1m}\u001B[0m - INFO - Trial \u001B[1;36m46\u001B[0m/\u001B[1;36m54\u001B[0m:                          \n",
       "\u001B[1m{\u001B[0m\u001B[32m'model_config.head_config__dropout'\u001B[0m: \u001B[1;36m0.3\u001B[0m, \u001B[32m'model_config__layers'\u001B[0m: \u001B[32m'1024-512-256'\u001B[0m, \u001B[32m'optimizer_config__optimizer'\u001B[0m:  \n",
       "\u001B[32m'AdamW'\u001B[0m, \u001B[32m'trainer_config__batch_size'\u001B[0m: \u001B[1;36m1024\u001B[0m, \u001B[32m'loss'\u001B[0m: \u001B[1;36m0.8425486087799072\u001B[0m, \u001B[32m'accuracy'\u001B[0m: \u001B[1;36m0.7005826830863953\u001B[0m,           \n",
       "\u001B[32m'trial_id'\u001B[0m: \u001B[1;36m45\u001B[0m\u001B[1m}\u001B[0m | Score: \u001B[1;36m0.7005826830863953\u001B[0m                                                                        \n"
      ],
      "text/html": [
       "<pre style=\"white-space:pre;overflow-x:auto;line-height:normal;font-family:Menlo,'DejaVu Sans Mono',consolas,'Courier New',monospace\"><span style=\"color: #008080; text-decoration-color: #008080; font-weight: bold\">2024</span>-<span style=\"color: #008080; text-decoration-color: #008080; font-weight: bold\">05</span>-<span style=\"color: #008080; text-decoration-color: #008080; font-weight: bold\">21</span> <span style=\"color: #00ff00; text-decoration-color: #00ff00; font-weight: bold\">19:22:53</span>,<span style=\"color: #008080; text-decoration-color: #008080; font-weight: bold\">179</span> - <span style=\"font-weight: bold\">{</span>pytorch_tabular.tabular_model_tuner:<span style=\"color: #008080; text-decoration-color: #008080; font-weight: bold\">364</span><span style=\"font-weight: bold\">}</span> - INFO - Trial <span style=\"color: #008080; text-decoration-color: #008080; font-weight: bold\">46</span>/<span style=\"color: #008080; text-decoration-color: #008080; font-weight: bold\">54</span>:                          \n",
       "<span style=\"font-weight: bold\">{</span><span style=\"color: #008000; text-decoration-color: #008000\">'model_config.head_config__dropout'</span>: <span style=\"color: #008080; text-decoration-color: #008080; font-weight: bold\">0.3</span>, <span style=\"color: #008000; text-decoration-color: #008000\">'model_config__layers'</span>: <span style=\"color: #008000; text-decoration-color: #008000\">'1024-512-256'</span>, <span style=\"color: #008000; text-decoration-color: #008000\">'optimizer_config__optimizer'</span>:  \n",
       "<span style=\"color: #008000; text-decoration-color: #008000\">'AdamW'</span>, <span style=\"color: #008000; text-decoration-color: #008000\">'trainer_config__batch_size'</span>: <span style=\"color: #008080; text-decoration-color: #008080; font-weight: bold\">1024</span>, <span style=\"color: #008000; text-decoration-color: #008000\">'loss'</span>: <span style=\"color: #008080; text-decoration-color: #008080; font-weight: bold\">0.8425486087799072</span>, <span style=\"color: #008000; text-decoration-color: #008000\">'accuracy'</span>: <span style=\"color: #008080; text-decoration-color: #008080; font-weight: bold\">0.7005826830863953</span>,           \n",
       "<span style=\"color: #008000; text-decoration-color: #008000\">'trial_id'</span>: <span style=\"color: #008080; text-decoration-color: #008080; font-weight: bold\">45</span><span style=\"font-weight: bold\">}</span> | Score: <span style=\"color: #008080; text-decoration-color: #008080; font-weight: bold\">0.7005826830863953</span>                                                                        \n",
       "</pre>\n"
      ]
     },
     "metadata": {},
     "output_type": "display_data"
    },
    {
     "data": {
      "text/plain": [
       "\u001B[1;36m2024\u001B[0m-\u001B[1;36m05\u001B[0m-\u001B[1;36m21\u001B[0m \u001B[1;92m19:23:37\u001B[0m,\u001B[1;36m774\u001B[0m - \u001B[1m{\u001B[0mpytorch_tabular.tabular_model_tuner:\u001B[1;36m364\u001B[0m\u001B[1m}\u001B[0m - INFO - Trial \u001B[1;36m47\u001B[0m/\u001B[1;36m54\u001B[0m:                          \n",
       "\u001B[1m{\u001B[0m\u001B[32m'model_config.head_config__dropout'\u001B[0m: \u001B[1;36m0.3\u001B[0m, \u001B[32m'model_config__layers'\u001B[0m: \u001B[32m'1024-512-256'\u001B[0m, \u001B[32m'optimizer_config__optimizer'\u001B[0m:  \n",
       "\u001B[32m'AdamW'\u001B[0m, \u001B[32m'trainer_config__batch_size'\u001B[0m: \u001B[1;36m2048\u001B[0m, \u001B[32m'loss'\u001B[0m: \u001B[1;36m0.8444181084632874\u001B[0m, \u001B[32m'accuracy'\u001B[0m: \u001B[1;36m0.6804123520851135\u001B[0m,           \n",
       "\u001B[32m'trial_id'\u001B[0m: \u001B[1;36m46\u001B[0m\u001B[1m}\u001B[0m | Score: \u001B[1;36m0.6804123520851135\u001B[0m                                                                        \n"
      ],
      "text/html": [
       "<pre style=\"white-space:pre;overflow-x:auto;line-height:normal;font-family:Menlo,'DejaVu Sans Mono',consolas,'Courier New',monospace\"><span style=\"color: #008080; text-decoration-color: #008080; font-weight: bold\">2024</span>-<span style=\"color: #008080; text-decoration-color: #008080; font-weight: bold\">05</span>-<span style=\"color: #008080; text-decoration-color: #008080; font-weight: bold\">21</span> <span style=\"color: #00ff00; text-decoration-color: #00ff00; font-weight: bold\">19:23:37</span>,<span style=\"color: #008080; text-decoration-color: #008080; font-weight: bold\">774</span> - <span style=\"font-weight: bold\">{</span>pytorch_tabular.tabular_model_tuner:<span style=\"color: #008080; text-decoration-color: #008080; font-weight: bold\">364</span><span style=\"font-weight: bold\">}</span> - INFO - Trial <span style=\"color: #008080; text-decoration-color: #008080; font-weight: bold\">47</span>/<span style=\"color: #008080; text-decoration-color: #008080; font-weight: bold\">54</span>:                          \n",
       "<span style=\"font-weight: bold\">{</span><span style=\"color: #008000; text-decoration-color: #008000\">'model_config.head_config__dropout'</span>: <span style=\"color: #008080; text-decoration-color: #008080; font-weight: bold\">0.3</span>, <span style=\"color: #008000; text-decoration-color: #008000\">'model_config__layers'</span>: <span style=\"color: #008000; text-decoration-color: #008000\">'1024-512-256'</span>, <span style=\"color: #008000; text-decoration-color: #008000\">'optimizer_config__optimizer'</span>:  \n",
       "<span style=\"color: #008000; text-decoration-color: #008000\">'AdamW'</span>, <span style=\"color: #008000; text-decoration-color: #008000\">'trainer_config__batch_size'</span>: <span style=\"color: #008080; text-decoration-color: #008080; font-weight: bold\">2048</span>, <span style=\"color: #008000; text-decoration-color: #008000\">'loss'</span>: <span style=\"color: #008080; text-decoration-color: #008080; font-weight: bold\">0.8444181084632874</span>, <span style=\"color: #008000; text-decoration-color: #008000\">'accuracy'</span>: <span style=\"color: #008080; text-decoration-color: #008080; font-weight: bold\">0.6804123520851135</span>,           \n",
       "<span style=\"color: #008000; text-decoration-color: #008000\">'trial_id'</span>: <span style=\"color: #008080; text-decoration-color: #008080; font-weight: bold\">46</span><span style=\"font-weight: bold\">}</span> | Score: <span style=\"color: #008080; text-decoration-color: #008080; font-weight: bold\">0.6804123520851135</span>                                                                        \n",
       "</pre>\n"
      ]
     },
     "metadata": {},
     "output_type": "display_data"
    },
    {
     "data": {
      "text/plain": [
       "\u001B[1;36m2024\u001B[0m-\u001B[1;36m05\u001B[0m-\u001B[1;36m21\u001B[0m \u001B[1;92m19:24:23\u001B[0m,\u001B[1;36m512\u001B[0m - \u001B[1m{\u001B[0mpytorch_tabular.tabular_model_tuner:\u001B[1;36m364\u001B[0m\u001B[1m}\u001B[0m - INFO - Trial \u001B[1;36m48\u001B[0m/\u001B[1;36m54\u001B[0m:                          \n",
       "\u001B[1m{\u001B[0m\u001B[32m'model_config.head_config__dropout'\u001B[0m: \u001B[1;36m0.3\u001B[0m, \u001B[32m'model_config__layers'\u001B[0m: \u001B[32m'1024-512-256'\u001B[0m, \u001B[32m'optimizer_config__optimizer'\u001B[0m:  \n",
       "\u001B[32m'AdamW'\u001B[0m, \u001B[32m'trainer_config__batch_size'\u001B[0m: \u001B[1;36m4096\u001B[0m, \u001B[32m'loss'\u001B[0m: \u001B[1;36m0.836211085319519\u001B[0m, \u001B[32m'accuracy'\u001B[0m: \u001B[1;36m0.6937098503112793\u001B[0m, \u001B[32m'trial_id'\u001B[0m:\n",
       "\u001B[1;36m47\u001B[0m\u001B[1m}\u001B[0m | Score: \u001B[1;36m0.6937098503112793\u001B[0m                                                                                    \n"
      ],
      "text/html": [
       "<pre style=\"white-space:pre;overflow-x:auto;line-height:normal;font-family:Menlo,'DejaVu Sans Mono',consolas,'Courier New',monospace\"><span style=\"color: #008080; text-decoration-color: #008080; font-weight: bold\">2024</span>-<span style=\"color: #008080; text-decoration-color: #008080; font-weight: bold\">05</span>-<span style=\"color: #008080; text-decoration-color: #008080; font-weight: bold\">21</span> <span style=\"color: #00ff00; text-decoration-color: #00ff00; font-weight: bold\">19:24:23</span>,<span style=\"color: #008080; text-decoration-color: #008080; font-weight: bold\">512</span> - <span style=\"font-weight: bold\">{</span>pytorch_tabular.tabular_model_tuner:<span style=\"color: #008080; text-decoration-color: #008080; font-weight: bold\">364</span><span style=\"font-weight: bold\">}</span> - INFO - Trial <span style=\"color: #008080; text-decoration-color: #008080; font-weight: bold\">48</span>/<span style=\"color: #008080; text-decoration-color: #008080; font-weight: bold\">54</span>:                          \n",
       "<span style=\"font-weight: bold\">{</span><span style=\"color: #008000; text-decoration-color: #008000\">'model_config.head_config__dropout'</span>: <span style=\"color: #008080; text-decoration-color: #008080; font-weight: bold\">0.3</span>, <span style=\"color: #008000; text-decoration-color: #008000\">'model_config__layers'</span>: <span style=\"color: #008000; text-decoration-color: #008000\">'1024-512-256'</span>, <span style=\"color: #008000; text-decoration-color: #008000\">'optimizer_config__optimizer'</span>:  \n",
       "<span style=\"color: #008000; text-decoration-color: #008000\">'AdamW'</span>, <span style=\"color: #008000; text-decoration-color: #008000\">'trainer_config__batch_size'</span>: <span style=\"color: #008080; text-decoration-color: #008080; font-weight: bold\">4096</span>, <span style=\"color: #008000; text-decoration-color: #008000\">'loss'</span>: <span style=\"color: #008080; text-decoration-color: #008080; font-weight: bold\">0.836211085319519</span>, <span style=\"color: #008000; text-decoration-color: #008000\">'accuracy'</span>: <span style=\"color: #008080; text-decoration-color: #008080; font-weight: bold\">0.6937098503112793</span>, <span style=\"color: #008000; text-decoration-color: #008000\">'trial_id'</span>:\n",
       "<span style=\"color: #008080; text-decoration-color: #008080; font-weight: bold\">47</span><span style=\"font-weight: bold\">}</span> | Score: <span style=\"color: #008080; text-decoration-color: #008080; font-weight: bold\">0.6937098503112793</span>                                                                                    \n",
       "</pre>\n"
      ]
     },
     "metadata": {},
     "output_type": "display_data"
    },
    {
     "data": {
      "text/plain": [
       "\u001B[1;36m2024\u001B[0m-\u001B[1;36m05\u001B[0m-\u001B[1;36m21\u001B[0m \u001B[1;92m19:24:58\u001B[0m,\u001B[1;36m826\u001B[0m - \u001B[1m{\u001B[0mpytorch_tabular.tabular_model_tuner:\u001B[1;36m364\u001B[0m\u001B[1m}\u001B[0m - INFO - Trial \u001B[1;36m49\u001B[0m/\u001B[1;36m54\u001B[0m:                          \n",
       "\u001B[1m{\u001B[0m\u001B[32m'model_config.head_config__dropout'\u001B[0m: \u001B[1;36m0.3\u001B[0m, \u001B[32m'model_config__layers'\u001B[0m: \u001B[32m'1024-512-128'\u001B[0m, \u001B[32m'optimizer_config__optimizer'\u001B[0m:  \n",
       "\u001B[32m'RAdam'\u001B[0m, \u001B[32m'trainer_config__batch_size'\u001B[0m: \u001B[1;36m1024\u001B[0m, \u001B[32m'loss'\u001B[0m: \u001B[1;36m0.8267409205436707\u001B[0m, \u001B[32m'accuracy'\u001B[0m: \u001B[1;36m0.6799641251564026\u001B[0m,           \n",
       "\u001B[32m'trial_id'\u001B[0m: \u001B[1;36m48\u001B[0m\u001B[1m}\u001B[0m | Score: \u001B[1;36m0.6799641251564026\u001B[0m                                                                        \n"
      ],
      "text/html": [
       "<pre style=\"white-space:pre;overflow-x:auto;line-height:normal;font-family:Menlo,'DejaVu Sans Mono',consolas,'Courier New',monospace\"><span style=\"color: #008080; text-decoration-color: #008080; font-weight: bold\">2024</span>-<span style=\"color: #008080; text-decoration-color: #008080; font-weight: bold\">05</span>-<span style=\"color: #008080; text-decoration-color: #008080; font-weight: bold\">21</span> <span style=\"color: #00ff00; text-decoration-color: #00ff00; font-weight: bold\">19:24:58</span>,<span style=\"color: #008080; text-decoration-color: #008080; font-weight: bold\">826</span> - <span style=\"font-weight: bold\">{</span>pytorch_tabular.tabular_model_tuner:<span style=\"color: #008080; text-decoration-color: #008080; font-weight: bold\">364</span><span style=\"font-weight: bold\">}</span> - INFO - Trial <span style=\"color: #008080; text-decoration-color: #008080; font-weight: bold\">49</span>/<span style=\"color: #008080; text-decoration-color: #008080; font-weight: bold\">54</span>:                          \n",
       "<span style=\"font-weight: bold\">{</span><span style=\"color: #008000; text-decoration-color: #008000\">'model_config.head_config__dropout'</span>: <span style=\"color: #008080; text-decoration-color: #008080; font-weight: bold\">0.3</span>, <span style=\"color: #008000; text-decoration-color: #008000\">'model_config__layers'</span>: <span style=\"color: #008000; text-decoration-color: #008000\">'1024-512-128'</span>, <span style=\"color: #008000; text-decoration-color: #008000\">'optimizer_config__optimizer'</span>:  \n",
       "<span style=\"color: #008000; text-decoration-color: #008000\">'RAdam'</span>, <span style=\"color: #008000; text-decoration-color: #008000\">'trainer_config__batch_size'</span>: <span style=\"color: #008080; text-decoration-color: #008080; font-weight: bold\">1024</span>, <span style=\"color: #008000; text-decoration-color: #008000\">'loss'</span>: <span style=\"color: #008080; text-decoration-color: #008080; font-weight: bold\">0.8267409205436707</span>, <span style=\"color: #008000; text-decoration-color: #008000\">'accuracy'</span>: <span style=\"color: #008080; text-decoration-color: #008080; font-weight: bold\">0.6799641251564026</span>,           \n",
       "<span style=\"color: #008000; text-decoration-color: #008000\">'trial_id'</span>: <span style=\"color: #008080; text-decoration-color: #008080; font-weight: bold\">48</span><span style=\"font-weight: bold\">}</span> | Score: <span style=\"color: #008080; text-decoration-color: #008080; font-weight: bold\">0.6799641251564026</span>                                                                        \n",
       "</pre>\n"
      ]
     },
     "metadata": {},
     "output_type": "display_data"
    },
    {
     "data": {
      "text/plain": [
       "\u001B[1;36m2024\u001B[0m-\u001B[1;36m05\u001B[0m-\u001B[1;36m21\u001B[0m \u001B[1;92m19:25:42\u001B[0m,\u001B[1;36m357\u001B[0m - \u001B[1m{\u001B[0mpytorch_tabular.tabular_model_tuner:\u001B[1;36m364\u001B[0m\u001B[1m}\u001B[0m - INFO - Trial \u001B[1;36m50\u001B[0m/\u001B[1;36m54\u001B[0m:                          \n",
       "\u001B[1m{\u001B[0m\u001B[32m'model_config.head_config__dropout'\u001B[0m: \u001B[1;36m0.3\u001B[0m, \u001B[32m'model_config__layers'\u001B[0m: \u001B[32m'1024-512-128'\u001B[0m, \u001B[32m'optimizer_config__optimizer'\u001B[0m:  \n",
       "\u001B[32m'RAdam'\u001B[0m, \u001B[32m'trainer_config__batch_size'\u001B[0m: \u001B[1;36m2048\u001B[0m, \u001B[32m'loss'\u001B[0m: \u001B[1;36m0.8613739609718323\u001B[0m, \u001B[32m'accuracy'\u001B[0m: \u001B[1;36m0.6899746060371399\u001B[0m,           \n",
       "\u001B[32m'trial_id'\u001B[0m: \u001B[1;36m49\u001B[0m\u001B[1m}\u001B[0m | Score: \u001B[1;36m0.6899746060371399\u001B[0m                                                                        \n"
      ],
      "text/html": [
       "<pre style=\"white-space:pre;overflow-x:auto;line-height:normal;font-family:Menlo,'DejaVu Sans Mono',consolas,'Courier New',monospace\"><span style=\"color: #008080; text-decoration-color: #008080; font-weight: bold\">2024</span>-<span style=\"color: #008080; text-decoration-color: #008080; font-weight: bold\">05</span>-<span style=\"color: #008080; text-decoration-color: #008080; font-weight: bold\">21</span> <span style=\"color: #00ff00; text-decoration-color: #00ff00; font-weight: bold\">19:25:42</span>,<span style=\"color: #008080; text-decoration-color: #008080; font-weight: bold\">357</span> - <span style=\"font-weight: bold\">{</span>pytorch_tabular.tabular_model_tuner:<span style=\"color: #008080; text-decoration-color: #008080; font-weight: bold\">364</span><span style=\"font-weight: bold\">}</span> - INFO - Trial <span style=\"color: #008080; text-decoration-color: #008080; font-weight: bold\">50</span>/<span style=\"color: #008080; text-decoration-color: #008080; font-weight: bold\">54</span>:                          \n",
       "<span style=\"font-weight: bold\">{</span><span style=\"color: #008000; text-decoration-color: #008000\">'model_config.head_config__dropout'</span>: <span style=\"color: #008080; text-decoration-color: #008080; font-weight: bold\">0.3</span>, <span style=\"color: #008000; text-decoration-color: #008000\">'model_config__layers'</span>: <span style=\"color: #008000; text-decoration-color: #008000\">'1024-512-128'</span>, <span style=\"color: #008000; text-decoration-color: #008000\">'optimizer_config__optimizer'</span>:  \n",
       "<span style=\"color: #008000; text-decoration-color: #008000\">'RAdam'</span>, <span style=\"color: #008000; text-decoration-color: #008000\">'trainer_config__batch_size'</span>: <span style=\"color: #008080; text-decoration-color: #008080; font-weight: bold\">2048</span>, <span style=\"color: #008000; text-decoration-color: #008000\">'loss'</span>: <span style=\"color: #008080; text-decoration-color: #008080; font-weight: bold\">0.8613739609718323</span>, <span style=\"color: #008000; text-decoration-color: #008000\">'accuracy'</span>: <span style=\"color: #008080; text-decoration-color: #008080; font-weight: bold\">0.6899746060371399</span>,           \n",
       "<span style=\"color: #008000; text-decoration-color: #008000\">'trial_id'</span>: <span style=\"color: #008080; text-decoration-color: #008080; font-weight: bold\">49</span><span style=\"font-weight: bold\">}</span> | Score: <span style=\"color: #008080; text-decoration-color: #008080; font-weight: bold\">0.6899746060371399</span>                                                                        \n",
       "</pre>\n"
      ]
     },
     "metadata": {},
     "output_type": "display_data"
    },
    {
     "data": {
      "text/plain": [
       "\u001B[1;36m2024\u001B[0m-\u001B[1;36m05\u001B[0m-\u001B[1;36m21\u001B[0m \u001B[1;92m19:26:19\u001B[0m,\u001B[1;36m021\u001B[0m - \u001B[1m{\u001B[0mpytorch_tabular.tabular_model_tuner:\u001B[1;36m364\u001B[0m\u001B[1m}\u001B[0m - INFO - Trial \u001B[1;36m51\u001B[0m/\u001B[1;36m54\u001B[0m:                          \n",
       "\u001B[1m{\u001B[0m\u001B[32m'model_config.head_config__dropout'\u001B[0m: \u001B[1;36m0.3\u001B[0m, \u001B[32m'model_config__layers'\u001B[0m: \u001B[32m'1024-512-128'\u001B[0m, \u001B[32m'optimizer_config__optimizer'\u001B[0m:  \n",
       "\u001B[32m'RAdam'\u001B[0m, \u001B[32m'trainer_config__batch_size'\u001B[0m: \u001B[1;36m4096\u001B[0m, \u001B[32m'loss'\u001B[0m: \u001B[1;36m0.8549463152885437\u001B[0m, \u001B[32m'accuracy'\u001B[0m: \u001B[1;36m0.677573561668396\u001B[0m, \u001B[32m'trial_id'\u001B[0m:\n",
       "\u001B[1;36m50\u001B[0m\u001B[1m}\u001B[0m | Score: \u001B[1;36m0.677573561668396\u001B[0m                                                                                     \n"
      ],
      "text/html": [
       "<pre style=\"white-space:pre;overflow-x:auto;line-height:normal;font-family:Menlo,'DejaVu Sans Mono',consolas,'Courier New',monospace\"><span style=\"color: #008080; text-decoration-color: #008080; font-weight: bold\">2024</span>-<span style=\"color: #008080; text-decoration-color: #008080; font-weight: bold\">05</span>-<span style=\"color: #008080; text-decoration-color: #008080; font-weight: bold\">21</span> <span style=\"color: #00ff00; text-decoration-color: #00ff00; font-weight: bold\">19:26:19</span>,<span style=\"color: #008080; text-decoration-color: #008080; font-weight: bold\">021</span> - <span style=\"font-weight: bold\">{</span>pytorch_tabular.tabular_model_tuner:<span style=\"color: #008080; text-decoration-color: #008080; font-weight: bold\">364</span><span style=\"font-weight: bold\">}</span> - INFO - Trial <span style=\"color: #008080; text-decoration-color: #008080; font-weight: bold\">51</span>/<span style=\"color: #008080; text-decoration-color: #008080; font-weight: bold\">54</span>:                          \n",
       "<span style=\"font-weight: bold\">{</span><span style=\"color: #008000; text-decoration-color: #008000\">'model_config.head_config__dropout'</span>: <span style=\"color: #008080; text-decoration-color: #008080; font-weight: bold\">0.3</span>, <span style=\"color: #008000; text-decoration-color: #008000\">'model_config__layers'</span>: <span style=\"color: #008000; text-decoration-color: #008000\">'1024-512-128'</span>, <span style=\"color: #008000; text-decoration-color: #008000\">'optimizer_config__optimizer'</span>:  \n",
       "<span style=\"color: #008000; text-decoration-color: #008000\">'RAdam'</span>, <span style=\"color: #008000; text-decoration-color: #008000\">'trainer_config__batch_size'</span>: <span style=\"color: #008080; text-decoration-color: #008080; font-weight: bold\">4096</span>, <span style=\"color: #008000; text-decoration-color: #008000\">'loss'</span>: <span style=\"color: #008080; text-decoration-color: #008080; font-weight: bold\">0.8549463152885437</span>, <span style=\"color: #008000; text-decoration-color: #008000\">'accuracy'</span>: <span style=\"color: #008080; text-decoration-color: #008080; font-weight: bold\">0.677573561668396</span>, <span style=\"color: #008000; text-decoration-color: #008000\">'trial_id'</span>:\n",
       "<span style=\"color: #008080; text-decoration-color: #008080; font-weight: bold\">50</span><span style=\"font-weight: bold\">}</span> | Score: <span style=\"color: #008080; text-decoration-color: #008080; font-weight: bold\">0.677573561668396</span>                                                                                     \n",
       "</pre>\n"
      ]
     },
     "metadata": {},
     "output_type": "display_data"
    },
    {
     "data": {
      "text/plain": [
       "\u001B[1;36m2024\u001B[0m-\u001B[1;36m05\u001B[0m-\u001B[1;36m21\u001B[0m \u001B[1;92m19:27:01\u001B[0m,\u001B[1;36m154\u001B[0m - \u001B[1m{\u001B[0mpytorch_tabular.tabular_model_tuner:\u001B[1;36m364\u001B[0m\u001B[1m}\u001B[0m - INFO - Trial \u001B[1;36m52\u001B[0m/\u001B[1;36m54\u001B[0m:                          \n",
       "\u001B[1m{\u001B[0m\u001B[32m'model_config.head_config__dropout'\u001B[0m: \u001B[1;36m0.3\u001B[0m, \u001B[32m'model_config__layers'\u001B[0m: \u001B[32m'1024-512-128'\u001B[0m, \u001B[32m'optimizer_config__optimizer'\u001B[0m:  \n",
       "\u001B[32m'AdamW'\u001B[0m, \u001B[32m'trainer_config__batch_size'\u001B[0m: \u001B[1;36m1024\u001B[0m, \u001B[32m'loss'\u001B[0m: \u001B[1;36m0.8435057401657104\u001B[0m, \u001B[32m'accuracy'\u001B[0m: \u001B[1;36m0.6839982271194458\u001B[0m,           \n",
       "\u001B[32m'trial_id'\u001B[0m: \u001B[1;36m51\u001B[0m\u001B[1m}\u001B[0m | Score: \u001B[1;36m0.6839982271194458\u001B[0m                                                                        \n"
      ],
      "text/html": [
       "<pre style=\"white-space:pre;overflow-x:auto;line-height:normal;font-family:Menlo,'DejaVu Sans Mono',consolas,'Courier New',monospace\"><span style=\"color: #008080; text-decoration-color: #008080; font-weight: bold\">2024</span>-<span style=\"color: #008080; text-decoration-color: #008080; font-weight: bold\">05</span>-<span style=\"color: #008080; text-decoration-color: #008080; font-weight: bold\">21</span> <span style=\"color: #00ff00; text-decoration-color: #00ff00; font-weight: bold\">19:27:01</span>,<span style=\"color: #008080; text-decoration-color: #008080; font-weight: bold\">154</span> - <span style=\"font-weight: bold\">{</span>pytorch_tabular.tabular_model_tuner:<span style=\"color: #008080; text-decoration-color: #008080; font-weight: bold\">364</span><span style=\"font-weight: bold\">}</span> - INFO - Trial <span style=\"color: #008080; text-decoration-color: #008080; font-weight: bold\">52</span>/<span style=\"color: #008080; text-decoration-color: #008080; font-weight: bold\">54</span>:                          \n",
       "<span style=\"font-weight: bold\">{</span><span style=\"color: #008000; text-decoration-color: #008000\">'model_config.head_config__dropout'</span>: <span style=\"color: #008080; text-decoration-color: #008080; font-weight: bold\">0.3</span>, <span style=\"color: #008000; text-decoration-color: #008000\">'model_config__layers'</span>: <span style=\"color: #008000; text-decoration-color: #008000\">'1024-512-128'</span>, <span style=\"color: #008000; text-decoration-color: #008000\">'optimizer_config__optimizer'</span>:  \n",
       "<span style=\"color: #008000; text-decoration-color: #008000\">'AdamW'</span>, <span style=\"color: #008000; text-decoration-color: #008000\">'trainer_config__batch_size'</span>: <span style=\"color: #008080; text-decoration-color: #008080; font-weight: bold\">1024</span>, <span style=\"color: #008000; text-decoration-color: #008000\">'loss'</span>: <span style=\"color: #008080; text-decoration-color: #008080; font-weight: bold\">0.8435057401657104</span>, <span style=\"color: #008000; text-decoration-color: #008000\">'accuracy'</span>: <span style=\"color: #008080; text-decoration-color: #008080; font-weight: bold\">0.6839982271194458</span>,           \n",
       "<span style=\"color: #008000; text-decoration-color: #008000\">'trial_id'</span>: <span style=\"color: #008080; text-decoration-color: #008080; font-weight: bold\">51</span><span style=\"font-weight: bold\">}</span> | Score: <span style=\"color: #008080; text-decoration-color: #008080; font-weight: bold\">0.6839982271194458</span>                                                                        \n",
       "</pre>\n"
      ]
     },
     "metadata": {},
     "output_type": "display_data"
    },
    {
     "data": {
      "text/plain": [
       "\u001B[1;36m2024\u001B[0m-\u001B[1;36m05\u001B[0m-\u001B[1;36m21\u001B[0m \u001B[1;92m19:27:53\u001B[0m,\u001B[1;36m291\u001B[0m - \u001B[1m{\u001B[0mpytorch_tabular.tabular_model_tuner:\u001B[1;36m364\u001B[0m\u001B[1m}\u001B[0m - INFO - Trial \u001B[1;36m53\u001B[0m/\u001B[1;36m54\u001B[0m:                          \n",
       "\u001B[1m{\u001B[0m\u001B[32m'model_config.head_config__dropout'\u001B[0m: \u001B[1;36m0.3\u001B[0m, \u001B[32m'model_config__layers'\u001B[0m: \u001B[32m'1024-512-128'\u001B[0m, \u001B[32m'optimizer_config__optimizer'\u001B[0m:  \n",
       "\u001B[32m'AdamW'\u001B[0m, \u001B[32m'trainer_config__batch_size'\u001B[0m: \u001B[1;36m2048\u001B[0m, \u001B[32m'loss'\u001B[0m: \u001B[1;36m0.8763486742973328\u001B[0m, \u001B[32m'accuracy'\u001B[0m: \u001B[1;36m0.6777229905128479\u001B[0m,           \n",
       "\u001B[32m'trial_id'\u001B[0m: \u001B[1;36m52\u001B[0m\u001B[1m}\u001B[0m | Score: \u001B[1;36m0.6777229905128479\u001B[0m                                                                        \n"
      ],
      "text/html": [
       "<pre style=\"white-space:pre;overflow-x:auto;line-height:normal;font-family:Menlo,'DejaVu Sans Mono',consolas,'Courier New',monospace\"><span style=\"color: #008080; text-decoration-color: #008080; font-weight: bold\">2024</span>-<span style=\"color: #008080; text-decoration-color: #008080; font-weight: bold\">05</span>-<span style=\"color: #008080; text-decoration-color: #008080; font-weight: bold\">21</span> <span style=\"color: #00ff00; text-decoration-color: #00ff00; font-weight: bold\">19:27:53</span>,<span style=\"color: #008080; text-decoration-color: #008080; font-weight: bold\">291</span> - <span style=\"font-weight: bold\">{</span>pytorch_tabular.tabular_model_tuner:<span style=\"color: #008080; text-decoration-color: #008080; font-weight: bold\">364</span><span style=\"font-weight: bold\">}</span> - INFO - Trial <span style=\"color: #008080; text-decoration-color: #008080; font-weight: bold\">53</span>/<span style=\"color: #008080; text-decoration-color: #008080; font-weight: bold\">54</span>:                          \n",
       "<span style=\"font-weight: bold\">{</span><span style=\"color: #008000; text-decoration-color: #008000\">'model_config.head_config__dropout'</span>: <span style=\"color: #008080; text-decoration-color: #008080; font-weight: bold\">0.3</span>, <span style=\"color: #008000; text-decoration-color: #008000\">'model_config__layers'</span>: <span style=\"color: #008000; text-decoration-color: #008000\">'1024-512-128'</span>, <span style=\"color: #008000; text-decoration-color: #008000\">'optimizer_config__optimizer'</span>:  \n",
       "<span style=\"color: #008000; text-decoration-color: #008000\">'AdamW'</span>, <span style=\"color: #008000; text-decoration-color: #008000\">'trainer_config__batch_size'</span>: <span style=\"color: #008080; text-decoration-color: #008080; font-weight: bold\">2048</span>, <span style=\"color: #008000; text-decoration-color: #008000\">'loss'</span>: <span style=\"color: #008080; text-decoration-color: #008080; font-weight: bold\">0.8763486742973328</span>, <span style=\"color: #008000; text-decoration-color: #008000\">'accuracy'</span>: <span style=\"color: #008080; text-decoration-color: #008080; font-weight: bold\">0.6777229905128479</span>,           \n",
       "<span style=\"color: #008000; text-decoration-color: #008000\">'trial_id'</span>: <span style=\"color: #008080; text-decoration-color: #008080; font-weight: bold\">52</span><span style=\"font-weight: bold\">}</span> | Score: <span style=\"color: #008080; text-decoration-color: #008080; font-weight: bold\">0.6777229905128479</span>                                                                        \n",
       "</pre>\n"
      ]
     },
     "metadata": {},
     "output_type": "display_data"
    },
    {
     "data": {
      "text/plain": [
       "\u001B[1;36m2024\u001B[0m-\u001B[1;36m05\u001B[0m-\u001B[1;36m21\u001B[0m \u001B[1;92m19:28:32\u001B[0m,\u001B[1;36m374\u001B[0m - \u001B[1m{\u001B[0mpytorch_tabular.tabular_model_tuner:\u001B[1;36m364\u001B[0m\u001B[1m}\u001B[0m - INFO - Trial \u001B[1;36m54\u001B[0m/\u001B[1;36m54\u001B[0m:                          \n",
       "\u001B[1m{\u001B[0m\u001B[32m'model_config.head_config__dropout'\u001B[0m: \u001B[1;36m0.3\u001B[0m, \u001B[32m'model_config__layers'\u001B[0m: \u001B[32m'1024-512-128'\u001B[0m, \u001B[32m'optimizer_config__optimizer'\u001B[0m:  \n",
       "\u001B[32m'AdamW'\u001B[0m, \u001B[32m'trainer_config__batch_size'\u001B[0m: \u001B[1;36m4096\u001B[0m, \u001B[32m'loss'\u001B[0m: \u001B[1;36m0.8277810215950012\u001B[0m, \u001B[32m'accuracy'\u001B[0m: \u001B[1;36m0.6871358156204224\u001B[0m,           \n",
       "\u001B[32m'trial_id'\u001B[0m: \u001B[1;36m53\u001B[0m\u001B[1m}\u001B[0m | Score: \u001B[1;36m0.6871358156204224\u001B[0m                                                                        \n"
      ],
      "text/html": [
       "<pre style=\"white-space:pre;overflow-x:auto;line-height:normal;font-family:Menlo,'DejaVu Sans Mono',consolas,'Courier New',monospace\"><span style=\"color: #008080; text-decoration-color: #008080; font-weight: bold\">2024</span>-<span style=\"color: #008080; text-decoration-color: #008080; font-weight: bold\">05</span>-<span style=\"color: #008080; text-decoration-color: #008080; font-weight: bold\">21</span> <span style=\"color: #00ff00; text-decoration-color: #00ff00; font-weight: bold\">19:28:32</span>,<span style=\"color: #008080; text-decoration-color: #008080; font-weight: bold\">374</span> - <span style=\"font-weight: bold\">{</span>pytorch_tabular.tabular_model_tuner:<span style=\"color: #008080; text-decoration-color: #008080; font-weight: bold\">364</span><span style=\"font-weight: bold\">}</span> - INFO - Trial <span style=\"color: #008080; text-decoration-color: #008080; font-weight: bold\">54</span>/<span style=\"color: #008080; text-decoration-color: #008080; font-weight: bold\">54</span>:                          \n",
       "<span style=\"font-weight: bold\">{</span><span style=\"color: #008000; text-decoration-color: #008000\">'model_config.head_config__dropout'</span>: <span style=\"color: #008080; text-decoration-color: #008080; font-weight: bold\">0.3</span>, <span style=\"color: #008000; text-decoration-color: #008000\">'model_config__layers'</span>: <span style=\"color: #008000; text-decoration-color: #008000\">'1024-512-128'</span>, <span style=\"color: #008000; text-decoration-color: #008000\">'optimizer_config__optimizer'</span>:  \n",
       "<span style=\"color: #008000; text-decoration-color: #008000\">'AdamW'</span>, <span style=\"color: #008000; text-decoration-color: #008000\">'trainer_config__batch_size'</span>: <span style=\"color: #008080; text-decoration-color: #008080; font-weight: bold\">4096</span>, <span style=\"color: #008000; text-decoration-color: #008000\">'loss'</span>: <span style=\"color: #008080; text-decoration-color: #008080; font-weight: bold\">0.8277810215950012</span>, <span style=\"color: #008000; text-decoration-color: #008000\">'accuracy'</span>: <span style=\"color: #008080; text-decoration-color: #008080; font-weight: bold\">0.6871358156204224</span>,           \n",
       "<span style=\"color: #008000; text-decoration-color: #008000\">'trial_id'</span>: <span style=\"color: #008080; text-decoration-color: #008080; font-weight: bold\">53</span><span style=\"font-weight: bold\">}</span> | Score: <span style=\"color: #008080; text-decoration-color: #008080; font-weight: bold\">0.6871358156204224</span>                                                                        \n",
       "</pre>\n"
      ]
     },
     "metadata": {},
     "output_type": "display_data"
    },
    {
     "data": {
      "text/plain": [],
      "text/html": [
       "<pre style=\"white-space:pre;overflow-x:auto;line-height:normal;font-family:Menlo,'DejaVu Sans Mono',consolas,'Courier New',monospace\"></pre>\n"
      ]
     },
     "metadata": {},
     "output_type": "display_data"
    },
    {
     "data": {
      "text/plain": [
       "\n"
      ],
      "text/html": [
       "<pre style=\"white-space:pre;overflow-x:auto;line-height:normal;font-family:Menlo,'DejaVu Sans Mono',consolas,'Courier New',monospace\">\n",
       "</pre>\n"
      ]
     },
     "metadata": {},
     "output_type": "display_data"
    },
    {
     "data": {
      "text/plain": [
       "\u001B[1;36m2024\u001B[0m-\u001B[1;36m05\u001B[0m-\u001B[1;36m21\u001B[0m \u001B[1;92m19:28:32\u001B[0m,\u001B[1;36m394\u001B[0m - \u001B[1m{\u001B[0mpytorch_tabular.tabular_model_tuner:\u001B[1;36m378\u001B[0m\u001B[1m}\u001B[0m - INFO - Model Tuner Finished                  \n"
      ],
      "text/html": [
       "<pre style=\"white-space:pre;overflow-x:auto;line-height:normal;font-family:Menlo,'DejaVu Sans Mono',consolas,'Courier New',monospace\"><span style=\"color: #008080; text-decoration-color: #008080; font-weight: bold\">2024</span>-<span style=\"color: #008080; text-decoration-color: #008080; font-weight: bold\">05</span>-<span style=\"color: #008080; text-decoration-color: #008080; font-weight: bold\">21</span> <span style=\"color: #00ff00; text-decoration-color: #00ff00; font-weight: bold\">19:28:32</span>,<span style=\"color: #008080; text-decoration-color: #008080; font-weight: bold\">394</span> - <span style=\"font-weight: bold\">{</span>pytorch_tabular.tabular_model_tuner:<span style=\"color: #008080; text-decoration-color: #008080; font-weight: bold\">378</span><span style=\"font-weight: bold\">}</span> - INFO - Model Tuner Finished                  \n",
       "</pre>\n"
      ]
     },
     "metadata": {},
     "output_type": "display_data"
    },
    {
     "data": {
      "text/plain": [
       "\u001B[1;36m2024\u001B[0m-\u001B[1;36m05\u001B[0m-\u001B[1;36m21\u001B[0m \u001B[1;92m19:28:32\u001B[0m,\u001B[1;36m397\u001B[0m - \u001B[1m{\u001B[0mpytorch_tabular.tabular_model_tuner:\u001B[1;36m379\u001B[0m\u001B[1m}\u001B[0m - INFO - Best Score \u001B[1m(\u001B[0maccuracy\u001B[1m)\u001B[0m:                \n",
       "\u001B[1;36m0.7005826830863953\u001B[0m                                                                                                 \n"
      ],
      "text/html": [
       "<pre style=\"white-space:pre;overflow-x:auto;line-height:normal;font-family:Menlo,'DejaVu Sans Mono',consolas,'Courier New',monospace\"><span style=\"color: #008080; text-decoration-color: #008080; font-weight: bold\">2024</span>-<span style=\"color: #008080; text-decoration-color: #008080; font-weight: bold\">05</span>-<span style=\"color: #008080; text-decoration-color: #008080; font-weight: bold\">21</span> <span style=\"color: #00ff00; text-decoration-color: #00ff00; font-weight: bold\">19:28:32</span>,<span style=\"color: #008080; text-decoration-color: #008080; font-weight: bold\">397</span> - <span style=\"font-weight: bold\">{</span>pytorch_tabular.tabular_model_tuner:<span style=\"color: #008080; text-decoration-color: #008080; font-weight: bold\">379</span><span style=\"font-weight: bold\">}</span> - INFO - Best Score <span style=\"font-weight: bold\">(</span>accuracy<span style=\"font-weight: bold\">)</span>:                \n",
       "<span style=\"color: #008080; text-decoration-color: #008080; font-weight: bold\">0.7005826830863953</span>                                                                                                 \n",
       "</pre>\n"
      ]
     },
     "metadata": {},
     "output_type": "display_data"
    }
   ],
   "execution_count": 8
  },
  {
   "metadata": {
    "ExecuteTime": {
     "end_time": "2024-05-21T17:28:34.850282Z",
     "start_time": "2024-05-21T17:28:32.406477Z"
    }
   },
   "cell_type": "code",
   "source": [
    "pred_df_test = tabular_model.predict(test)\n",
    "pred_df_val = tabular_model.predict(val)\n",
    "pred_df_train = tabular_model.predict(train)\n",
    "\n",
    "pred_df_train"
   ],
   "id": "7721e1dc6a056724",
   "outputs": [
    {
     "ename": "NameError",
     "evalue": "name 'tabular_model' is not defined",
     "output_type": "error",
     "traceback": [
      "\u001B[0;31m---------------------------------------------------------------------------\u001B[0m",
      "\u001B[0;31mNameError\u001B[0m                                 Traceback (most recent call last)",
      "Cell \u001B[0;32mIn[9], line 1\u001B[0m\n\u001B[0;32m----> 1\u001B[0m pred_df_test \u001B[38;5;241m=\u001B[39m \u001B[43mtabular_model\u001B[49m\u001B[38;5;241m.\u001B[39mpredict(test)\n\u001B[1;32m      2\u001B[0m pred_df_val \u001B[38;5;241m=\u001B[39m tabular_model\u001B[38;5;241m.\u001B[39mpredict(val)\n\u001B[1;32m      3\u001B[0m pred_df_train \u001B[38;5;241m=\u001B[39m tabular_model\u001B[38;5;241m.\u001B[39mpredict(train)\n",
      "\u001B[0;31mNameError\u001B[0m: name 'tabular_model' is not defined"
     ]
    }
   ],
   "execution_count": 9
  },
  {
   "metadata": {},
   "cell_type": "code",
   "source": [
    "from sklearn.metrics import accuracy_score, balanced_accuracy_score\n",
    "\n",
    "print(\"Train Acc\", accuracy_score(train[\"4095\"], pred_df_train[\"prediction\"]))\n",
    "print(\"Train Balanced Acc\", balanced_accuracy_score(train[\"4095\"], pred_df_train[\"prediction\"]))\n",
    "print(\"Val Acc\", accuracy_score(val[\"4095\"], pred_df_val[\"prediction\"]))\n",
    "print(\"Val Balanced Acc\", balanced_accuracy_score(val[\"4095\"], pred_df_val[\"prediction\"]))\n",
    "print(\"Test Acc\", accuracy_score(test[\"4095\"], pred_df_test[\"prediction\"]))\n",
    "print(\"Balanced Test Acc\", balanced_accuracy_score(test[\"4095\"], pred_df_test[\"prediction\"]))"
   ],
   "id": "816dfbd0833cdde1",
   "outputs": [],
   "execution_count": null
  },
  {
   "metadata": {},
   "cell_type": "code",
   "source": "",
   "id": "51b0447f2888a81e",
   "outputs": [],
   "execution_count": null
  }
 ],
 "metadata": {
  "kernelspec": {
   "display_name": "Python 3",
   "language": "python",
   "name": "python3"
  },
  "language_info": {
   "codemirror_mode": {
    "name": "ipython",
    "version": 2
   },
   "file_extension": ".py",
   "mimetype": "text/x-python",
   "name": "python",
   "nbconvert_exporter": "python",
   "pygments_lexer": "ipython2",
   "version": "2.7.6"
  }
 },
 "nbformat": 4,
 "nbformat_minor": 5
}
