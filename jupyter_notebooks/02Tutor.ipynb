{
 "cells": [
  {
   "cell_type": "markdown",
   "id": "fc66d1bb-0c5b-4bcb-901e-e323dcd5eddd",
   "metadata": {},
   "source": []
  },
  {
   "cell_type": "markdown",
   "source": [
    "# Example Script of the Tutor\n",
    "\n",
    "Based on the experience of the N-1 Teacher Notebook, one can now train the tutor agent"
   ],
   "metadata": {
    "collapsed": false
   }
  },
  {
   "cell_type": "code",
   "execution_count": 1,
   "outputs": [],
   "source": [
    "import os\n",
    "import logging\n",
    "from pathlib import Path\n",
    "import grid2op\n",
    "from lightsim2grid import LightSimBackend\n",
    "\n",
    "logging.basicConfig(level=logging.INFO)\n",
    "example_path = os.getcwd()"
   ],
   "metadata": {
    "collapsed": false
   }
  },
  {
   "cell_type": "markdown",
   "source": [
    "Again test, whether the environment can be initialized"
   ],
   "metadata": {
    "collapsed": false
   }
  },
  {
   "cell_type": "code",
   "execution_count": 2,
   "id": "b2582e94-8c43-4874-a6a7-e2b94c181c53",
   "metadata": {},
   "outputs": [
    {
     "name": "stderr",
     "output_type": "stream",
     "text": [
      "INFO:pandapower.convert_format:These dtypes could not be corrected: {'trafo': ['tap_min', 'tap_max']}\n",
      "WARNING:pandapower.auxiliary:numba cannot be imported and numba functions are disabled.\n",
      "Probably the execution is slow.\n",
      "Please install numba to gain a massive speedup.\n",
      "(or if you prefer slow execution, set the flag numba=False to avoid this warning!)\n",
      "\n",
      "WARNING:pandapower.auxiliary:numba cannot be imported and numba functions are disabled.\n",
      "Probably the execution is slow.\n",
      "Please install numba to gain a massive speedup.\n",
      "(or if you prefer slow execution, set the flag numba=False to avoid this warning!)\n",
      "\n",
      "C:\\Users\\ddegtyar\\Anaconda3\\envs\\currenv\\lib\\site-packages\\lightsim2grid\\gridmodel\\_aux_add_trafo.py:65: UserWarning: There were some Nan in the pp_net.trafo[\"tap_step_degree\"], they have been replaced by 0\n",
      "  warnings.warn(\"There were some Nan in the pp_net.trafo[\\\"tap_step_degree\\\"], they have been replaced by 0\")\n",
      "C:\\Users\\ddegtyar\\Anaconda3\\envs\\currenv\\lib\\site-packages\\lightsim2grid\\gridmodel\\_aux_add_slack.py:112: UserWarning: We found either some slack coefficient to be < 0. or they were all 0.We set them all to 1.0 to avoid such issues\n",
      "  warnings.warn(\"We found either some slack coefficient to be < 0. or they were all 0.\"\n"
     ]
    }
   ],
   "source": [
    "backend = LightSimBackend()\n",
    "env_path = test_data_path = Path(example_path)/ \"data\" / \"training_data_track1\"\n",
    "env = grid2op.make(env_path, backend=backend)\n",
    "env.set_id(1)\n",
    "env.reset()\n",
    "env.chronics_handler.get_name()\n",
    "obs = env.get_obs()"
   ]
  },
  {
   "cell_type": "markdown",
   "source": [
    "Now we run the general tutor to gather experience for the junior agent. Note, we set the ```num_chronics``` quite low to\n",
    "ensure a faster computation. However, for more experience you need to increase the ```num_chronics``` argument."
   ],
   "metadata": {
    "collapsed": false
   }
  },
  {
   "cell_type": "code",
   "execution_count": 3,
   "id": "4ef324ac-1d54-4f24-94e8-6a0bce40b5d4",
   "metadata": {},
   "outputs": [],
   "source": [
    "from curriculumagent.tutor.tutor import general_tutor"
   ]
  },
  {
   "cell_type": "code",
   "execution_count": 4,
   "outputs": [
    {
     "name": "stderr",
     "output_type": "stream",
     "text": [
      "INFO:pandapower.convert_format:These dtypes could not be corrected: {'trafo': ['tap_min', 'tap_max']}\n",
      "WARNING:pandapower.auxiliary:numba cannot be imported and numba functions are disabled.\n",
      "Probably the execution is slow.\n",
      "Please install numba to gain a massive speedup.\n",
      "(or if you prefer slow execution, set the flag numba=False to avoid this warning!)\n",
      "\n",
      "WARNING:pandapower.auxiliary:numba cannot be imported and numba functions are disabled.\n",
      "Probably the execution is slow.\n",
      "Please install numba to gain a massive speedup.\n",
      "(or if you prefer slow execution, set the flag numba=False to avoid this warning!)\n",
      "\n",
      "WARNING:pandapower.auxiliary:numba cannot be imported and numba functions are disabled.\n",
      "Probably the execution is slow.\n",
      "Please install numba to gain a massive speedup.\n",
      "(or if you prefer slow execution, set the flag numba=False to avoid this warning!)\n",
      "\n",
      "INFO:root:The following 50 tasks will be distributed to a pool of 8 workers:\n",
      "INFO:root:Time: 425.9287576675415s\n",
      "INFO:root:Tutor experience has been saved to C:\\Users\\ddegtyar\\PycharmProjects\\curriculumagent\\jupyter_notebooks\\data\\tutor_experience\\tutor_experience_28062023_164139.npy\n"
     ]
    }
   ],
   "source": [
    "test_data_path = Path(example_path) / \"data\"\n",
    "path1 = test_data_path / \"actionspace_nminus1.npy\"\n",
    "path2 = test_data_path / \"actionspace_tuples.npy\"\n",
    "\n",
    "action_set = [path1, path2]\n",
    "\n",
    "general_tutor(env_name_path=env_path,\n",
    "              save_path=Path(example_path) / \"data\" /\"tutor_experience\",\n",
    "              action_paths=action_set,\n",
    "              num_chronics=50,\n",
    "              seed=42)"
   ],
   "metadata": {
    "collapsed": false
   }
  },
  {
   "cell_type": "markdown",
   "id": "285c604b-7de8-4342-aa4c-fea0b678200f",
   "metadata": {},
   "source": [
    "After gathering the experience of the tutor, we again collect the experience for the junior model"
   ]
  },
  {
   "cell_type": "code",
   "execution_count": 5,
   "id": "5a2e7a37-998c-47b6-873b-b5a3a3e055c5",
   "metadata": {},
   "outputs": [],
   "source": [
    "from curriculumagent.tutor.collect_tutor_experience import prepare_dataset"
   ]
  },
  {
   "cell_type": "code",
   "execution_count": 6,
   "outputs": [
    {
     "name": "stderr",
     "output_type": "stream",
     "text": [
      "INFO:root:Creating final dataset at directory C:\\Users\\ddegtyar\\PycharmProjects\\curriculumagent\\jupyter_notebooks\\data\\junior_experience\n",
      "INFO:root:Merging data...\n",
      "INFO:root:All Experience: (125, 1430)\n",
      "INFO:root:Unique Experience: (4, 1430)\n",
      "INFO:root:Unique Actions: 4\n",
      "INFO:root:Splitting data...\n",
      "INFO:root:TrainSet Size: 3\n",
      "INFO:root:ValidationSet Size: 2\n",
      "INFO:root:TestSet Size: 4\n",
      "INFO:root:Done\n"
     ]
    }
   ],
   "source": [
    "prepare_dataset(traindata_path=Path(example_path) / \"data\" / \"tutor_experience\",\n",
    "                target_path=Path(example_path) /\"data\" / \"junior_experience\",\n",
    "                dataset_name=\"junior_dataset\")"
   ],
   "metadata": {
    "collapsed": false
   }
  },
  {
   "cell_type": "code",
   "execution_count": 6,
   "outputs": [],
   "source": [],
   "metadata": {
    "collapsed": false
   }
  }
 ],
 "metadata": {
  "kernelspec": {
   "display_name": "Python 3 (ipykernel)",
   "language": "python",
   "name": "python3"
  },
  "language_info": {
   "codemirror_mode": {
    "name": "ipython",
    "version": 3
   },
   "file_extension": ".py",
   "mimetype": "text/x-python",
   "name": "python",
   "nbconvert_exporter": "python",
   "pygments_lexer": "ipython3",
   "version": "3.9.7"
  }
 },
 "nbformat": 4,
 "nbformat_minor": 5
}
