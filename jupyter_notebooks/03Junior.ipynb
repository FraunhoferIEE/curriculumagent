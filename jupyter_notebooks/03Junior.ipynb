{
 "cells": [
  {
   "cell_type": "markdown",
   "id": "f16f9a4c-aacc-4a1b-b784-890954bfae1e",
   "metadata": {},
   "source": [
    "# Example of the Junior Notebook\n",
    "\n",
    "In this Notebook, we present to ways to train the junior model. Either, with the simple Junior model or with an\n",
    "advanced model that can be obtained, if some hyper-parameter tuning was conducted"
   ]
  },
  {
   "cell_type": "code",
   "execution_count": 1,
   "id": "529dc95a-8550-48c3-b85c-e4e855532072",
   "metadata": {},
   "source": [
    "import os\n",
    "import logging\n",
    "from pathlib import Path\n",
    "import pickle\n",
    "import json\n",
    "import grid2op\n",
    "import numpy as np\n",
    "from lightsim2grid import LightSimBackend\n",
    "from pathlib import Path\n",
    "import tensorflow as tf\n",
    "\n",
    "logging.basicConfig(level=logging.INFO)\n",
    "example_path = os.getcwd()"
   ],
   "outputs": []
  },
  {
   "cell_type": "markdown",
   "source": [
    "Again check the environment"
   ],
   "metadata": {
    "collapsed": false
   },
   "id": "2483f9c5ac37fcc8"
  },
  {
   "cell_type": "code",
   "execution_count": 2,
   "id": "c9d5a99a-538a-4105-af94-43d29f07e386",
   "metadata": {},
   "source": [
    "backend = LightSimBackend()\n",
    "env_path = test_data_path = Path(example_path)/ \"data\" / \"training_data_track1\"\n",
    "print(env_path)\n",
    "env = grid2op.make(env_path, backend=backend)\n",
    "env.set_id(1)\n",
    "env.reset()\n",
    "env.chronics_handler.get_name()\n",
    "obs = env.get_obs()"
   ],
   "outputs": []
  },
  {
   "cell_type": "markdown",
   "source": [
    "## Simple Junior\n",
    "\n",
    "Let's begin with the simple junior for training"
   ],
   "metadata": {
    "collapsed": false
   },
   "id": "f10b1c50b64facdc"
  },
  {
   "cell_type": "code",
   "execution_count": 3,
   "id": "c2ba0ffc-3e1c-4593-8e04-0ab20cd28fe0",
   "metadata": {},
   "source": [
    "from curriculumagent.junior.junior_student import train, validate"
   ],
   "outputs": []
  },
  {
   "cell_type": "code",
   "execution_count": 4,
   "id": "17ef40a7-6a16-4224-84d7-d42d75c28cbf",
   "metadata": {},
   "source": [
    "test_data_path = Path(example_path) / \"data\"\n",
    "path1 = test_data_path / \"actionspace_nminus1.npy\"\n",
    "path2 = test_data_path / \"actionspace_tuples.npy\"\n",
    "\n",
    "action_set = [path1, path2]\n",
    "model_path = Path(example_path) / \"data\" / \"junior_model\"\n",
    "data_path = Path(example_path) / \"data\" / \"junior_experience\"\n",
    "\n",
    "train(run_name=\"example\",\n",
    "      dataset_path=data_path,\n",
    "      target_model_path=model_path,\n",
    "      action_space_file=action_set,\n",
    "      dataset_name='junior_dataset',\n",
    "      epochs=100, seed=42)"
   ],
   "outputs": []
  },
  {
   "cell_type": "code",
   "execution_count": 5,
   "id": "b2ee464a-e469-4abe-9157-8aeb71d0f126",
   "metadata": {},
   "source": [
    "validate(checkpoint_path=model_path,\n",
    "         dataset_path=data_path,\n",
    "         dataset_name='junior_dataset',\n",
    "         action_space_file=action_set)"
   ],
   "outputs": []
  },
  {
   "cell_type": "markdown",
   "source": [
    "## Advanced Junior\n",
    "\n",
    "The second option is a more advanced junior agent, that has selected hyper-parameters. You can gather these\n",
    "hyperparameters by running a NNI or ```ray.tune``` experiment. The hyper-parameters need then to be supplied via a\n",
    "dictionary. Note that it is also possible to add a scaler, e.g., a ```MinMaxScaler``` to the Junior. We advise for this \\\n",
    "        option, given that neural networks require values around [-1,1].\n",
    "\n",
    "Note, for simplification we only load the best parameters into the Notebook."
   ],
   "metadata": {
    "collapsed": false
   },
   "id": "7a4cae8399e9cc90"
  },
  {
   "cell_type": "code",
   "execution_count": 21,
   "source": [
    "with open(Path(example_path) / \"data\" / 'junior_best_params.json') as json_file:\n",
    "    best_params = json.load(json_file)\n",
    "\n",
    "best_params[\"epochs\"] = 1\n",
    "best_params"
   ],
   "metadata": {
    "collapsed": false
   },
   "id": "7554ae65b5270dd2",
   "outputs": []
  },
  {
   "cell_type": "code",
   "execution_count": 22,
   "source": [
    "from curriculumagent.junior.junior_student import Junior\n",
    "from curriculumagent.junior.junior_student import load_dataset\n",
    "from sklearn.preprocessing import MinMaxScaler"
   ],
   "metadata": {
    "collapsed": false
   },
   "id": "63f6d3cc7b6d7fcc",
   "outputs": []
  },
  {
   "cell_type": "markdown",
   "source": [
    "Due to the fact that we also want to show the application of a scaler, we additionally show the whole pipeline of the   Junior agent. Therefore, we first fit the data with a MinMaxScaler:\n"
   ],
   "metadata": {
    "collapsed": false
   },
   "id": "fe8ec51107e9a765"
  },
  {
   "cell_type": "code",
   "execution_count": 23,
   "source": [
    "s_train, a_train, s_validate, a_validate, _, _ = load_dataset(data_path, \"junior_dataset\")\n",
    "scaler = MinMaxScaler()\n",
    "s_tr_t = scaler.fit_transform(s_train)\n",
    "s_val_t = scaler.transform(s_validate)\n",
    "\n",
    "path1 = test_data_path / \"actionspace_nminus1.npy\"\n",
    "path2 = test_data_path / \"actionspace_tuples.npy\"\n",
    "\n",
    "action_set = [path1, path2]"
   ],
   "metadata": {
    "collapsed": false
   },
   "id": "600c1887c14f52b0",
   "outputs": []
  },
  {
   "cell_type": "code",
   "execution_count": 24,
   "source": [
    "# Pickle the scaler for later\n",
    "with open( Path(example_path) / \"data\" / 'scaler_junior.pkl', \"wb\") as fp:\n",
    "    pickle.dump(scaler, fp)"
   ],
   "metadata": {
    "collapsed": false
   },
   "id": "5455c3590ef7bcd2",
   "outputs": []
  },
  {
   "cell_type": "code",
   "execution_count": 25,
   "source": [
    "junior = Junior(config=best_params,\n",
    "                        # Optimally, you know the number of actions:\n",
    "                        action_space_file=action_set,\n",
    "                        seed=42)\n",
    "junior.model.compile()\n",
    "#junior.model.summary()"
   ],
   "metadata": {
    "collapsed": false
   },
   "id": "b7a4c8a20e6e7867",
   "outputs": []
  },
  {
   "cell_type": "code",
   "execution_count": 26,
   "source": [
    "history = junior.train(log_dir=model_path / \"hyperparam\",\n",
    "                       ckpt_dir=model_path / \"hyperparam\",\n",
    "                       patience=5,\n",
    "                       x_train=s_tr_t, y_train=a_train,\n",
    "                       x_validate=s_val_t, y_validate=a_validate)"
   ],
   "metadata": {
    "collapsed": false
   },
   "id": "1e6a1ef7b8032471",
   "outputs": []
  },
  {
   "cell_type": "code",
   "execution_count": 27,
   "source": [
    "junior.model.save(model_path / \"hyperparam\")"
   ],
   "metadata": {
    "collapsed": false
   },
   "id": "e8335fb6a80c9010",
   "outputs": []
  },
  {
   "cell_type": "code",
   "execution_count": null,
   "source": [],
   "metadata": {
    "collapsed": false
   },
   "id": "ac19d5cbbac043ea",
   "outputs": []
  }
 ],
 "metadata": {
  "kernelspec": {
   "display_name": "Python 3 (ipykernel)",
   "language": "python",
   "name": "python3"
  },
  "language_info": {
   "codemirror_mode": {
    "name": "ipython",
    "version": 3
   },
   "file_extension": ".py",
   "mimetype": "text/x-python",
   "name": "python",
   "nbconvert_exporter": "python",
   "pygments_lexer": "ipython3",
   "version": "3.9.7"
  }
 },
 "nbformat": 4,
 "nbformat_minor": 5
}
