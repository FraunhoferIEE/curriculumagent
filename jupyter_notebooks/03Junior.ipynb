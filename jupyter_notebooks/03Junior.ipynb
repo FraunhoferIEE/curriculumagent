{
 "cells": [
  {
   "cell_type": "markdown",
   "id": "f16f9a4c-aacc-4a1b-b784-890954bfae1e",
   "metadata": {},
   "source": [
    "# Example of the Junior Notebook\n",
    "\n",
    "In this Notebook, we present to ways to train the junior model. Either, with the simple Junior model or with an\n",
    "advanced model that can be obtained, if some hyper-parameter tuning was conducted"
   ]
  },
  {
   "cell_type": "code",
   "execution_count": 1,
   "id": "529dc95a-8550-48c3-b85c-e4e855532072",
   "metadata": {},
   "outputs": [],
   "source": [
    "import os\n",
    "import logging\n",
    "from pathlib import Path\n",
    "import pickle\n",
    "import json\n",
    "import grid2op\n",
    "import numpy as np\n",
    "from lightsim2grid import LightSimBackend\n",
    "from pathlib import Path\n",
    "import tensorflow as tf\n",
    "\n",
    "logging.basicConfig(level=logging.INFO)\n",
    "example_path = os.getcwd()"
   ]
  },
  {
   "cell_type": "markdown",
   "source": [
    "Again check the environment"
   ],
   "metadata": {
    "collapsed": false
   }
  },
  {
   "cell_type": "code",
   "execution_count": 2,
   "id": "c9d5a99a-538a-4105-af94-43d29f07e386",
   "metadata": {},
   "outputs": [
    {
     "name": "stdout",
     "output_type": "stream",
     "text": [
      "C:\\Users\\ddegtyar\\PycharmProjects\\curriculumagent\\jupyter_notebooks\\data\\training_data_track1\n"
     ]
    },
    {
     "name": "stderr",
     "output_type": "stream",
     "text": [
      "INFO:pandapower.convert_format:These dtypes could not be corrected: {'trafo': ['tap_min', 'tap_max']}\n",
      "WARNING:pandapower.auxiliary:numba cannot be imported and numba functions are disabled.\n",
      "Probably the execution is slow.\n",
      "Please install numba to gain a massive speedup.\n",
      "(or if you prefer slow execution, set the flag numba=False to avoid this warning!)\n",
      "\n",
      "WARNING:pandapower.auxiliary:numba cannot be imported and numba functions are disabled.\n",
      "Probably the execution is slow.\n",
      "Please install numba to gain a massive speedup.\n",
      "(or if you prefer slow execution, set the flag numba=False to avoid this warning!)\n",
      "\n",
      "C:\\Users\\ddegtyar\\Anaconda3\\envs\\currenv\\lib\\site-packages\\lightsim2grid\\gridmodel\\_aux_add_trafo.py:65: UserWarning: There were some Nan in the pp_net.trafo[\"tap_step_degree\"], they have been replaced by 0\n",
      "  warnings.warn(\"There were some Nan in the pp_net.trafo[\\\"tap_step_degree\\\"], they have been replaced by 0\")\n",
      "C:\\Users\\ddegtyar\\Anaconda3\\envs\\currenv\\lib\\site-packages\\lightsim2grid\\gridmodel\\_aux_add_slack.py:112: UserWarning: We found either some slack coefficient to be < 0. or they were all 0.We set them all to 1.0 to avoid such issues\n",
      "  warnings.warn(\"We found either some slack coefficient to be < 0. or they were all 0.\"\n"
     ]
    }
   ],
   "source": [
    "backend = LightSimBackend()\n",
    "env_path = test_data_path = Path(example_path)/ \"data\" / \"training_data_track1\"\n",
    "print(env_path)\n",
    "env = grid2op.make(env_path, backend=backend)\n",
    "env.set_id(1)\n",
    "env.reset()\n",
    "env.chronics_handler.get_name()\n",
    "obs = env.get_obs()"
   ]
  },
  {
   "cell_type": "markdown",
   "source": [
    "## Simple Junior\n",
    "\n",
    "Let's begin with the simple junior for training"
   ],
   "metadata": {
    "collapsed": false
   }
  },
  {
   "cell_type": "code",
   "execution_count": 3,
   "id": "c2ba0ffc-3e1c-4593-8e04-0ab20cd28fe0",
   "metadata": {},
   "outputs": [],
   "source": [
    "from curriculumagent.junior.junior_student import train, validate"
   ]
  },
  {
   "cell_type": "code",
   "execution_count": 4,
   "id": "17ef40a7-6a16-4224-84d7-d42d75c28cbf",
   "metadata": {},
   "outputs": [
    {
     "name": "stderr",
     "output_type": "stream",
     "text": [
      "INFO:root:A total of 806 actions are assumed, based on the action_space_file input.\n",
      "C:\\Users\\ddegtyar\\PycharmProjects\\curriculumagent\\curriculumagent\\junior\\junior_student.py:229: UserWarning: The custom dictionary had not the correct keys. Revert to default model.\n",
      "  warnings.warn(\"The custom dictionary had not the correct keys. Revert to default model.\")\n",
      "INFO:root:<bound method Model.summary of <keras.engine.sequential.Sequential object at 0x0000023A8B4D9360>>\n",
      "WARNING:root:2.12.0\n",
      "WARNING:root:2.12.0\n"
     ]
    },
    {
     "name": "stdout",
     "output_type": "stream",
     "text": [
      "Epoch 1/100\n"
     ]
    },
    {
     "name": "stderr",
     "output_type": "stream",
     "text": [
      "C:\\Users\\ddegtyar\\Anaconda3\\envs\\currenv\\lib\\site-packages\\keras\\initializers\\initializers.py:120: UserWarning: The initializer Orthogonal is unseeded and being called multiple times, which will return identical values each time (even if the initializer is unseeded). Please update your code to provide a seed to the initializer, or avoid using the same initalizer instance more than once.\n",
      "  warnings.warn(\n"
     ]
    },
    {
     "name": "stdout",
     "output_type": "stream",
     "text": [
      "1/1 [==============================] - 3s 3s/step - loss: 70.8324 - accuracy: 0.3333 - val_loss: 119.9345 - val_accuracy: 0.0000e+00\n",
      "Epoch 2/100\n",
      "1/1 [==============================] - 0s 122ms/step - loss: 36.7987 - accuracy: 0.3333 - val_loss: 183.3690 - val_accuracy: 0.0000e+00\n",
      "Epoch 3/100\n",
      "1/1 [==============================] - 0s 130ms/step - loss: 9.2688 - accuracy: 0.3333 - val_loss: 238.1727 - val_accuracy: 0.0000e+00\n",
      "Epoch 4/100\n",
      "1/1 [==============================] - 0s 117ms/step - loss: 2.2262 - accuracy: 0.6667 - val_loss: 308.0537 - val_accuracy: 0.5000\n",
      "Epoch 5/100\n",
      "1/1 [==============================] - 0s 122ms/step - loss: 23.1472 - accuracy: 0.3333 - val_loss: 304.6150 - val_accuracy: 0.5000\n",
      "Epoch 6/100\n",
      "1/1 [==============================] - 0s 122ms/step - loss: 7.0371 - accuracy: 0.6667 - val_loss: 382.0479 - val_accuracy: 0.5000\n",
      "Epoch 7/100\n",
      "1/1 [==============================] - 0s 123ms/step - loss: 68.7864 - accuracy: 0.6667 - val_loss: 412.5109 - val_accuracy: 0.5000\n",
      "Epoch 8/100\n",
      "1/1 [==============================] - 0s 126ms/step - loss: 87.1914 - accuracy: 0.6667 - val_loss: 398.1159 - val_accuracy: 0.5000\n",
      "Epoch 9/100\n",
      "1/1 [==============================] - 0s 123ms/step - loss: 52.7156 - accuracy: 0.6667 - val_loss: 353.7885 - val_accuracy: 0.5000\n",
      "Epoch 10/100\n",
      "\n",
      "Epoch 10: saving model to C:\\Users\\ddegtyar\\PycharmProjects\\curriculumagent\\jupyter_notebooks\\data\\junior_model\\ckpt-example\\ckpt_10\n"
     ]
    },
    {
     "name": "stderr",
     "output_type": "stream",
     "text": [
      "WARNING:absl:Found untraced functions such as _update_step_xla, re_lu_layer_call_fn, re_lu_layer_call_and_return_conditional_losses while saving (showing 3 of 3). These functions will not be directly callable after loading.\n"
     ]
    },
    {
     "name": "stdout",
     "output_type": "stream",
     "text": [
      "INFO:tensorflow:Assets written to: C:\\Users\\ddegtyar\\PycharmProjects\\curriculumagent\\jupyter_notebooks\\data\\junior_model\\ckpt-example\\ckpt_10\\assets\n"
     ]
    },
    {
     "name": "stderr",
     "output_type": "stream",
     "text": [
      "INFO:tensorflow:Assets written to: C:\\Users\\ddegtyar\\PycharmProjects\\curriculumagent\\jupyter_notebooks\\data\\junior_model\\ckpt-example\\ckpt_10\\assets\n"
     ]
    },
    {
     "name": "stdout",
     "output_type": "stream",
     "text": [
      "1/1 [==============================] - 2s 2s/step - loss: 26.4847 - accuracy: 0.6667 - val_loss: 414.9760 - val_accuracy: 0.5000\n",
      "Epoch 11/100\n",
      "1/1 [==============================] - 0s 122ms/step - loss: 59.2374 - accuracy: 0.6667 - val_loss: 440.5761 - val_accuracy: 0.5000\n",
      "Epoch 12/100\n",
      "1/1 [==============================] - 0s 123ms/step - loss: 102.0862 - accuracy: 0.6667 - val_loss: 428.9312 - val_accuracy: 0.5000\n",
      "Epoch 13/100\n",
      "1/1 [==============================] - 0s 120ms/step - loss: 87.0003 - accuracy: 0.6667 - val_loss: 386.7542 - val_accuracy: 0.5000\n",
      "Epoch 14/100\n",
      "1/1 [==============================] - 0s 120ms/step - loss: 96.5781 - accuracy: 0.6667 - val_loss: 339.1059 - val_accuracy: 0.5000\n",
      "Epoch 15/100\n",
      "1/1 [==============================] - 0s 117ms/step - loss: 2.1876 - accuracy: 1.0000 - val_loss: 365.9223 - val_accuracy: 0.5000\n",
      "Epoch 16/100\n",
      "1/1 [==============================] - 0s 118ms/step - loss: 36.4310 - accuracy: 0.6667 - val_loss: 371.4153 - val_accuracy: 0.5000\n",
      "Epoch 17/100\n",
      "1/1 [==============================] - 0s 118ms/step - loss: 30.7865 - accuracy: 0.6667 - val_loss: 361.8579 - val_accuracy: 0.5000\n",
      "Epoch 18/100\n",
      "1/1 [==============================] - 0s 118ms/step - loss: 65.5174 - accuracy: 0.6667 - val_loss: 335.3555 - val_accuracy: 0.5000\n",
      "Epoch 19/100\n",
      "1/1 [==============================] - 0s 123ms/step - loss: 2.1732 - accuracy: 1.0000 - val_loss: 313.1794 - val_accuracy: 0.5000\n",
      "Epoch 20/100\n",
      "\n",
      "Epoch 20: saving model to C:\\Users\\ddegtyar\\PycharmProjects\\curriculumagent\\jupyter_notebooks\\data\\junior_model\\ckpt-example\\ckpt_20\n"
     ]
    },
    {
     "name": "stderr",
     "output_type": "stream",
     "text": [
      "WARNING:absl:Found untraced functions such as _update_step_xla, re_lu_layer_call_fn, re_lu_layer_call_and_return_conditional_losses while saving (showing 3 of 3). These functions will not be directly callable after loading.\n"
     ]
    },
    {
     "name": "stdout",
     "output_type": "stream",
     "text": [
      "INFO:tensorflow:Assets written to: C:\\Users\\ddegtyar\\PycharmProjects\\curriculumagent\\jupyter_notebooks\\data\\junior_model\\ckpt-example\\ckpt_20\\assets\n"
     ]
    },
    {
     "name": "stderr",
     "output_type": "stream",
     "text": [
      "INFO:tensorflow:Assets written to: C:\\Users\\ddegtyar\\PycharmProjects\\curriculumagent\\jupyter_notebooks\\data\\junior_model\\ckpt-example\\ckpt_20\\assets\n"
     ]
    },
    {
     "name": "stdout",
     "output_type": "stream",
     "text": [
      "1/1 [==============================] - 2s 2s/step - loss: 2.1662 - accuracy: 1.0000 - val_loss: 294.4351 - val_accuracy: 0.5000\n",
      "Epoch 21/100\n",
      "1/1 [==============================] - 0s 117ms/step - loss: 2.1545 - accuracy: 1.0000 - val_loss: 286.7262 - val_accuracy: 0.5000\n",
      "Epoch 22/100\n",
      "1/1 [==============================] - 0s 129ms/step - loss: 2.1507 - accuracy: 1.0000 - val_loss: 295.8274 - val_accuracy: 0.5000\n",
      "Epoch 23/100\n",
      "1/1 [==============================] - 0s 118ms/step - loss: 16.2407 - accuracy: 0.6667 - val_loss: 276.6370 - val_accuracy: 0.5000\n",
      "Epoch 24/100\n",
      "1/1 [==============================] - 0s 121ms/step - loss: 2.1362 - accuracy: 1.0000 - val_loss: 268.2614 - val_accuracy: 0.5000\n",
      "Epoch 25/100\n",
      "1/1 [==============================] - 0s 135ms/step - loss: 2.1284 - accuracy: 1.0000 - val_loss: 270.3956 - val_accuracy: 0.5000\n",
      "Epoch 26/100\n",
      "1/1 [==============================] - 0s 120ms/step - loss: 2.1193 - accuracy: 1.0000 - val_loss: 272.8235 - val_accuracy: 0.5000\n",
      "Epoch 27/100\n",
      "1/1 [==============================] - 0s 115ms/step - loss: 2.1926 - accuracy: 1.0000 - val_loss: 281.3526 - val_accuracy: 0.5000\n",
      "Epoch 28/100\n",
      "1/1 [==============================] - 0s 115ms/step - loss: 2.0814 - accuracy: 1.0000 - val_loss: 290.1625 - val_accuracy: 0.5000\n",
      "Epoch 29/100\n",
      "1/1 [==============================] - 0s 117ms/step - loss: 2.1135 - accuracy: 1.0000 - val_loss: 297.4716 - val_accuracy: 0.5000\n",
      "Epoch 30/100\n",
      "\n",
      "Epoch 30: saving model to C:\\Users\\ddegtyar\\PycharmProjects\\curriculumagent\\jupyter_notebooks\\data\\junior_model\\ckpt-example\\ckpt_30\n"
     ]
    },
    {
     "name": "stderr",
     "output_type": "stream",
     "text": [
      "WARNING:absl:Found untraced functions such as _update_step_xla, re_lu_layer_call_fn, re_lu_layer_call_and_return_conditional_losses while saving (showing 3 of 3). These functions will not be directly callable after loading.\n"
     ]
    },
    {
     "name": "stdout",
     "output_type": "stream",
     "text": [
      "INFO:tensorflow:Assets written to: C:\\Users\\ddegtyar\\PycharmProjects\\curriculumagent\\jupyter_notebooks\\data\\junior_model\\ckpt-example\\ckpt_30\\assets\n"
     ]
    },
    {
     "name": "stderr",
     "output_type": "stream",
     "text": [
      "INFO:tensorflow:Assets written to: C:\\Users\\ddegtyar\\PycharmProjects\\curriculumagent\\jupyter_notebooks\\data\\junior_model\\ckpt-example\\ckpt_30\\assets\n"
     ]
    },
    {
     "name": "stdout",
     "output_type": "stream",
     "text": [
      "1/1 [==============================] - 2s 2s/step - loss: 2.0830 - accuracy: 1.0000 - val_loss: 304.9925 - val_accuracy: 0.5000\n",
      "Epoch 31/100\n",
      "1/1 [==============================] - 0s 121ms/step - loss: 2.0806 - accuracy: 1.0000 - val_loss: 312.6228 - val_accuracy: 0.5000\n",
      "Epoch 32/100\n",
      "1/1 [==============================] - 0s 125ms/step - loss: 2.0557 - accuracy: 1.0000 - val_loss: 320.4099 - val_accuracy: 0.5000\n",
      "Epoch 33/100\n",
      "1/1 [==============================] - 0s 127ms/step - loss: 2.0204 - accuracy: 1.0000 - val_loss: 328.5802 - val_accuracy: 0.5000\n",
      "Epoch 34/100\n",
      "1/1 [==============================] - 0s 125ms/step - loss: 9.6424 - accuracy: 0.6667 - val_loss: 317.3914 - val_accuracy: 0.5000\n",
      "Epoch 35/100\n",
      "1/1 [==============================] - 0s 118ms/step - loss: 2.0092 - accuracy: 1.0000 - val_loss: 308.0222 - val_accuracy: 0.5000\n",
      "Epoch 36/100\n",
      "1/1 [==============================] - 0s 124ms/step - loss: 1.9783 - accuracy: 1.0000 - val_loss: 299.8628 - val_accuracy: 0.5000\n",
      "Epoch 37/100\n",
      "1/1 [==============================] - 0s 119ms/step - loss: 1.9713 - accuracy: 1.0000 - val_loss: 293.1751 - val_accuracy: 0.5000\n",
      "Epoch 38/100\n",
      "1/1 [==============================] - 0s 121ms/step - loss: 1.9672 - accuracy: 1.0000 - val_loss: 294.4204 - val_accuracy: 0.5000\n",
      "Epoch 39/100\n",
      "1/1 [==============================] - 0s 120ms/step - loss: 1.9265 - accuracy: 1.0000 - val_loss: 308.9052 - val_accuracy: 0.5000\n",
      "Epoch 40/100\n",
      "\n",
      "Epoch 40: saving model to C:\\Users\\ddegtyar\\PycharmProjects\\curriculumagent\\jupyter_notebooks\\data\\junior_model\\ckpt-example\\ckpt_40\n"
     ]
    },
    {
     "name": "stderr",
     "output_type": "stream",
     "text": [
      "WARNING:absl:Found untraced functions such as _update_step_xla, re_lu_layer_call_fn, re_lu_layer_call_and_return_conditional_losses while saving (showing 3 of 3). These functions will not be directly callable after loading.\n"
     ]
    },
    {
     "name": "stdout",
     "output_type": "stream",
     "text": [
      "INFO:tensorflow:Assets written to: C:\\Users\\ddegtyar\\PycharmProjects\\curriculumagent\\jupyter_notebooks\\data\\junior_model\\ckpt-example\\ckpt_40\\assets\n"
     ]
    },
    {
     "name": "stderr",
     "output_type": "stream",
     "text": [
      "INFO:tensorflow:Assets written to: C:\\Users\\ddegtyar\\PycharmProjects\\curriculumagent\\jupyter_notebooks\\data\\junior_model\\ckpt-example\\ckpt_40\\assets\n"
     ]
    },
    {
     "name": "stdout",
     "output_type": "stream",
     "text": [
      "1/1 [==============================] - 2s 2s/step - loss: 3.7097 - accuracy: 0.6667 - val_loss: 308.6240 - val_accuracy: 0.5000\n",
      "Epoch 41/100\n",
      "1/1 [==============================] - 0s 119ms/step - loss: 1.8810 - accuracy: 1.0000 - val_loss: 310.2398 - val_accuracy: 0.5000\n",
      "Epoch 42/100\n",
      "1/1 [==============================] - 0s 127ms/step - loss: 1.8164 - accuracy: 1.0000 - val_loss: 313.1669 - val_accuracy: 0.5000\n",
      "Epoch 43/100\n",
      "1/1 [==============================] - 0s 125ms/step - loss: 1.8138 - accuracy: 1.0000 - val_loss: 317.8276 - val_accuracy: 0.5000\n",
      "Epoch 44/100\n",
      "1/1 [==============================] - 0s 120ms/step - loss: 1.8059 - accuracy: 1.0000 - val_loss: 326.8614 - val_accuracy: 0.5000\n",
      "Epoch 45/100\n",
      "1/1 [==============================] - 0s 120ms/step - loss: 1.7318 - accuracy: 1.0000 - val_loss: 336.2280 - val_accuracy: 0.5000\n",
      "Epoch 46/100\n",
      "1/1 [==============================] - 0s 119ms/step - loss: 1.7657 - accuracy: 1.0000 - val_loss: 345.6678 - val_accuracy: 0.5000\n",
      "Epoch 47/100\n",
      "1/1 [==============================] - 0s 127ms/step - loss: 1.6938 - accuracy: 1.0000 - val_loss: 355.3129 - val_accuracy: 0.5000\n",
      "Epoch 48/100\n",
      "1/1 [==============================] - 0s 138ms/step - loss: 1.6292 - accuracy: 1.0000 - val_loss: 365.6320 - val_accuracy: 0.5000\n",
      "Epoch 49/100\n",
      "1/1 [==============================] - 0s 117ms/step - loss: 1.5377 - accuracy: 1.0000 - val_loss: 376.3932 - val_accuracy: 0.5000\n",
      "Epoch 50/100\n",
      "\n",
      "Epoch 50: saving model to C:\\Users\\ddegtyar\\PycharmProjects\\curriculumagent\\jupyter_notebooks\\data\\junior_model\\ckpt-example\\ckpt_50\n"
     ]
    },
    {
     "name": "stderr",
     "output_type": "stream",
     "text": [
      "WARNING:absl:Found untraced functions such as _update_step_xla, re_lu_layer_call_fn, re_lu_layer_call_and_return_conditional_losses while saving (showing 3 of 3). These functions will not be directly callable after loading.\n"
     ]
    },
    {
     "name": "stdout",
     "output_type": "stream",
     "text": [
      "INFO:tensorflow:Assets written to: C:\\Users\\ddegtyar\\PycharmProjects\\curriculumagent\\jupyter_notebooks\\data\\junior_model\\ckpt-example\\ckpt_50\\assets\n"
     ]
    },
    {
     "name": "stderr",
     "output_type": "stream",
     "text": [
      "INFO:tensorflow:Assets written to: C:\\Users\\ddegtyar\\PycharmProjects\\curriculumagent\\jupyter_notebooks\\data\\junior_model\\ckpt-example\\ckpt_50\\assets\n"
     ]
    },
    {
     "name": "stdout",
     "output_type": "stream",
     "text": [
      "1/1 [==============================] - 2s 2s/step - loss: 1.5131 - accuracy: 1.0000 - val_loss: 387.5849 - val_accuracy: 0.5000\n",
      "Epoch 51/100\n",
      "1/1 [==============================] - 0s 118ms/step - loss: 1.4156 - accuracy: 1.0000 - val_loss: 399.0592 - val_accuracy: 0.5000\n",
      "Epoch 52/100\n",
      "1/1 [==============================] - 0s 119ms/step - loss: 1.4042 - accuracy: 1.0000 - val_loss: 411.0953 - val_accuracy: 0.5000\n",
      "Epoch 53/100\n",
      "1/1 [==============================] - 0s 120ms/step - loss: 1.2660 - accuracy: 1.0000 - val_loss: 423.4286 - val_accuracy: 0.5000\n",
      "Epoch 54/100\n",
      "1/1 [==============================] - 0s 112ms/step - loss: 1.2003 - accuracy: 1.0000 - val_loss: 436.5716 - val_accuracy: 0.5000\n",
      "Epoch 55/100\n",
      "1/1 [==============================] - 0s 123ms/step - loss: 1.0792 - accuracy: 1.0000 - val_loss: 450.8568 - val_accuracy: 0.5000\n",
      "Epoch 56/100\n",
      "1/1 [==============================] - 0s 127ms/step - loss: 0.9697 - accuracy: 1.0000 - val_loss: 466.5628 - val_accuracy: 0.5000\n",
      "Epoch 57/100\n",
      "1/1 [==============================] - 0s 122ms/step - loss: 0.8305 - accuracy: 1.0000 - val_loss: 483.5434 - val_accuracy: 0.5000\n",
      "Epoch 58/100\n",
      "1/1 [==============================] - 0s 120ms/step - loss: 0.8489 - accuracy: 1.0000 - val_loss: 502.4545 - val_accuracy: 0.5000\n",
      "Epoch 59/100\n",
      "1/1 [==============================] - 0s 123ms/step - loss: 0.7247 - accuracy: 1.0000 - val_loss: 522.8878 - val_accuracy: 0.5000\n",
      "Epoch 60/100\n",
      "\n",
      "Epoch 60: saving model to C:\\Users\\ddegtyar\\PycharmProjects\\curriculumagent\\jupyter_notebooks\\data\\junior_model\\ckpt-example\\ckpt_60\n"
     ]
    },
    {
     "name": "stderr",
     "output_type": "stream",
     "text": [
      "WARNING:absl:Found untraced functions such as _update_step_xla, re_lu_layer_call_fn, re_lu_layer_call_and_return_conditional_losses while saving (showing 3 of 3). These functions will not be directly callable after loading.\n"
     ]
    },
    {
     "name": "stdout",
     "output_type": "stream",
     "text": [
      "INFO:tensorflow:Assets written to: C:\\Users\\ddegtyar\\PycharmProjects\\curriculumagent\\jupyter_notebooks\\data\\junior_model\\ckpt-example\\ckpt_60\\assets\n"
     ]
    },
    {
     "name": "stderr",
     "output_type": "stream",
     "text": [
      "INFO:tensorflow:Assets written to: C:\\Users\\ddegtyar\\PycharmProjects\\curriculumagent\\jupyter_notebooks\\data\\junior_model\\ckpt-example\\ckpt_60\\assets\n"
     ]
    },
    {
     "name": "stdout",
     "output_type": "stream",
     "text": [
      "1/1 [==============================] - 2s 2s/step - loss: 0.5384 - accuracy: 1.0000 - val_loss: 545.1161 - val_accuracy: 0.5000\n",
      "Epoch 61/100\n",
      "1/1 [==============================] - 0s 122ms/step - loss: 0.4328 - accuracy: 1.0000 - val_loss: 569.4194 - val_accuracy: 0.5000\n",
      "Epoch 62/100\n",
      "1/1 [==============================] - 0s 126ms/step - loss: 0.1923 - accuracy: 1.0000 - val_loss: 596.3716 - val_accuracy: 0.5000\n",
      "Epoch 63/100\n",
      "1/1 [==============================] - 0s 125ms/step - loss: 0.1469 - accuracy: 1.0000 - val_loss: 643.1351 - val_accuracy: 0.5000\n",
      "Epoch 64/100\n",
      "1/1 [==============================] - 0s 118ms/step - loss: 20.9641 - accuracy: 0.3333 - val_loss: 606.1558 - val_accuracy: 0.5000\n",
      "Epoch 65/100\n",
      "1/1 [==============================] - 0s 119ms/step - loss: 0.0864 - accuracy: 1.0000 - val_loss: 614.3342 - val_accuracy: 0.5000\n",
      "Epoch 66/100\n",
      "1/1 [==============================] - 0s 116ms/step - loss: 0.0327 - accuracy: 1.0000 - val_loss: 637.3042 - val_accuracy: 0.5000\n",
      "Epoch 67/100\n",
      "1/1 [==============================] - 0s 118ms/step - loss: 0.0343 - accuracy: 1.0000 - val_loss: 669.8444 - val_accuracy: 0.5000\n",
      "Epoch 68/100\n",
      "1/1 [==============================] - 0s 120ms/step - loss: 0.0401 - accuracy: 1.0000 - val_loss: 706.6038 - val_accuracy: 0.5000\n",
      "Epoch 69/100\n",
      "1/1 [==============================] - 0s 129ms/step - loss: 0.0098 - accuracy: 1.0000 - val_loss: 743.0746 - val_accuracy: 0.5000\n",
      "Epoch 70/100\n",
      "\n",
      "Epoch 70: saving model to C:\\Users\\ddegtyar\\PycharmProjects\\curriculumagent\\jupyter_notebooks\\data\\junior_model\\ckpt-example\\ckpt_70\n"
     ]
    },
    {
     "name": "stderr",
     "output_type": "stream",
     "text": [
      "WARNING:absl:Found untraced functions such as _update_step_xla, re_lu_layer_call_fn, re_lu_layer_call_and_return_conditional_losses while saving (showing 3 of 3). These functions will not be directly callable after loading.\n"
     ]
    },
    {
     "name": "stdout",
     "output_type": "stream",
     "text": [
      "INFO:tensorflow:Assets written to: C:\\Users\\ddegtyar\\PycharmProjects\\curriculumagent\\jupyter_notebooks\\data\\junior_model\\ckpt-example\\ckpt_70\\assets\n"
     ]
    },
    {
     "name": "stderr",
     "output_type": "stream",
     "text": [
      "INFO:tensorflow:Assets written to: C:\\Users\\ddegtyar\\PycharmProjects\\curriculumagent\\jupyter_notebooks\\data\\junior_model\\ckpt-example\\ckpt_70\\assets\n"
     ]
    },
    {
     "name": "stdout",
     "output_type": "stream",
     "text": [
      "1/1 [==============================] - 2s 2s/step - loss: 0.0154 - accuracy: 1.0000 - val_loss: 780.7672 - val_accuracy: 0.5000\n",
      "Epoch 71/100\n",
      "1/1 [==============================] - 0s 115ms/step - loss: 0.0094 - accuracy: 1.0000 - val_loss: 819.0345 - val_accuracy: 0.5000\n",
      "Epoch 72/100\n",
      "1/1 [==============================] - 0s 122ms/step - loss: 6.2032 - accuracy: 0.6667 - val_loss: 816.6132 - val_accuracy: 0.5000\n",
      "Epoch 73/100\n",
      "1/1 [==============================] - 0s 123ms/step - loss: 0.0130 - accuracy: 1.0000 - val_loss: 816.5769 - val_accuracy: 0.5000\n",
      "Epoch 74/100\n",
      "1/1 [==============================] - 0s 127ms/step - loss: 0.0105 - accuracy: 1.0000 - val_loss: 867.1708 - val_accuracy: 0.5000\n",
      "Epoch 75/100\n",
      "1/1 [==============================] - 0s 109ms/step - loss: 0.0023 - accuracy: 1.0000 - val_loss: 928.8221 - val_accuracy: 0.5000\n",
      "Epoch 76/100\n",
      "1/1 [==============================] - 0s 132ms/step - loss: 0.0039 - accuracy: 1.0000 - val_loss: 988.5226 - val_accuracy: 0.5000\n",
      "Epoch 77/100\n",
      "1/1 [==============================] - 0s 120ms/step - loss: 91.8406 - accuracy: 0.6667 - val_loss: 921.2382 - val_accuracy: 0.5000\n",
      "Epoch 78/100\n",
      "1/1 [==============================] - 0s 122ms/step - loss: 9.1329 - accuracy: 0.6667 - val_loss: 846.6221 - val_accuracy: 0.5000\n",
      "Epoch 79/100\n",
      "1/1 [==============================] - 0s 134ms/step - loss: 0.0010 - accuracy: 1.0000 - val_loss: 874.7767 - val_accuracy: 0.5000\n",
      "Epoch 80/100\n",
      "\n",
      "Epoch 80: saving model to C:\\Users\\ddegtyar\\PycharmProjects\\curriculumagent\\jupyter_notebooks\\data\\junior_model\\ckpt-example\\ckpt_80\n"
     ]
    },
    {
     "name": "stderr",
     "output_type": "stream",
     "text": [
      "WARNING:absl:Found untraced functions such as _update_step_xla, re_lu_layer_call_fn, re_lu_layer_call_and_return_conditional_losses while saving (showing 3 of 3). These functions will not be directly callable after loading.\n"
     ]
    },
    {
     "name": "stdout",
     "output_type": "stream",
     "text": [
      "INFO:tensorflow:Assets written to: C:\\Users\\ddegtyar\\PycharmProjects\\curriculumagent\\jupyter_notebooks\\data\\junior_model\\ckpt-example\\ckpt_80\\assets\n"
     ]
    },
    {
     "name": "stderr",
     "output_type": "stream",
     "text": [
      "INFO:tensorflow:Assets written to: C:\\Users\\ddegtyar\\PycharmProjects\\curriculumagent\\jupyter_notebooks\\data\\junior_model\\ckpt-example\\ckpt_80\\assets\n"
     ]
    },
    {
     "name": "stdout",
     "output_type": "stream",
     "text": [
      "1/1 [==============================] - 2s 2s/step - loss: 0.0034 - accuracy: 1.0000 - val_loss: 908.3492 - val_accuracy: 0.5000\n",
      "Epoch 81/100\n",
      "1/1 [==============================] - 0s 115ms/step - loss: 2.4445e-04 - accuracy: 1.0000 - val_loss: 945.1273 - val_accuracy: 0.5000\n",
      "Epoch 82/100\n",
      "1/1 [==============================] - 0s 120ms/step - loss: 73.1739 - accuracy: 0.6667 - val_loss: 912.4146 - val_accuracy: 0.5000\n",
      "Epoch 83/100\n",
      "1/1 [==============================] - 0s 116ms/step - loss: 64.5334 - accuracy: 0.6667 - val_loss: 823.1121 - val_accuracy: 0.5000\n",
      "Epoch 84/100\n",
      "1/1 [==============================] - 0s 125ms/step - loss: 0.0017 - accuracy: 1.0000 - val_loss: 748.2077 - val_accuracy: 0.5000\n",
      "Epoch 85/100\n",
      "1/1 [==============================] - 0s 114ms/step - loss: 8.7195e-04 - accuracy: 1.0000 - val_loss: 685.8566 - val_accuracy: 0.5000\n",
      "Epoch 86/100\n",
      "1/1 [==============================] - 0s 114ms/step - loss: 0.0012 - accuracy: 1.0000 - val_loss: 633.0988 - val_accuracy: 0.5000\n",
      "Epoch 87/100\n",
      "1/1 [==============================] - 0s 120ms/step - loss: 7.8625e-04 - accuracy: 1.0000 - val_loss: 590.2158 - val_accuracy: 0.5000\n",
      "Epoch 88/100\n",
      "1/1 [==============================] - 0s 119ms/step - loss: 0.0013 - accuracy: 1.0000 - val_loss: 576.6376 - val_accuracy: 0.5000\n",
      "Epoch 89/100\n",
      "1/1 [==============================] - 0s 118ms/step - loss: 0.0016 - accuracy: 1.0000 - val_loss: 591.3619 - val_accuracy: 0.5000\n",
      "Epoch 90/100\n",
      "\n",
      "Epoch 90: saving model to C:\\Users\\ddegtyar\\PycharmProjects\\curriculumagent\\jupyter_notebooks\\data\\junior_model\\ckpt-example\\ckpt_90\n"
     ]
    },
    {
     "name": "stderr",
     "output_type": "stream",
     "text": [
      "WARNING:absl:Found untraced functions such as _update_step_xla, re_lu_layer_call_fn, re_lu_layer_call_and_return_conditional_losses while saving (showing 3 of 3). These functions will not be directly callable after loading.\n"
     ]
    },
    {
     "name": "stdout",
     "output_type": "stream",
     "text": [
      "INFO:tensorflow:Assets written to: C:\\Users\\ddegtyar\\PycharmProjects\\curriculumagent\\jupyter_notebooks\\data\\junior_model\\ckpt-example\\ckpt_90\\assets\n"
     ]
    },
    {
     "name": "stderr",
     "output_type": "stream",
     "text": [
      "INFO:tensorflow:Assets written to: C:\\Users\\ddegtyar\\PycharmProjects\\curriculumagent\\jupyter_notebooks\\data\\junior_model\\ckpt-example\\ckpt_90\\assets\n"
     ]
    },
    {
     "name": "stdout",
     "output_type": "stream",
     "text": [
      "1/1 [==============================] - 2s 2s/step - loss: 5.3609e-04 - accuracy: 1.0000 - val_loss: 607.8806 - val_accuracy: 0.5000\n",
      "Epoch 91/100\n",
      "1/1 [==============================] - 0s 122ms/step - loss: 4.8721e-04 - accuracy: 1.0000 - val_loss: 624.9656 - val_accuracy: 0.5000\n",
      "Epoch 92/100\n",
      "1/1 [==============================] - 0s 122ms/step - loss: 0.0011 - accuracy: 1.0000 - val_loss: 642.5205 - val_accuracy: 0.5000\n",
      "Epoch 93/100\n",
      "1/1 [==============================] - 0s 121ms/step - loss: 6.5655e-04 - accuracy: 1.0000 - val_loss: 660.3745 - val_accuracy: 0.5000\n",
      "Epoch 94/100\n",
      "1/1 [==============================] - 0s 132ms/step - loss: 9.2683e-04 - accuracy: 1.0000 - val_loss: 677.7766 - val_accuracy: 0.5000\n",
      "Epoch 95/100\n",
      "1/1 [==============================] - 0s 128ms/step - loss: 6.2141e-04 - accuracy: 1.0000 - val_loss: 693.7709 - val_accuracy: 0.5000\n",
      "Epoch 96/100\n",
      "1/1 [==============================] - 0s 127ms/step - loss: 4.3717e-04 - accuracy: 1.0000 - val_loss: 708.4778 - val_accuracy: 0.5000\n",
      "Epoch 97/100\n",
      "1/1 [==============================] - 0s 122ms/step - loss: 6.4327e-04 - accuracy: 1.0000 - val_loss: 722.6156 - val_accuracy: 0.5000\n",
      "Epoch 98/100\n",
      "1/1 [==============================] - 0s 120ms/step - loss: 2.1860e-04 - accuracy: 1.0000 - val_loss: 735.9135 - val_accuracy: 0.5000\n",
      "Epoch 99/100\n",
      "1/1 [==============================] - 0s 117ms/step - loss: 8.9993e-04 - accuracy: 1.0000 - val_loss: 748.1991 - val_accuracy: 0.5000\n",
      "Epoch 100/100\n",
      "\n",
      "Epoch 100: saving model to C:\\Users\\ddegtyar\\PycharmProjects\\curriculumagent\\jupyter_notebooks\\data\\junior_model\\ckpt-example\\ckpt_100\n"
     ]
    },
    {
     "name": "stderr",
     "output_type": "stream",
     "text": [
      "WARNING:absl:Found untraced functions such as _update_step_xla, re_lu_layer_call_fn, re_lu_layer_call_and_return_conditional_losses while saving (showing 3 of 3). These functions will not be directly callable after loading.\n"
     ]
    },
    {
     "name": "stdout",
     "output_type": "stream",
     "text": [
      "INFO:tensorflow:Assets written to: C:\\Users\\ddegtyar\\PycharmProjects\\curriculumagent\\jupyter_notebooks\\data\\junior_model\\ckpt-example\\ckpt_100\\assets\n"
     ]
    },
    {
     "name": "stderr",
     "output_type": "stream",
     "text": [
      "INFO:tensorflow:Assets written to: C:\\Users\\ddegtyar\\PycharmProjects\\curriculumagent\\jupyter_notebooks\\data\\junior_model\\ckpt-example\\ckpt_100\\assets\n"
     ]
    },
    {
     "name": "stdout",
     "output_type": "stream",
     "text": [
      "1/1 [==============================] - 2s 2s/step - loss: 21.7884 - accuracy: 0.6667 - val_loss: 650.0593 - val_accuracy: 0.5000\n"
     ]
    },
    {
     "name": "stderr",
     "output_type": "stream",
     "text": [
      "WARNING:absl:Found untraced functions such as _update_step_xla, re_lu_layer_call_fn, re_lu_layer_call_and_return_conditional_losses while saving (showing 3 of 3). These functions will not be directly callable after loading.\n"
     ]
    },
    {
     "name": "stdout",
     "output_type": "stream",
     "text": [
      "INFO:tensorflow:Assets written to: C:\\Users\\ddegtyar\\PycharmProjects\\curriculumagent\\jupyter_notebooks\\data\\junior_model\\assets\n"
     ]
    },
    {
     "name": "stderr",
     "output_type": "stream",
     "text": [
      "INFO:tensorflow:Assets written to: C:\\Users\\ddegtyar\\PycharmProjects\\curriculumagent\\jupyter_notebooks\\data\\junior_model\\assets\n"
     ]
    },
    {
     "data": {
      "text/plain": "<keras.callbacks.History at 0x23a8b6476a0>"
     },
     "execution_count": 4,
     "metadata": {},
     "output_type": "execute_result"
    }
   ],
   "source": [
    "test_data_path = Path(example_path) / \"data\"\n",
    "path1 = test_data_path / \"actionspace_nminus1.npy\"\n",
    "path2 = test_data_path / \"actionspace_tuples.npy\"\n",
    "\n",
    "action_set = [path1, path2]\n",
    "model_path = Path(example_path) / \"data\" / \"junior_model\"\n",
    "data_path = Path(example_path) / \"data\" / \"junior_experience\"\n",
    "\n",
    "train(run_name=\"example\",\n",
    "      dataset_path=data_path,\n",
    "      target_model_path=model_path,\n",
    "      action_space_file=action_set,\n",
    "      dataset_name='junior_dataset',\n",
    "      epochs=100, seed=42)"
   ]
  },
  {
   "cell_type": "code",
   "execution_count": 5,
   "id": "b2ee464a-e469-4abe-9157-8aeb71d0f126",
   "metadata": {},
   "outputs": [
    {
     "name": "stderr",
     "output_type": "stream",
     "text": [
      "INFO:root:A total of 806 are assumed, based on the action_space_file input.\n",
      "C:\\Users\\ddegtyar\\PycharmProjects\\curriculumagent\\curriculumagent\\junior\\junior_student.py:229: UserWarning: The custom dictionary had not the correct keys. Revert to default model.\n",
      "  warnings.warn(\"The custom dictionary had not the correct keys. Revert to default model.\")\n",
      "INFO:root:<bound method Model.summary of <keras.engine.sequential.Sequential object at 0x0000023A9521AB90>>\n",
      "C:\\Users\\ddegtyar\\Anaconda3\\envs\\currenv\\lib\\site-packages\\keras\\initializers\\initializers.py:120: UserWarning: The initializer Orthogonal is unseeded and being called multiple times, which will return identical values each time (even if the initializer is unseeded). Please update your code to provide a seed to the initializer, or avoid using the same initalizer instance more than once.\n",
      "  warnings.warn(\n",
      "INFO:root:Imported model fromC:\\Users\\ddegtyar\\PycharmProjects\\curriculumagent\\jupyter_notebooks\\data\\junior_model\n"
     ]
    },
    {
     "name": "stdout",
     "output_type": "stream",
     "text": [
      "1/1 [==============================] - 0s 120ms/step\n"
     ]
    },
    {
     "name": "stderr",
     "output_type": "stream",
     "text": [
      "INFO:root:accuracy of top-1 is 75.0\n",
      "INFO:root:accuracy of top-2 is 75.0\n",
      "INFO:root:accuracy of top-3 is 75.0\n",
      "INFO:root:accuracy of top-4 is 75.0\n",
      "INFO:root:accuracy of top-5 is 75.0\n",
      "INFO:root:accuracy of top-6 is 75.0\n",
      "INFO:root:accuracy of top-7 is 75.0\n",
      "INFO:root:accuracy of top-8 is 75.0\n",
      "INFO:root:accuracy of top-9 is 75.0\n",
      "INFO:root:accuracy of top-10 is 75.0\n",
      "INFO:root:accuracy of top-11 is 75.0\n",
      "INFO:root:accuracy of top-12 is 75.0\n",
      "INFO:root:accuracy of top-13 is 75.0\n",
      "INFO:root:accuracy of top-14 is 75.0\n",
      "INFO:root:accuracy of top-15 is 75.0\n",
      "INFO:root:accuracy of top-16 is 75.0\n",
      "INFO:root:accuracy of top-17 is 75.0\n",
      "INFO:root:accuracy of top-18 is 75.0\n",
      "INFO:root:accuracy of top-19 is 75.0\n",
      "INFO:root:accuracy of top-20 is 75.0\n"
     ]
    },
    {
     "data": {
      "text/plain": "{'accuracy of top-1': 75.0,\n 'accuracy of top-2': 75.0,\n 'accuracy of top-3': 75.0,\n 'accuracy of top-4': 75.0,\n 'accuracy of top-5': 75.0,\n 'accuracy of top-6': 75.0,\n 'accuracy of top-7': 75.0,\n 'accuracy of top-8': 75.0,\n 'accuracy of top-9': 75.0,\n 'accuracy of top-10': 75.0,\n 'accuracy of top-11': 75.0,\n 'accuracy of top-12': 75.0,\n 'accuracy of top-13': 75.0,\n 'accuracy of top-14': 75.0,\n 'accuracy of top-15': 75.0,\n 'accuracy of top-16': 75.0,\n 'accuracy of top-17': 75.0,\n 'accuracy of top-18': 75.0,\n 'accuracy of top-19': 75.0,\n 'accuracy of top-20': 75.0}"
     },
     "execution_count": 5,
     "metadata": {},
     "output_type": "execute_result"
    }
   ],
   "source": [
    "validate(checkpoint_path=model_path,\n",
    "         dataset_path=data_path,\n",
    "         dataset_name='junior_dataset',\n",
    "         action_space_file=action_set)"
   ]
  },
  {
   "cell_type": "markdown",
   "source": [
    "## Advanced Junior\n",
    "\n",
    "The second option is a more advanced junior agent, that has selected hyper-parameters. You can gather these\n",
    "hyperparameters by running a NNI or ```ray.tune``` experiment. The hyper-parameters need then to be supplied via a\n",
    "dictionary. Note that it is also possible to add a scaler, e.g., a ```MinMaxScaler``` to the Junior. We advise for this \\\n",
    "        option, given that neural networks require values around [-1,1].\n",
    "\n",
    "Note, for simplification we only load the best parameters into the Notebook."
   ],
   "metadata": {
    "collapsed": false
   }
  },
  {
   "cell_type": "code",
   "execution_count": 21,
   "outputs": [
    {
     "data": {
      "text/plain": "{'activation': 'relu',\n 'batchsize': 256,\n 'dropout1': 0.19492379978847293,\n 'dropout2': 0.1259373123876904,\n 'initializer': 'O',\n 'layer1': 1414.960729971744,\n 'layer2': 1251.8000886860257,\n 'layer3': 1484.7748637079956,\n 'layer4': 231.6874808929891,\n 'learning_rate': 0.0003013467240068926,\n 'TRIAL_BUDGET': 11,\n 'epochs': 1}"
     },
     "execution_count": 21,
     "metadata": {},
     "output_type": "execute_result"
    }
   ],
   "source": [
    "with open(Path(example_path) / \"data\" / 'junior_best_params.json') as json_file:\n",
    "    best_params = json.load(json_file)\n",
    "\n",
    "best_params[\"epochs\"] = 1\n",
    "best_params"
   ],
   "metadata": {
    "collapsed": false
   }
  },
  {
   "cell_type": "code",
   "execution_count": 22,
   "outputs": [],
   "source": [
    "from curriculumagent.junior.junior_student import Junior\n",
    "from curriculumagent.junior.junior_student import load_dataset\n",
    "from sklearn.preprocessing import MinMaxScaler"
   ],
   "metadata": {
    "collapsed": false
   }
  },
  {
   "cell_type": "markdown",
   "source": [
    "Due to the fact that we also want to show the application of a scaler, we additionally show the whole pipeline of the   Junior agent. Therefore, we first fit the data with a MinMaxScaler:\n"
   ],
   "metadata": {
    "collapsed": false
   }
  },
  {
   "cell_type": "code",
   "execution_count": 23,
   "outputs": [],
   "source": [
    "s_train, a_train, s_validate, a_validate, _, _ = load_dataset(data_path, \"junior_dataset\")\n",
    "scaler = MinMaxScaler()\n",
    "s_tr_t = scaler.fit_transform(s_train)\n",
    "s_val_t = scaler.transform(s_validate)\n",
    "\n",
    "path1 = test_data_path / \"actionspace_nminus1.npy\"\n",
    "path2 = test_data_path / \"actionspace_tuples.npy\"\n",
    "\n",
    "action_set = [path1, path2]"
   ],
   "metadata": {
    "collapsed": false
   }
  },
  {
   "cell_type": "code",
   "execution_count": 24,
   "outputs": [],
   "source": [
    "# Pickle the scaler for later\n",
    "with open( Path(example_path) / \"data\" / 'scaler_junior.pkl', \"wb\") as fp:\n",
    "    pickle.dump(scaler, fp)"
   ],
   "metadata": {
    "collapsed": false
   }
  },
  {
   "cell_type": "code",
   "execution_count": 25,
   "outputs": [
    {
     "name": "stderr",
     "output_type": "stream",
     "text": [
      "INFO:root:<bound method Model.summary of <keras.engine.sequential.Sequential object at 0x0000023A8C94EB30>>\n"
     ]
    }
   ],
   "source": [
    "junior = Junior(config=best_params,\n",
    "                        # Optimally, you know the number of actions:\n",
    "                        action_space_file=action_set,\n",
    "                        seed=42)\n",
    "junior.model.compile()\n",
    "#junior.model.summary()"
   ],
   "metadata": {
    "collapsed": false
   }
  },
  {
   "cell_type": "code",
   "execution_count": 26,
   "outputs": [
    {
     "name": "stderr",
     "output_type": "stream",
     "text": [
      "WARNING:root:2.12.0\n",
      "WARNING:root:2.12.0\n",
      "C:\\Users\\ddegtyar\\Anaconda3\\envs\\currenv\\lib\\site-packages\\keras\\initializers\\initializers.py:120: UserWarning: The initializer Orthogonal is unseeded and being called multiple times, which will return identical values each time (even if the initializer is unseeded). Please update your code to provide a seed to the initializer, or avoid using the same initalizer instance more than once.\n",
      "  warnings.warn(\n"
     ]
    },
    {
     "ename": "ValueError",
     "evalue": "in user code:\n\n    File \"C:\\Users\\ddegtyar\\Anaconda3\\envs\\currenv\\lib\\site-packages\\keras\\engine\\training.py\", line 1284, in train_function  *\n        return step_function(self, iterator)\n    File \"C:\\Users\\ddegtyar\\Anaconda3\\envs\\currenv\\lib\\site-packages\\keras\\engine\\training.py\", line 1268, in step_function  **\n        outputs = model.distribute_strategy.run(run_step, args=(data,))\n    File \"C:\\Users\\ddegtyar\\Anaconda3\\envs\\currenv\\lib\\site-packages\\keras\\engine\\training.py\", line 1249, in run_step  **\n        outputs = model.train_step(data)\n    File \"C:\\Users\\ddegtyar\\Anaconda3\\envs\\currenv\\lib\\site-packages\\keras\\engine\\training.py\", line 1052, in train_step\n        self._validate_target_and_loss(y, loss)\n    File \"C:\\Users\\ddegtyar\\Anaconda3\\envs\\currenv\\lib\\site-packages\\keras\\engine\\training.py\", line 1016, in _validate_target_and_loss\n        raise ValueError(\n\n    ValueError: No loss found. You may have forgotten to provide a `loss` argument in the `compile()` method.\n",
     "output_type": "error",
     "traceback": [
      "\u001B[1;31m---------------------------------------------------------------------------\u001B[0m",
      "\u001B[1;31mValueError\u001B[0m                                Traceback (most recent call last)",
      "Cell \u001B[1;32mIn[26], line 1\u001B[0m\n\u001B[1;32m----> 1\u001B[0m history \u001B[38;5;241m=\u001B[39m \u001B[43mjunior\u001B[49m\u001B[38;5;241;43m.\u001B[39;49m\u001B[43mtrain\u001B[49m\u001B[43m(\u001B[49m\u001B[43mlog_dir\u001B[49m\u001B[38;5;241;43m=\u001B[39;49m\u001B[43mmodel_path\u001B[49m\u001B[43m \u001B[49m\u001B[38;5;241;43m/\u001B[39;49m\u001B[43m \u001B[49m\u001B[38;5;124;43m\"\u001B[39;49m\u001B[38;5;124;43mhyperparam\u001B[39;49m\u001B[38;5;124;43m\"\u001B[39;49m\u001B[43m,\u001B[49m\n\u001B[0;32m      2\u001B[0m \u001B[43m                       \u001B[49m\u001B[43mckpt_dir\u001B[49m\u001B[38;5;241;43m=\u001B[39;49m\u001B[43mmodel_path\u001B[49m\u001B[43m \u001B[49m\u001B[38;5;241;43m/\u001B[39;49m\u001B[43m \u001B[49m\u001B[38;5;124;43m\"\u001B[39;49m\u001B[38;5;124;43mhyperparam\u001B[39;49m\u001B[38;5;124;43m\"\u001B[39;49m\u001B[43m,\u001B[49m\n\u001B[0;32m      3\u001B[0m \u001B[43m                       \u001B[49m\u001B[43mpatience\u001B[49m\u001B[38;5;241;43m=\u001B[39;49m\u001B[38;5;241;43m5\u001B[39;49m\u001B[43m,\u001B[49m\n\u001B[0;32m      4\u001B[0m \u001B[43m                       \u001B[49m\u001B[43mx_train\u001B[49m\u001B[38;5;241;43m=\u001B[39;49m\u001B[43ms_tr_t\u001B[49m\u001B[43m,\u001B[49m\u001B[43m \u001B[49m\u001B[43my_train\u001B[49m\u001B[38;5;241;43m=\u001B[39;49m\u001B[43ma_train\u001B[49m\u001B[43m,\u001B[49m\n\u001B[0;32m      5\u001B[0m \u001B[43m                       \u001B[49m\u001B[43mx_validate\u001B[49m\u001B[38;5;241;43m=\u001B[39;49m\u001B[43ms_val_t\u001B[49m\u001B[43m,\u001B[49m\u001B[43m \u001B[49m\u001B[43my_validate\u001B[49m\u001B[38;5;241;43m=\u001B[39;49m\u001B[43ma_validate\u001B[49m\u001B[43m)\u001B[49m\n",
      "File \u001B[1;32m~\\PycharmProjects\\curriculumagent\\curriculumagent\\junior\\junior_student.py:307\u001B[0m, in \u001B[0;36mJunior.train\u001B[1;34m(self, x_train, y_train, x_validate, y_validate, log_dir, ckpt_dir, patience, epochs)\u001B[0m\n\u001B[0;32m    298\u001B[0m     early_stopping \u001B[38;5;241m=\u001B[39m EarlyStopping(\n\u001B[0;32m    299\u001B[0m         monitor\u001B[38;5;241m=\u001B[39m\u001B[38;5;124m\"\u001B[39m\u001B[38;5;124mval_loss\u001B[39m\u001B[38;5;124m\"\u001B[39m,\n\u001B[0;32m    300\u001B[0m         patience\u001B[38;5;241m=\u001B[39mpatience,\n\u001B[1;32m   (...)\u001B[0m\n\u001B[0;32m    303\u001B[0m         restore_best_weights\u001B[38;5;241m=\u001B[39m\u001B[38;5;28;01mTrue\u001B[39;00m,\n\u001B[0;32m    304\u001B[0m     )\n\u001B[0;32m    305\u001B[0m     callbacks \u001B[38;5;241m+\u001B[39m\u001B[38;5;241m=\u001B[39m [early_stopping]\n\u001B[1;32m--> 307\u001B[0m history \u001B[38;5;241m=\u001B[39m \u001B[38;5;28;43mself\u001B[39;49m\u001B[38;5;241;43m.\u001B[39;49m\u001B[43mmodel\u001B[49m\u001B[38;5;241;43m.\u001B[39;49m\u001B[43mfit\u001B[49m\u001B[43m(\u001B[49m\n\u001B[0;32m    308\u001B[0m \u001B[43m    \u001B[49m\u001B[43mx\u001B[49m\u001B[38;5;241;43m=\u001B[39;49m\u001B[43mx_train\u001B[49m\u001B[43m,\u001B[49m\n\u001B[0;32m    309\u001B[0m \u001B[43m    \u001B[49m\u001B[43my\u001B[49m\u001B[38;5;241;43m=\u001B[39;49m\u001B[43my_train\u001B[49m\u001B[43m,\u001B[49m\n\u001B[0;32m    310\u001B[0m \u001B[43m    \u001B[49m\u001B[43mepochs\u001B[49m\u001B[38;5;241;43m=\u001B[39;49m\u001B[43mepochs\u001B[49m\u001B[43m \u001B[49m\u001B[38;5;129;43;01mor\u001B[39;49;00m\u001B[43m \u001B[49m\u001B[38;5;28;43mself\u001B[39;49m\u001B[38;5;241;43m.\u001B[39;49m\u001B[43mepochs\u001B[49m\u001B[43m,\u001B[49m\n\u001B[0;32m    311\u001B[0m \u001B[43m    \u001B[49m\u001B[43mvalidation_data\u001B[49m\u001B[38;5;241;43m=\u001B[39;49m\u001B[43m(\u001B[49m\u001B[43mx_validate\u001B[49m\u001B[43m,\u001B[49m\u001B[43m \u001B[49m\u001B[43my_validate\u001B[49m\u001B[43m)\u001B[49m\u001B[43m,\u001B[49m\n\u001B[0;32m    312\u001B[0m \u001B[43m    \u001B[49m\u001B[43mbatch_size\u001B[49m\u001B[38;5;241;43m=\u001B[39;49m\u001B[38;5;28;43mself\u001B[39;49m\u001B[38;5;241;43m.\u001B[39;49m\u001B[43mbatch_size\u001B[49m\u001B[43m,\u001B[49m\n\u001B[0;32m    313\u001B[0m \u001B[43m    \u001B[49m\u001B[43mcallbacks\u001B[49m\u001B[38;5;241;43m=\u001B[39;49m\u001B[43mcallbacks\u001B[49m\u001B[43m,\u001B[49m\n\u001B[0;32m    314\u001B[0m \u001B[43m\u001B[49m\u001B[43m)\u001B[49m\n\u001B[0;32m    315\u001B[0m \u001B[38;5;28;01mreturn\u001B[39;00m history\n",
      "File \u001B[1;32m~\\Anaconda3\\envs\\currenv\\lib\\site-packages\\keras\\utils\\traceback_utils.py:70\u001B[0m, in \u001B[0;36mfilter_traceback.<locals>.error_handler\u001B[1;34m(*args, **kwargs)\u001B[0m\n\u001B[0;32m     67\u001B[0m     filtered_tb \u001B[38;5;241m=\u001B[39m _process_traceback_frames(e\u001B[38;5;241m.\u001B[39m__traceback__)\n\u001B[0;32m     68\u001B[0m     \u001B[38;5;66;03m# To get the full stack trace, call:\u001B[39;00m\n\u001B[0;32m     69\u001B[0m     \u001B[38;5;66;03m# `tf.debugging.disable_traceback_filtering()`\u001B[39;00m\n\u001B[1;32m---> 70\u001B[0m     \u001B[38;5;28;01mraise\u001B[39;00m e\u001B[38;5;241m.\u001B[39mwith_traceback(filtered_tb) \u001B[38;5;28;01mfrom\u001B[39;00m \u001B[38;5;28;01mNone\u001B[39;00m\n\u001B[0;32m     71\u001B[0m \u001B[38;5;28;01mfinally\u001B[39;00m:\n\u001B[0;32m     72\u001B[0m     \u001B[38;5;28;01mdel\u001B[39;00m filtered_tb\n",
      "File \u001B[1;32m~\\AppData\\Local\\Temp\\__autograph_generated_filekskp2zhj.py:15\u001B[0m, in \u001B[0;36mouter_factory.<locals>.inner_factory.<locals>.tf__train_function\u001B[1;34m(iterator)\u001B[0m\n\u001B[0;32m     13\u001B[0m \u001B[38;5;28;01mtry\u001B[39;00m:\n\u001B[0;32m     14\u001B[0m     do_return \u001B[38;5;241m=\u001B[39m \u001B[38;5;28;01mTrue\u001B[39;00m\n\u001B[1;32m---> 15\u001B[0m     retval_ \u001B[38;5;241m=\u001B[39m ag__\u001B[38;5;241m.\u001B[39mconverted_call(ag__\u001B[38;5;241m.\u001B[39mld(step_function), (ag__\u001B[38;5;241m.\u001B[39mld(\u001B[38;5;28mself\u001B[39m), ag__\u001B[38;5;241m.\u001B[39mld(iterator)), \u001B[38;5;28;01mNone\u001B[39;00m, fscope)\n\u001B[0;32m     16\u001B[0m \u001B[38;5;28;01mexcept\u001B[39;00m:\n\u001B[0;32m     17\u001B[0m     do_return \u001B[38;5;241m=\u001B[39m \u001B[38;5;28;01mFalse\u001B[39;00m\n",
      "\u001B[1;31mValueError\u001B[0m: in user code:\n\n    File \"C:\\Users\\ddegtyar\\Anaconda3\\envs\\currenv\\lib\\site-packages\\keras\\engine\\training.py\", line 1284, in train_function  *\n        return step_function(self, iterator)\n    File \"C:\\Users\\ddegtyar\\Anaconda3\\envs\\currenv\\lib\\site-packages\\keras\\engine\\training.py\", line 1268, in step_function  **\n        outputs = model.distribute_strategy.run(run_step, args=(data,))\n    File \"C:\\Users\\ddegtyar\\Anaconda3\\envs\\currenv\\lib\\site-packages\\keras\\engine\\training.py\", line 1249, in run_step  **\n        outputs = model.train_step(data)\n    File \"C:\\Users\\ddegtyar\\Anaconda3\\envs\\currenv\\lib\\site-packages\\keras\\engine\\training.py\", line 1052, in train_step\n        self._validate_target_and_loss(y, loss)\n    File \"C:\\Users\\ddegtyar\\Anaconda3\\envs\\currenv\\lib\\site-packages\\keras\\engine\\training.py\", line 1016, in _validate_target_and_loss\n        raise ValueError(\n\n    ValueError: No loss found. You may have forgotten to provide a `loss` argument in the `compile()` method.\n"
     ]
    }
   ],
   "source": [
    "history = junior.train(log_dir=model_path / \"hyperparam\",\n",
    "                       ckpt_dir=model_path / \"hyperparam\",\n",
    "                       patience=5,\n",
    "                       x_train=s_tr_t, y_train=a_train,\n",
    "                       x_validate=s_val_t, y_validate=a_validate)"
   ],
   "metadata": {
    "collapsed": false
   }
  },
  {
   "cell_type": "code",
   "execution_count": 27,
   "outputs": [
    {
     "name": "stderr",
     "output_type": "stream",
     "text": [
      "WARNING:absl:Found untraced functions such as _update_step_xla, re_lu_7_layer_call_fn, re_lu_7_layer_call_and_return_conditional_losses while saving (showing 3 of 3). These functions will not be directly callable after loading.\n"
     ]
    },
    {
     "name": "stdout",
     "output_type": "stream",
     "text": [
      "INFO:tensorflow:Assets written to: C:\\Users\\ddegtyar\\PycharmProjects\\curriculumagent\\jupyter_notebooks\\data\\junior_model\\hyperparam\\assets\n"
     ]
    },
    {
     "name": "stderr",
     "output_type": "stream",
     "text": [
      "INFO:tensorflow:Assets written to: C:\\Users\\ddegtyar\\PycharmProjects\\curriculumagent\\jupyter_notebooks\\data\\junior_model\\hyperparam\\assets\n"
     ]
    }
   ],
   "source": [
    "junior.model.save(model_path / \"hyperparam\")"
   ],
   "metadata": {
    "collapsed": false
   }
  },
  {
   "cell_type": "code",
   "execution_count": null,
   "outputs": [],
   "source": [],
   "metadata": {
    "collapsed": false
   }
  }
 ],
 "metadata": {
  "kernelspec": {
   "display_name": "Python 3 (ipykernel)",
   "language": "python",
   "name": "python3"
  },
  "language_info": {
   "codemirror_mode": {
    "name": "ipython",
    "version": 3
   },
   "file_extension": ".py",
   "mimetype": "text/x-python",
   "name": "python",
   "nbconvert_exporter": "python",
   "pygments_lexer": "ipython3",
   "version": "3.9.7"
  }
 },
 "nbformat": 4,
 "nbformat_minor": 5
}
