{
 "cells": [
  {
   "cell_type": "markdown",
   "id": "1d458d3e-1b5f-4ee6-99e6-dd01cc8654eb",
   "metadata": {},
   "source": [
    "# Example Script for the Senior Model\n",
    "\n",
    "This is the example script of the Senior model and is based on the previous exploration of the teacher, tutor, junior  script. Note that in order to run this Notebook, ray needs to be working !"
   ]
  },
  {
   "cell_type": "code",
   "execution_count": null,
   "source": [
    "import os\n",
    "import grid2op\n",
    "from lightsim2grid import LightSimBackend\n",
    "import numpy as np\n",
    "from pathlib import Path\n",
    "import ray\n",
    "import ray.tune as tune\n",
    "import tensorflow as tf\n",
    "from ray.tune.schedulers import PopulationBasedTraining\n",
    "from ray.rllib.models import ModelCatalog\n",
    "import pickle\n",
    "import random\n",
    "import json\n",
    "example_path = os.getcwd()"
   ],
   "metadata": {
    "collapsed": false
   },
   "id": "ca949df1aafd089c",
   "outputs": []
  },
  {
   "cell_type": "markdown",
   "id": "1e1a8e91-ea0b-47a0-a375-9af880424624",
   "metadata": {},
   "source": [
    "Again we test the Grid2Op Environment. Additionally, we already init() ray"
   ]
  },
  {
   "cell_type": "code",
   "execution_count": null,
   "id": "3fd3f98e-a3e8-4ae7-8403-e5944a77a56f",
   "metadata": {},
   "source": [
    "backend = LightSimBackend()\n",
    "env_path = test_data_path = Path(example_path)/ \"data\" / \"training_data_track1\"\n",
    "print(env_path)\n",
    "env = grid2op.make(env_path, backend=backend)\n",
    "env.set_id(1)\n",
    "env.reset()\n",
    "env.chronics_handler.get_name()\n",
    "obs = env.get_obs()\n",
    "\n",
    "if ray.is_initialized:\n",
    "    ray.shutdown()\n",
    "ray.init()"
   ],
   "outputs": []
  },
  {
   "cell_type": "markdown",
   "id": "ebfb0da1-0401-457f-aa41-f5c521d639dc",
   "metadata": {},
   "source": [
    "## Training based on the more complex Junior model.\n",
    "\n",
    "In this example, we show the implementation of the hyper-paramter optimized Junior model by using the\n",
    "```AdvancedCustomModel```. Note that  one can simply use the ```Grid2OpCustomModelTF``` if the simple Junior was trained."
   ]
  },
  {
   "cell_type": "code",
   "execution_count": null,
   "id": "8cb18b2b-f532-4b72-9667-783a7c253f45",
   "metadata": {},
   "source": [
    "with open(Path(example_path) / \"data\" /'scaler_junior.pkl', \"rb\") as fp:   #Pickling\n",
    "    scaler = pickle.load(fp)"
   ],
   "outputs": []
  },
  {
   "cell_type": "markdown",
   "source": [
    "Under consideration that ray has sometimes trouble finding the scaler with one of its workers, we advice to use the ```ray.put()``` and ```ray.get()``` option."
   ],
   "metadata": {
    "collapsed": false
   },
   "id": "6fca63490cb23c55"
  },
  {
   "cell_type": "code",
   "execution_count": null,
   "id": "ade5b6f1-7b5c-4032-a787-9e36086fe5f5",
   "metadata": {},
   "source": [
    "ray_scal = ray.put(scaler)"
   ],
   "outputs": []
  },
  {
   "cell_type": "markdown",
   "source": [
    "Now we have to initialize both the config of the environment, as well as of the model"
   ],
   "metadata": {
    "collapsed": false
   },
   "id": "ef23ff28b7be04aa"
  },
  {
   "cell_type": "code",
   "execution_count": null,
   "id": "dce058d8-d0b8-4f55-85d3-9e93e53549e4",
   "metadata": {},
   "source": [
    "action_path1 = Path(example_path) / \"data\" / \"actionspace_nminus1.npy\"\n",
    "action_path2 = Path(example_path) / \"data\" / \"actionspace_tuples.npy\"\n",
    "action_set = [action_path1, action_path2]\n",
    "model_path = Path(example_path) / \"data\" / \"junior_model\"\n",
    "data_path = Path(example_path) / \"data\"  / \"junior_experience\"\n",
    "target = Path(example_path) / \"data\" / \"junior_model\"/ \"hyperparam\"\n",
    "hyperparam_path = Path(example_path) / \"data\" / 'junior_best_params.json'\n",
    "\n",
    "# Again define best_params\n",
    "with open(hyperparam_path) as json_file:\n",
    "    best_params = json.load(json_file)\n",
    "\n",
    "best_params[\"epochs\"] = 1000\n",
    "best_params[\"initializer\"] = tf.keras.initializers.Orthogonal()\n",
    "for name in [\"layer1\",\"layer2\",\"layer3\",\"layer4\"]:\n",
    "        best_params[name] = np.round(best_params[name])\n",
    "\n",
    "print(best_params)\n",
    "\n",
    "# Env Config\n",
    "env_config = {\"action_space_path\":action_set,\n",
    "              \"env_path\": env_path,\n",
    "              \"action_threshold\":0.95,\n",
    "              'filtered_obs':True,\n",
    "              'scaler': ray_scal}\n",
    "\n",
    "# Model Config:\n",
    "model_config = {\"path_to_junior\":target,\n",
    "                \"custom_config\":best_params}"
   ],
   "outputs": []
  },
  {
   "cell_type": "markdown",
   "source": [
    "Testing whether we can load the model. Then, we initialize the model config"
   ],
   "metadata": {
    "collapsed": false
   },
   "id": "8b5780aa82335dcf"
  },
  {
   "cell_type": "code",
   "execution_count": null,
   "id": "c48f6374-e87b-4c08-ae7c-6df59a2f7f78",
   "metadata": {},
   "source": [
    "from curriculumagent.senior.rllib_execution.senior_env_rllib import SeniorEnvRllib\n",
    "from curriculumagent.senior.rllib_execution.senior_model_rllib import Grid2OpCustomModelTF"
   ],
   "outputs": []
  },
  {
   "cell_type": "markdown",
   "id": "5e74eb2d-716c-418a-99a0-dade46d162e6",
   "metadata": {},
   "source": [
    "## Testing both the environment and the model\n",
    "\n",
    "Scip these methods if you want to start directly with the ray optimization.\n",
    "\n",
    "Note that you can check, whether your scaler works."
   ]
  },
  {
   "cell_type": "code",
   "execution_count": null,
   "id": "84638335-7454-44e2-ab74-f58df731667b",
   "metadata": {},
   "source": [
    "# Test Environment:\n",
    "env =  SeniorEnvRllib(env_config)\n",
    "print(env.action_space.n)\n",
    "print(env.observation_space.shape)\n",
    "\n",
    "# Run \"simulation\":\n",
    "done = False\n",
    "while done==False:\n",
    "    act = random.choice(np.arange(env.action_space.n))\n",
    "    obs,b,done,d = env.step(act)\n",
    "    print(act,done,b,env.step_in_env,max(obs),min(obs),env.single_env.nb_time_step)"
   ],
   "outputs": []
  },
  {
   "cell_type": "markdown",
   "source": [
    "model:"
   ],
   "metadata": {
    "collapsed": false
   },
   "id": "9d2ac8a8f1888e14"
  },
  {
   "cell_type": "code",
   "execution_count": null,
   "source": [
    "# Test Model:\n",
    "model = Grid2OpCustomModelTF(obs_space = env.observation_space,\n",
    "                           action_space = env.action_space,\n",
    "                           num_outputs = env.action_space.n,\n",
    "                           model_config = {},\n",
    "                           path_to_junior =target,\n",
    "                           custom_config = best_params,\n",
    "                           name=\"Junior\")\n",
    "print(model.base_model.summary())\n",
    "obs_dict = {\"obs\": obs.reshape(1,-1)}\n",
    "out = model.forward(input_dict = obs_dict, state=1, seq_lens=None)\n",
    "out"
   ],
   "metadata": {
    "collapsed": false
   },
   "id": "5a1f611bbc8e9a00",
   "outputs": []
  },
  {
   "cell_type": "markdown",
   "id": "344e78ef-9186-4fbd-9840-4b3c8573a87c",
   "metadata": {},
   "source": [
    "## Run Rllib experiment to collect the Senior Model\n",
    "\n",
    "We run the senior experiment. Please adjust the number of cpus, gpus and workers based on your computational power."
   ]
  },
  {
   "cell_type": "code",
   "execution_count": null,
   "id": "8fa3bac1-4151-4192-a0b5-631f4af07cde",
   "metadata": {},
   "source": [
    "# Register the model\n",
    "ModelCatalog.register_custom_model('Senior',  Grid2OpCustomModelTF)"
   ],
   "outputs": []
  },
  {
   "cell_type": "code",
   "execution_count": null,
   "id": "2712945c-513d-434e-bbaf-30fa93f7f431",
   "metadata": {},
   "source": [
    "NUM_WORKER = os.cpu_count() - 1"
   ],
   "outputs": []
  },
  {
   "cell_type": "code",
   "execution_count": null,
   "id": "2f3e455b-8d4a-4e3b-989c-fcc2ba7c5988",
   "metadata": {
    "tags": []
   },
   "source": [
    "pbt = PopulationBasedTraining(\n",
    "        time_attr=\"training_iteration\",\n",
    "        metric=\"episode_reward_mean\",\n",
    "        mode=\"max\",\n",
    "        perturbation_interval=50,\n",
    "        resample_probability=0.5,\n",
    "        # Specifies the mutations of these hyperparams\n",
    "        hyperparam_mutations={\n",
    "            \"lr\": [1e-3, 5e-4, 1e-4, 5e-5, 1e-5],\n",
    "            \"num_sgd_iter\": lambda: random.randint(3, 10),\n",
    "            \"vf_loss_coeff\": lambda: random.uniform(0.5,1),\n",
    "            \"clip_param\": lambda: random.uniform(0.01, 0.5),\n",
    "            \"gamma\": lambda: random.uniform(0.975, 1),\n",
    "            \"entropy_coeff\": lambda: 10**-random.uniform(2,5)\n",
    "        })\n",
    "\n",
    "tune.run(\n",
    "    \"PPO\",\n",
    "    checkpoint_freq=5,\n",
    "    scheduler= pbt,\n",
    "    keep_checkpoints_num =30, \n",
    "    verbose = 1,\n",
    "    max_failures=3, \n",
    "    num_samples=1,\n",
    "    local_dir=\"~/ray_results\",\n",
    "    stop={\"training_iteration\": 100},\n",
    "    config={\n",
    "        \"env\":  SeniorEnvRllib,\n",
    "        \"env_config\":env_config,\n",
    "        \"num_workers\":NUM_WORKER,\n",
    "        \"num_envs_per_worker\": 1,\n",
    "        \"lr\": 5e-5,\n",
    "        \"num_gpus\":0.0,\n",
    "        \"num_cpus_per_worker\": 1,\n",
    "        \"remote_worker_envs\": False,\n",
    "        \"model\":{\"custom_model\":  \"binbinchen\",\"custom_model_config\": model_config},\n",
    "    },\n",
    ")"
   ],
   "outputs": []
  },
  {
   "cell_type": "code",
   "execution_count": null,
   "id": "24710678-e238-408a-98c5-429075ef24c0",
   "metadata": {},
   "source": [
    "isinstance(ray_scal,ray._raylet.ObjectRef)"
   ],
   "outputs": []
  },
  {
   "cell_type": "markdown",
   "id": "6f008dbe-c300-47f3-803a-aa1a8e3cce1d",
   "metadata": {},
   "source": [
    "## Select and convert checkpoint\n",
    "\n",
    "After the training is completed, one to collect the saved model\n",
    "\n",
    "Note, you have to specify the correct checkpoint dir in ```\"~/ray_results\"```"
   ]
  },
  {
   "cell_type": "code",
   "execution_count": null,
   "source": [
    "from curriculumagent.senior.rllib_execution.convert_rllib_ckpt import load_config,load_and_save_model"
   ],
   "metadata": {
    "collapsed": false
   },
   "id": "45ef40f103e075af",
   "outputs": []
  },
  {
   "cell_type": "code",
   "execution_count": null,
   "source": [
    "example_dir = \"/ray_results/PPO/PPO_SeniorEnvRllib_6c729_00001_1_2022-04-06_15-28-19\"\n",
    "ckpt_path = Path(example_dir) / \"checkpoint_000675\"/\"checkpoint-675\"\n",
    "save_path =  Path(example_path) /\"senior_model\""
   ],
   "metadata": {
    "collapsed": false
   },
   "id": "24f832e59cb60061",
   "outputs": []
  },
  {
   "cell_type": "markdown",
   "source": [
    "First we load the config of the ray experiment and overwrite the class values with the actual classes:"
   ],
   "metadata": {
    "collapsed": false
   },
   "id": "a3357a9ac6703211"
  },
  {
   "cell_type": "code",
   "execution_count": null,
   "source": [
    "config = load_config(ckpt_path)\n",
    "config['env_config'] = env_config\n",
    "config[\"model\"]['custom_model_config']['custom_config'] = model_config"
   ],
   "metadata": {
    "collapsed": false
   },
   "id": "ab96b69678c38707",
   "outputs": []
  },
  {
   "cell_type": "markdown",
   "source": [
    "Now run and save the model"
   ],
   "metadata": {
    "collapsed": false
   },
   "id": "d68dd2839ed1e543"
  },
  {
   "cell_type": "code",
   "execution_count": null,
   "id": "99b35f8c-9b1f-4ea0-9f12-946271ddc2c5",
   "metadata": {},
   "source": [
    "load_and_save_model(ckpt_path = ckpt_path,config =config, save_path = save_path, ckpt_nr = 675)"
   ],
   "outputs": []
  },
  {
   "cell_type": "markdown",
   "source": [
    "## Submission:\n",
    "\n",
    "In order to correctly submit a working agent, the tensorflow model now only needs to be placed in a submission\n",
    "folder, together with the action set. An example can be found in ```my_agent_advanced.py```"
   ],
   "metadata": {
    "collapsed": false
   },
   "id": "f991e7e2784adeea"
  }
 ],
 "metadata": {
  "kernelspec": {
   "display_name": "Python 3 (ipykernel)",
   "language": "python",
   "name": "python3"
  },
  "language_info": {
   "codemirror_mode": {
    "name": "ipython",
    "version": 3
   },
   "file_extension": ".py",
   "mimetype": "text/x-python",
   "name": "python",
   "nbconvert_exporter": "python",
   "pygments_lexer": "ipython3",
   "version": "3.9.7"
  }
 },
 "nbformat": 4,
 "nbformat_minor": 5
}
