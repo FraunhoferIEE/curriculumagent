{
 "cells": [
  {
   "cell_type": "markdown",
   "id": "1d458d3e-1b5f-4ee6-99e6-dd01cc8654eb",
   "metadata": {},
   "source": [
    "# Example Script for the Senior Model\n",
    "\n",
    "This is the example script of the Senior model and is based on the previous exploration of the teacher, tutor, junior  script. Note that in order to run this Notebook, ray needs to be working !"
   ]
  },
  {
   "cell_type": "code",
   "execution_count": 3,
   "outputs": [],
   "source": [
    "import os\n",
    "import grid2op\n",
    "from lightsim2grid import LightSimBackend\n",
    "import numpy as np\n",
    "from pathlib import Path\n",
    "import ray\n",
    "import ray.tune as tune\n",
    "import tensorflow as tf\n",
    "from ray.tune.schedulers import PopulationBasedTraining\n",
    "from ray.rllib.models import ModelCatalog\n",
    "import pickle\n",
    "import random\n",
    "import json\n",
    "example_path = os.getcwd()"
   ],
   "metadata": {
    "collapsed": false
   }
  },
  {
   "cell_type": "markdown",
   "id": "1e1a8e91-ea0b-47a0-a375-9af880424624",
   "metadata": {},
   "source": [
    "Again we test the Grid2Op Environment. Additionally, we already init() ray"
   ]
  },
  {
   "cell_type": "code",
   "execution_count": 4,
   "id": "3fd3f98e-a3e8-4ae7-8403-e5944a77a56f",
   "metadata": {},
   "outputs": [
    {
     "name": "stderr",
     "output_type": "stream",
     "text": [
      "numba cannot be imported and numba functions are disabled.\n",
      "Probably the execution is slow.\n",
      "Please install numba to gain a massive speedup.\n",
      "(or if you prefer slow execution, set the flag numba=False to avoid this warning!)\n",
      "\n",
      "numba cannot be imported and numba functions are disabled.\n",
      "Probably the execution is slow.\n",
      "Please install numba to gain a massive speedup.\n",
      "(or if you prefer slow execution, set the flag numba=False to avoid this warning!)\n",
      "\n",
      "2023-05-22 21:53:02,962\tINFO worker.py:1528 -- Started a local Ray instance.\n"
     ]
    },
    {
     "data": {
      "text/plain": "RayContext(dashboard_url='', python_version='3.9.16', ray_version='2.1.0', ray_commit='be49bde7ee4f6adb3f8710aee0665c27f9f0bb62', address_info={'node_ip_address': '127.0.0.1', 'raylet_ip_address': '127.0.0.1', 'redis_address': None, 'object_store_address': 'tcp://127.0.0.1:52966', 'raylet_socket_name': 'tcp://127.0.0.1:64157', 'webui_url': '', 'session_dir': 'C:\\\\Users\\\\ddegtyar\\\\AppData\\\\Local\\\\Temp\\\\ray\\\\session_2023-05-22_21-52-59_832952_16408', 'metrics_export_port': 58267, 'gcs_address': '127.0.0.1:50823', 'address': '127.0.0.1:50823', 'dashboard_agent_listen_port': 52365, 'node_id': 'b830632bb7bd0733d3d92c29ab49c3eaeb67dc018085d8f7df51fc03'})",
      "text/html": "<div>\n    <div style=\"margin-left: 50px;display: flex;flex-direction: row;align-items: center\">\n        <h3 style=\"color: var(--jp-ui-font-color0)\">Ray</h3>\n        <svg version=\"1.1\" id=\"ray\" width=\"3em\" viewBox=\"0 0 144.5 144.6\" style=\"margin-left: 3em;margin-right: 3em\">\n            <g id=\"layer-1\">\n                <path fill=\"#00a2e9\" class=\"st0\" d=\"M97.3,77.2c-3.8-1.1-6.2,0.9-8.3,5.1c-3.5,6.8-9.9,9.9-17.4,9.6S58,88.1,54.8,81.2c-1.4-3-3-4-6.3-4.1\n                    c-5.6-0.1-9.9,0.1-13.1,6.4c-3.8,7.6-13.6,10.2-21.8,7.6C5.2,88.4-0.4,80.5,0,71.7c0.1-8.4,5.7-15.8,13.8-18.2\n                    c8.4-2.6,17.5,0.7,22.3,8c1.3,1.9,1.3,5.2,3.6,5.6c3.9,0.6,8,0.2,12,0.2c1.8,0,1.9-1.6,2.4-2.8c3.5-7.8,9.7-11.8,18-11.9\n                    c8.2-0.1,14.4,3.9,17.8,11.4c1.3,2.8,2.9,3.6,5.7,3.3c1-0.1,2,0.1,3,0c2.8-0.5,6.4,1.7,8.1-2.7s-2.3-5.5-4.1-7.5\n                    c-5.1-5.7-10.9-10.8-16.1-16.3C84,38,81.9,37.1,78,38.3C66.7,42,56.2,35.7,53,24.1C50.3,14,57.3,2.8,67.7,0.5\n                    C78.4-2,89,4.7,91.5,15.3c0.1,0.3,0.1,0.5,0.2,0.8c0.7,3.4,0.7,6.9-0.8,9.8c-1.7,3.2-0.8,5,1.5,7.2c6.7,6.5,13.3,13,19.8,19.7\n                    c1.8,1.8,3,2.1,5.5,1.2c9.1-3.4,17.9-0.6,23.4,7c4.8,6.9,4.6,16.1-0.4,22.9c-5.4,7.2-14.2,9.9-23.1,6.5c-2.3-0.9-3.5-0.6-5.1,1.1\n                    c-6.7,6.9-13.6,13.7-20.5,20.4c-1.8,1.8-2.5,3.2-1.4,5.9c3.5,8.7,0.3,18.6-7.7,23.6c-7.9,5-18.2,3.8-24.8-2.9\n                    c-6.4-6.4-7.4-16.2-2.5-24.3c4.9-7.8,14.5-11,23.1-7.8c3,1.1,4.7,0.5,6.9-1.7C91.7,98.4,98,92.3,104.2,86c1.6-1.6,4.1-2.7,2.6-6.2\n                    c-1.4-3.3-3.8-2.5-6.2-2.6C99.8,77.2,98.9,77.2,97.3,77.2z M72.1,29.7c5.5,0.1,9.9-4.3,10-9.8c0-0.1,0-0.2,0-0.3\n                    C81.8,14,77,9.8,71.5,10.2c-5,0.3-9,4.2-9.3,9.2c-0.2,5.5,4,10.1,9.5,10.3C71.8,29.7,72,29.7,72.1,29.7z M72.3,62.3\n                    c-5.4-0.1-9.9,4.2-10.1,9.7c0,0.2,0,0.3,0,0.5c0.2,5.4,4.5,9.7,9.9,10c5.1,0.1,9.9-4.7,10.1-9.8c0.2-5.5-4-10-9.5-10.3\n                    C72.6,62.3,72.4,62.3,72.3,62.3z M115,72.5c0.1,5.4,4.5,9.7,9.8,9.9c5.6-0.2,10-4.8,10-10.4c-0.2-5.4-4.6-9.7-10-9.7\n                    c-5.3-0.1-9.8,4.2-9.9,9.5C115,72.1,115,72.3,115,72.5z M19.5,62.3c-5.4,0.1-9.8,4.4-10,9.8c-0.1,5.1,5.2,10.4,10.2,10.3\n                    c5.6-0.2,10-4.9,9.8-10.5c-0.1-5.4-4.5-9.7-9.9-9.6C19.6,62.3,19.5,62.3,19.5,62.3z M71.8,134.6c5.9,0.2,10.3-3.9,10.4-9.6\n                    c0.5-5.5-3.6-10.4-9.1-10.8c-5.5-0.5-10.4,3.6-10.8,9.1c0,0.5,0,0.9,0,1.4c-0.2,5.3,4,9.8,9.3,10\n                    C71.6,134.6,71.7,134.6,71.8,134.6z\"/>\n            </g>\n        </svg>\n        <table>\n            <tr>\n                <td style=\"text-align: left\"><b>Python version:</b></td>\n                <td style=\"text-align: left\"><b>3.9.16</b></td>\n            </tr>\n            <tr>\n                <td style=\"text-align: left\"><b>Ray version:</b></td>\n                <td style=\"text-align: left\"><b> 2.1.0</b></td>\n            </tr>\n            \n        </table>\n    </div>\n</div>\n"
     },
     "execution_count": 4,
     "metadata": {},
     "output_type": "execute_result"
    }
   ],
   "source": [
    "backend = LightSimBackend()\n",
    "env_path = test_data_path = Path(example_path)/ \"data\" / \"training_data_track1\"\n",
    "print(env_path)\n",
    "env = grid2op.make(env_path, backend=backend)\n",
    "env.set_id(1)\n",
    "env.reset()\n",
    "env.chronics_handler.get_name()\n",
    "obs = env.get_obs()\n",
    "\n",
    "if ray.is_initialized:\n",
    "    ray.shutdown()\n",
    "ray.init()"
   ]
  },
  {
   "cell_type": "markdown",
   "id": "ebfb0da1-0401-457f-aa41-f5c521d639dc",
   "metadata": {},
   "source": [
    "## Training based on the more complex Junior model.\n",
    "\n",
    "In this example, we show the implementation of the hyper-paramter optimized Junior model by using the\n",
    "```AdvancedCustomModel```. Note that  one can simply use the ```Grid2OpCustomModel``` if the simple Junior was trained."
   ]
  },
  {
   "cell_type": "code",
   "execution_count": 5,
   "id": "8cb18b2b-f532-4b72-9667-783a7c253f45",
   "metadata": {},
   "outputs": [
    {
     "name": "stderr",
     "output_type": "stream",
     "text": [
      "C:\\Users\\ddegtyar\\Anaconda3\\envs\\currenv\\lib\\site-packages\\sklearn\\base.py:318: UserWarning: Trying to unpickle estimator MinMaxScaler from version 1.0.2 when using version 1.2.2. This might lead to breaking code or invalid results. Use at your own risk. For more info please refer to:\n",
      "https://scikit-learn.org/stable/model_persistence.html#security-maintainability-limitations\n",
      "  warnings.warn(\n"
     ]
    }
   ],
   "source": [
    "with open(Path(example_path) / \"data\" /'scaler_junior.pkl', \"rb\") as fp:   #Pickling\n",
    "    scaler = pickle.load(fp)"
   ]
  },
  {
   "cell_type": "markdown",
   "source": [
    "Under consideration that ray has sometimes trouble finding the scaler with one of its workers, we advice to use the ```ray.put()``` and ```ray.get()``` option."
   ],
   "metadata": {
    "collapsed": false
   }
  },
  {
   "cell_type": "code",
   "execution_count": 6,
   "id": "ade5b6f1-7b5c-4032-a787-9e36086fe5f5",
   "metadata": {},
   "outputs": [],
   "source": [
    "ray_scal = ray.put(scaler)"
   ]
  },
  {
   "cell_type": "markdown",
   "source": [
    "Now we have to initialize both the config of the environment, as well as of the model"
   ],
   "metadata": {
    "collapsed": false
   }
  },
  {
   "cell_type": "code",
   "execution_count": 13,
   "id": "dce058d8-d0b8-4f55-85d3-9e93e53549e4",
   "metadata": {},
   "outputs": [
    {
     "name": "stdout",
     "output_type": "stream",
     "text": [
      "{'activation': 'relu', 'batchsize': 256, 'dropout1': 0.19492379978847293, 'dropout2': 0.1259373123876904, 'initializer': <keras.initializers.initializers_v2.Orthogonal object at 0x0000014E9E2F70A0>, 'layer1': 1415.0, 'layer2': 1252.0, 'layer3': 1485.0, 'layer4': 232.0, 'learning_rate': 0.0003013467240068926, 'TRIAL_BUDGET': 11, 'epochs': 1000}\n"
     ]
    }
   ],
   "source": [
    "action_path1 = Path(example_path) / \"data\" / \"actionspace_nminus1.npy\"\n",
    "action_path2 = Path(example_path) / \"data\" / \"actionspace_tuples.npy\"\n",
    "action_set = [action_path1, action_path2]\n",
    "model_path = Path(example_path) / \"data\" / \"junior_model\"\n",
    "data_path = Path(example_path) / \"data\"  / \"junior_experience\"\n",
    "target = Path(example_path) / \"data\" / \"junior_model\"/ \"hyperparam\"\n",
    "hyperparam_path = Path(example_path) / \"data\" / 'junior_best_params.json'\n",
    "\n",
    "# Again define best_params\n",
    "with open(hyperparam_path) as json_file:\n",
    "    best_params = json.load(json_file)\n",
    "\n",
    "best_params[\"epochs\"] = 1000\n",
    "best_params[\"initializer\"] = tf.keras.initializers.Orthogonal()\n",
    "for name in [\"layer1\",\"layer2\",\"layer3\",\"layer4\"]:\n",
    "        best_params[name] = np.round(best_params[name])\n",
    "\n",
    "print(best_params)\n",
    "\n",
    "# Env Config\n",
    "env_config = {\"action_space_path\":action_set,\n",
    "              \"env_path\": env_path,\n",
    "              \"action_threshold\":0.95,\n",
    "              'filtered_obs':True,\n",
    "              'scaler': ray_scal}\n",
    "\n",
    "# Model Config:\n",
    "model_config = {\"path_to_junior\":target,\n",
    "                \"custom_config\":best_params}"
   ]
  },
  {
   "cell_type": "markdown",
   "source": [
    "Testing whether we can load the model. Then, we initialize the model config"
   ],
   "metadata": {
    "collapsed": false
   }
  },
  {
   "cell_type": "code",
   "execution_count": 14,
   "id": "c48f6374-e87b-4c08-ae7c-6df59a2f7f78",
   "metadata": {},
   "outputs": [],
   "source": [
    "from curriculumagent.senior.rllib_execution.senior_env_rllib import SeniorEnvRllib\n",
    "from curriculumagent.senior.rllib_execution.senior_model_rllib import Grid2OpCustomModel"
   ]
  },
  {
   "cell_type": "markdown",
   "id": "5e74eb2d-716c-418a-99a0-dade46d162e6",
   "metadata": {},
   "source": [
    "## Testing both the environment and the model\n",
    "\n",
    "Scip these methods if you want to start directly with the ray optimization.\n",
    "\n",
    "Note that you can check, whether your scaler works."
   ]
  },
  {
   "cell_type": "code",
   "execution_count": 15,
   "id": "84638335-7454-44e2-ab74-f58df731667b",
   "metadata": {},
   "outputs": [
    {
     "name": "stderr",
     "output_type": "stream",
     "text": [
      "numba cannot be imported and numba functions are disabled.\n",
      "Probably the execution is slow.\n",
      "Please install numba to gain a massive speedup.\n",
      "(or if you prefer slow execution, set the flag numba=False to avoid this warning!)\n",
      "\n",
      "numba cannot be imported and numba functions are disabled.\n",
      "Probably the execution is slow.\n",
      "Please install numba to gain a massive speedup.\n",
      "(or if you prefer slow execution, set the flag numba=False to avoid this warning!)\n",
      "\n"
     ]
    },
    {
     "ename": "AttributeError",
     "evalue": "'SeniorEnvRllib' object has no attribute 'actions'",
     "output_type": "error",
     "traceback": [
      "\u001B[1;31m---------------------------------------------------------------------------\u001B[0m",
      "\u001B[1;31mAttributeError\u001B[0m                            Traceback (most recent call last)",
      "Cell \u001B[1;32mIn[15], line 2\u001B[0m\n\u001B[0;32m      1\u001B[0m \u001B[38;5;66;03m# Test Environment:\u001B[39;00m\n\u001B[1;32m----> 2\u001B[0m env \u001B[38;5;241m=\u001B[39m  \u001B[43mSeniorEnvRllib\u001B[49m\u001B[43m(\u001B[49m\u001B[43menv_config\u001B[49m\u001B[43m)\u001B[49m\n\u001B[0;32m      3\u001B[0m \u001B[38;5;28mprint\u001B[39m(env\u001B[38;5;241m.\u001B[39maction_space\u001B[38;5;241m.\u001B[39mn)\n\u001B[0;32m      4\u001B[0m \u001B[38;5;28mprint\u001B[39m(env\u001B[38;5;241m.\u001B[39mobservation_space\u001B[38;5;241m.\u001B[39mshape)\n",
      "File \u001B[1;32m~\\PycharmProjects\\curriculumagent\\curriculumagent\\senior\\rllib_training\\senior_env_rllib.py:142\u001B[0m, in \u001B[0;36mSeniorEnvRllib.__init__\u001B[1;34m(self, config, testing)\u001B[0m\n\u001B[0;32m    138\u001B[0m     \u001B[38;5;28;01mraise\u001B[39;00m \u001B[38;5;167;01mValueError\u001B[39;00m(\u001B[38;5;124mf\u001B[39m\u001B[38;5;124m\"\u001B[39m\u001B[38;5;124mThe action_space_path variable \u001B[39m\u001B[38;5;132;01m{\u001B[39;00maction_space_path\u001B[38;5;132;01m}\u001B[39;00m\u001B[38;5;124m does neither consist of a single \u001B[39m\u001B[38;5;124m\"\u001B[39m\n\u001B[0;32m    139\u001B[0m                      \u001B[38;5;124mf\u001B[39m\u001B[38;5;124m\"\u001B[39m\u001B[38;5;124maction nor of a path where actions can be found.\u001B[39m\u001B[38;5;124m\"\u001B[39m)\n\u001B[0;32m    141\u001B[0m \u001B[38;5;66;03m# Define Action and Observation Space in Gym Format:\u001B[39;00m\n\u001B[1;32m--> 142\u001B[0m \u001B[38;5;28mself\u001B[39m\u001B[38;5;241m.\u001B[39maction_space \u001B[38;5;241m=\u001B[39m Discrete(\u001B[38;5;28mlen\u001B[39m(\u001B[38;5;28;43mself\u001B[39;49m\u001B[38;5;241;43m.\u001B[39;49m\u001B[43mactions\u001B[49m))\n\u001B[0;32m    144\u001B[0m \u001B[38;5;28;01mif\u001B[39;00m \u001B[38;5;28misinstance\u001B[39m(\u001B[38;5;28mself\u001B[39m\u001B[38;5;241m.\u001B[39mchosen,\u001B[38;5;28mlist\u001B[39m):\n\u001B[0;32m    145\u001B[0m     vect_shape \u001B[38;5;241m=\u001B[39m \u001B[38;5;28mlen\u001B[39m(\u001B[38;5;28mself\u001B[39m\u001B[38;5;241m.\u001B[39mchosen)\n",
      "\u001B[1;31mAttributeError\u001B[0m: 'SeniorEnvRllib' object has no attribute 'actions'"
     ]
    }
   ],
   "source": [
    "# Test Environment:\n",
    "env =  SeniorEnvRllib(env_config)\n",
    "print(env.action_space.n)\n",
    "print(env.observation_space.shape)\n",
    "\n",
    "# Run \"simulation\":\n",
    "done = False\n",
    "while done==False:\n",
    "    act = random.choice(np.arange(env.action_space.n))\n",
    "    obs,b,done,d = env.step(act)\n",
    "    print(act,done,b,env.step_in_env,max(obs),min(obs),env.single_env.nb_time_step)"
   ]
  },
  {
   "cell_type": "markdown",
   "source": [
    "model:"
   ],
   "metadata": {
    "collapsed": false
   }
  },
  {
   "cell_type": "code",
   "execution_count": null,
   "outputs": [],
   "source": [
    "# Test Model:\n",
    "model = Grid2OpCustomModel(obs_space = env.observation_space,\n",
    "                           action_space = env.action_space,\n",
    "                           num_outputs = env.action_space.n,\n",
    "                           model_config = {},\n",
    "                           path_to_junior =target,\n",
    "                           custom_config = best_params,\n",
    "                           name=\"Junior\")\n",
    "print(model.base_model.summary())\n",
    "obs_dict = {\"obs\": obs.reshape(1,-1)}\n",
    "out = model.forward(input_dict = obs_dict, state=1, seq_lens=None)\n",
    "out"
   ],
   "metadata": {
    "collapsed": false
   }
  },
  {
   "cell_type": "markdown",
   "id": "344e78ef-9186-4fbd-9840-4b3c8573a87c",
   "metadata": {},
   "source": [
    "## Run Rllib experiment to collect the Senior Model\n",
    "\n",
    "We run the senior experiment. Please adjust the number of cpus, gpus and workers based on your computational power."
   ]
  },
  {
   "cell_type": "code",
   "execution_count": null,
   "id": "8fa3bac1-4151-4192-a0b5-631f4af07cde",
   "metadata": {},
   "outputs": [],
   "source": [
    "# Register the model\n",
    "ModelCatalog.register_custom_model('Senior',  Grid2OpCustomModel)"
   ]
  },
  {
   "cell_type": "code",
   "execution_count": null,
   "id": "2712945c-513d-434e-bbaf-30fa93f7f431",
   "metadata": {},
   "outputs": [],
   "source": [
    "NUM_WORKER = os.cpu_count() - 1"
   ]
  },
  {
   "cell_type": "code",
   "execution_count": null,
   "id": "2f3e455b-8d4a-4e3b-989c-fcc2ba7c5988",
   "metadata": {
    "tags": []
   },
   "outputs": [],
   "source": [
    "pbt = PopulationBasedTraining(\n",
    "        time_attr=\"training_iteration\",\n",
    "        metric=\"episode_reward_mean\",\n",
    "        mode=\"max\",\n",
    "        perturbation_interval=50,\n",
    "        resample_probability=0.5,\n",
    "        # Specifies the mutations of these hyperparams\n",
    "        hyperparam_mutations={\n",
    "            \"lr\": [1e-3, 5e-4, 1e-4, 5e-5, 1e-5],\n",
    "            \"num_sgd_iter\": lambda: random.randint(3, 10),\n",
    "            \"vf_loss_coeff\": lambda: random.uniform(0.5,1),\n",
    "            \"clip_param\": lambda: random.uniform(0.01, 0.5),\n",
    "            \"gamma\": lambda: random.uniform(0.975, 1),\n",
    "            \"entropy_coeff\": lambda: 10**-random.uniform(2,5)\n",
    "        })\n",
    "\n",
    "tune.run(\n",
    "    \"PPO\",\n",
    "    checkpoint_freq=5,\n",
    "    scheduler= pbt,\n",
    "    keep_checkpoints_num =30, \n",
    "    verbose = 1,\n",
    "    max_failures=3, \n",
    "    num_samples=1,\n",
    "    local_dir=\"~/ray_results\",\n",
    "    stop={\"training_iteration\": 100},\n",
    "    config={\n",
    "        \"env\":  SeniorEnvRllib,\n",
    "        \"env_config\":env_config,\n",
    "        \"num_workers\":NUM_WORKER,\n",
    "        \"num_envs_per_worker\": 1,\n",
    "        \"lr\": 5e-5,\n",
    "        \"num_gpus\":0.0,\n",
    "        \"num_cpus_per_worker\": 1,\n",
    "        \"remote_worker_envs\": False,\n",
    "        \"model\":{\"custom_model\":  \"binbinchen\",\"custom_model_config\": model_config},\n",
    "    },\n",
    ")"
   ]
  },
  {
   "cell_type": "code",
   "execution_count": null,
   "id": "24710678-e238-408a-98c5-429075ef24c0",
   "metadata": {},
   "outputs": [],
   "source": [
    "isinstance(ray_scal,ray._raylet.ObjectRef)"
   ]
  },
  {
   "cell_type": "markdown",
   "id": "6f008dbe-c300-47f3-803a-aa1a8e3cce1d",
   "metadata": {},
   "source": [
    "## Select and convert checkpoint\n",
    "\n",
    "After the training is completed, one to collect the saved model\n",
    "\n",
    "Note, you have to specify the correct checkpoint dir in ```\"~/ray_results\"```"
   ]
  },
  {
   "cell_type": "code",
   "execution_count": null,
   "outputs": [],
   "source": [
    "from curriculumagent.senior.rllib_execution.convert_rllib_ckpt import load_config,load_and_save_model"
   ],
   "metadata": {
    "collapsed": false
   }
  },
  {
   "cell_type": "code",
   "execution_count": null,
   "outputs": [],
   "source": [
    "example_dir = \"/ray_results/PPO/PPO_SeniorEnvRllib_6c729_00001_1_2022-04-06_15-28-19\"\n",
    "ckpt_path = Path(example_dir) / \"checkpoint_000675\"/\"checkpoint-675\"\n",
    "save_path =  Path(example_path) /\"senior_model\""
   ],
   "metadata": {
    "collapsed": false
   }
  },
  {
   "cell_type": "markdown",
   "source": [
    "First we load the config of the ray experiment and overwrite the class values with the actual classes:"
   ],
   "metadata": {
    "collapsed": false
   }
  },
  {
   "cell_type": "code",
   "execution_count": null,
   "outputs": [],
   "source": [
    "config = load_config(ckpt_path)\n",
    "config['env_config'] = env_config\n",
    "config[\"model\"]['custom_model_config']['custom_config'] = model_config"
   ],
   "metadata": {
    "collapsed": false
   }
  },
  {
   "cell_type": "markdown",
   "source": [
    "Now run and save the model"
   ],
   "metadata": {
    "collapsed": false
   }
  },
  {
   "cell_type": "code",
   "execution_count": null,
   "id": "99b35f8c-9b1f-4ea0-9f12-946271ddc2c5",
   "metadata": {},
   "outputs": [],
   "source": [
    "load_and_save_model(ckpt_path = ckpt_path,config =config, save_path = save_path, ckpt_nr = 675)"
   ]
  },
  {
   "cell_type": "markdown",
   "source": [
    "## Submission:\n",
    "\n",
    "In order to correctly submit a working agent, the tensorflow model now only needs to be placed in a submission\n",
    "folder, together with the action set. An example can be found in ```my_agent_advanced.py```"
   ],
   "metadata": {
    "collapsed": false
   }
  }
 ],
 "metadata": {
  "kernelspec": {
   "display_name": "Python 3 (ipykernel)",
   "language": "python",
   "name": "python3"
  },
  "language_info": {
   "codemirror_mode": {
    "name": "ipython",
    "version": 3
   },
   "file_extension": ".py",
   "mimetype": "text/x-python",
   "name": "python",
   "nbconvert_exporter": "python",
   "pygments_lexer": "ipython3",
   "version": "3.9.7"
  }
 },
 "nbformat": 4,
 "nbformat_minor": 5
}
