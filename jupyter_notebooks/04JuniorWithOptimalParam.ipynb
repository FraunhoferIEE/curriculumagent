{
 "cells": [
  {
   "cell_type": "markdown",
   "id": "f16f9a4c-aacc-4a1b-b784-890954bfae1e",
   "metadata": {},
   "source": [
    "# Junior Notebook Hyperopt\n",
    "\n",
    "Run and Model of Hyperparameter Training"
   ]
  },
  {
   "cell_type": "code",
   "execution_count": 1,
   "id": "4f8220fc-1e67-47f9-b694-d8ae571005ba",
   "metadata": {},
   "outputs": [],
   "source": [
    "# %load curriculumagent/junior/hyper_parameter_search_junior.py\n",
    "\"\"\"\n",
    "In this file, the code for the hyperparameter search of the junior model is provided.\n",
    "\n",
    "We first set the range of the parameters and thereafter define the tune experiment\n",
    "\"\"\"\n",
    "import json\n",
    "import pickle\n",
    "import numpy as np\n",
    "from sklearn.preprocessing import StandardScaler,MinMaxScaler\n",
    "from pathlib import Path\n",
    "import os\n",
    "from typing import Optional\n",
    "import tensorflow as tf\n",
    "\n",
    "from curriculumagent.junior.junior_student import Junior\n",
    "from curriculumagent.junior.junior_student import load_dataset\n",
    "import matplotlib.pyplot as plt\n",
    "from lightsim2grid import LightSimBackend\n",
    "import grid2op\n",
    "\n",
    "example_path = os.getcwd()"
   ]
  },
  {
   "cell_type": "code",
   "execution_count": 2,
   "id": "3c2184b1-4fdc-420b-949c-ed9e75eee086",
   "metadata": {},
   "outputs": [
    {
     "name": "stdout",
     "output_type": "stream",
     "text": [
      "C:\\Users\\ddegtyar\\PycharmProjects\\curriculumagent\\jupyter_notebooks\\data\\training_data_track1\n"
     ]
    },
    {
     "name": "stderr",
     "output_type": "stream",
     "text": [
      "numba cannot be imported and numba functions are disabled.\n",
      "Probably the execution is slow.\n",
      "Please install numba to gain a massive speedup.\n",
      "(or if you prefer slow execution, set the flag numba=False to avoid this warning!)\n",
      "\n",
      "numba cannot be imported and numba functions are disabled.\n",
      "Probably the execution is slow.\n",
      "Please install numba to gain a massive speedup.\n",
      "(or if you prefer slow execution, set the flag numba=False to avoid this warning!)\n",
      "\n",
      "C:\\Users\\ddegtyar\\Anaconda3\\envs\\currenv\\lib\\site-packages\\lightsim2grid\\gridmodel\\_aux_add_trafo.py:65: UserWarning: There were some Nan in the pp_net.trafo[\"tap_step_degree\"], they have been replaced by 0\n",
      "  warnings.warn(\"There were some Nan in the pp_net.trafo[\\\"tap_step_degree\\\"], they have been replaced by 0\")\n",
      "C:\\Users\\ddegtyar\\Anaconda3\\envs\\currenv\\lib\\site-packages\\lightsim2grid\\gridmodel\\_aux_add_slack.py:112: UserWarning: We found either some slack coefficient to be < 0. or they were all 0.We set them all to 1.0 to avoid such issues\n",
      "  warnings.warn(\"We found either some slack coefficient to be < 0. or they were all 0.\"\n"
     ]
    }
   ],
   "source": [
    "\n",
    "tf.__version__\n",
    "backend = LightSimBackend()\n",
    "env_path = test_data_path = Path(example_path)/ \"data\" / \"training_data_track1\"\n",
    "print(env_path)\n",
    "env = grid2op.make(env_path, backend=backend)\n",
    "env.set_id(1)\n",
    "env.reset()\n",
    "env.chronics_handler.get_name()\n",
    "obs = env.get_obs()"
   ]
  },
  {
   "cell_type": "code",
   "execution_count": 3,
   "id": "664dc9c2-2d48-45d9-a6e9-1d9bff8f9f40",
   "metadata": {},
   "outputs": [
    {
     "data": {
      "text/plain": "{'activation': 'relu',\n 'batchsize': 256,\n 'dropout1': 0.19492379978847293,\n 'dropout2': 0.1259373123876904,\n 'initializer': 'O',\n 'layer1': 1415.0,\n 'layer2': 1252.0,\n 'layer3': 1485.0,\n 'layer4': 232.0,\n 'learning_rate': 0.0003013467240068926,\n 'TRIAL_BUDGET': 11,\n 'epochs': 1000}"
     },
     "execution_count": 3,
     "metadata": {},
     "output_type": "execute_result"
    }
   ],
   "source": [
    "best_params_path = Path(example_path) /\"data\"/ \"junior_best_params.json\"\n",
    "\n",
    "with open(best_params_path) as json_file:\n",
    "    best_params = json.load(json_file)\n",
    "\n",
    "best_params[\"epochs\"] = 1000\n",
    "for name in [\"layer1\",\"layer2\",\"layer3\",\"layer4\"]:\n",
    "        best_params[name] = np.round(best_params[name])\n",
    "    \n",
    "best_params"
   ]
  },
  {
   "cell_type": "markdown",
   "id": "a127e8da-b17d-4ad5-af8b-6864ca3bd710",
   "metadata": {},
   "source": [
    "## Now run final training: "
   ]
  },
  {
   "cell_type": "code",
   "execution_count": 4,
   "id": "c48803a9-6ab2-4a46-9d7c-0bdc2a3ffb78",
   "metadata": {},
   "outputs": [
    {
     "name": "stderr",
     "output_type": "stream",
     "text": [
      "WARNING:root:2.12.0\n",
      "WARNING:root:2.12.0\n"
     ]
    },
    {
     "name": "stdout",
     "output_type": "stream",
     "text": [
      "Epoch 1/1000\n"
     ]
    },
    {
     "name": "stderr",
     "output_type": "stream",
     "text": [
      "C:\\Users\\ddegtyar\\Anaconda3\\envs\\currenv\\lib\\site-packages\\keras\\initializers\\initializers.py:120: UserWarning: The initializer Orthogonal is unseeded and being called multiple times, which will return identical values each time (even if the initializer is unseeded). Please update your code to provide a seed to the initializer, or avoid using the same initalizer instance more than once.\n",
      "  warnings.warn(\n"
     ]
    },
    {
     "name": "stdout",
     "output_type": "stream",
     "text": [
      "1/1 [==============================] - 8s 8s/step - loss: 6.5660 - accuracy: 0.0000e+00 - val_loss: 6.3783 - val_accuracy: 0.5000\n",
      "Epoch 2/1000\n",
      "1/1 [==============================] - 0s 163ms/step - loss: 5.6657 - accuracy: 0.6667 - val_loss: 6.2787 - val_accuracy: 0.5000\n",
      "Epoch 3/1000\n",
      "1/1 [==============================] - 0s 164ms/step - loss: 4.6103 - accuracy: 0.6667 - val_loss: 6.2688 - val_accuracy: 0.5000\n",
      "Epoch 4/1000\n",
      "1/1 [==============================] - 0s 144ms/step - loss: 3.3817 - accuracy: 0.6667 - val_loss: 6.9774 - val_accuracy: 0.5000\n",
      "Epoch 5/1000\n",
      "1/1 [==============================] - 0s 145ms/step - loss: 2.3028 - accuracy: 0.6667 - val_loss: 8.1843 - val_accuracy: 0.5000\n",
      "Epoch 6/1000\n",
      "1/1 [==============================] - 0s 139ms/step - loss: 1.8663 - accuracy: 0.6667 - val_loss: 9.2687 - val_accuracy: 0.5000\n",
      "Epoch 7/1000\n",
      "1/1 [==============================] - 0s 148ms/step - loss: 0.6511 - accuracy: 1.0000 - val_loss: 10.9874 - val_accuracy: 0.5000\n",
      "Epoch 8/1000\n",
      "1/1 [==============================] - 0s 145ms/step - loss: 1.3124 - accuracy: 0.6667 - val_loss: 11.9569 - val_accuracy: 0.5000\n",
      "Epoch 9/1000\n",
      "1/1 [==============================] - 0s 144ms/step - loss: 0.4378 - accuracy: 0.6667 - val_loss: 13.0456 - val_accuracy: 0.5000\n",
      "Epoch 10/1000\n",
      "\n",
      "Epoch 10: saving model to C:\\Users\\ddegtyar\\PycharmProjects\\curriculumagent\\jupyter_notebooks\\data\\junior_hyperopt\\train\\ckpt_10\n"
     ]
    },
    {
     "name": "stderr",
     "output_type": "stream",
     "text": [
      "WARNING:absl:Found untraced functions such as _update_step_xla, re_lu_1_layer_call_fn, re_lu_1_layer_call_and_return_conditional_losses while saving (showing 3 of 3). These functions will not be directly callable after loading.\n"
     ]
    },
    {
     "name": "stdout",
     "output_type": "stream",
     "text": [
      "INFO:tensorflow:Assets written to: C:\\Users\\ddegtyar\\PycharmProjects\\curriculumagent\\jupyter_notebooks\\data\\junior_hyperopt\\train\\ckpt_10\\assets\n"
     ]
    },
    {
     "name": "stderr",
     "output_type": "stream",
     "text": [
      "INFO:tensorflow:Assets written to: C:\\Users\\ddegtyar\\PycharmProjects\\curriculumagent\\jupyter_notebooks\\data\\junior_hyperopt\\train\\ckpt_10\\assets\n"
     ]
    },
    {
     "name": "stdout",
     "output_type": "stream",
     "text": [
      "1/1 [==============================] - 2s 2s/step - loss: 0.1466 - accuracy: 1.0000 - val_loss: 14.7673 - val_accuracy: 0.5000\n",
      "Epoch 11/1000\n",
      "1/1 [==============================] - 0s 137ms/step - loss: 0.5895 - accuracy: 0.6667 - val_loss: 15.4800 - val_accuracy: 0.5000\n",
      "Epoch 12/1000\n",
      "1/1 [==============================] - 0s 133ms/step - loss: 0.1058 - accuracy: 1.0000 - val_loss: 16.3366 - val_accuracy: 0.5000\n",
      "Epoch 13/1000\n",
      "1/1 [==============================] - 0s 138ms/step - loss: 0.0353 - accuracy: 1.0000 - val_loss: 17.5884 - val_accuracy: 0.5000\n",
      "Epoch 14/1000\n",
      "1/1 [==============================] - 0s 130ms/step - loss: 0.8552 - accuracy: 0.6667 - val_loss: 17.8151 - val_accuracy: 0.5000\n",
      "Epoch 15/1000\n",
      "1/1 [==============================] - 0s 136ms/step - loss: 0.2226 - accuracy: 1.0000 - val_loss: 18.1825 - val_accuracy: 0.5000\n",
      "Epoch 16/1000\n",
      "1/1 [==============================] - 0s 130ms/step - loss: 0.2919 - accuracy: 0.6667 - val_loss: 18.5898 - val_accuracy: 0.5000\n",
      "Epoch 17/1000\n",
      "1/1 [==============================] - 0s 131ms/step - loss: 0.0012 - accuracy: 1.0000 - val_loss: 19.1004 - val_accuracy: 0.5000\n",
      "Epoch 18/1000\n",
      "1/1 [==============================] - 0s 130ms/step - loss: 0.2687 - accuracy: 0.6667 - val_loss: 19.1180 - val_accuracy: 0.5000\n",
      "Epoch 19/1000\n",
      "1/1 [==============================] - 0s 140ms/step - loss: 0.0056 - accuracy: 1.0000 - val_loss: 19.1951 - val_accuracy: 0.5000\n",
      "Epoch 20/1000\n",
      "\n",
      "Epoch 20: saving model to C:\\Users\\ddegtyar\\PycharmProjects\\curriculumagent\\jupyter_notebooks\\data\\junior_hyperopt\\train\\ckpt_20\n"
     ]
    },
    {
     "name": "stderr",
     "output_type": "stream",
     "text": [
      "WARNING:absl:Found untraced functions such as _update_step_xla, re_lu_1_layer_call_fn, re_lu_1_layer_call_and_return_conditional_losses while saving (showing 3 of 3). These functions will not be directly callable after loading.\n"
     ]
    },
    {
     "name": "stdout",
     "output_type": "stream",
     "text": [
      "INFO:tensorflow:Assets written to: C:\\Users\\ddegtyar\\PycharmProjects\\curriculumagent\\jupyter_notebooks\\data\\junior_hyperopt\\train\\ckpt_20\\assets\n"
     ]
    },
    {
     "name": "stderr",
     "output_type": "stream",
     "text": [
      "INFO:tensorflow:Assets written to: C:\\Users\\ddegtyar\\PycharmProjects\\curriculumagent\\jupyter_notebooks\\data\\junior_hyperopt\\train\\ckpt_20\\assets\n"
     ]
    },
    {
     "name": "stdout",
     "output_type": "stream",
     "text": [
      "1/1 [==============================] - 2s 2s/step - loss: 2.6578e-04 - accuracy: 1.0000 - val_loss: 19.3382 - val_accuracy: 0.5000\n",
      "Epoch 21/1000\n",
      "1/1 [==============================] - 0s 139ms/step - loss: 0.4180 - accuracy: 0.6667 - val_loss: 19.4647 - val_accuracy: 0.5000\n",
      "Epoch 22/1000\n",
      "1/1 [==============================] - 0s 144ms/step - loss: 0.0144 - accuracy: 1.0000 - val_loss: 19.6095 - val_accuracy: 0.5000\n",
      "Epoch 23/1000\n",
      "1/1 [==============================] - 0s 135ms/step - loss: 0.0029 - accuracy: 1.0000 - val_loss: 19.7578 - val_accuracy: 0.5000\n",
      "Epoch 24/1000\n",
      "1/1 [==============================] - 0s 136ms/step - loss: 0.0049 - accuracy: 1.0000 - val_loss: 19.9053 - val_accuracy: 0.5000\n",
      "Epoch 25/1000\n",
      "1/1 [==============================] - 0s 137ms/step - loss: 0.0157 - accuracy: 1.0000 - val_loss: 20.0165 - val_accuracy: 0.5000\n",
      "Epoch 26/1000\n",
      "1/1 [==============================] - 0s 135ms/step - loss: 0.1305 - accuracy: 1.0000 - val_loss: 19.7299 - val_accuracy: 0.5000\n",
      "Epoch 27/1000\n",
      "1/1 [==============================] - 0s 134ms/step - loss: 0.0148 - accuracy: 1.0000 - val_loss: 19.4375 - val_accuracy: 0.5000\n",
      "Epoch 28/1000\n",
      "1/1 [==============================] - 0s 141ms/step - loss: 0.0064 - accuracy: 1.0000 - val_loss: 19.1530 - val_accuracy: 0.5000\n",
      "Epoch 29/1000\n",
      "1/1 [==============================] - 0s 137ms/step - loss: 2.7399e-04 - accuracy: 1.0000 - val_loss: 18.8954 - val_accuracy: 0.5000\n",
      "Epoch 30/1000\n",
      "\n",
      "Epoch 30: saving model to C:\\Users\\ddegtyar\\PycharmProjects\\curriculumagent\\jupyter_notebooks\\data\\junior_hyperopt\\train\\ckpt_30\n"
     ]
    },
    {
     "name": "stderr",
     "output_type": "stream",
     "text": [
      "WARNING:absl:Found untraced functions such as _update_step_xla, re_lu_1_layer_call_fn, re_lu_1_layer_call_and_return_conditional_losses while saving (showing 3 of 3). These functions will not be directly callable after loading.\n"
     ]
    },
    {
     "name": "stdout",
     "output_type": "stream",
     "text": [
      "INFO:tensorflow:Assets written to: C:\\Users\\ddegtyar\\PycharmProjects\\curriculumagent\\jupyter_notebooks\\data\\junior_hyperopt\\train\\ckpt_30\\assets\n"
     ]
    },
    {
     "name": "stderr",
     "output_type": "stream",
     "text": [
      "INFO:tensorflow:Assets written to: C:\\Users\\ddegtyar\\PycharmProjects\\curriculumagent\\jupyter_notebooks\\data\\junior_hyperopt\\train\\ckpt_30\\assets\n"
     ]
    },
    {
     "name": "stdout",
     "output_type": "stream",
     "text": [
      "1/1 [==============================] - 2s 2s/step - loss: 1.9180e-04 - accuracy: 1.0000 - val_loss: 18.6715 - val_accuracy: 0.5000\n",
      "Epoch 31/1000\n",
      "1/1 [==============================] - 0s 136ms/step - loss: 3.0035e-04 - accuracy: 1.0000 - val_loss: 18.4900 - val_accuracy: 0.5000\n",
      "Epoch 32/1000\n",
      "1/1 [==============================] - 0s 146ms/step - loss: 2.4870e-04 - accuracy: 1.0000 - val_loss: 18.3688 - val_accuracy: 0.5000\n",
      "Epoch 33/1000\n",
      "1/1 [==============================] - 0s 138ms/step - loss: 0.0011 - accuracy: 1.0000 - val_loss: 18.3207 - val_accuracy: 0.5000\n",
      "Epoch 34/1000\n",
      "1/1 [==============================] - 0s 149ms/step - loss: 6.8749e-04 - accuracy: 1.0000 - val_loss: 18.3509 - val_accuracy: 0.5000\n",
      "Epoch 35/1000\n",
      "1/1 [==============================] - 0s 129ms/step - loss: 0.0017 - accuracy: 1.0000 - val_loss: 18.4407 - val_accuracy: 0.5000\n",
      "Epoch 36/1000\n",
      "1/1 [==============================] - 0s 133ms/step - loss: 2.1256e-04 - accuracy: 1.0000 - val_loss: 18.5656 - val_accuracy: 0.5000\n",
      "Epoch 37/1000\n",
      "1/1 [==============================] - 0s 142ms/step - loss: 7.6020e-04 - accuracy: 1.0000 - val_loss: 18.7007 - val_accuracy: 0.5000\n",
      "Epoch 38/1000\n",
      "1/1 [==============================] - 0s 139ms/step - loss: 4.8836e-04 - accuracy: 1.0000 - val_loss: 18.8366 - val_accuracy: 0.5000\n",
      "Epoch 39/1000\n",
      "1/1 [==============================] - 0s 128ms/step - loss: 8.2435e-04 - accuracy: 1.0000 - val_loss: 18.9652 - val_accuracy: 0.5000\n",
      "Epoch 40/1000\n",
      "\n",
      "Epoch 40: saving model to C:\\Users\\ddegtyar\\PycharmProjects\\curriculumagent\\jupyter_notebooks\\data\\junior_hyperopt\\train\\ckpt_40\n"
     ]
    },
    {
     "name": "stderr",
     "output_type": "stream",
     "text": [
      "WARNING:absl:Found untraced functions such as _update_step_xla, re_lu_1_layer_call_fn, re_lu_1_layer_call_and_return_conditional_losses while saving (showing 3 of 3). These functions will not be directly callable after loading.\n"
     ]
    },
    {
     "name": "stdout",
     "output_type": "stream",
     "text": [
      "INFO:tensorflow:Assets written to: C:\\Users\\ddegtyar\\PycharmProjects\\curriculumagent\\jupyter_notebooks\\data\\junior_hyperopt\\train\\ckpt_40\\assets\n"
     ]
    },
    {
     "name": "stderr",
     "output_type": "stream",
     "text": [
      "INFO:tensorflow:Assets written to: C:\\Users\\ddegtyar\\PycharmProjects\\curriculumagent\\jupyter_notebooks\\data\\junior_hyperopt\\train\\ckpt_40\\assets\n"
     ]
    },
    {
     "name": "stdout",
     "output_type": "stream",
     "text": [
      "1/1 [==============================] - 2s 2s/step - loss: 0.0069 - accuracy: 1.0000 - val_loss: 19.0566 - val_accuracy: 0.5000\n",
      "Epoch 41/1000\n",
      "1/1 [==============================] - 0s 134ms/step - loss: 0.0041 - accuracy: 1.0000 - val_loss: 19.1213 - val_accuracy: 0.5000\n",
      "Epoch 42/1000\n",
      "1/1 [==============================] - 0s 135ms/step - loss: 0.0054 - accuracy: 1.0000 - val_loss: 19.1425 - val_accuracy: 0.5000\n",
      "Epoch 43/1000\n",
      "1/1 [==============================] - 0s 139ms/step - loss: 0.0099 - accuracy: 1.0000 - val_loss: 19.1241 - val_accuracy: 0.5000\n",
      "Epoch 44/1000\n",
      "1/1 [==============================] - 0s 138ms/step - loss: 5.5132e-04 - accuracy: 1.0000 - val_loss: 19.1051 - val_accuracy: 0.5000\n",
      "Epoch 45/1000\n",
      "1/1 [==============================] - 0s 132ms/step - loss: 0.0074 - accuracy: 1.0000 - val_loss: 19.0454 - val_accuracy: 0.5000\n",
      "Epoch 46/1000\n",
      "1/1 [==============================] - 0s 135ms/step - loss: 8.8214e-06 - accuracy: 1.0000 - val_loss: 18.9904 - val_accuracy: 0.5000\n",
      "Epoch 47/1000\n",
      "1/1 [==============================] - 0s 135ms/step - loss: 3.3215e-04 - accuracy: 1.0000 - val_loss: 18.9290 - val_accuracy: 0.5000\n",
      "Epoch 48/1000\n",
      "1/1 [==============================] - 0s 143ms/step - loss: 1.1331e-04 - accuracy: 1.0000 - val_loss: 18.8666 - val_accuracy: 0.5000\n",
      "Epoch 49/1000\n",
      "1/1 [==============================] - 0s 133ms/step - loss: 2.4377e-04 - accuracy: 1.0000 - val_loss: 18.8093 - val_accuracy: 0.5000\n",
      "Epoch 50/1000\n",
      "\n",
      "Epoch 50: saving model to C:\\Users\\ddegtyar\\PycharmProjects\\curriculumagent\\jupyter_notebooks\\data\\junior_hyperopt\\train\\ckpt_50\n"
     ]
    },
    {
     "name": "stderr",
     "output_type": "stream",
     "text": [
      "WARNING:absl:Found untraced functions such as _update_step_xla, re_lu_1_layer_call_fn, re_lu_1_layer_call_and_return_conditional_losses while saving (showing 3 of 3). These functions will not be directly callable after loading.\n"
     ]
    },
    {
     "name": "stdout",
     "output_type": "stream",
     "text": [
      "INFO:tensorflow:Assets written to: C:\\Users\\ddegtyar\\PycharmProjects\\curriculumagent\\jupyter_notebooks\\data\\junior_hyperopt\\train\\ckpt_50\\assets\n"
     ]
    },
    {
     "name": "stderr",
     "output_type": "stream",
     "text": [
      "INFO:tensorflow:Assets written to: C:\\Users\\ddegtyar\\PycharmProjects\\curriculumagent\\jupyter_notebooks\\data\\junior_hyperopt\\train\\ckpt_50\\assets\n"
     ]
    },
    {
     "name": "stdout",
     "output_type": "stream",
     "text": [
      "1/1 [==============================] - 2s 2s/step - loss: 3.0357e-05 - accuracy: 1.0000 - val_loss: 18.7589 - val_accuracy: 0.5000\n",
      "Epoch 51/1000\n",
      "1/1 [==============================] - 0s 133ms/step - loss: 5.0898e-05 - accuracy: 1.0000 - val_loss: 18.7128 - val_accuracy: 0.5000\n",
      "Epoch 52/1000\n",
      "1/1 [==============================] - 0s 136ms/step - loss: 3.1390e-05 - accuracy: 1.0000 - val_loss: 18.6712 - val_accuracy: 0.5000\n",
      "Epoch 53/1000\n",
      "1/1 [==============================] - ETA: 0s - loss: 1.5426e-04 - accuracy: 1.0000Restoring model weights from the end of the best epoch: 3.\n",
      "1/1 [==============================] - 0s 149ms/step - loss: 1.5426e-04 - accuracy: 1.0000 - val_loss: 18.6354 - val_accuracy: 0.5000\n",
      "Epoch 53: early stopping\n",
      "Model: \"sequential\"\n",
      "_________________________________________________________________\n",
      " Layer (type)                Output Shape              Param #   \n",
      "=================================================================\n",
      " dense (Dense)               (None, 1415)              2023450   \n",
      "                                                                 \n",
      " dense_1 (Dense)             (None, 1252)              1772832   \n",
      "                                                                 \n",
      " dense_2 (Dense)             (None, 1485)              1860705   \n",
      "                                                                 \n",
      " dropout (Dropout)           (None, 1485)              0         \n",
      "                                                                 \n",
      " dense_3 (Dense)             (None, 232)               344752    \n",
      "                                                                 \n",
      " dropout_1 (Dropout)         (None, 232)               0         \n",
      "                                                                 \n",
      " dense_4 (Dense)             (None, 806)               187798    \n",
      "                                                                 \n",
      "=================================================================\n",
      "Total params: 6,189,537\n",
      "Trainable params: 6,189,537\n",
      "Non-trainable params: 0\n",
      "_________________________________________________________________\n",
      "None\n"
     ]
    },
    {
     "name": "stderr",
     "output_type": "stream",
     "text": [
      "WARNING:absl:Found untraced functions such as _update_step_xla, re_lu_1_layer_call_fn, re_lu_1_layer_call_and_return_conditional_losses while saving (showing 3 of 3). These functions will not be directly callable after loading.\n"
     ]
    },
    {
     "name": "stdout",
     "output_type": "stream",
     "text": [
      "INFO:tensorflow:Assets written to: C:\\Users\\ddegtyar\\PycharmProjects\\curriculumagent\\jupyter_notebooks\\data\\junior_hyperopt\\junior_hyperopt_model\\assets\n"
     ]
    },
    {
     "name": "stderr",
     "output_type": "stream",
     "text": [
      "INFO:tensorflow:Assets written to: C:\\Users\\ddegtyar\\PycharmProjects\\curriculumagent\\jupyter_notebooks\\data\\junior_hyperopt\\junior_hyperopt_model\\assets\n"
     ]
    },
    {
     "data": {
      "text/plain": "<Figure size 640x480 with 1 Axes>",
      "image/png": "[encoded data removed]"
     },
     "metadata": {},
     "output_type": "display_data"
    }
   ],
   "source": [
    "path_to_files = Path(example_path) / \"data\" / \"junior_experience\"\n",
    "s_train, a_train, s_validate, a_validate, _, _ = load_dataset(path_to_files, dataset_name=\"junior_dataset\")\n",
    "\n",
    "scaler = MinMaxScaler()#StandardScaler()\n",
    "s_tr_t = scaler.fit_transform(s_train)\n",
    "s_val_t = scaler.transform(s_validate)\n",
    "\n",
    "test_data_path = Path(example_path) / \"data\"\n",
    "path1 = test_data_path / \"actionspace_nminus1.npy\"\n",
    "path2 = test_data_path / \"actionspace_tuples.npy\"\n",
    "action_set = [path1, path2]\n",
    "    \n",
    "# Save the scaler: \n",
    "with open( Path(example_path) / \"data\" /\"scaler_junior.pkl\", \"wb\") as fp:   #Pickling\n",
    "    pickle.dump(scaler, fp)\n",
    "\n",
    "junior = Junior(config=best_params,\n",
    "                action_space_file=action_set, seed = 42)\n",
    "\n",
    "history = junior.train(log_dir= Path(example_path) / \"data\" / \"junior_hyperopt\" / \"train\",\n",
    "                       ckpt_dir= Path(example_path) / \"data\" / \"junior_hyperopt\" / \"train\",\n",
    "                       patience=50,\n",
    "                       x_train=s_tr_t, y_train=a_train,\n",
    "                       x_validate=s_val_t, y_validate=a_validate)\n",
    "print(junior.model.summary())\n",
    "plt.plot(history.history[\"accuracy\"])\n",
    "plt.plot(history.history['val_accuracy'])\n",
    "\n",
    "junior.model.save(Path(example_path) / \"data\" / \"junior_hyperopt\" / \"junior_hyperopt_model\")\n"
   ]
  },
  {
   "cell_type": "code",
   "execution_count": null,
   "id": "1a15a59d-aaac-45b3-9fb0-061896dbd938",
   "metadata": {},
   "outputs": [],
   "source": []
  },
  {
   "cell_type": "code",
   "execution_count": 4,
   "outputs": [],
   "source": [],
   "metadata": {
    "collapsed": false
   }
  }
 ],
 "metadata": {
  "kernelspec": {
   "name": "python3",
   "language": "python",
   "display_name": "Python 3 (ipykernel)"
  },
  "language_info": {
   "codemirror_mode": {
    "name": "ipython",
    "version": 3
   },
   "file_extension": ".py",
   "mimetype": "text/x-python",
   "name": "python",
   "nbconvert_exporter": "python",
   "pygments_lexer": "ipython3",
   "version": "3.9.0"
  }
 },
 "nbformat": 4,
 "nbformat_minor": 5
}
