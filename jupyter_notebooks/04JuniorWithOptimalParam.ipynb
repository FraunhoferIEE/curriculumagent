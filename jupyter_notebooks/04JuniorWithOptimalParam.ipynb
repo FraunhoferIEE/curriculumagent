{
 "cells": [
  {
   "cell_type": "markdown",
   "id": "f16f9a4c-aacc-4a1b-b784-890954bfae1e",
   "metadata": {},
   "source": [
    "# Junior Notebook Hyperopt\n",
    "\n",
    "Run and Model of Hyperparameter Training"
   ]
  },
  {
   "cell_type": "code",
   "execution_count": 1,
   "id": "4f8220fc-1e67-47f9-b694-d8ae571005ba",
   "metadata": {},
   "source": [
    "# %load curriculumagent/junior/hyper_parameter_search_junior.py\n",
    "\"\"\"\n",
    "In this file, the code for the hyperparameter search of the junior model is provided.\n",
    "\n",
    "We first set the range of the parameters and thereafter define the tune experiment\n",
    "\"\"\"\n",
    "import json\n",
    "import pickle\n",
    "import numpy as np\n",
    "from sklearn.preprocessing import StandardScaler,MinMaxScaler\n",
    "from pathlib import Path\n",
    "import os\n",
    "from typing import Optional\n",
    "import tensorflow as tf\n",
    "\n",
    "from curriculumagent.junior.junior_student import Junior\n",
    "from curriculumagent.junior.junior_student import load_dataset\n",
    "import matplotlib.pyplot as plt\n",
    "from lightsim2grid import LightSimBackend\n",
    "import grid2op\n",
    "\n",
    "example_path = os.getcwd()"
   ],
   "outputs": []
  },
  {
   "cell_type": "code",
   "execution_count": 2,
   "id": "3c2184b1-4fdc-420b-949c-ed9e75eee086",
   "metadata": {},
   "source": [
    "\n",
    "tf.__version__\n",
    "backend = LightSimBackend()\n",
    "env_path = test_data_path = Path(example_path)/ \"data\" / \"training_data_track1\"\n",
    "print(env_path)\n",
    "env = grid2op.make(env_path, backend=backend)\n",
    "env.set_id(1)\n",
    "env.reset()\n",
    "env.chronics_handler.get_name()\n",
    "obs = env.get_obs()"
   ],
   "outputs": []
  },
  {
   "cell_type": "code",
   "execution_count": 3,
   "id": "664dc9c2-2d48-45d9-a6e9-1d9bff8f9f40",
   "metadata": {},
   "source": [
    "best_params_path = Path(example_path) /\"data\"/ \"junior_best_params.json\"\n",
    "\n",
    "with open(best_params_path) as json_file:\n",
    "    best_params = json.load(json_file)\n",
    "\n",
    "best_params[\"epochs\"] = 1000\n",
    "for name in [\"layer1\",\"layer2\",\"layer3\",\"layer4\"]:\n",
    "        best_params[name] = np.round(best_params[name])\n",
    "    \n",
    "best_params"
   ],
   "outputs": []
  },
  {
   "cell_type": "markdown",
   "id": "a127e8da-b17d-4ad5-af8b-6864ca3bd710",
   "metadata": {},
   "source": [
    "## Now run final training: "
   ]
  },
  {
   "cell_type": "code",
   "execution_count": 4,
   "id": "c48803a9-6ab2-4a46-9d7c-0bdc2a3ffb78",
   "metadata": {},
   "source": [
    "path_to_files = Path(example_path) / \"data\" / \"junior_experience\"\n",
    "s_train, a_train, s_validate, a_validate, _, _ = load_dataset(path_to_files, dataset_name=\"junior_dataset\")\n",
    "\n",
    "scaler = MinMaxScaler()#StandardScaler()\n",
    "s_tr_t = scaler.fit_transform(s_train)\n",
    "s_val_t = scaler.transform(s_validate)\n",
    "\n",
    "test_data_path = Path(example_path) / \"data\"\n",
    "path1 = test_data_path / \"actionspace_nminus1.npy\"\n",
    "path2 = test_data_path / \"actionspace_tuples.npy\"\n",
    "action_set = [path1, path2]\n",
    "    \n",
    "# Save the scaler: \n",
    "with open( Path(example_path) / \"data\" /\"scaler_junior.pkl\", \"wb\") as fp:   #Pickling\n",
    "    pickle.dump(scaler, fp)\n",
    "\n",
    "junior = Junior(config=best_params,\n",
    "                action_space_file=action_set, seed = 42)\n",
    "\n",
    "history = junior.train(log_dir= Path(example_path) / \"data\" / \"junior_hyperopt\" / \"train\",\n",
    "                       ckpt_dir= Path(example_path) / \"data\" / \"junior_hyperopt\" / \"train\",\n",
    "                       patience=50,\n",
    "                       x_train=s_tr_t, y_train=a_train,\n",
    "                       x_validate=s_val_t, y_validate=a_validate)\n",
    "print(junior.model.summary())\n",
    "plt.plot(history.history[\"accuracy\"])\n",
    "plt.plot(history.history['val_accuracy'])\n",
    "\n",
    "junior.model.save(Path(example_path) / \"data\" / \"junior_hyperopt\" / \"junior_hyperopt_model\")\n"
   ],
   "outputs": []
  },
  {
   "cell_type": "code",
   "execution_count": null,
   "id": "1a15a59d-aaac-45b3-9fb0-061896dbd938",
   "metadata": {},
   "source": [],
   "outputs": []
  },
  {
   "cell_type": "code",
   "execution_count": 4,
   "source": [],
   "metadata": {
    "collapsed": false
   },
   "id": "8f1230a3d21d802e",
   "outputs": []
  }
 ],
 "metadata": {
  "kernelspec": {
   "name": "python3",
   "language": "python",
   "display_name": "Python 3 (ipykernel)"
  },
  "language_info": {
   "codemirror_mode": {
    "name": "ipython",
    "version": 3
   },
   "file_extension": ".py",
   "mimetype": "text/x-python",
   "name": "python",
   "nbconvert_exporter": "python",
   "pygments_lexer": "ipython3",
   "version": "3.9.0"
  }
 },
 "nbformat": 4,
 "nbformat_minor": 5
}
